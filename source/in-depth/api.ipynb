{
 "cells": [
  {
   "cell_type": "markdown",
   "metadata": {},
   "source": [
    "# LightTag API \n",
    "\n",
    "Welcome to the LightTag API tutorial. This tutorial consists of 3 parts\n",
    "1. Part 1 covers quickly defining schemas, datasets and tasks\n",
    "2. Part 2 covers retreiving metrics about your projects\n",
    "3. Part 3 covers updating configuratons and appending data"
   ]
  },
  {
   "cell_type": "markdown",
   "metadata": {},
   "source": [
    "## Introduction\n",
    "LightTag allows you to annotate a **Dataset** with a **Schema**. A combination of the two, together with some paramaters is called a **Task Definition** (TD for short). Your Datasets,Schemas and Task Definitions live inside of a **Project**.  \n",
    "\n",
    "The **Examples** you will be annotating live inside of the Dataset. During annotation, you will apply a **Tag** to parts of an Example, classify the overall Example with **ClassificationTypes** or both. Tags and Classification Types live inside of a Schema. \n",
    "With exception of a Task Definition, each of these objects has a name, through which you can access it. (Task Definitions only have ids). \n",
    "\n",
    "Thus, the URL structure follows a nested hierarchy \n",
    "* **/api/v1/projects/** All of the projects\n",
    "\n",
    "* **/api/v1/projects/some-project/** Details about the project named \"some-project\"\n",
    "\n",
    "* **/api/v1/projects/some-project/datasets/** All of the Datasets that belong to \"some-project\"\n",
    "* **/api/v1/projects/some-project/datasets/dataset-1/** Details about the dataset \"dataset-1\" which belongs to \"some-project\"\n",
    "* **/api/v1/projects/some-project/schemas/** All of the Schemas that belong to \"some-project\"\n",
    "* **/api/v1/projects/some-project/schemas/schema-1/** Details about the dataset \"dataset-1\" which belongs to \"some-project\"\n",
    "\n",
    "etc.. (The detailed endpoints are enumerated in part 3\n",
    "\n"
   ]
  },
  {
   "cell_type": "markdown",
   "metadata": {},
   "source": [
    "### A note on naming\n",
    "You are free to name your datasets,projects schemas and tags as you wish. To ensure a consistent URL, LightTag will calculate a [Slug](https://en.wikipedia.org/wiki/Clean_URL#Slug). \n",
    "\n",
    "For example, if we were to create a dataset called *I am a Dataset;;-100* it's slug would be *i-am-a-dataset-100* and it's url would be **/api/v1/projects/some-project/datasets/i-am-a-dataset-100/ **\n",
    "\n",
    "You can always find the Slug and the URL for a resource by querying it's parent, for example querying all datasets of a project will show you the slug and url for each dataset,as we'll see shortly\n",
    "\n"
   ]
  },
  {
   "cell_type": "markdown",
   "metadata": {},
   "source": [
    "## A note on Projects\n",
    "At the time of writing, the LightTag API supports multiple projects but the built in UI supports a single project, the **default project**, whose url is /api/v1/projects/default/.  \n",
    "\n",
    "As you use the API, DO NOT define a new project if you intend to consume the data via the UI, instead use the default project. "
   ]
  },
  {
   "cell_type": "markdown",
   "metadata": {},
   "source": [
    "# Part 0 - Authentication\n",
    "LightTag's authentication is via a token which you acquire with your username and password. \n",
    "Most endpoints can only be accessed by a manager role, so make sure you are using your manager role when following this example"
   ]
  },
  {
   "cell_type": "code",
   "execution_count": 7,
   "metadata": {},
   "outputs": [],
   "source": [
    "import requests\n",
    "import pandas as pd\n",
    "\n",
    "LIGHTTAG_DOMAIN = 'demo'  #should be your lighttag domain\n",
    "SERVER = 'https://{domain}.lighttag.io/api/'.format(domain=LIGHTTAG_DOMAIN) \n",
    "API_BASE = SERVER +'v1/'\n",
    "MY_USER='YOUR_USER_HERE'\n",
    "MY_PWD='MY_PWSED_HERE'"
   ]
  },
  {
   "cell_type": "code",
   "execution_count": 23,
   "metadata": {},
   "outputs": [],
   "source": [
    "response = requests.post(SERVER+'auth/token/login/',\n",
    "              json={\"username\":MY_USER,\"password\":MY_PWD})\n",
    "assert response.status_code ==200, \"Couldn't authenticate\"\n",
    "auth_details = response.json()\n",
    "token = auth_details['key']\n",
    "assert auth_details['is_manager'] ==1, \"not a manager\" # Check you are a manager\n"
   ]
  },
  {
   "cell_type": "code",
   "execution_count": 24,
   "metadata": {},
   "outputs": [
    {
     "data": {
      "text/plain": [
       "[{'id': '2753ca38-69d9-4c96-9d31-df6d4069b027',\n",
       "  'slug': 'default',\n",
       "  'url': 'https://demo.lighttag.io/api/v1/projects/default/',\n",
       "  'name': 'default'}]"
      ]
     },
     "execution_count": 24,
     "metadata": {},
     "output_type": "execute_result"
    }
   ],
   "source": [
    "#It's convenient to set up a requests session instead of repeating tokens\n",
    "session = requests.session()\n",
    "session.headers.update({\"Authorization\":\"Token {token}\".format(token=token)})\n",
    "#Try it out\n",
    "session.get(API_BASE+'projects/').json()"
   ]
  },
  {
   "cell_type": "markdown",
   "metadata": {},
   "source": [
    "Great! We are authenticted and can see the default project"
   ]
  },
  {
   "cell_type": "markdown",
   "metadata": {},
   "source": [
    "# Part 1 - Quickly setting up a project\n",
    "Adhering to the UI onboarding process, LightTag's API allows you to define a Dataset, Schema and Tasks in bulk, instead of uploading individual tags or examples one by one. This section will go over how we do that. We'll follow the following hypothetical use case:\n",
    "\n",
    "We'd like to have a *team* of annotators label President Trump's tweets. We want to label both entities in the tweet (Person,Location...) as well as the sentiment of the tweet, e.g. a classification.\n",
    "\n",
    "We'd like to have a very high quality test set and a larger training set, for which we'll tolerate some noise. \n",
    "\n",
    "Before we go ahead and label the whole thing, we'd to do some experiments: First to see if our Schema makes sense to our labelers, and second to see if it is more convenient to label entities and sentiment together, or do it as individual tasks. \n",
    "\n",
    "To achieve this we'll follow the following steps:\n",
    "\n",
    "1. Split our dataset into a traing and test set\n",
    "\n",
    "2. Set aside part of the training set for experimentation\n",
    "\n",
    "3. Define and upload our Datasets\n",
    "\n",
    "4. Define and upload our Schema\n",
    "\n",
    "5. Defining Teams\n",
    "\n",
    "5. Define the tasks (small evaluation, training set labeling, test set labeling)\n",
    "\n",
    "In ourder to keep this section focused on quickly uploading, we will hold over evalutation till section 3. In a usual use case you will probably first upload a small evaluation set, review the results, iterate and then set out on labeling the full training/test sets\n",
    "\n"
   ]
  },
  {
   "cell_type": "markdown",
   "metadata": {},
   "source": [
    "## 1.1 Preparing our dataset\n",
    "We've conveniently prepared a collection of President Trump's tweets in a JSON file. These will be our examples. We'll load them and divide them into a training set, test set and further take a slice of the training set for exploration "
   ]
  },
  {
   "cell_type": "code",
   "execution_count": 25,
   "metadata": {},
   "outputs": [
    {
     "name": "stdout",
     "output_type": "stream",
     "text": [
      "{'created_at': 'Mon Jan 01 13:37:52 +0000 2018',\n",
      " 'date': '2018-01-01',\n",
      " 'favorite_count': 54056,\n",
      " 'id_str': '947824196909961216',\n",
      " 'in_reply_to_user_id_str': None,\n",
      " 'is_retweet': False,\n",
      " 'retweet_count': 8656,\n",
      " 'source': 'Twitter for iPhone',\n",
      " 'text': 'Will be leaving Florida for Washington (D.C.) today at 4:00 P.M. '\n",
      "         'Much work to be done, but it will be a great New Year!',\n",
      " 'time': 1514813872000000000}\n",
      "'total of 2605 examples'\n"
     ]
    }
   ],
   "source": [
    "import json\n",
    "from pprint import pprint\n",
    "\n",
    "all_data = json.load(open('./trump3.json'))\n",
    "pprint(all_data[0])\n",
    "pprint(\"total of {num} examples\".format(num=len(all_data)))\n"
   ]
  },
  {
   "cell_type": "code",
   "execution_count": 26,
   "metadata": {},
   "outputs": [],
   "source": [
    "train,test = all_data[:2000], all_data[2000:] # 2000 train examples, 600 test examples\n",
    "exploratory = train[:50] # Take 50 examples from the training set for exploratory work"
   ]
  },
  {
   "cell_type": "markdown",
   "metadata": {},
   "source": [
    "## Uploading our exploratory dataset\n",
    "To upload our dataset, we send over the whole JSON object. We need to tell LightTag which field contains the text to be annotated. Additionaly, we need to specify\n",
    "1. A name for the dataset\n",
    "2. An optional aggregation field (If specified, all examples with the value will be shown together)\n",
    "3. An optional sort field (If secified with an aggregation field, examples will be displayed ordered by that field)"
   ]
  },
  {
   "cell_type": "code",
   "execution_count": 30,
   "metadata": {},
   "outputs": [],
   "source": [
    "exploratory_dataset = {\n",
    "    \"name\":\"Exploratory Dataset1\",\n",
    "    \"content_field\":\"text\", # text is the field in the JSON we will be annotating\n",
    "    \"examples\" :exploratory # Set the list of examples that are part of this dataset\n",
    "}"
   ]
  },
  {
   "cell_type": "code",
   "execution_count": 31,
   "metadata": {},
   "outputs": [],
   "source": [
    "#POST the dataset definition and the examples \n",
    "resp= session.post(API_BASE+'projects/default/datasets/bulk/',json=exploratory_dataset)\n",
    "assert resp.status_code ==201"
   ]
  },
  {
   "cell_type": "code",
   "execution_count": 32,
   "metadata": {},
   "outputs": [
    {
     "data": {
      "text/plain": [
       "[{'id': '2a6e0c06-017d-473c-b3d5-bbb24c28b71c',\n",
       "  'slug': 'bible',\n",
       "  'url': 'https://demo.lighttag.io/api/v1/projects/default/datasets/bible/',\n",
       "  'name': 'Bible',\n",
       "  'id_field': None,\n",
       "  'content_field': 'content',\n",
       "  'aggregation_field': 'chapter',\n",
       "  'order_field': 'verse',\n",
       "  'project_id': '2753ca38-69d9-4c96-9d31-df6d4069b027',\n",
       "  'upload_status': 'done',\n",
       "  'archived': False},\n",
       " {'id': '1bf62f49-d88e-4bf0-9178-79012ce355c4',\n",
       "  'slug': 'drilling-comments-small',\n",
       "  'url': 'https://demo.lighttag.io/api/v1/projects/default/datasets/drilling-comments-small/',\n",
       "  'name': 'Drilling Comments Small',\n",
       "  'id_field': 'FIELD1',\n",
       "  'content_field': 'FIELD2',\n",
       "  'aggregation_field': None,\n",
       "  'order_field': None,\n",
       "  'project_id': '2753ca38-69d9-4c96-9d31-df6d4069b027',\n",
       "  'upload_status': 'done',\n",
       "  'archived': False},\n",
       " {'id': '1709c71b-2092-4d6b-800c-1341cae915ec',\n",
       "  'slug': 'some-new-dataset',\n",
       "  'url': 'https://demo.lighttag.io/api/v1/projects/default/datasets/some-new-dataset/',\n",
       "  'name': 'Some new dataset',\n",
       "  'id_field': None,\n",
       "  'content_field': 'content',\n",
       "  'aggregation_field': None,\n",
       "  'order_field': None,\n",
       "  'project_id': '2753ca38-69d9-4c96-9d31-df6d4069b027',\n",
       "  'upload_status': 'done',\n",
       "  'archived': False},\n",
       " {'id': 'f620a31a-c907-43cb-9f66-6642736d4b4f',\n",
       "  'slug': 'jabberwocky',\n",
       "  'url': 'https://demo.lighttag.io/api/v1/projects/default/datasets/jabberwocky/',\n",
       "  'name': 'Jabberwocky',\n",
       "  'id_field': 'id',\n",
       "  'content_field': 'data',\n",
       "  'aggregation_field': None,\n",
       "  'order_field': None,\n",
       "  'project_id': '2753ca38-69d9-4c96-9d31-df6d4069b027',\n",
       "  'upload_status': 'done',\n",
       "  'archived': False},\n",
       " {'id': 'e04f9a51-acb4-44a4-b633-0d03fc6f7af4',\n",
       "  'slug': 'test',\n",
       "  'url': 'https://demo.lighttag.io/api/v1/projects/default/datasets/test/',\n",
       "  'name': 'Test',\n",
       "  'id_field': None,\n",
       "  'content_field': 'content',\n",
       "  'aggregation_field': 'chapter',\n",
       "  'order_field': 'verse',\n",
       "  'project_id': '2753ca38-69d9-4c96-9d31-df6d4069b027',\n",
       "  'upload_status': 'done',\n",
       "  'archived': False},\n",
       " {'id': '24408e1f-dfe8-4d37-8f42-7192de1956e5',\n",
       "  'slug': 'hebrew-medical',\n",
       "  'url': 'https://demo.lighttag.io/api/v1/projects/default/datasets/hebrew-medical/',\n",
       "  'name': 'hebrew medical',\n",
       "  'id_field': None,\n",
       "  'content_field': 'content',\n",
       "  'aggregation_field': None,\n",
       "  'order_field': None,\n",
       "  'project_id': '2753ca38-69d9-4c96-9d31-df6d4069b027',\n",
       "  'upload_status': 'done',\n",
       "  'archived': False},\n",
       " {'id': '045896b7-6e3e-427f-b920-7241da0088ae',\n",
       "  'slug': 'trump-tweets',\n",
       "  'url': 'https://demo.lighttag.io/api/v1/projects/default/datasets/trump-tweets/',\n",
       "  'name': 'Trump Tweets',\n",
       "  'id_field': None,\n",
       "  'content_field': 'text',\n",
       "  'aggregation_field': 'date',\n",
       "  'order_field': 'time',\n",
       "  'project_id': '2753ca38-69d9-4c96-9d31-df6d4069b027',\n",
       "  'upload_status': 'done',\n",
       "  'archived': False},\n",
       " {'id': 'ff31041a-69ac-4641-8f7f-6cad8bd257b7',\n",
       "  'slug': 'oaa-test',\n",
       "  'url': 'https://demo.lighttag.io/api/v1/projects/default/datasets/oaa-test/',\n",
       "  'name': 'öäå test',\n",
       "  'id_field': None,\n",
       "  'content_field': 'Message',\n",
       "  'aggregation_field': None,\n",
       "  'order_field': None,\n",
       "  'project_id': '2753ca38-69d9-4c96-9d31-df6d4069b027',\n",
       "  'upload_status': 'done',\n",
       "  'archived': False},\n",
       " {'id': '4ddb421d-28b0-42a5-bb5c-54509b35d27b',\n",
       "  'slug': 'format-test',\n",
       "  'url': 'https://demo.lighttag.io/api/v1/projects/default/datasets/format-test/',\n",
       "  'name': 'format test',\n",
       "  'id_field': None,\n",
       "  'content_field': 'Message',\n",
       "  'aggregation_field': None,\n",
       "  'order_field': None,\n",
       "  'project_id': '2753ca38-69d9-4c96-9d31-df6d4069b027',\n",
       "  'upload_status': 'done',\n",
       "  'archived': False},\n",
       " {'id': 'f44b27f2-e84b-441b-b6e9-ff7049111b6f',\n",
       "  'slug': 'zxzx',\n",
       "  'url': 'https://demo.lighttag.io/api/v1/projects/default/datasets/zxzx/',\n",
       "  'name': 'zxzx',\n",
       "  'id_field': None,\n",
       "  'content_field': 'content',\n",
       "  'aggregation_field': 'chapter',\n",
       "  'order_field': 'verse',\n",
       "  'project_id': '2753ca38-69d9-4c96-9d31-df6d4069b027',\n",
       "  'upload_status': 'done',\n",
       "  'archived': False},\n",
       " {'id': '8e9246b1-ebf4-47df-8443-e81dc4a0dbb5',\n",
       "  'slug': 'enrontest',\n",
       "  'url': 'https://demo.lighttag.io/api/v1/projects/default/datasets/enrontest/',\n",
       "  'name': 'EnronTest',\n",
       "  'id_field': 'SortSubKey',\n",
       "  'content_field': 'Line',\n",
       "  'aggregation_field': 'FileName',\n",
       "  'order_field': 'SortSubKey',\n",
       "  'project_id': '2753ca38-69d9-4c96-9d31-df6d4069b027',\n",
       "  'upload_status': 'done',\n",
       "  'archived': False},\n",
       " {'id': '79575f45-a38f-4150-9dfe-79fe2f738896',\n",
       "  'slug': 'enron2',\n",
       "  'url': 'https://demo.lighttag.io/api/v1/projects/default/datasets/enron2/',\n",
       "  'name': 'Enron2',\n",
       "  'id_field': 'SortSubKey',\n",
       "  'content_field': 'Line',\n",
       "  'aggregation_field': 'FileName',\n",
       "  'order_field': 'SortSubKey',\n",
       "  'project_id': '2753ca38-69d9-4c96-9d31-df6d4069b027',\n",
       "  'upload_status': 'done',\n",
       "  'archived': False},\n",
       " {'id': 'ca83c74d-a95c-4f6c-aeb4-a0eb53f1405e',\n",
       "  'slug': 'enron3',\n",
       "  'url': 'https://demo.lighttag.io/api/v1/projects/default/datasets/enron3/',\n",
       "  'name': 'Enron3',\n",
       "  'id_field': 'SortSubKey',\n",
       "  'content_field': 'Line',\n",
       "  'aggregation_field': 'FileName',\n",
       "  'order_field': 'SortSubKey',\n",
       "  'project_id': '2753ca38-69d9-4c96-9d31-df6d4069b027',\n",
       "  'upload_status': 'done',\n",
       "  'archived': False},\n",
       " {'id': 'd70d7152-e339-42d3-9f52-b24f2dd3217d',\n",
       "  'slug': 'falafel1',\n",
       "  'url': 'https://demo.lighttag.io/api/v1/projects/default/datasets/falafel1/',\n",
       "  'name': 'Falafel1',\n",
       "  'id_field': None,\n",
       "  'content_field': 'content',\n",
       "  'aggregation_field': None,\n",
       "  'order_field': None,\n",
       "  'project_id': '2753ca38-69d9-4c96-9d31-df6d4069b027',\n",
       "  'upload_status': 'done',\n",
       "  'archived': False},\n",
       " {'id': 'c7b6e5d7-8ab4-4daa-a1d1-cd8674f730ac',\n",
       "  'slug': 'bibletest',\n",
       "  'url': 'https://demo.lighttag.io/api/v1/projects/default/datasets/bibletest/',\n",
       "  'name': 'bibletest',\n",
       "  'id_field': None,\n",
       "  'content_field': 'content',\n",
       "  'aggregation_field': 'chapter',\n",
       "  'order_field': 'verse',\n",
       "  'project_id': '2753ca38-69d9-4c96-9d31-df6d4069b027',\n",
       "  'upload_status': 'done',\n",
       "  'archived': False},\n",
       " {'id': '847b6cd8-aa4f-44d8-862d-44cd86a0e370',\n",
       "  'slug': 'hebrew2',\n",
       "  'url': 'https://demo.lighttag.io/api/v1/projects/default/datasets/hebrew2/',\n",
       "  'name': 'Hebrew2',\n",
       "  'id_field': None,\n",
       "  'content_field': 'content',\n",
       "  'aggregation_field': 'verse',\n",
       "  'order_field': None,\n",
       "  'project_id': '2753ca38-69d9-4c96-9d31-df6d4069b027',\n",
       "  'upload_status': 'done',\n",
       "  'archived': False},\n",
       " {'id': '9735d41b-c4d8-4db2-b70b-aaf984527d29',\n",
       "  'slug': 'deleteme',\n",
       "  'url': 'https://demo.lighttag.io/api/v1/projects/default/datasets/deleteme/',\n",
       "  'name': 'DeleteMe',\n",
       "  'id_field': None,\n",
       "  'content_field': 'title',\n",
       "  'aggregation_field': None,\n",
       "  'order_field': None,\n",
       "  'project_id': '2753ca38-69d9-4c96-9d31-df6d4069b027',\n",
       "  'upload_status': 'done',\n",
       "  'archived': False},\n",
       " {'id': '61b75760-d1cb-4029-a74f-7c6a14365589',\n",
       "  'slug': 'demo-for-noa',\n",
       "  'url': 'https://demo.lighttag.io/api/v1/projects/default/datasets/demo-for-noa/',\n",
       "  'name': 'Demo For Noa',\n",
       "  'id_field': None,\n",
       "  'content_field': 'sentence',\n",
       "  'aggregation_field': None,\n",
       "  'order_field': None,\n",
       "  'project_id': '2753ca38-69d9-4c96-9d31-df6d4069b027',\n",
       "  'upload_status': 'done',\n",
       "  'archived': False},\n",
       " {'id': '796bdfbc-ef73-4513-bb8b-08c5179ab3b1',\n",
       "  'slug': 'exploratory-dataset',\n",
       "  'url': 'https://demo.lighttag.io/api/v1/projects/default/datasets/exploratory-dataset/',\n",
       "  'name': 'Exploratory Dataset',\n",
       "  'id_field': None,\n",
       "  'content_field': 'text',\n",
       "  'aggregation_field': None,\n",
       "  'order_field': None,\n",
       "  'project_id': '2753ca38-69d9-4c96-9d31-df6d4069b027',\n",
       "  'upload_status': 'done',\n",
       "  'archived': False},\n",
       " {'id': '841a5ae8-c3b5-4b51-945d-1fdcda2e9cee',\n",
       "  'slug': 'lighttag-sample-dataset',\n",
       "  'url': 'https://demo.lighttag.io/api/v1/projects/default/datasets/lighttag-sample-dataset/',\n",
       "  'name': 'LightTag Sample Dataset',\n",
       "  'id_field': None,\n",
       "  'content_field': 'content',\n",
       "  'aggregation_field': None,\n",
       "  'order_field': None,\n",
       "  'project_id': '2753ca38-69d9-4c96-9d31-df6d4069b027',\n",
       "  'upload_status': 'done',\n",
       "  'archived': False},\n",
       " {'id': '066bc411-e5ea-4fe1-8d80-ced124d16363',\n",
       "  'slug': 'jeoperdy-async',\n",
       "  'url': 'https://demo.lighttag.io/api/v1/projects/default/datasets/jeoperdy-async/',\n",
       "  'name': 'Jeoperdy Async',\n",
       "  'id_field': None,\n",
       "  'content_field': 'question',\n",
       "  'aggregation_field': None,\n",
       "  'order_field': None,\n",
       "  'project_id': '2753ca38-69d9-4c96-9d31-df6d4069b027',\n",
       "  'upload_status': 'starting',\n",
       "  'archived': False},\n",
       " {'id': '2d78f91d-a480-40e3-b77f-408981a46b5a',\n",
       "  'slug': 'lighttag-sample-datasetbible',\n",
       "  'url': 'https://demo.lighttag.io/api/v1/projects/default/datasets/lighttag-sample-datasetbible/',\n",
       "  'name': 'LightTag Sample DatasetBible',\n",
       "  'id_field': None,\n",
       "  'content_field': 'content',\n",
       "  'aggregation_field': None,\n",
       "  'order_field': None,\n",
       "  'project_id': '2753ca38-69d9-4c96-9d31-df6d4069b027',\n",
       "  'upload_status': 'done',\n",
       "  'archived': False},\n",
       " {'id': 'a47006a3-404c-457f-99c7-1f5133311bf5',\n",
       "  'slug': 'my-bible-dataset',\n",
       "  'url': 'https://demo.lighttag.io/api/v1/projects/default/datasets/my-bible-dataset/',\n",
       "  'name': 'My Bible Dataset',\n",
       "  'id_field': None,\n",
       "  'content_field': 'content',\n",
       "  'aggregation_field': None,\n",
       "  'order_field': None,\n",
       "  'project_id': '2753ca38-69d9-4c96-9d31-df6d4069b027',\n",
       "  'upload_status': 'done',\n",
       "  'archived': False},\n",
       " {'id': 'b31a6ed1-de5e-4346-9de9-a0f1abc10894',\n",
       "  'slug': 'ny_times_data',\n",
       "  'url': 'https://demo.lighttag.io/api/v1/projects/default/datasets/ny_times_data/',\n",
       "  'name': 'ny_times_data',\n",
       "  'id_field': None,\n",
       "  'content_field': 'tweet',\n",
       "  'aggregation_field': None,\n",
       "  'order_field': None,\n",
       "  'project_id': '2753ca38-69d9-4c96-9d31-df6d4069b027',\n",
       "  'upload_status': 'done',\n",
       "  'archived': False},\n",
       " {'id': 'ce522344-82c1-4209-a7a0-2b33baadbf74',\n",
       "  'slug': 'biblefdwe',\n",
       "  'url': 'https://demo.lighttag.io/api/v1/projects/default/datasets/biblefdwe/',\n",
       "  'name': 'biblefdwe',\n",
       "  'id_field': None,\n",
       "  'content_field': 'content',\n",
       "  'aggregation_field': 'chapter',\n",
       "  'order_field': None,\n",
       "  'project_id': '2753ca38-69d9-4c96-9d31-df6d4069b027',\n",
       "  'upload_status': 'done',\n",
       "  'archived': False},\n",
       " {'id': '8f5bd425-ae8c-45f2-9cdd-f297ae6a5806',\n",
       "  'slug': 'tweets',\n",
       "  'url': 'https://demo.lighttag.io/api/v1/projects/default/datasets/tweets/',\n",
       "  'name': 'tweets',\n",
       "  'id_field': None,\n",
       "  'content_field': 'text',\n",
       "  'aggregation_field': None,\n",
       "  'order_field': None,\n",
       "  'project_id': '2753ca38-69d9-4c96-9d31-df6d4069b027',\n",
       "  'upload_status': 'done',\n",
       "  'archived': False},\n",
       " {'id': 'ba785877-2dcd-418b-ba54-ff3d55a72e99',\n",
       "  'slug': 'the-bible-english',\n",
       "  'url': 'https://demo.lighttag.io/api/v1/projects/default/datasets/the-bible-english/',\n",
       "  'name': 'The Bible (English)',\n",
       "  'id_field': None,\n",
       "  'content_field': 'content',\n",
       "  'aggregation_field': None,\n",
       "  'order_field': None,\n",
       "  'project_id': '2753ca38-69d9-4c96-9d31-df6d4069b027',\n",
       "  'upload_status': 'done',\n",
       "  'archived': False},\n",
       " {'id': 'aa690b22-3f51-4a77-bb12-6b16e4e08e63',\n",
       "  'slug': 'exploratory-dataset1',\n",
       "  'url': 'https://demo.lighttag.io/api/v1/projects/default/datasets/exploratory-dataset1/',\n",
       "  'name': 'Exploratory Dataset1',\n",
       "  'id_field': None,\n",
       "  'content_field': 'text',\n",
       "  'aggregation_field': None,\n",
       "  'order_field': None,\n",
       "  'project_id': '2753ca38-69d9-4c96-9d31-df6d4069b027',\n",
       "  'upload_status': 'started',\n",
       "  'archived': False}]"
      ]
     },
     "execution_count": 32,
     "metadata": {},
     "output_type": "execute_result"
    }
   ],
   "source": [
    "datasets = session.get(API_BASE+'projects/default/datasets/').json() # Get all of the datasets in our project\n",
    "datasets"
   ]
  },
  {
   "cell_type": "code",
   "execution_count": 154,
   "metadata": {},
   "outputs": [
    {
     "data": {
      "text/plain": [
       "[{'aggregation_value': None,\n",
       "  'content': 'RT @shawgerald4: @realDonaldTrump Thank you President TRUMP!! https://t.co/LKdkT0FL99',\n",
       "  'dataset': 'ee688ba1-b0d3-4fdb-9355-d7924e3875e4',\n",
       "  'id': '4f028792-9c84-42be-99e5-09db63524687',\n",
       "  'metadata': {'created_at': 'Sun Dec 24 12:31:48 +0000 2017',\n",
       "   'date': '2017-12-24',\n",
       "   'favorite_count': 0,\n",
       "   'id_str': '944908467499884544',\n",
       "   'in_reply_to_user_id_str': None,\n",
       "   'is_retweet': True,\n",
       "   'retweet_count': 11846,\n",
       "   'source': 'Twitter for iPhone',\n",
       "   'time': 1514118708000000000}},\n",
       " {'aggregation_value': None,\n",
       "  'content': 'The Fake News refuses to talk about how Big and how Strong our BASE is. They show Fake Polls just like they report Fake News. Despite only negative reporting, we are doing well - nobody is going to beat us. MAKE AMERICA GREAT AGAIN!',\n",
       "  'dataset': 'ee688ba1-b0d3-4fdb-9355-d7924e3875e4',\n",
       "  'id': '20e8dd31-5e45-44b5-94aa-bb0d6699609f',\n",
       "  'metadata': {'created_at': 'Sun Dec 24 13:48:11 +0000 2017',\n",
       "   'date': '2017-12-24',\n",
       "   'favorite_count': 140299,\n",
       "   'id_str': '944927689638662145',\n",
       "   'in_reply_to_user_id_str': None,\n",
       "   'is_retweet': False,\n",
       "   'retweet_count': 33220,\n",
       "   'source': 'Twitter for iPhone',\n",
       "   'time': 1514123291000000000}}]"
      ]
     },
     "execution_count": 154,
     "metadata": {},
     "output_type": "execute_result"
    }
   ],
   "source": [
    "#See the examples in our dataset\n",
    "session.get(datasets[0]['url']+'examples/').json()[:2]"
   ]
  },
  {
   "cell_type": "markdown",
   "metadata": {},
   "source": [
    "### Uploading with an Aggregation field\n",
    "As mentioned, we can tell LightTag to show examples together, and in what order by specifying an aggregation key and order key. Let's do that for the test and train set"
   ]
  },
  {
   "cell_type": "code",
   "execution_count": 155,
   "metadata": {},
   "outputs": [],
   "source": [
    "train_dataset = {\n",
    "    \"name\":\"Training Set\",\n",
    "    \"content_field\":\"text\", # text is the field in the JSON we will be annotating\n",
    "    \"examples\" :train, # Set the list of examples that are part of this dataset\n",
    "    \"aggregation_field\":\"date\", # Show all tweets from the same day together\n",
    "    \"order_field\":\"time\" # And sort them by time\n",
    "}\n",
    "\n",
    "test_dataset = {\n",
    "    \"name\":\"Test Set\",\n",
    "    \"content_field\":\"text\", # text is the field in the JSON we will be annotating\n",
    "    \"examples\" :test, # Set the list of examples that are part of this dataset\n",
    "    \"aggregation_field\":\"date\", # Show all tweets from the same day together\n",
    "    \"order_field\":\"time\" # And sort them by time\n",
    "}"
   ]
  },
  {
   "cell_type": "code",
   "execution_count": 156,
   "metadata": {},
   "outputs": [],
   "source": [
    "# Upload the training set\n",
    "resp = session.post(API_BASE+'projects/default/datasets/bulk/',json=train_dataset)\n",
    "assert resp.status_code ==201\n",
    "# Upload the test set\n",
    "resp = session.post(API_BASE+'projects/default/datasets/bulk/',json=test_dataset)\n",
    "assert resp.status_code ==201\n"
   ]
  },
  {
   "cell_type": "code",
   "execution_count": 157,
   "metadata": {},
   "outputs": [
    {
     "name": "stdout",
     "output_type": "stream",
     "text": [
      "[{'aggregation_field': 'date',\n",
      "  'content_field': 'text',\n",
      "  'id': '92ea39c8-1d7d-47eb-b6d3-25ceebc6ba33',\n",
      "  'id_field': None,\n",
      "  'name': 'Test Set',\n",
      "  'order_field': 'time',\n",
      "  'project_id': 'e488e45a-564a-4b93-8beb-f7aa4c73ea97',\n",
      "  'slug': 'test-set',\n",
      "  'url': 'http://localhost:8000/api/v1/projects/default/datasets/test-set/'},\n",
      " {'aggregation_field': 'date',\n",
      "  'content_field': 'text',\n",
      "  'id': 'de7ed65d-e685-4ea9-bf3b-0c3c10f20b46',\n",
      "  'id_field': None,\n",
      "  'name': 'Training Set',\n",
      "  'order_field': 'time',\n",
      "  'project_id': 'e488e45a-564a-4b93-8beb-f7aa4c73ea97',\n",
      "  'slug': 'training-set',\n",
      "  'url': 'http://localhost:8000/api/v1/projects/default/datasets/training-set/'},\n",
      " {'aggregation_field': None,\n",
      "  'content_field': 'text',\n",
      "  'id': 'ee688ba1-b0d3-4fdb-9355-d7924e3875e4',\n",
      "  'id_field': None,\n",
      "  'name': 'Exploratory Dataset',\n",
      "  'order_field': None,\n",
      "  'project_id': 'e488e45a-564a-4b93-8beb-f7aa4c73ea97',\n",
      "  'slug': 'exploratory-dataset',\n",
      "  'url': 'http://localhost:8000/api/v1/projects/default/datasets/exploratory-dataset/'}]\n"
     ]
    }
   ],
   "source": [
    "# Let's see all of the Datasets in our project\n",
    "datasets = session.get(API_BASE+'projects/default/datasets/').json() # Get all of the datasets in our project\n",
    "pprint(datasets)"
   ]
  },
  {
   "cell_type": "markdown",
   "metadata": {},
   "source": [
    "## Defining our Schemas\n",
    "The schema defines how we label our examples. A schema can either define classification types for classifying an example, tags for tagging parts of an example or both. We'll define all three options"
   ]
  },
  {
   "cell_type": "markdown",
   "metadata": {},
   "source": [
    "### Defining Classification types\n",
    "We simply define a list of classification types, each item has a name (The class) and a description. The labelers will be able to see the description as they work. \n",
    "Remember to give your annotators an UNK or Confusing class. "
   ]
  },
  {
   "cell_type": "code",
   "execution_count": 158,
   "metadata": {},
   "outputs": [],
   "source": [
    "\n",
    "classification_types=[\n",
    "    {\n",
    "        \"name\":\"Insult\", \n",
    "        \"description\":\"This tweet contains an insult to a particular person\"\n",
    "    },\n",
    "    {\n",
    "        \"name\":\"Praise\", \n",
    "        \"description\":\"This tweet contains praise of a particular person\"\n",
    "    },\n",
    "    {\n",
    "        \"name\":\"Confusing\", \n",
    "        \"description\":\"This tweet is ambiguous\"\n",
    "    },\n",
    "    {\n",
    "        \"name\":\"UNK\", \n",
    "        \"description\":\"This tweet is niether an insult or praise\"\n",
    "    },\n",
    "]\n",
    "\n"
   ]
  },
  {
   "cell_type": "markdown",
   "metadata": {},
   "source": [
    "### Defining tags\n",
    "We simply define a list of tags, each item has a name (The tag) and a description. The labelers will be able to see the description as they work. \n",
    " "
   ]
  },
  {
   "cell_type": "code",
   "execution_count": 159,
   "metadata": {},
   "outputs": [],
   "source": [
    "tags=[\n",
    "    {\n",
    "        \"name\":\"Person\", \n",
    "        \"description\":\"The proper name of a person (John is a person. He is not)\"\n",
    "    },\n",
    "    {\n",
    "        \"name\":\"Place\",\n",
    "        \"description\": \"A physical place. For example the White House.\"\n",
    "    },\n",
    "    {\n",
    "        \"name\":\"Issue\",\n",
    "        \"description\": \"A political issue the President is discussing.\"\n",
    "    },\n",
    "    {\n",
    "        \"name\":\"Insult\",\n",
    "        \"description\": \"A word or phrase that is unsulting.\"\n",
    "    },\n",
    "    {\n",
    "        \"name\":\"Media organization\",\n",
    "        \"description\": \"CNN/Fox etc.\"\n",
    "    },\n",
    "    {\n",
    "        \"name\":\"Politcal Group\",\n",
    "        \"description\": \"Republicans/Democrates etc\"\n",
    "    },\n",
    "]"
   ]
  },
  {
   "cell_type": "markdown",
   "metadata": {},
   "source": [
    "### Making a Schema\n",
    "To define a schema, we give it a name and specify classification types, tags or both. "
   ]
  },
  {
   "cell_type": "code",
   "execution_count": 160,
   "metadata": {},
   "outputs": [],
   "source": [
    "classification_only_schema= {\n",
    "    \"name\" :\"Trump Insult Classification\",\n",
    "    \"classification_types\":classification_types,\n",
    "}\n",
    "\n",
    "tags_only_schema ={\n",
    "    \"name\":\"Entity Tags only\",\n",
    "    \"tags\":tags\n",
    "}\n",
    "\n",
    "tags_and_classifications_schema = {\n",
    "    \"name\": \"Classifications and tags Schema\",\n",
    "    \"tags\":tags,\n",
    "    \"classification_types\":classification_types\n",
    "}\n"
   ]
  },
  {
   "cell_type": "markdown",
   "metadata": {},
   "source": [
    "### Uploading the schema\n",
    "We simply post the schema definition to the projects /schemas/bulk/ endpoint"
   ]
  },
  {
   "cell_type": "code",
   "execution_count": 161,
   "metadata": {},
   "outputs": [],
   "source": [
    "\n",
    "resp = session.post(API_BASE+'projects/default/schemas/bulk/',json=classification_only_schema)\n",
    "assert resp.status_code ==201\n",
    "\n",
    "resp = session.post(API_BASE+'projects/default/schemas/bulk/',json=tags_only_schema)\n",
    "assert resp.status_code ==201\n",
    "\n",
    "resp = session.post(API_BASE+'projects/default/schemas/bulk/',json=tags_and_classifications_schema)\n",
    "assert resp.status_code ==201"
   ]
  },
  {
   "cell_type": "code",
   "execution_count": 162,
   "metadata": {},
   "outputs": [
    {
     "data": {
      "text/plain": [
       "[{'id': '3b73c2b2-73aa-4c42-a265-a0c459abd295',\n",
       "  'name': 'Classifications and tags Schema',\n",
       "  'slug': 'classifications-and-tags-schema',\n",
       "  'url': 'http://localhost:8000/api/v1/projects/default/schemas/classifications-and-tags-schema/'},\n",
       " {'id': 'fbe6fd1d-bb59-4909-8a88-81772cc0d996',\n",
       "  'name': 'Entity Tags only',\n",
       "  'slug': 'entity-tags-only',\n",
       "  'url': 'http://localhost:8000/api/v1/projects/default/schemas/entity-tags-only/'},\n",
       " {'id': '9dcf0091-d82c-4292-a09d-eaff062fc1c4',\n",
       "  'name': 'Trump Insult Classification',\n",
       "  'slug': 'trump-insult-classification',\n",
       "  'url': 'http://localhost:8000/api/v1/projects/default/schemas/trump-insult-classification/'}]"
      ]
     },
     "execution_count": 162,
     "metadata": {},
     "output_type": "execute_result"
    }
   ],
   "source": [
    "# Indeed we now have three schemas\n",
    "(session.get(API_BASE+'projects/default/schemas/').json())"
   ]
  },
  {
   "cell_type": "markdown",
   "metadata": {},
   "source": [
    "**WAIT**\n",
    "If you are following this tutorial in order to use your own suggestions, you might want to pause, go to the suggestions section and then come back"
   ]
  },
  {
   "cell_type": "markdown",
   "metadata": {},
   "source": [
    "## Defining Teams\n",
    "LightTag allows us to assign specific work to one or more teams. Thus, we must specify at least one team that will work on a task. LightTag automatically provides a team that holds \"Everyone\", e.g. all of your annotators and you can define more teams.\n"
   ]
  },
  {
   "cell_type": "markdown",
   "metadata": {},
   "source": [
    "### Getting a list of existing teams\n",
    "We can query the teams end point of a project to see the availble teams"
   ]
  },
  {
   "cell_type": "code",
   "execution_count": 163,
   "metadata": {},
   "outputs": [
    {
     "data": {
      "text/plain": [
       "[{'description': '',\n",
       "  'id': 'dd40e50b-2ffa-4943-b5ca-6983dba36331',\n",
       "  'members': [{'id': 1, 'username': 'demo'}],\n",
       "  'name': 'Everyone',\n",
       "  'slug': 'everyone',\n",
       "  'url': 'http://localhost:8000/api/v1/projects/default/teams/everyone/'}]"
      ]
     },
     "execution_count": 163,
     "metadata": {},
     "output_type": "execute_result"
    }
   ],
   "source": [
    "(session.get(API_BASE+'projects/default/teams/').json())"
   ]
  },
  {
   "cell_type": "markdown",
   "metadata": {},
   "source": [
    "### Creating a new team\n",
    "Sometimes we want to have seperate teams. Two common use cases are\n",
    "1. Limiting access to certain datasets to specific teams\n",
    "2. Having \"experts\" label the test set and \"experts\" + \"layman\" label the training set\n",
    "\n",
    "To create a new team, we'll provide a list of annotator ids, a name and a description to the teams endpoint\n",
    "#### First we get a list of availble annotators"
   ]
  },
  {
   "cell_type": "code",
   "execution_count": 166,
   "metadata": {},
   "outputs": [
    {
     "data": {
      "text/plain": [
       "[{'id': 1, 'username': 'demo'},\n",
       " {'id': 2, 'username': 'Bob'},\n",
       " {'id': 3, 'username': 'Hanz'},\n",
       " {'id': 4, 'username': 'Franz'}]"
      ]
     },
     "execution_count": 166,
     "metadata": {},
     "output_type": "execute_result"
    }
   ],
   "source": [
    "annotators = (session.get(API_BASE+'projects/default/annotators/').json())\n",
    "annotators"
   ]
  },
  {
   "cell_type": "code",
   "execution_count": 167,
   "metadata": {},
   "outputs": [],
   "source": [
    "experts = annotators[:3]\n",
    "layman = annotators[3:]"
   ]
  },
  {
   "cell_type": "markdown",
   "metadata": {},
   "source": [
    "#### Now we define our teams\n"
   ]
  },
  {
   "cell_type": "code",
   "execution_count": 168,
   "metadata": {},
   "outputs": [],
   "source": [
    "expertTeam = {\"name\":\"Experts\", \"description\": \"People who are very knowledgable about twitter\", \"members\":experts}\n",
    "layManTeam = {\"name\":\"Layman\",  \"description\": \"People who know a little about twitter\", \"members\":layman}"
   ]
  },
  {
   "cell_type": "code",
   "execution_count": 169,
   "metadata": {},
   "outputs": [
    {
     "name": "stdout",
     "output_type": "stream",
     "text": [
      "[{'description': '',\n",
      "  'id': 'dd40e50b-2ffa-4943-b5ca-6983dba36331',\n",
      "  'members': [{'id': 1, 'username': 'demo'},\n",
      "              {'id': 2, 'username': 'Bob'},\n",
      "              {'id': 3, 'username': 'Hanz'},\n",
      "              {'id': 4, 'username': 'Franz'}],\n",
      "  'name': 'Everyone',\n",
      "  'slug': 'everyone',\n",
      "  'url': 'http://localhost:8000/api/v1/projects/default/teams/everyone/'},\n",
      " {'description': 'People who are very knowledgable about twitter',\n",
      "  'id': 'd2648770-7886-4c41-ad7d-b1f6f713ffbd',\n",
      "  'members': [{'id': 1, 'username': 'demo'},\n",
      "              {'id': 2, 'username': 'Bob'},\n",
      "              {'id': 3, 'username': 'Hanz'}],\n",
      "  'name': 'Experts',\n",
      "  'slug': 'experts',\n",
      "  'url': 'http://localhost:8000/api/v1/projects/default/teams/experts/'},\n",
      " {'description': 'People who know a little about twitter',\n",
      "  'id': '044b04b5-7cdd-404a-8b00-1c7b61d50474',\n",
      "  'members': [{'id': 4, 'username': 'Franz'}],\n",
      "  'name': 'Layman',\n",
      "  'slug': 'layman',\n",
      "  'url': 'http://localhost:8000/api/v1/projects/default/teams/layman/'}]\n"
     ]
    }
   ],
   "source": [
    "session.post(API_BASE+'projects/default/teams/',json=expertTeam)\n",
    "session.post(API_BASE+'projects/default/teams/',json=layManTeam)\n",
    "teams = session.get(API_BASE+'projects/default/teams/').json()\n",
    "pprint(teams)"
   ]
  },
  {
   "cell_type": "code",
   "execution_count": 170,
   "metadata": {},
   "outputs": [],
   "source": [
    "teamIds = [x['id'] for x in teams]"
   ]
  },
  {
   "cell_type": "markdown",
   "metadata": {},
   "source": [
    "## Defining Tasks\n",
    "Now that we have Datasets and tasks we can define the work we want to do on them. \n",
    "As we said earlier, we want to do a quick exploratory job, and label the exploratory dataset with each of the schemas to see which works best. \n",
    "\n",
    "Then we want to define work on the training and test sets. \n",
    "For exploration, we'll use 2 labelers per example and suggestions. \n",
    "For the training set we'll use 1 labeler per example and suggestions. \n",
    "For the test set, we'll use 3 labelers per example and disable suggestions - so that we don't introduce any bias"
   ]
  },
  {
   "cell_type": "markdown",
   "metadata": {},
   "source": [
    "### Using Slugs\n",
    "To specify a task we must refer to a dataset and a schema. In the dataset definition we do this by referencing the **slug** of the schema/dataset. "
   ]
  },
  {
   "cell_type": "code",
   "execution_count": 171,
   "metadata": {},
   "outputs": [
    {
     "name": "stdout",
     "output_type": "stream",
     "text": [
      "classifications-and-tags-schema \t\t Classifications and tags Schema\n",
      "entity-tags-only \t\t Entity Tags only\n",
      "trump-insult-classification \t\t Trump Insult Classification\n"
     ]
    }
   ],
   "source": [
    "resp = session.get(API_BASE+'projects/default/schemas/') # fetch all of the schemas\n",
    "for schema in resp.json():\n",
    "    print(schema['slug'],\"\\t\\t\",schema['name'])"
   ]
  },
  {
   "cell_type": "code",
   "execution_count": 172,
   "metadata": {},
   "outputs": [
    {
     "name": "stdout",
     "output_type": "stream",
     "text": [
      "test-set \t\t Test Set\n",
      "training-set \t\t Training Set\n",
      "exploratory-dataset \t\t Exploratory Dataset\n"
     ]
    }
   ],
   "source": [
    "resp = session.get(API_BASE+'projects/default/datasets/') # fetch all of the schemas\n",
    "for dataset in resp.json():\n",
    "    print(dataset['slug'],'\\t\\t',dataset['name'])"
   ]
  },
  {
   "cell_type": "markdown",
   "metadata": {},
   "source": [
    "### Now we can define our tasks\n",
    "For each task we want, we specify the schema, dataset, how many annotators and if suggestions are availble or not. \n",
    "We can also pass a Markdown text as guidelines for the annotators"
   ]
  },
  {
   "cell_type": "code",
   "execution_count": 173,
   "metadata": {},
   "outputs": [],
   "source": [
    "exploratory_classifications_only_task = {\n",
    "    \"name\":\"Explore classification only\",\n",
    "    \"dataset_slug\":\"exploratory-dataset\",\n",
    "    \"schema_slug\":\"trump-insult-classification\",\n",
    "    \"annotators_per_example\":2,\n",
    "    \"allow_suggestions\":True,\n",
    "    \"guidelines\":\"### Example Guidelines \\n This is an example\",\n",
    "    \"teams\":[teamIds[0]],\n",
    "    \"models\":[] # we set models to a blank list. See the Documentation on suggestions for associating a model to a task\n",
    "}\n",
    "\n",
    "exploratory_tags_only_task = {\n",
    "    \"name\": \"Explore tags only\",\n",
    "    \"dataset_slug\":\"exploratory-dataset\",\n",
    "    \"schema_slug\":\"entity-tags-only\", # Changed the schema id\n",
    "    \"annotators_per_example\":2,\n",
    "    \"allow_suggestions\":True,\n",
    "    \"teams\":[teamIds[0]],\n",
    "    \"models\":[]\n",
    "}\n",
    "\n",
    "exploratory_tags_and_classifications_task = {\n",
    "    \"name\": \"Explore tags and classes\",\n",
    "    \"dataset_slug\":\"exploratory-dataset\",\n",
    "    \"schema_slug\":\"classifications-and-tags-schema\", # Changed the schema id\n",
    "    \"annotators_per_example\":2,\n",
    "    \"allow_suggestions\":True,\n",
    "    \"teams\":[teamIds[1]],\n",
    "    \"models\":[]\n",
    "}\n",
    "\n",
    "training_set_task = {\n",
    "    \"name\":\"training set tags and classes\",\n",
    "    \"dataset_slug\":\"training-set\",\n",
    "    \"schema_slug\":\"classifications-and-tags-schema\", # Changed the schema id\n",
    "    \"annotators_per_example\":1, # Only one labeler per example\n",
    "    \"allow_suggestions\":True,\n",
    "    \"teams\":[teamIds[2]],\n",
    "    \"models\":[]\n",
    "}\n",
    "\n",
    "test_set_task = {\n",
    "    \"name\":\"test set tags and classes\",\n",
    "    \"dataset_slug\":\"test-set\",\n",
    "    \"schema_slug\":\"classifications-and-tags-schema\", # Changed the schema id\n",
    "    \"annotators_per_example\":3, # Three labelers per example\n",
    "    \"allow_suggestions\":True,\n",
    "    \"teams\":[teamIds[2],teamIds[1]],\n",
    "    \"models\":[]\n",
    "}\n",
    "\n",
    "tasks = [test_set_task,training_set_task,exploratory_classifications_only_task, exploratory_tags_only_task,\n",
    "         exploratory_tags_and_classifications_task]"
   ]
  },
  {
   "cell_type": "code",
   "execution_count": 174,
   "metadata": {},
   "outputs": [],
   "source": [
    "for task_definition in tasks:\n",
    "    resp  =session.post(API_BASE+'projects/default/task_definitions/',json=task_definition)\n",
    "    assert resp.status_code==201, (task_definition)"
   ]
  },
  {
   "cell_type": "code",
   "execution_count": 175,
   "metadata": {},
   "outputs": [],
   "source": [
    "# And we can see our task definitions on the server"
   ]
  },
  {
   "cell_type": "code",
   "execution_count": 176,
   "metadata": {},
   "outputs": [
    {
     "data": {
      "text/plain": [
       "[{'active': True,\n",
       "  'allow_suggestions': True,\n",
       "  'annotators_per_example': 2,\n",
       "  'dataset_id': 'ee688ba1-b0d3-4fdb-9355-d7924e3875e4',\n",
       "  'dataset_slug': 'exploratory-dataset',\n",
       "  'guidelines': None,\n",
       "  'id': '9bab798d-c8db-43e8-9d4e-bf893a2f83f0',\n",
       "  'name': 'Explore tags and classes',\n",
       "  'priority': 5,\n",
       "  'project_id': 'e488e45a-564a-4b93-8beb-f7aa4c73ea97',\n",
       "  'schema_id': '3b73c2b2-73aa-4c42-a265-a0c459abd295',\n",
       "  'schema_slug': 'classifications-and-tags-schema',\n",
       "  'slug': 'explore-tags-and-classes',\n",
       "  'teams': [{'description': 'People who are very knowledgable about twitter',\n",
       "    'id': 'd2648770-7886-4c41-ad7d-b1f6f713ffbd',\n",
       "    'members': [{'id': 1, 'username': 'demo'},\n",
       "     {'id': 2, 'username': 'Bob'},\n",
       "     {'id': 3, 'username': 'Hanz'}],\n",
       "    'name': 'Experts',\n",
       "    'slug': 'experts',\n",
       "    'url': 'http://localhost:8000/api/v1/projects/default/teams/experts/'}],\n",
       "  'url': 'http://localhost:8000/api/v1/projects/default/task_definitions/explore-tags-and-classes/'},\n",
       " {'active': True,\n",
       "  'allow_suggestions': True,\n",
       "  'annotators_per_example': 2,\n",
       "  'dataset_id': 'ee688ba1-b0d3-4fdb-9355-d7924e3875e4',\n",
       "  'dataset_slug': 'exploratory-dataset',\n",
       "  'guidelines': None,\n",
       "  'id': 'f5fe2bbb-e41b-4cc5-9cd2-8a28f6b37ab4',\n",
       "  'name': 'Explore tags only',\n",
       "  'priority': 4,\n",
       "  'project_id': 'e488e45a-564a-4b93-8beb-f7aa4c73ea97',\n",
       "  'schema_id': 'fbe6fd1d-bb59-4909-8a88-81772cc0d996',\n",
       "  'schema_slug': 'entity-tags-only',\n",
       "  'slug': 'explore-tags-only',\n",
       "  'teams': [{'description': '',\n",
       "    'id': 'dd40e50b-2ffa-4943-b5ca-6983dba36331',\n",
       "    'members': [{'id': 1, 'username': 'demo'},\n",
       "     {'id': 2, 'username': 'Bob'},\n",
       "     {'id': 3, 'username': 'Hanz'},\n",
       "     {'id': 4, 'username': 'Franz'}],\n",
       "    'name': 'Everyone',\n",
       "    'slug': 'everyone',\n",
       "    'url': 'http://localhost:8000/api/v1/projects/default/teams/everyone/'}],\n",
       "  'url': 'http://localhost:8000/api/v1/projects/default/task_definitions/explore-tags-only/'},\n",
       " {'active': True,\n",
       "  'allow_suggestions': True,\n",
       "  'annotators_per_example': 2,\n",
       "  'dataset_id': 'ee688ba1-b0d3-4fdb-9355-d7924e3875e4',\n",
       "  'dataset_slug': 'exploratory-dataset',\n",
       "  'guidelines': '### Example Guidelines \\n This is an example',\n",
       "  'id': '4bec1ef3-a34d-4ac6-a484-2ee0ec60fc85',\n",
       "  'name': 'Explore classification only',\n",
       "  'priority': 3,\n",
       "  'project_id': 'e488e45a-564a-4b93-8beb-f7aa4c73ea97',\n",
       "  'schema_id': '9dcf0091-d82c-4292-a09d-eaff062fc1c4',\n",
       "  'schema_slug': 'trump-insult-classification',\n",
       "  'slug': 'explore-classification-only',\n",
       "  'teams': [{'description': '',\n",
       "    'id': 'dd40e50b-2ffa-4943-b5ca-6983dba36331',\n",
       "    'members': [{'id': 1, 'username': 'demo'},\n",
       "     {'id': 2, 'username': 'Bob'},\n",
       "     {'id': 3, 'username': 'Hanz'},\n",
       "     {'id': 4, 'username': 'Franz'}],\n",
       "    'name': 'Everyone',\n",
       "    'slug': 'everyone',\n",
       "    'url': 'http://localhost:8000/api/v1/projects/default/teams/everyone/'}],\n",
       "  'url': 'http://localhost:8000/api/v1/projects/default/task_definitions/explore-classification-only/'},\n",
       " {'active': True,\n",
       "  'allow_suggestions': True,\n",
       "  'annotators_per_example': 1,\n",
       "  'dataset_id': 'de7ed65d-e685-4ea9-bf3b-0c3c10f20b46',\n",
       "  'dataset_slug': 'training-set',\n",
       "  'guidelines': None,\n",
       "  'id': 'ace018ea-e8ee-4e9e-8b2d-1a0418f30878',\n",
       "  'name': 'training set tags and classes',\n",
       "  'priority': 2,\n",
       "  'project_id': 'e488e45a-564a-4b93-8beb-f7aa4c73ea97',\n",
       "  'schema_id': '3b73c2b2-73aa-4c42-a265-a0c459abd295',\n",
       "  'schema_slug': 'classifications-and-tags-schema',\n",
       "  'slug': 'training-set-tags-and-classes',\n",
       "  'teams': [{'description': 'People who know a little about twitter',\n",
       "    'id': '044b04b5-7cdd-404a-8b00-1c7b61d50474',\n",
       "    'members': [{'id': 4, 'username': 'Franz'}],\n",
       "    'name': 'Layman',\n",
       "    'slug': 'layman',\n",
       "    'url': 'http://localhost:8000/api/v1/projects/default/teams/layman/'}],\n",
       "  'url': 'http://localhost:8000/api/v1/projects/default/task_definitions/training-set-tags-and-classes/'},\n",
       " {'active': True,\n",
       "  'allow_suggestions': True,\n",
       "  'annotators_per_example': 3,\n",
       "  'dataset_id': '92ea39c8-1d7d-47eb-b6d3-25ceebc6ba33',\n",
       "  'dataset_slug': 'test-set',\n",
       "  'guidelines': None,\n",
       "  'id': 'f91a95a4-61e5-40f8-87b4-63103e1f00f0',\n",
       "  'name': 'test set tags and classes',\n",
       "  'priority': 1,\n",
       "  'project_id': 'e488e45a-564a-4b93-8beb-f7aa4c73ea97',\n",
       "  'schema_id': '3b73c2b2-73aa-4c42-a265-a0c459abd295',\n",
       "  'schema_slug': 'classifications-and-tags-schema',\n",
       "  'slug': 'test-set-tags-and-classes',\n",
       "  'teams': [{'description': 'People who are very knowledgable about twitter',\n",
       "    'id': 'd2648770-7886-4c41-ad7d-b1f6f713ffbd',\n",
       "    'members': [{'id': 1, 'username': 'demo'},\n",
       "     {'id': 2, 'username': 'Bob'},\n",
       "     {'id': 3, 'username': 'Hanz'}],\n",
       "    'name': 'Experts',\n",
       "    'slug': 'experts',\n",
       "    'url': 'http://localhost:8000/api/v1/projects/default/teams/experts/'},\n",
       "   {'description': 'People who know a little about twitter',\n",
       "    'id': '044b04b5-7cdd-404a-8b00-1c7b61d50474',\n",
       "    'members': [{'id': 4, 'username': 'Franz'}],\n",
       "    'name': 'Layman',\n",
       "    'slug': 'layman',\n",
       "    'url': 'http://localhost:8000/api/v1/projects/default/teams/layman/'}],\n",
       "  'url': 'http://localhost:8000/api/v1/projects/default/task_definitions/test-set-tags-and-classes/'}]"
      ]
     },
     "execution_count": 176,
     "metadata": {},
     "output_type": "execute_result"
    }
   ],
   "source": [
    "(session.get(API_BASE+'projects/default/task_definitions/').json())"
   ]
  },
  {
   "cell_type": "markdown",
   "metadata": {},
   "source": [
    "### Setting priorities on work\n",
    "When our annotators log in to LightTag they will be show work to do based on how we prioritize our tasks. Of course we'd like to set that priority. In this section we will set the priorities such that the exploratory tasks will go first, then the test set, then the training set\n",
    "\n",
    "***\n",
    "Note, using the same endpoint we can also update the guidelines for a task definiiton or set it to inactive"
   ]
  },
  {
   "cell_type": "code",
   "execution_count": 177,
   "metadata": {},
   "outputs": [
    {
     "name": "stdout",
     "output_type": "stream",
     "text": [
      "Setting explore-tags-and-classes to priority 1\n",
      "Setting explore-tags-only to priority 2\n",
      "Setting explore-classification-only to priority 3\n",
      "Setting training-set-tags-and-classes to priority 4\n",
      "Setting test-set-tags-and-classes to priority 5\n"
     ]
    }
   ],
   "source": [
    "# First pull all of our tasks\n",
    "task_definitions = (session.get(API_BASE+'projects/default/task_definitions/').json())\n",
    "#Now we'll sort them by slug, which will end up being the exact order we wanted \n",
    "sorted(task_definitions,key=lambda x:x['slug'])\n",
    "#And now we update their priority\n",
    "for num,td in enumerate(task_definitions):\n",
    "    print (\"Setting\", td['slug'], \"to priority\", num+1),\n",
    "    resp= session.put(td['url'],json={\"priority\":num+1})\n",
    "    assert resp.status_code == 200, resp.status_code"
   ]
  },
  {
   "cell_type": "markdown",
   "metadata": {},
   "source": [
    "# Part 2 - Metrics and analytics\n",
    "This section will show how to pull various metrics from LightTag to get a sense of where your project stands.\n",
    "We'll continue with the work defined in the previous section, though to illustrate the metrics we've randomly annotated the data.\n",
    "\n",
    "The current version of the API allows you to see aggregate metrics about your projects, that is, what work has been done, how much of it and what level of agreement has been reached.\n",
    "\n",
    "**To make the results prettier, we'll use the pandas library. This is a nice to have but you can easily consume results as raw JSONs **"
   ]
  },
  {
   "cell_type": "markdown",
   "metadata": {},
   "source": [
    "## How metrics are organized\n",
    "LightTag's metrics are organized by task, that is, when we calculate how many annotations were made, or present a confusion matrix of tags, we always retreive the data from the same task. In part 1 we defined 5 tasks, 3 on exploratory data, 1 for the training set and 1 for the test set. \n",
    "\n",
    "Each of these tasks will have their own isolated metrics, despite sharing an underlying dataset or schema. \n",
    "\n",
    "To that end, all metrics live under the task_definitions endpoint as we'll see\n",
    "\n",
    "Their are three kinds of metrics we currently display\n",
    "1. **Task progress metrics** These answer the question \"How much work has been done\" \n",
    "2. **Annotator metrics** These answer the question \"How much and how good is the work each of my labelers is doing\"\n",
    "3. **Annotation Metrics** These answer the question \"What do the results we are getting look like\" and can be further divided into\n",
    "    1. **Classification metrics** These answer the question \"What do our classsification results look like?\"\n",
    "    2. **Tag metrics**  These anser the question \"What do our tagging results look like?\"\n",
    "\n",
    "Their is some interaction between these metrics, and some times you might wish to slice and dice the data differently to answer a particular question. In that case, you can always download and calculate a particular metric yourself. If you do feel something is missing, write us at support@lighttag.io and we will try to add it"
   ]
  },
  {
   "cell_type": "markdown",
   "metadata": {},
   "source": [
    "### Task Progress metrics\n",
    "You can quickly see the high level results for all of your tasks at the *projects/default/task_definitions/metrics/* endpoint\n",
    "This is most useful to see how much work in progress you currently have. And how many annotations and classifications were collected"
   ]
  },
  {
   "cell_type": "code",
   "execution_count": 178,
   "metadata": {},
   "outputs": [
    {
     "data": {
      "text/html": [
       "<div>\n",
       "<style>\n",
       "    .dataframe thead tr:only-child th {\n",
       "        text-align: right;\n",
       "    }\n",
       "\n",
       "    .dataframe thead th {\n",
       "        text-align: left;\n",
       "    }\n",
       "\n",
       "    .dataframe tbody tr th {\n",
       "        vertical-align: top;\n",
       "    }\n",
       "</style>\n",
       "<table border=\"1\" class=\"dataframe\">\n",
       "  <thead>\n",
       "    <tr style=\"text-align: right;\">\n",
       "      <th></th>\n",
       "      <th>annotations</th>\n",
       "      <th>complete_tasks</th>\n",
       "      <th>definition</th>\n",
       "      <th>id</th>\n",
       "      <th>partial_tasks</th>\n",
       "      <th>participating_annotators</th>\n",
       "      <th>percent_complete</th>\n",
       "      <th>percent_partial_complete</th>\n",
       "      <th>total_tasks</th>\n",
       "    </tr>\n",
       "  </thead>\n",
       "  <tbody>\n",
       "    <tr>\n",
       "      <th>0</th>\n",
       "      <td>0</td>\n",
       "      <td>50</td>\n",
       "      <td>{'url': 'http://localhost:8000/api/v1/projects...</td>\n",
       "      <td>4bec1ef3-a34d-4ac6-a484-2ee0ec60fc85</td>\n",
       "      <td>50</td>\n",
       "      <td>3</td>\n",
       "      <td>1.0</td>\n",
       "      <td>1.0</td>\n",
       "      <td>50</td>\n",
       "    </tr>\n",
       "    <tr>\n",
       "      <th>1</th>\n",
       "      <td>804</td>\n",
       "      <td>50</td>\n",
       "      <td>{'url': 'http://localhost:8000/api/v1/projects...</td>\n",
       "      <td>9bab798d-c8db-43e8-9d4e-bf893a2f83f0</td>\n",
       "      <td>50</td>\n",
       "      <td>3</td>\n",
       "      <td>1.0</td>\n",
       "      <td>1.0</td>\n",
       "      <td>50</td>\n",
       "    </tr>\n",
       "    <tr>\n",
       "      <th>2</th>\n",
       "      <td>11560</td>\n",
       "      <td>254</td>\n",
       "      <td>{'url': 'http://localhost:8000/api/v1/projects...</td>\n",
       "      <td>ace018ea-e8ee-4e9e-8b2d-1a0418f30878</td>\n",
       "      <td>254</td>\n",
       "      <td>1</td>\n",
       "      <td>1.0</td>\n",
       "      <td>1.0</td>\n",
       "      <td>254</td>\n",
       "    </tr>\n",
       "    <tr>\n",
       "      <th>3</th>\n",
       "      <td>818</td>\n",
       "      <td>50</td>\n",
       "      <td>{'url': 'http://localhost:8000/api/v1/projects...</td>\n",
       "      <td>f5fe2bbb-e41b-4cc5-9cd2-8a28f6b37ab4</td>\n",
       "      <td>50</td>\n",
       "      <td>3</td>\n",
       "      <td>1.0</td>\n",
       "      <td>1.0</td>\n",
       "      <td>50</td>\n",
       "    </tr>\n",
       "    <tr>\n",
       "      <th>4</th>\n",
       "      <td>9341</td>\n",
       "      <td>111</td>\n",
       "      <td>{'url': 'http://localhost:8000/api/v1/projects...</td>\n",
       "      <td>f91a95a4-61e5-40f8-87b4-63103e1f00f0</td>\n",
       "      <td>111</td>\n",
       "      <td>4</td>\n",
       "      <td>1.0</td>\n",
       "      <td>1.0</td>\n",
       "      <td>111</td>\n",
       "    </tr>\n",
       "  </tbody>\n",
       "</table>\n",
       "</div>"
      ],
      "text/plain": [
       "   annotations  complete_tasks  \\\n",
       "0            0              50   \n",
       "1          804              50   \n",
       "2        11560             254   \n",
       "3          818              50   \n",
       "4         9341             111   \n",
       "\n",
       "                                          definition  \\\n",
       "0  {'url': 'http://localhost:8000/api/v1/projects...   \n",
       "1  {'url': 'http://localhost:8000/api/v1/projects...   \n",
       "2  {'url': 'http://localhost:8000/api/v1/projects...   \n",
       "3  {'url': 'http://localhost:8000/api/v1/projects...   \n",
       "4  {'url': 'http://localhost:8000/api/v1/projects...   \n",
       "\n",
       "                                     id  partial_tasks  \\\n",
       "0  4bec1ef3-a34d-4ac6-a484-2ee0ec60fc85             50   \n",
       "1  9bab798d-c8db-43e8-9d4e-bf893a2f83f0             50   \n",
       "2  ace018ea-e8ee-4e9e-8b2d-1a0418f30878            254   \n",
       "3  f5fe2bbb-e41b-4cc5-9cd2-8a28f6b37ab4             50   \n",
       "4  f91a95a4-61e5-40f8-87b4-63103e1f00f0            111   \n",
       "\n",
       "   participating_annotators  percent_complete  percent_partial_complete  \\\n",
       "0                         3               1.0                       1.0   \n",
       "1                         3               1.0                       1.0   \n",
       "2                         1               1.0                       1.0   \n",
       "3                         3               1.0                       1.0   \n",
       "4                         4               1.0                       1.0   \n",
       "\n",
       "   total_tasks  \n",
       "0           50  \n",
       "1           50  \n",
       "2          254  \n",
       "3           50  \n",
       "4          111  "
      ]
     },
     "execution_count": 178,
     "metadata": {},
     "output_type": "execute_result"
    }
   ],
   "source": [
    "data = session.get(API_BASE+'projects/default/task_definitions/metrics/').json()\n",
    "metrics = pd.DataFrame(data)\n",
    "metrics"
   ]
  },
  {
   "cell_type": "markdown",
   "metadata": {},
   "source": [
    "### Annotator metrics\n",
    "It is often useful to see how each of our annotators is performing, both individually and compared to their peers. The *labelers* endpoint of an individual task definition will give us that information.\n",
    "\n"
   ]
  },
  {
   "cell_type": "code",
   "execution_count": 179,
   "metadata": {},
   "outputs": [],
   "source": [
    "test_td = task_definitions[4]['url'] # Get the url for the test set taskdefinition"
   ]
  },
  {
   "cell_type": "code",
   "execution_count": 181,
   "metadata": {},
   "outputs": [
    {
     "data": {
      "text/html": [
       "<div>\n",
       "<style>\n",
       "    .dataframe thead tr:only-child th {\n",
       "        text-align: right;\n",
       "    }\n",
       "\n",
       "    .dataframe thead th {\n",
       "        text-align: left;\n",
       "    }\n",
       "\n",
       "    .dataframe tbody tr th {\n",
       "        vertical-align: top;\n",
       "    }\n",
       "</style>\n",
       "<table border=\"1\" class=\"dataframe\">\n",
       "  <thead>\n",
       "    <tr style=\"text-align: right;\">\n",
       "      <th></th>\n",
       "      <th>annotator_id</th>\n",
       "      <th>full_agreement</th>\n",
       "      <th>full_agreement_from_mean</th>\n",
       "      <th>no_agreement</th>\n",
       "      <th>no_agreement_from_mean</th>\n",
       "      <th>others</th>\n",
       "      <th>some_agreement</th>\n",
       "      <th>some_agreement_from_mean</th>\n",
       "      <th>total_annotations</th>\n",
       "      <th>total_annotations_from_mean</th>\n",
       "    </tr>\n",
       "  </thead>\n",
       "  <tbody>\n",
       "    <tr>\n",
       "      <th>0</th>\n",
       "      <td>1.0</td>\n",
       "      <td>0.000961</td>\n",
       "      <td>0.000005</td>\n",
       "      <td>0.938521</td>\n",
       "      <td>0.000271</td>\n",
       "      <td>[{'agreement_pct': 0.06241872561768531, 'examp...</td>\n",
       "      <td>0.060519</td>\n",
       "      <td>-0.000275</td>\n",
       "      <td>2082.0</td>\n",
       "      <td>0.0</td>\n",
       "    </tr>\n",
       "    <tr>\n",
       "      <th>1</th>\n",
       "      <td>2.0</td>\n",
       "      <td>0.001149</td>\n",
       "      <td>0.000193</td>\n",
       "      <td>0.938338</td>\n",
       "      <td>0.000088</td>\n",
       "      <td>[{'agreement_pct': 0.060453400503778336, 'exam...</td>\n",
       "      <td>0.060513</td>\n",
       "      <td>-0.000281</td>\n",
       "      <td>2611.0</td>\n",
       "      <td>0.0</td>\n",
       "    </tr>\n",
       "    <tr>\n",
       "      <th>2</th>\n",
       "      <td>3.0</td>\n",
       "      <td>0.001281</td>\n",
       "      <td>0.000325</td>\n",
       "      <td>0.933817</td>\n",
       "      <td>-0.004433</td>\n",
       "      <td>[{'agreement_pct': 0.060906515580736544, 'exam...</td>\n",
       "      <td>0.064902</td>\n",
       "      <td>0.004108</td>\n",
       "      <td>2342.0</td>\n",
       "      <td>0.0</td>\n",
       "    </tr>\n",
       "    <tr>\n",
       "      <th>3</th>\n",
       "      <td>4.0</td>\n",
       "      <td>0.000434</td>\n",
       "      <td>-0.000522</td>\n",
       "      <td>0.942324</td>\n",
       "      <td>0.004074</td>\n",
       "      <td>[{'agreement_pct': 0.06018518518518518, 'examp...</td>\n",
       "      <td>0.057242</td>\n",
       "      <td>-0.003552</td>\n",
       "      <td>2306.0</td>\n",
       "      <td>0.0</td>\n",
       "    </tr>\n",
       "  </tbody>\n",
       "</table>\n",
       "</div>"
      ],
      "text/plain": [
       "   annotator_id  full_agreement  full_agreement_from_mean  no_agreement  \\\n",
       "0           1.0        0.000961                  0.000005      0.938521   \n",
       "1           2.0        0.001149                  0.000193      0.938338   \n",
       "2           3.0        0.001281                  0.000325      0.933817   \n",
       "3           4.0        0.000434                 -0.000522      0.942324   \n",
       "\n",
       "   no_agreement_from_mean                                             others  \\\n",
       "0                0.000271  [{'agreement_pct': 0.06241872561768531, 'examp...   \n",
       "1                0.000088  [{'agreement_pct': 0.060453400503778336, 'exam...   \n",
       "2               -0.004433  [{'agreement_pct': 0.060906515580736544, 'exam...   \n",
       "3                0.004074  [{'agreement_pct': 0.06018518518518518, 'examp...   \n",
       "\n",
       "   some_agreement  some_agreement_from_mean  total_annotations  \\\n",
       "0        0.060519                 -0.000275             2082.0   \n",
       "1        0.060513                 -0.000281             2611.0   \n",
       "2        0.064902                  0.004108             2342.0   \n",
       "3        0.057242                 -0.003552             2306.0   \n",
       "\n",
       "   total_annotations_from_mean  \n",
       "0                          0.0  \n",
       "1                          0.0  \n",
       "2                          0.0  \n",
       "3                          0.0  "
      ]
     },
     "execution_count": 181,
     "metadata": {},
     "output_type": "execute_result"
    }
   ],
   "source": [
    "#Or get details for all of our tasks at once\n",
    "data = session.get(test_td+'labelers/').json()\n",
    "pd.DataFrame(data)"
   ]
  },
  {
   "cell_type": "markdown",
   "metadata": {},
   "source": [
    "## Classification Metrics\n",
    "It is often useful to monitor the distribution of class labels as they are coming in, the level of agreement among them and which classes are frequently confused. \n"
   ]
  },
  {
   "cell_type": "markdown",
   "metadata": {},
   "source": [
    "### Fetching the distribution of classes\n",
    "The first metric we're usually interested in is the distribution of classes, simply how frequently does each class appear. Some common patterns to look out for\n",
    "    1. One very prominent class\n",
    "    2. One very infrequent class \n",
    "    3. Prominence of the UNK class if you specified an UNK(Unkown) class and it dominates the distribution, you may have confusing instructions or lazy labelers. Look into it"
   ]
  },
  {
   "cell_type": "code",
   "execution_count": 182,
   "metadata": {},
   "outputs": [
    {
     "data": {
      "text/plain": [
       "'http://localhost:8000/api/v1/projects/default/task_definitions/test-set-tags-and-classes/'"
      ]
     },
     "execution_count": 182,
     "metadata": {},
     "output_type": "execute_result"
    }
   ],
   "source": [
    "test_td"
   ]
  },
  {
   "cell_type": "code",
   "execution_count": 183,
   "metadata": {},
   "outputs": [
    {
     "data": {
      "text/plain": [
       "<matplotlib.axes._subplots.AxesSubplot at 0x7f62745181d0>"
      ]
     },
     "execution_count": 183,
     "metadata": {},
     "output_type": "execute_result"
    },
    {
     "data": {
      "image/png": "[encoded data removed]",
      "text/plain": [
       "<matplotlib.figure.Figure at 0x7f627429dda0>"
      ]
     },
     "metadata": {},
     "output_type": "display_data"
    }
   ],
   "source": [
    "data = session.get(test_td+'classification_count/').json()\n",
    "pd.DataFrame(data).set_index('name').plot.bar(table=True,\n",
    "    title=\"Disribution of classes for task {name}\".format(name=\"test-set-tags-and-classes\"))"
   ]
  },
  {
   "cell_type": "markdown",
   "metadata": {},
   "source": [
    "### Analyzing the agreement of classes\n",
    "When labeling with more than one annotator per example, we should also look at the agreement level. LightTags *classification_agg* endpoint, which sits under a particular task definition, will give you those results. That is, you will see, per class, how many of its instances were agreed upon by 1,2..n labelers who saw that example"
   ]
  },
  {
   "cell_type": "code",
   "execution_count": 184,
   "metadata": {},
   "outputs": [],
   "source": [
    "data = session.get(test_td+'classification_agg/').json() # Get the data\n",
    "class_agg = pd.DataFrame(data)"
   ]
  },
  {
   "cell_type": "markdown",
   "metadata": {},
   "source": [
    "It is often instructive to pivot and plot this metric"
   ]
  },
  {
   "cell_type": "code",
   "execution_count": 185,
   "metadata": {},
   "outputs": [
    {
     "data": {
      "text/html": [
       "<div>\n",
       "<style>\n",
       "    .dataframe thead tr:only-child th {\n",
       "        text-align: right;\n",
       "    }\n",
       "\n",
       "    .dataframe thead th {\n",
       "        text-align: left;\n",
       "    }\n",
       "\n",
       "    .dataframe tbody tr th {\n",
       "        vertical-align: top;\n",
       "    }\n",
       "</style>\n",
       "<table border=\"1\" class=\"dataframe\">\n",
       "  <thead>\n",
       "    <tr style=\"text-align: right;\">\n",
       "      <th>agrees</th>\n",
       "      <th>1</th>\n",
       "      <th>2</th>\n",
       "      <th>3</th>\n",
       "    </tr>\n",
       "    <tr>\n",
       "      <th>name</th>\n",
       "      <th></th>\n",
       "      <th></th>\n",
       "      <th></th>\n",
       "    </tr>\n",
       "  </thead>\n",
       "  <tbody>\n",
       "    <tr>\n",
       "      <th>Confusing</th>\n",
       "      <td>246</td>\n",
       "      <td>48</td>\n",
       "      <td>8</td>\n",
       "    </tr>\n",
       "    <tr>\n",
       "      <th>Insult</th>\n",
       "      <td>274</td>\n",
       "      <td>181</td>\n",
       "      <td>34</td>\n",
       "    </tr>\n",
       "    <tr>\n",
       "      <th>Praise</th>\n",
       "      <td>282</td>\n",
       "      <td>105</td>\n",
       "      <td>17</td>\n",
       "    </tr>\n",
       "    <tr>\n",
       "      <th>UNK</th>\n",
       "      <td>144</td>\n",
       "      <td>9</td>\n",
       "      <td>2</td>\n",
       "    </tr>\n",
       "  </tbody>\n",
       "</table>\n",
       "</div>"
      ],
      "text/plain": [
       "agrees       1    2   3\n",
       "name                   \n",
       "Confusing  246   48   8\n",
       "Insult     274  181  34\n",
       "Praise     282  105  17\n",
       "UNK        144    9   2"
      ]
     },
     "execution_count": 185,
     "metadata": {},
     "output_type": "execute_result"
    }
   ],
   "source": [
    "class_agg_p = class_agg.pivot_table(index='name',columns='agrees',values='count')\n",
    "class_agg_p"
   ]
  },
  {
   "cell_type": "code",
   "execution_count": 186,
   "metadata": {},
   "outputs": [
    {
     "data": {
      "text/plain": [
       "<matplotlib.axes._subplots.AxesSubplot at 0x7f62716e2e48>"
      ]
     },
     "execution_count": 186,
     "metadata": {},
     "output_type": "execute_result"
    },
    {
     "data": {
      "image/png": "[encoded data removed]",
      "text/plain": [
       "<matplotlib.figure.Figure at 0x7f62716e7400>"
      ]
     },
     "metadata": {},
     "output_type": "display_data"
    }
   ],
   "source": [
    "class_agg_p.plot.bar(\n",
    "    stacked=True,\n",
    "    title=\"Agreement breakdown of classifications for task {name}\".format(name=\"test-set-tags-and-classes\")\n",
    ")"
   ]
  },
  {
   "cell_type": "markdown",
   "metadata": {},
   "source": [
    "And transposing the pivot table can also be indicative, in this example it makes clear that only the Insult class gets significnt \"full agreement\""
   ]
  },
  {
   "cell_type": "code",
   "execution_count": 187,
   "metadata": {},
   "outputs": [
    {
     "data": {
      "text/plain": [
       "<matplotlib.axes._subplots.AxesSubplot at 0x7f62715f2588>"
      ]
     },
     "execution_count": 187,
     "metadata": {},
     "output_type": "execute_result"
    },
    {
     "data": {
      "image/png": "[encoded data removed]",
      "text/plain": [
       "<matplotlib.figure.Figure at 0x7f6271637940>"
      ]
     },
     "metadata": {},
     "output_type": "display_data"
    }
   ],
   "source": [
    "class_agg_p.T.plot.bar(\n",
    "    stacked=True,\n",
    "    title=\"Agreement breakdown of classifications for task {name}\".format(name=\"test-set-tags-and-classes\")\n",
    ")"
   ]
  },
  {
   "cell_type": "markdown",
   "metadata": {},
   "source": [
    "### Classsiffication Confusion Matrix\n",
    "As we see above, often times our labelers do not agree. In the example above (on synthetic data) we see that most of the time our labelers do not agree at all, regardless of the class. In these instances, it is often convenient to construct a confusion matrix and see which classes our labelers confusing the most. In turn, this lets us update our instructions or Schema to ensure quality data\n",
    "LightTag provides a confusion matrix for classifications under the **classification_confusion** endpoint of a taskdefinition"
   ]
  },
  {
   "cell_type": "code",
   "execution_count": 188,
   "metadata": {},
   "outputs": [
    {
     "data": {
      "text/html": [
       "<div>\n",
       "<style>\n",
       "    .dataframe thead tr:only-child th {\n",
       "        text-align: right;\n",
       "    }\n",
       "\n",
       "    .dataframe thead th {\n",
       "        text-align: left;\n",
       "    }\n",
       "\n",
       "    .dataframe tbody tr th {\n",
       "        vertical-align: top;\n",
       "    }\n",
       "</style>\n",
       "<table border=\"1\" class=\"dataframe\">\n",
       "  <thead>\n",
       "    <tr style=\"text-align: right;\">\n",
       "      <th></th>\n",
       "      <th>class_a</th>\n",
       "      <th>class_b</th>\n",
       "      <th>count</th>\n",
       "    </tr>\n",
       "  </thead>\n",
       "  <tbody>\n",
       "    <tr>\n",
       "      <th>0</th>\n",
       "      <td>Confusing</td>\n",
       "      <td>Confusing</td>\n",
       "      <td>72</td>\n",
       "    </tr>\n",
       "    <tr>\n",
       "      <th>1</th>\n",
       "      <td>Confusing</td>\n",
       "      <td>Insult</td>\n",
       "      <td>175</td>\n",
       "    </tr>\n",
       "    <tr>\n",
       "      <th>2</th>\n",
       "      <td>Confusing</td>\n",
       "      <td>Praise</td>\n",
       "      <td>105</td>\n",
       "    </tr>\n",
       "    <tr>\n",
       "      <th>3</th>\n",
       "      <td>Confusing</td>\n",
       "      <td>UNK</td>\n",
       "      <td>31</td>\n",
       "    </tr>\n",
       "    <tr>\n",
       "      <th>4</th>\n",
       "      <td>Insult</td>\n",
       "      <td>Confusing</td>\n",
       "      <td>130</td>\n",
       "    </tr>\n",
       "    <tr>\n",
       "      <th>5</th>\n",
       "      <td>Insult</td>\n",
       "      <td>Insult</td>\n",
       "      <td>283</td>\n",
       "    </tr>\n",
       "    <tr>\n",
       "      <th>6</th>\n",
       "      <td>Insult</td>\n",
       "      <td>Praise</td>\n",
       "      <td>208</td>\n",
       "    </tr>\n",
       "    <tr>\n",
       "      <th>7</th>\n",
       "      <td>Insult</td>\n",
       "      <td>UNK</td>\n",
       "      <td>76</td>\n",
       "    </tr>\n",
       "    <tr>\n",
       "      <th>8</th>\n",
       "      <td>Praise</td>\n",
       "      <td>Confusing</td>\n",
       "      <td>117</td>\n",
       "    </tr>\n",
       "    <tr>\n",
       "      <th>9</th>\n",
       "      <td>Praise</td>\n",
       "      <td>Insult</td>\n",
       "      <td>248</td>\n",
       "    </tr>\n",
       "    <tr>\n",
       "      <th>10</th>\n",
       "      <td>Praise</td>\n",
       "      <td>Praise</td>\n",
       "      <td>156</td>\n",
       "    </tr>\n",
       "    <tr>\n",
       "      <th>11</th>\n",
       "      <td>Praise</td>\n",
       "      <td>UNK</td>\n",
       "      <td>49</td>\n",
       "    </tr>\n",
       "    <tr>\n",
       "      <th>12</th>\n",
       "      <td>UNK</td>\n",
       "      <td>Confusing</td>\n",
       "      <td>30</td>\n",
       "    </tr>\n",
       "    <tr>\n",
       "      <th>13</th>\n",
       "      <td>UNK</td>\n",
       "      <td>Insult</td>\n",
       "      <td>73</td>\n",
       "    </tr>\n",
       "    <tr>\n",
       "      <th>14</th>\n",
       "      <td>UNK</td>\n",
       "      <td>Praise</td>\n",
       "      <td>47</td>\n",
       "    </tr>\n",
       "    <tr>\n",
       "      <th>15</th>\n",
       "      <td>UNK</td>\n",
       "      <td>UNK</td>\n",
       "      <td>15</td>\n",
       "    </tr>\n",
       "  </tbody>\n",
       "</table>\n",
       "</div>"
      ],
      "text/plain": [
       "      class_a    class_b  count\n",
       "0   Confusing  Confusing     72\n",
       "1   Confusing     Insult    175\n",
       "2   Confusing     Praise    105\n",
       "3   Confusing        UNK     31\n",
       "4      Insult  Confusing    130\n",
       "5      Insult     Insult    283\n",
       "6      Insult     Praise    208\n",
       "7      Insult        UNK     76\n",
       "8      Praise  Confusing    117\n",
       "9      Praise     Insult    248\n",
       "10     Praise     Praise    156\n",
       "11     Praise        UNK     49\n",
       "12        UNK  Confusing     30\n",
       "13        UNK     Insult     73\n",
       "14        UNK     Praise     47\n",
       "15        UNK        UNK     15"
      ]
     },
     "execution_count": 188,
     "metadata": {},
     "output_type": "execute_result"
    }
   ],
   "source": [
    "data = session.get(test_td+'classification_confusion/').json() #Fetch the confusion matrix\n",
    "class_confusion = pd.DataFrame(data)\n",
    "class_confusion"
   ]
  },
  {
   "cell_type": "markdown",
   "metadata": {},
   "source": [
    "Again, it is often convenient to pivot the data"
   ]
  },
  {
   "cell_type": "code",
   "execution_count": 189,
   "metadata": {},
   "outputs": [
    {
     "data": {
      "text/html": [
       "<div>\n",
       "<style>\n",
       "    .dataframe thead tr:only-child th {\n",
       "        text-align: right;\n",
       "    }\n",
       "\n",
       "    .dataframe thead th {\n",
       "        text-align: left;\n",
       "    }\n",
       "\n",
       "    .dataframe tbody tr th {\n",
       "        vertical-align: top;\n",
       "    }\n",
       "</style>\n",
       "<table border=\"1\" class=\"dataframe\">\n",
       "  <thead>\n",
       "    <tr style=\"text-align: right;\">\n",
       "      <th>class_b</th>\n",
       "      <th>Confusing</th>\n",
       "      <th>Insult</th>\n",
       "      <th>Praise</th>\n",
       "      <th>UNK</th>\n",
       "    </tr>\n",
       "    <tr>\n",
       "      <th>class_a</th>\n",
       "      <th></th>\n",
       "      <th></th>\n",
       "      <th></th>\n",
       "      <th></th>\n",
       "    </tr>\n",
       "  </thead>\n",
       "  <tbody>\n",
       "    <tr>\n",
       "      <th>Confusing</th>\n",
       "      <td>72</td>\n",
       "      <td>175</td>\n",
       "      <td>105</td>\n",
       "      <td>31</td>\n",
       "    </tr>\n",
       "    <tr>\n",
       "      <th>Insult</th>\n",
       "      <td>130</td>\n",
       "      <td>283</td>\n",
       "      <td>208</td>\n",
       "      <td>76</td>\n",
       "    </tr>\n",
       "    <tr>\n",
       "      <th>Praise</th>\n",
       "      <td>117</td>\n",
       "      <td>248</td>\n",
       "      <td>156</td>\n",
       "      <td>49</td>\n",
       "    </tr>\n",
       "    <tr>\n",
       "      <th>UNK</th>\n",
       "      <td>30</td>\n",
       "      <td>73</td>\n",
       "      <td>47</td>\n",
       "      <td>15</td>\n",
       "    </tr>\n",
       "  </tbody>\n",
       "</table>\n",
       "</div>"
      ],
      "text/plain": [
       "class_b    Confusing  Insult  Praise  UNK\n",
       "class_a                                  \n",
       "Confusing         72     175     105   31\n",
       "Insult           130     283     208   76\n",
       "Praise           117     248     156   49\n",
       "UNK               30      73      47   15"
      ]
     },
     "execution_count": 189,
     "metadata": {},
     "output_type": "execute_result"
    }
   ],
   "source": [
    "class_confusion_p= (class_confusion.pivot_table(index='class_a',columns='class_b',values='count'))\n",
    "class_confusion_p\n"
   ]
  },
  {
   "cell_type": "markdown",
   "metadata": {},
   "source": [
    "And visualize it as a heatmap\n"
   ]
  },
  {
   "cell_type": "code",
   "execution_count": 190,
   "metadata": {},
   "outputs": [
    {
     "data": {
      "text/html": [
       "<div>\n",
       "<style>\n",
       "    .dataframe thead tr:only-child th {\n",
       "        text-align: right;\n",
       "    }\n",
       "\n",
       "    .dataframe thead th {\n",
       "        text-align: left;\n",
       "    }\n",
       "\n",
       "    .dataframe tbody tr th {\n",
       "        vertical-align: top;\n",
       "    }\n",
       "</style>\n",
       "<table border=\"1\" class=\"dataframe\">\n",
       "  <thead>\n",
       "    <tr style=\"text-align: right;\">\n",
       "      <th>class_b</th>\n",
       "      <th>Confusing</th>\n",
       "      <th>Insult</th>\n",
       "      <th>Praise</th>\n",
       "      <th>UNK</th>\n",
       "    </tr>\n",
       "    <tr>\n",
       "      <th>class_a</th>\n",
       "      <th></th>\n",
       "      <th></th>\n",
       "      <th></th>\n",
       "      <th></th>\n",
       "    </tr>\n",
       "  </thead>\n",
       "  <tbody>\n",
       "    <tr>\n",
       "      <th>Confusing</th>\n",
       "      <td>0.187990</td>\n",
       "      <td>0.644909</td>\n",
       "      <td>0.919060</td>\n",
       "      <td>1.0</td>\n",
       "    </tr>\n",
       "    <tr>\n",
       "      <th>Insult</th>\n",
       "      <td>0.186514</td>\n",
       "      <td>0.592539</td>\n",
       "      <td>0.890961</td>\n",
       "      <td>1.0</td>\n",
       "    </tr>\n",
       "    <tr>\n",
       "      <th>Praise</th>\n",
       "      <td>0.205263</td>\n",
       "      <td>0.640351</td>\n",
       "      <td>0.914035</td>\n",
       "      <td>1.0</td>\n",
       "    </tr>\n",
       "    <tr>\n",
       "      <th>UNK</th>\n",
       "      <td>0.181818</td>\n",
       "      <td>0.624242</td>\n",
       "      <td>0.909091</td>\n",
       "      <td>1.0</td>\n",
       "    </tr>\n",
       "  </tbody>\n",
       "</table>\n",
       "</div>"
      ],
      "text/plain": [
       "class_b    Confusing    Insult    Praise  UNK\n",
       "class_a                                      \n",
       "Confusing   0.187990  0.644909  0.919060  1.0\n",
       "Insult      0.186514  0.592539  0.890961  1.0\n",
       "Praise      0.205263  0.640351  0.914035  1.0\n",
       "UNK         0.181818  0.624242  0.909091  1.0"
      ]
     },
     "execution_count": 190,
     "metadata": {},
     "output_type": "execute_result"
    }
   ],
   "source": [
    "class_confusion_p.div(class_confusion_p.sum(1),axis=0).cumsum(1)"
   ]
  },
  {
   "cell_type": "markdown",
   "metadata": {},
   "source": [
    "## Tag Metrics\n",
    "The metrics we are interested in with tags are similar to classifications with some subtle differences. In LightTag, a single example has only one classification but can have many tags. Additionaly, a tag has a location as well as a type. For example in \"President Donald Trump\" Donald Trump has type \"Person\", starts at 11 and ends at 23.\n",
    "Thus when we calculate agreement things get a little more subtle"
   ]
  },
  {
   "cell_type": "markdown",
   "metadata": {},
   "source": [
    "### Fetching counts and agreements for tags\n",
    "Exactly as we did for classsifications, we can fetch the distribution of each tag from a taskdefinitions **tag_count** endpoint"
   ]
  },
  {
   "cell_type": "code",
   "execution_count": 191,
   "metadata": {},
   "outputs": [
    {
     "data": {
      "text/plain": [
       "<matplotlib.axes._subplots.AxesSubplot at 0x7f6271560128>"
      ]
     },
     "execution_count": 191,
     "metadata": {},
     "output_type": "execute_result"
    },
    {
     "data": {
      "image/png": "[encoded data removed]",
      "text/plain": [
       "<matplotlib.figure.Figure at 0x7f627150c7b8>"
      ]
     },
     "metadata": {},
     "output_type": "display_data"
    }
   ],
   "source": [
    "data = session.get(test_td+'tag_count/').json()\n",
    "pd.DataFrame(data).set_index('name').plot.bar(\n",
    "    title=\"Disribution of tags for task {name}\".format(name=\"test-set-tags-and-classes\"))"
   ]
  },
  {
   "cell_type": "markdown",
   "metadata": {},
   "source": [
    "Similarly we can fetch the agreements from the **tag_agg** endpoint"
   ]
  },
  {
   "cell_type": "code",
   "execution_count": 192,
   "metadata": {},
   "outputs": [
    {
     "data": {
      "text/plain": [
       "<matplotlib.axes._subplots.AxesSubplot at 0x7f62714f7198>"
      ]
     },
     "execution_count": 192,
     "metadata": {},
     "output_type": "execute_result"
    },
    {
     "data": {
      "image/png": "[encoded data removed]",
      "text/plain": [
       "<matplotlib.figure.Figure at 0x7f6271513390>"
      ]
     },
     "metadata": {},
     "output_type": "display_data"
    }
   ],
   "source": [
    "data = session.get(test_td+'tag_agg/').json()\n",
    "pd.DataFrame(data).pivot_table(index='name',columns='agrees',values='count').plot.bar(\n",
    "    stacked=True,\n",
    "    \n",
    "    title=\"Agreement breakdown of tags for task {name}\".format(name=\"test-set-tags-and-classes\")\n",
    ")"
   ]
  },
  {
   "cell_type": "markdown",
   "metadata": {},
   "source": [
    "## Tag level error analysis and confusion matrix\n",
    "Similar to classifications, we'd like to understand why are labelers are disagreeing. As mentioned before, tags have a location in the example which means their are a number of possible ways to disagree. The endpoint **tag_confusion** on a task definition will return the error type; it's possible values are\n",
    "### Types of tag errors\n",
    "1. **agree** The location and type of the annotation were equal (this is ideal)\n",
    "2. **singular** Annotator A annotated but annotator B did not\n",
    "3. **tag_mismatch** Annotator A and B agreed on the location of an annotation but not it's tag. For example, \"White House\" might have been labeled by A as location and B as Organization\n",
    "4. **span_mismatch** Annotator A and B made an overlapping annotation with the same type, but the they were not equal. For example, \"President Donald Trump\", A and B will both label \"Person\" but A selected \"President Donald Trump\" and B ommited President, labeling only \"Donald Trump\"\n",
    "5. **tag_span_mismatch** A and B made an overlapping annotation, but the location was not equal and the tag was different. For example, \"The White House\", A labeled the entire phrase as Location while B labeled just \"White House\" as an organisation"
   ]
  },
  {
   "cell_type": "code",
   "execution_count": 193,
   "metadata": {},
   "outputs": [
    {
     "data": {
      "text/html": [
       "<div>\n",
       "<style>\n",
       "    .dataframe thead tr:only-child th {\n",
       "        text-align: right;\n",
       "    }\n",
       "\n",
       "    .dataframe thead th {\n",
       "        text-align: left;\n",
       "    }\n",
       "\n",
       "    .dataframe tbody tr th {\n",
       "        vertical-align: top;\n",
       "    }\n",
       "</style>\n",
       "<table border=\"1\" class=\"dataframe\">\n",
       "  <thead>\n",
       "    <tr style=\"text-align: right;\">\n",
       "      <th></th>\n",
       "      <th>count</th>\n",
       "      <th>error</th>\n",
       "      <th>tag_a</th>\n",
       "      <th>tag_b</th>\n",
       "    </tr>\n",
       "  </thead>\n",
       "  <tbody>\n",
       "    <tr>\n",
       "      <th>0</th>\n",
       "      <td>31</td>\n",
       "      <td>agree</td>\n",
       "      <td>Insult</td>\n",
       "      <td>Insult</td>\n",
       "    </tr>\n",
       "    <tr>\n",
       "      <th>1</th>\n",
       "      <td>46</td>\n",
       "      <td>agree</td>\n",
       "      <td>Issue</td>\n",
       "      <td>Issue</td>\n",
       "    </tr>\n",
       "    <tr>\n",
       "      <th>2</th>\n",
       "      <td>11</td>\n",
       "      <td>agree</td>\n",
       "      <td>Media organization</td>\n",
       "      <td>Media organization</td>\n",
       "    </tr>\n",
       "    <tr>\n",
       "      <th>3</th>\n",
       "      <td>118</td>\n",
       "      <td>agree</td>\n",
       "      <td>Person</td>\n",
       "      <td>Person</td>\n",
       "    </tr>\n",
       "    <tr>\n",
       "      <th>4</th>\n",
       "      <td>84</td>\n",
       "      <td>agree</td>\n",
       "      <td>Place</td>\n",
       "      <td>Place</td>\n",
       "    </tr>\n",
       "    <tr>\n",
       "      <th>5</th>\n",
       "      <td>3</td>\n",
       "      <td>agree</td>\n",
       "      <td>Politcal Group</td>\n",
       "      <td>Politcal Group</td>\n",
       "    </tr>\n",
       "    <tr>\n",
       "      <th>6</th>\n",
       "      <td>880</td>\n",
       "      <td>singular</td>\n",
       "      <td>Insult</td>\n",
       "      <td></td>\n",
       "    </tr>\n",
       "    <tr>\n",
       "      <th>7</th>\n",
       "      <td>1228</td>\n",
       "      <td>singular</td>\n",
       "      <td>Issue</td>\n",
       "      <td></td>\n",
       "    </tr>\n",
       "    <tr>\n",
       "      <th>8</th>\n",
       "      <td>615</td>\n",
       "      <td>singular</td>\n",
       "      <td>Media organization</td>\n",
       "      <td></td>\n",
       "    </tr>\n",
       "    <tr>\n",
       "      <th>9</th>\n",
       "      <td>1707</td>\n",
       "      <td>singular</td>\n",
       "      <td>Person</td>\n",
       "      <td></td>\n",
       "    </tr>\n",
       "  </tbody>\n",
       "</table>\n",
       "</div>"
      ],
      "text/plain": [
       "   count     error               tag_a               tag_b\n",
       "0     31     agree              Insult              Insult\n",
       "1     46     agree               Issue               Issue\n",
       "2     11     agree  Media organization  Media organization\n",
       "3    118     agree              Person              Person\n",
       "4     84     agree               Place               Place\n",
       "5      3     agree      Politcal Group      Politcal Group\n",
       "6    880  singular              Insult                    \n",
       "7   1228  singular               Issue                    \n",
       "8    615  singular  Media organization                    \n",
       "9   1707  singular              Person                    "
      ]
     },
     "execution_count": 193,
     "metadata": {},
     "output_type": "execute_result"
    }
   ],
   "source": [
    "import seaborn as sns\n",
    "data = session.get(test_td+'tag_confusion/').json() # Fetch the tag level \n",
    "D = pd.DataFrame(data).fillna('')  #Fill null entriess with a blank string\n",
    "D.head(10)\n"
   ]
  },
  {
   "cell_type": "markdown",
   "metadata": {},
   "source": [
    "As always, it is convenient to pivot the data, this time using a multi index"
   ]
  },
  {
   "cell_type": "code",
   "execution_count": 194,
   "metadata": {},
   "outputs": [
    {
     "data": {
      "text/html": [
       "<div>\n",
       "<style>\n",
       "    .dataframe thead tr:only-child th {\n",
       "        text-align: right;\n",
       "    }\n",
       "\n",
       "    .dataframe thead th {\n",
       "        text-align: left;\n",
       "    }\n",
       "\n",
       "    .dataframe tbody tr th {\n",
       "        vertical-align: top;\n",
       "    }\n",
       "</style>\n",
       "<table border=\"1\" class=\"dataframe\">\n",
       "  <thead>\n",
       "    <tr style=\"text-align: right;\">\n",
       "      <th></th>\n",
       "      <th>error</th>\n",
       "      <th>agree</th>\n",
       "      <th>singular</th>\n",
       "      <th>span_mismatch</th>\n",
       "      <th>span_tag_mismatch</th>\n",
       "      <th>tag_mismatch</th>\n",
       "    </tr>\n",
       "    <tr>\n",
       "      <th>tag_a</th>\n",
       "      <th>tag_b</th>\n",
       "      <th></th>\n",
       "      <th></th>\n",
       "      <th></th>\n",
       "      <th></th>\n",
       "      <th></th>\n",
       "    </tr>\n",
       "  </thead>\n",
       "  <tbody>\n",
       "    <tr>\n",
       "      <th rowspan=\"7\" valign=\"top\">Insult</th>\n",
       "      <th></th>\n",
       "      <td>0.0</td>\n",
       "      <td>880.0</td>\n",
       "      <td>0.0</td>\n",
       "      <td>0.0</td>\n",
       "      <td>0.0</td>\n",
       "    </tr>\n",
       "    <tr>\n",
       "      <th>Insult</th>\n",
       "      <td>31.0</td>\n",
       "      <td>0.0</td>\n",
       "      <td>49.0</td>\n",
       "      <td>0.0</td>\n",
       "      <td>0.0</td>\n",
       "    </tr>\n",
       "    <tr>\n",
       "      <th>Issue</th>\n",
       "      <td>0.0</td>\n",
       "      <td>0.0</td>\n",
       "      <td>0.0</td>\n",
       "      <td>64.0</td>\n",
       "      <td>41.0</td>\n",
       "    </tr>\n",
       "    <tr>\n",
       "      <th>Media organization</th>\n",
       "      <td>0.0</td>\n",
       "      <td>0.0</td>\n",
       "      <td>0.0</td>\n",
       "      <td>31.0</td>\n",
       "      <td>14.0</td>\n",
       "    </tr>\n",
       "    <tr>\n",
       "      <th>Person</th>\n",
       "      <td>0.0</td>\n",
       "      <td>0.0</td>\n",
       "      <td>0.0</td>\n",
       "      <td>112.0</td>\n",
       "      <td>47.0</td>\n",
       "    </tr>\n",
       "    <tr>\n",
       "      <th>Place</th>\n",
       "      <td>0.0</td>\n",
       "      <td>0.0</td>\n",
       "      <td>0.0</td>\n",
       "      <td>88.0</td>\n",
       "      <td>44.0</td>\n",
       "    </tr>\n",
       "    <tr>\n",
       "      <th>Politcal Group</th>\n",
       "      <td>0.0</td>\n",
       "      <td>0.0</td>\n",
       "      <td>0.0</td>\n",
       "      <td>22.0</td>\n",
       "      <td>13.0</td>\n",
       "    </tr>\n",
       "    <tr>\n",
       "      <th rowspan=\"7\" valign=\"top\">Issue</th>\n",
       "      <th></th>\n",
       "      <td>0.0</td>\n",
       "      <td>1228.0</td>\n",
       "      <td>0.0</td>\n",
       "      <td>0.0</td>\n",
       "      <td>0.0</td>\n",
       "    </tr>\n",
       "    <tr>\n",
       "      <th>Insult</th>\n",
       "      <td>0.0</td>\n",
       "      <td>0.0</td>\n",
       "      <td>0.0</td>\n",
       "      <td>53.0</td>\n",
       "      <td>41.0</td>\n",
       "    </tr>\n",
       "    <tr>\n",
       "      <th>Issue</th>\n",
       "      <td>46.0</td>\n",
       "      <td>0.0</td>\n",
       "      <td>98.0</td>\n",
       "      <td>0.0</td>\n",
       "      <td>0.0</td>\n",
       "    </tr>\n",
       "    <tr>\n",
       "      <th>Media organization</th>\n",
       "      <td>0.0</td>\n",
       "      <td>0.0</td>\n",
       "      <td>0.0</td>\n",
       "      <td>44.0</td>\n",
       "      <td>33.0</td>\n",
       "    </tr>\n",
       "    <tr>\n",
       "      <th>Person</th>\n",
       "      <td>0.0</td>\n",
       "      <td>0.0</td>\n",
       "      <td>0.0</td>\n",
       "      <td>110.0</td>\n",
       "      <td>71.0</td>\n",
       "    </tr>\n",
       "    <tr>\n",
       "      <th>Place</th>\n",
       "      <td>0.0</td>\n",
       "      <td>0.0</td>\n",
       "      <td>0.0</td>\n",
       "      <td>129.0</td>\n",
       "      <td>54.0</td>\n",
       "    </tr>\n",
       "    <tr>\n",
       "      <th>Politcal Group</th>\n",
       "      <td>0.0</td>\n",
       "      <td>0.0</td>\n",
       "      <td>0.0</td>\n",
       "      <td>23.0</td>\n",
       "      <td>15.0</td>\n",
       "    </tr>\n",
       "    <tr>\n",
       "      <th rowspan=\"7\" valign=\"top\">Media organization</th>\n",
       "      <th></th>\n",
       "      <td>0.0</td>\n",
       "      <td>615.0</td>\n",
       "      <td>0.0</td>\n",
       "      <td>0.0</td>\n",
       "      <td>0.0</td>\n",
       "    </tr>\n",
       "    <tr>\n",
       "      <th>Insult</th>\n",
       "      <td>0.0</td>\n",
       "      <td>0.0</td>\n",
       "      <td>0.0</td>\n",
       "      <td>18.0</td>\n",
       "      <td>23.0</td>\n",
       "    </tr>\n",
       "    <tr>\n",
       "      <th>Issue</th>\n",
       "      <td>0.0</td>\n",
       "      <td>0.0</td>\n",
       "      <td>0.0</td>\n",
       "      <td>38.0</td>\n",
       "      <td>24.0</td>\n",
       "    </tr>\n",
       "    <tr>\n",
       "      <th>Media organization</th>\n",
       "      <td>11.0</td>\n",
       "      <td>0.0</td>\n",
       "      <td>31.0</td>\n",
       "      <td>0.0</td>\n",
       "      <td>0.0</td>\n",
       "    </tr>\n",
       "    <tr>\n",
       "      <th>Person</th>\n",
       "      <td>0.0</td>\n",
       "      <td>0.0</td>\n",
       "      <td>0.0</td>\n",
       "      <td>50.0</td>\n",
       "      <td>42.0</td>\n",
       "    </tr>\n",
       "    <tr>\n",
       "      <th>Place</th>\n",
       "      <td>0.0</td>\n",
       "      <td>0.0</td>\n",
       "      <td>0.0</td>\n",
       "      <td>51.0</td>\n",
       "      <td>29.0</td>\n",
       "    </tr>\n",
       "    <tr>\n",
       "      <th>Politcal Group</th>\n",
       "      <td>0.0</td>\n",
       "      <td>0.0</td>\n",
       "      <td>0.0</td>\n",
       "      <td>4.0</td>\n",
       "      <td>7.0</td>\n",
       "    </tr>\n",
       "    <tr>\n",
       "      <th rowspan=\"7\" valign=\"top\">Person</th>\n",
       "      <th></th>\n",
       "      <td>0.0</td>\n",
       "      <td>1707.0</td>\n",
       "      <td>0.0</td>\n",
       "      <td>0.0</td>\n",
       "      <td>0.0</td>\n",
       "    </tr>\n",
       "    <tr>\n",
       "      <th>Insult</th>\n",
       "      <td>0.0</td>\n",
       "      <td>0.0</td>\n",
       "      <td>0.0</td>\n",
       "      <td>99.0</td>\n",
       "      <td>45.0</td>\n",
       "    </tr>\n",
       "    <tr>\n",
       "      <th>Issue</th>\n",
       "      <td>0.0</td>\n",
       "      <td>0.0</td>\n",
       "      <td>0.0</td>\n",
       "      <td>150.0</td>\n",
       "      <td>77.0</td>\n",
       "    </tr>\n",
       "    <tr>\n",
       "      <th>Media organization</th>\n",
       "      <td>0.0</td>\n",
       "      <td>0.0</td>\n",
       "      <td>0.0</td>\n",
       "      <td>74.0</td>\n",
       "      <td>26.0</td>\n",
       "    </tr>\n",
       "    <tr>\n",
       "      <th>Person</th>\n",
       "      <td>118.0</td>\n",
       "      <td>0.0</td>\n",
       "      <td>198.0</td>\n",
       "      <td>0.0</td>\n",
       "      <td>0.0</td>\n",
       "    </tr>\n",
       "    <tr>\n",
       "      <th>Place</th>\n",
       "      <td>0.0</td>\n",
       "      <td>0.0</td>\n",
       "      <td>0.0</td>\n",
       "      <td>174.0</td>\n",
       "      <td>86.0</td>\n",
       "    </tr>\n",
       "    <tr>\n",
       "      <th>Politcal Group</th>\n",
       "      <td>0.0</td>\n",
       "      <td>0.0</td>\n",
       "      <td>0.0</td>\n",
       "      <td>34.0</td>\n",
       "      <td>21.0</td>\n",
       "    </tr>\n",
       "    <tr>\n",
       "      <th rowspan=\"7\" valign=\"top\">Place</th>\n",
       "      <th></th>\n",
       "      <td>0.0</td>\n",
       "      <td>1509.0</td>\n",
       "      <td>0.0</td>\n",
       "      <td>0.0</td>\n",
       "      <td>0.0</td>\n",
       "    </tr>\n",
       "    <tr>\n",
       "      <th>Insult</th>\n",
       "      <td>0.0</td>\n",
       "      <td>0.0</td>\n",
       "      <td>0.0</td>\n",
       "      <td>77.0</td>\n",
       "      <td>45.0</td>\n",
       "    </tr>\n",
       "    <tr>\n",
       "      <th>Issue</th>\n",
       "      <td>0.0</td>\n",
       "      <td>0.0</td>\n",
       "      <td>0.0</td>\n",
       "      <td>116.0</td>\n",
       "      <td>60.0</td>\n",
       "    </tr>\n",
       "    <tr>\n",
       "      <th>Media organization</th>\n",
       "      <td>0.0</td>\n",
       "      <td>0.0</td>\n",
       "      <td>0.0</td>\n",
       "      <td>63.0</td>\n",
       "      <td>38.0</td>\n",
       "    </tr>\n",
       "    <tr>\n",
       "      <th>Person</th>\n",
       "      <td>0.0</td>\n",
       "      <td>0.0</td>\n",
       "      <td>0.0</td>\n",
       "      <td>179.0</td>\n",
       "      <td>95.0</td>\n",
       "    </tr>\n",
       "    <tr>\n",
       "      <th>Place</th>\n",
       "      <td>84.0</td>\n",
       "      <td>0.0</td>\n",
       "      <td>150.0</td>\n",
       "      <td>0.0</td>\n",
       "      <td>0.0</td>\n",
       "    </tr>\n",
       "    <tr>\n",
       "      <th>Politcal Group</th>\n",
       "      <td>0.0</td>\n",
       "      <td>0.0</td>\n",
       "      <td>0.0</td>\n",
       "      <td>27.0</td>\n",
       "      <td>16.0</td>\n",
       "    </tr>\n",
       "    <tr>\n",
       "      <th rowspan=\"7\" valign=\"top\">Politcal Group</th>\n",
       "      <th></th>\n",
       "      <td>0.0</td>\n",
       "      <td>253.0</td>\n",
       "      <td>0.0</td>\n",
       "      <td>0.0</td>\n",
       "      <td>0.0</td>\n",
       "    </tr>\n",
       "    <tr>\n",
       "      <th>Insult</th>\n",
       "      <td>0.0</td>\n",
       "      <td>0.0</td>\n",
       "      <td>0.0</td>\n",
       "      <td>20.0</td>\n",
       "      <td>10.0</td>\n",
       "    </tr>\n",
       "    <tr>\n",
       "      <th>Issue</th>\n",
       "      <td>0.0</td>\n",
       "      <td>0.0</td>\n",
       "      <td>0.0</td>\n",
       "      <td>25.0</td>\n",
       "      <td>16.0</td>\n",
       "    </tr>\n",
       "    <tr>\n",
       "      <th>Media organization</th>\n",
       "      <td>0.0</td>\n",
       "      <td>0.0</td>\n",
       "      <td>0.0</td>\n",
       "      <td>11.0</td>\n",
       "      <td>7.0</td>\n",
       "    </tr>\n",
       "    <tr>\n",
       "      <th>Person</th>\n",
       "      <td>0.0</td>\n",
       "      <td>0.0</td>\n",
       "      <td>0.0</td>\n",
       "      <td>35.0</td>\n",
       "      <td>24.0</td>\n",
       "    </tr>\n",
       "    <tr>\n",
       "      <th>Place</th>\n",
       "      <td>0.0</td>\n",
       "      <td>0.0</td>\n",
       "      <td>0.0</td>\n",
       "      <td>32.0</td>\n",
       "      <td>18.0</td>\n",
       "    </tr>\n",
       "    <tr>\n",
       "      <th>Politcal Group</th>\n",
       "      <td>3.0</td>\n",
       "      <td>0.0</td>\n",
       "      <td>4.0</td>\n",
       "      <td>0.0</td>\n",
       "      <td>0.0</td>\n",
       "    </tr>\n",
       "  </tbody>\n",
       "</table>\n",
       "</div>"
      ],
      "text/plain": [
       "error                                  agree  singular  span_mismatch  \\\n",
       "tag_a              tag_b                                                \n",
       "Insult                                   0.0     880.0            0.0   \n",
       "                   Insult               31.0       0.0           49.0   \n",
       "                   Issue                 0.0       0.0            0.0   \n",
       "                   Media organization    0.0       0.0            0.0   \n",
       "                   Person                0.0       0.0            0.0   \n",
       "                   Place                 0.0       0.0            0.0   \n",
       "                   Politcal Group        0.0       0.0            0.0   \n",
       "Issue                                    0.0    1228.0            0.0   \n",
       "                   Insult                0.0       0.0            0.0   \n",
       "                   Issue                46.0       0.0           98.0   \n",
       "                   Media organization    0.0       0.0            0.0   \n",
       "                   Person                0.0       0.0            0.0   \n",
       "                   Place                 0.0       0.0            0.0   \n",
       "                   Politcal Group        0.0       0.0            0.0   \n",
       "Media organization                       0.0     615.0            0.0   \n",
       "                   Insult                0.0       0.0            0.0   \n",
       "                   Issue                 0.0       0.0            0.0   \n",
       "                   Media organization   11.0       0.0           31.0   \n",
       "                   Person                0.0       0.0            0.0   \n",
       "                   Place                 0.0       0.0            0.0   \n",
       "                   Politcal Group        0.0       0.0            0.0   \n",
       "Person                                   0.0    1707.0            0.0   \n",
       "                   Insult                0.0       0.0            0.0   \n",
       "                   Issue                 0.0       0.0            0.0   \n",
       "                   Media organization    0.0       0.0            0.0   \n",
       "                   Person              118.0       0.0          198.0   \n",
       "                   Place                 0.0       0.0            0.0   \n",
       "                   Politcal Group        0.0       0.0            0.0   \n",
       "Place                                    0.0    1509.0            0.0   \n",
       "                   Insult                0.0       0.0            0.0   \n",
       "                   Issue                 0.0       0.0            0.0   \n",
       "                   Media organization    0.0       0.0            0.0   \n",
       "                   Person                0.0       0.0            0.0   \n",
       "                   Place                84.0       0.0          150.0   \n",
       "                   Politcal Group        0.0       0.0            0.0   \n",
       "Politcal Group                           0.0     253.0            0.0   \n",
       "                   Insult                0.0       0.0            0.0   \n",
       "                   Issue                 0.0       0.0            0.0   \n",
       "                   Media organization    0.0       0.0            0.0   \n",
       "                   Person                0.0       0.0            0.0   \n",
       "                   Place                 0.0       0.0            0.0   \n",
       "                   Politcal Group        3.0       0.0            4.0   \n",
       "\n",
       "error                                  span_tag_mismatch  tag_mismatch  \n",
       "tag_a              tag_b                                                \n",
       "Insult                                               0.0           0.0  \n",
       "                   Insult                            0.0           0.0  \n",
       "                   Issue                            64.0          41.0  \n",
       "                   Media organization               31.0          14.0  \n",
       "                   Person                          112.0          47.0  \n",
       "                   Place                            88.0          44.0  \n",
       "                   Politcal Group                   22.0          13.0  \n",
       "Issue                                                0.0           0.0  \n",
       "                   Insult                           53.0          41.0  \n",
       "                   Issue                             0.0           0.0  \n",
       "                   Media organization               44.0          33.0  \n",
       "                   Person                          110.0          71.0  \n",
       "                   Place                           129.0          54.0  \n",
       "                   Politcal Group                   23.0          15.0  \n",
       "Media organization                                   0.0           0.0  \n",
       "                   Insult                           18.0          23.0  \n",
       "                   Issue                            38.0          24.0  \n",
       "                   Media organization                0.0           0.0  \n",
       "                   Person                           50.0          42.0  \n",
       "                   Place                            51.0          29.0  \n",
       "                   Politcal Group                    4.0           7.0  \n",
       "Person                                               0.0           0.0  \n",
       "                   Insult                           99.0          45.0  \n",
       "                   Issue                           150.0          77.0  \n",
       "                   Media organization               74.0          26.0  \n",
       "                   Person                            0.0           0.0  \n",
       "                   Place                           174.0          86.0  \n",
       "                   Politcal Group                   34.0          21.0  \n",
       "Place                                                0.0           0.0  \n",
       "                   Insult                           77.0          45.0  \n",
       "                   Issue                           116.0          60.0  \n",
       "                   Media organization               63.0          38.0  \n",
       "                   Person                          179.0          95.0  \n",
       "                   Place                             0.0           0.0  \n",
       "                   Politcal Group                   27.0          16.0  \n",
       "Politcal Group                                       0.0           0.0  \n",
       "                   Insult                           20.0          10.0  \n",
       "                   Issue                            25.0          16.0  \n",
       "                   Media organization               11.0           7.0  \n",
       "                   Person                           35.0          24.0  \n",
       "                   Place                            32.0          18.0  \n",
       "                   Politcal Group                    0.0           0.0  "
      ]
     },
     "execution_count": 194,
     "metadata": {},
     "output_type": "execute_result"
    }
   ],
   "source": [
    "Res =D.pivot_table(index=['tag_a','tag_b'],columns=['error'],values='count',)\n",
    "Res = Res.fillna(0)\n",
    "Res"
   ]
  },
  {
   "cell_type": "markdown",
   "metadata": {},
   "source": [
    "## Downloading Results\n",
    "Of course, sometimes we just want to results\n",
    "These are easily attained from a task_definitions **download** endpoint\n",
    "The download view returns \"everything\", that is it returns the entire schema definition, dataset definition, all of the examples and the annotations and classifications. We'll quickly explore the structure of the results here"
   ]
  },
  {
   "cell_type": "code",
   "execution_count": 198,
   "metadata": {},
   "outputs": [
    {
     "data": {
      "text/plain": [
       "'http://localhost:8000/api/v1/projects/default/task_definitions/test-set-tags-and-classes/'"
      ]
     },
     "execution_count": 198,
     "metadata": {},
     "output_type": "execute_result"
    }
   ],
   "source": [
    "test_td"
   ]
  },
  {
   "cell_type": "code",
   "execution_count": 200,
   "metadata": {},
   "outputs": [],
   "source": [
    "data = session.get(test_td+'download/').json() \n"
   ]
  },
  {
   "cell_type": "code",
   "execution_count": 201,
   "metadata": {},
   "outputs": [],
   "source": [
    "res= data['result']\n",
    "x = next(filter(lambda x:x['results']['annotations'],res))"
   ]
  },
  {
   "cell_type": "code",
   "execution_count": 202,
   "metadata": {},
   "outputs": [
    {
     "data": {
      "text/plain": [
       "{'example': {'content': \"Great listening session with CEO's of the Retail Industry Leaders Association this morning! https://t.co/sy6xJcWfcF\",\n",
       "  'definition_id': 'f91a95a4-61e5-40f8-87b4-63103e1f00f0',\n",
       "  'example_id': '008eb3c3-ac50-474e-b58c-04f755987ca0',\n",
       "  'metadata': {'created_at': 'Wed Feb 15 16:34:27 +0000 2017',\n",
       "   'date': '2017-02-15',\n",
       "   'favorite_count': 66081,\n",
       "   'id_str': '831904516316479489',\n",
       "   'in_reply_to_user_id_str': None,\n",
       "   'is_retweet': False,\n",
       "   'retweet_count': 10692,\n",
       "   'source': 'Twitter for iPhone',\n",
       "   'time': 1487176467000000000}},\n",
       " 'results': {'annotations': [{'annotator_id': 2,\n",
       "    'end': 65,\n",
       "    'from_suggestion': False,\n",
       "    'start': 58,\n",
       "    'tag': 'Issue',\n",
       "    'value': 'Leaders'},\n",
       "   {'annotator_id': 4,\n",
       "    'end': 5,\n",
       "    'from_suggestion': False,\n",
       "    'start': 0,\n",
       "    'tag': 'Issue',\n",
       "    'value': 'Great'},\n",
       "   {'annotator_id': 4,\n",
       "    'end': 48,\n",
       "    'from_suggestion': False,\n",
       "    'start': 38,\n",
       "    'tag': 'Person',\n",
       "    'value': 'the Retail'},\n",
       "   {'annotator_id': 4,\n",
       "    'end': 115,\n",
       "    'from_suggestion': False,\n",
       "    'start': 105,\n",
       "    'tag': 'Person',\n",
       "    'value': 'sy6xJcWfcF'},\n",
       "   {'annotator_id': 3,\n",
       "    'end': 23,\n",
       "    'from_suggestion': False,\n",
       "    'start': 16,\n",
       "    'tag': 'Person',\n",
       "    'value': 'session'},\n",
       "   {'annotator_id': 3,\n",
       "    'end': 57,\n",
       "    'from_suggestion': False,\n",
       "    'start': 49,\n",
       "    'tag': 'Insult',\n",
       "    'value': 'Industry'},\n",
       "   {'annotator_id': 3,\n",
       "    'end': 65,\n",
       "    'from_suggestion': False,\n",
       "    'start': 58,\n",
       "    'tag': 'Insult',\n",
       "    'value': 'Leaders'},\n",
       "   {'annotator_id': 3,\n",
       "    'end': 90,\n",
       "    'from_suggestion': False,\n",
       "    'start': 83,\n",
       "    'tag': 'Media organization',\n",
       "    'value': 'morning'},\n",
       "   {'annotator_id': 2,\n",
       "    'end': 115,\n",
       "    'from_suggestion': False,\n",
       "    'start': 105,\n",
       "    'tag': 'Insult',\n",
       "    'value': 'sy6xJcWfcF'},\n",
       "   {'annotator_id': 4,\n",
       "    'end': 77,\n",
       "    'from_suggestion': False,\n",
       "    'start': 66,\n",
       "    'tag': 'Place',\n",
       "    'value': 'Association'},\n",
       "   {'annotator_id': 4,\n",
       "    'end': 37,\n",
       "    'from_suggestion': False,\n",
       "    'start': 35,\n",
       "    'tag': 'Issue',\n",
       "    'value': 'of'},\n",
       "   {'annotator_id': 2,\n",
       "    'end': 28,\n",
       "    'from_suggestion': False,\n",
       "    'start': 16,\n",
       "    'tag': 'Media organization',\n",
       "    'value': 'session with'}],\n",
       "  'classifications': [{'annotator_id': 4, 'classname': 'Praise'},\n",
       "   {'annotator_id': 3, 'classname': 'Praise'},\n",
       "   {'annotator_id': 2, 'classname': 'Insult'}]}}"
      ]
     },
     "execution_count": 202,
     "metadata": {},
     "output_type": "execute_result"
    }
   ],
   "source": [
    "x"
   ]
  },
  {
   "cell_type": "code",
   "execution_count": 203,
   "metadata": {},
   "outputs": [
    {
     "data": {
      "text/plain": [
       "dict_keys(['schema', 'dataset', 'id', 'result'])"
      ]
     },
     "execution_count": 203,
     "metadata": {},
     "output_type": "execute_result"
    }
   ],
   "source": [
    "data.keys()"
   ]
  },
  {
   "cell_type": "markdown",
   "metadata": {},
   "source": [
    "The dataset and schema fields are the same we've seen before when we defined our schema and dataset. LightTag provides them so you don't need to do further lookups.\n",
    "\n",
    "The actual results live in the result key, which itself contains a list.\n",
    "Each item in that list contains the **example** that was annotated and the results of the annotation "
   ]
  },
  {
   "cell_type": "code",
   "execution_count": 204,
   "metadata": {},
   "outputs": [
    {
     "data": {
      "text/plain": [
       "dict_keys(['results', 'example'])"
      ]
     },
     "execution_count": 204,
     "metadata": {},
     "output_type": "execute_result"
    }
   ],
   "source": [
    "data['result'][0].keys()\n"
   ]
  },
  {
   "cell_type": "markdown",
   "metadata": {},
   "source": [
    "The results field further divides into annotations and classifications"
   ]
  },
  {
   "cell_type": "code",
   "execution_count": 205,
   "metadata": {},
   "outputs": [
    {
     "data": {
      "text/plain": [
       "dict_keys(['annotations', 'classifications'])"
      ]
     },
     "execution_count": 205,
     "metadata": {},
     "output_type": "execute_result"
    }
   ],
   "source": [
    "data['result'][0]['results'].keys()"
   ]
  },
  {
   "cell_type": "markdown",
   "metadata": {},
   "source": [
    "An annotation result contains the \n",
    "1. id of the annotator, \n",
    "2. the start and end of the annotation, \n",
    "3. the tag applied, \n",
    "4. the value, that is the string that was captured"
   ]
  },
  {
   "cell_type": "code",
   "execution_count": 206,
   "metadata": {},
   "outputs": [
    {
     "data": {
      "text/plain": [
       "{'annotator_id': 2,\n",
       " 'end': 65,\n",
       " 'from_suggestion': False,\n",
       " 'start': 58,\n",
       " 'tag': 'Issue',\n",
       " 'value': 'Leaders'}"
      ]
     },
     "execution_count": 206,
     "metadata": {},
     "output_type": "execute_result"
    }
   ],
   "source": [
    "data['result'][0]['results']['annotations'][0]"
   ]
  },
  {
   "cell_type": "markdown",
   "metadata": {},
   "source": [
    "A classification result contains the \n",
    "1. id of the annotator, \n",
    "3. the classname applied, \n"
   ]
  },
  {
   "cell_type": "code",
   "execution_count": 207,
   "metadata": {},
   "outputs": [
    {
     "data": {
      "text/plain": [
       "{'annotator_id': 4, 'classname': 'Praise'}"
      ]
     },
     "execution_count": 207,
     "metadata": {},
     "output_type": "execute_result"
    }
   ],
   "source": [
    "data['result'][0]['results']['classifications'][0]"
   ]
  },
  {
   "cell_type": "markdown",
   "metadata": {},
   "source": [
    "The example field contains the text we labeled"
   ]
  },
  {
   "cell_type": "code",
   "execution_count": 208,
   "metadata": {},
   "outputs": [
    {
     "data": {
      "text/plain": [
       "\"Great listening session with CEO's of the Retail Industry Leaders Association this morning! https://t.co/sy6xJcWfcF\""
      ]
     },
     "execution_count": 208,
     "metadata": {},
     "output_type": "execute_result"
    }
   ],
   "source": [
    "data['result'][0]['example']['content']"
   ]
  },
  {
   "cell_type": "markdown",
   "metadata": {},
   "source": [
    "As well as any additional metadata we provided"
   ]
  },
  {
   "cell_type": "code",
   "execution_count": 209,
   "metadata": {},
   "outputs": [
    {
     "data": {
      "text/plain": [
       "{'created_at': 'Wed Feb 15 16:34:27 +0000 2017',\n",
       " 'date': '2017-02-15',\n",
       " 'favorite_count': 66081,\n",
       " 'id_str': '831904516316479489',\n",
       " 'in_reply_to_user_id_str': None,\n",
       " 'is_retweet': False,\n",
       " 'retweet_count': 10692,\n",
       " 'source': 'Twitter for iPhone',\n",
       " 'time': 1487176467000000000}"
      ]
     },
     "execution_count": 209,
     "metadata": {},
     "output_type": "execute_result"
    }
   ],
   "source": [
    "data['result'][0]['example']['metadata']"
   ]
  },
  {
   "cell_type": "markdown",
   "metadata": {},
   "source": [
    "### Running custom analytics\n",
    "Sometimes we want to do some analysis on our data that LightTag does not yet provide. In that case we are down to simple JSON manipilation. \n",
    "Let's get the top 5 words for each tag as an example"
   ]
  },
  {
   "cell_type": "code",
   "execution_count": 210,
   "metadata": {},
   "outputs": [],
   "source": [
    "#Aggregate all of the results\n",
    "annotations = []\n",
    "for result in data['result']:\n",
    "    annotations +=result['results']['annotations']"
   ]
  },
  {
   "cell_type": "code",
   "execution_count": 211,
   "metadata": {},
   "outputs": [
    {
     "data": {
      "text/html": [
       "<div>\n",
       "<style>\n",
       "    .dataframe thead tr:only-child th {\n",
       "        text-align: right;\n",
       "    }\n",
       "\n",
       "    .dataframe thead th {\n",
       "        text-align: left;\n",
       "    }\n",
       "\n",
       "    .dataframe tbody tr th {\n",
       "        vertical-align: top;\n",
       "    }\n",
       "</style>\n",
       "<table border=\"1\" class=\"dataframe\">\n",
       "  <thead>\n",
       "    <tr>\n",
       "      <th>tag</th>\n",
       "      <th>Insult</th>\n",
       "      <th>Issue</th>\n",
       "      <th>Media organization</th>\n",
       "      <th>Person</th>\n",
       "      <th>Place</th>\n",
       "      <th>Politcal Group</th>\n",
       "    </tr>\n",
       "    <tr>\n",
       "      <th>tag</th>\n",
       "      <th>Insult</th>\n",
       "      <th>Issue</th>\n",
       "      <th>Media organization</th>\n",
       "      <th>Person</th>\n",
       "      <th>Place</th>\n",
       "      <th>Politcal Group</th>\n",
       "    </tr>\n",
       "    <tr>\n",
       "      <th>value</th>\n",
       "      <th></th>\n",
       "      <th></th>\n",
       "      <th></th>\n",
       "      <th></th>\n",
       "      <th></th>\n",
       "      <th></th>\n",
       "    </tr>\n",
       "  </thead>\n",
       "  <tbody>\n",
       "    <tr>\n",
       "      <th>I</th>\n",
       "      <td>NaN</td>\n",
       "      <td>NaN</td>\n",
       "      <td>NaN</td>\n",
       "      <td>NaN</td>\n",
       "      <td>NaN</td>\n",
       "      <td>7.0</td>\n",
       "    </tr>\n",
       "    <tr>\n",
       "      <th>and</th>\n",
       "      <td>NaN</td>\n",
       "      <td>27.0</td>\n",
       "      <td>13.0</td>\n",
       "      <td>41.0</td>\n",
       "      <td>38.0</td>\n",
       "      <td>7.0</td>\n",
       "    </tr>\n",
       "    <tr>\n",
       "      <th>co</th>\n",
       "      <td>NaN</td>\n",
       "      <td>27.0</td>\n",
       "      <td>NaN</td>\n",
       "      <td>NaN</td>\n",
       "      <td>36.0</td>\n",
       "      <td>NaN</td>\n",
       "    </tr>\n",
       "    <tr>\n",
       "      <th>for</th>\n",
       "      <td>NaN</td>\n",
       "      <td>NaN</td>\n",
       "      <td>11.0</td>\n",
       "      <td>NaN</td>\n",
       "      <td>NaN</td>\n",
       "      <td>NaN</td>\n",
       "    </tr>\n",
       "    <tr>\n",
       "      <th>https</th>\n",
       "      <td>20.0</td>\n",
       "      <td>NaN</td>\n",
       "      <td>NaN</td>\n",
       "      <td>NaN</td>\n",
       "      <td>NaN</td>\n",
       "      <td>NaN</td>\n",
       "    </tr>\n",
       "    <tr>\n",
       "      <th>is</th>\n",
       "      <td>20.0</td>\n",
       "      <td>NaN</td>\n",
       "      <td>NaN</td>\n",
       "      <td>NaN</td>\n",
       "      <td>NaN</td>\n",
       "      <td>NaN</td>\n",
       "    </tr>\n",
       "    <tr>\n",
       "      <th>of</th>\n",
       "      <td>16.0</td>\n",
       "      <td>NaN</td>\n",
       "      <td>14.0</td>\n",
       "      <td>34.0</td>\n",
       "      <td>NaN</td>\n",
       "      <td>NaN</td>\n",
       "    </tr>\n",
       "    <tr>\n",
       "      <th>t</th>\n",
       "      <td>NaN</td>\n",
       "      <td>26.0</td>\n",
       "      <td>NaN</td>\n",
       "      <td>46.0</td>\n",
       "      <td>41.0</td>\n",
       "      <td>7.0</td>\n",
       "    </tr>\n",
       "    <tr>\n",
       "      <th>the</th>\n",
       "      <td>35.0</td>\n",
       "      <td>47.0</td>\n",
       "      <td>19.0</td>\n",
       "      <td>60.0</td>\n",
       "      <td>64.0</td>\n",
       "      <td>7.0</td>\n",
       "    </tr>\n",
       "    <tr>\n",
       "      <th>to</th>\n",
       "      <td>23.0</td>\n",
       "      <td>30.0</td>\n",
       "      <td>23.0</td>\n",
       "      <td>54.0</td>\n",
       "      <td>38.0</td>\n",
       "      <td>9.0</td>\n",
       "    </tr>\n",
       "  </tbody>\n",
       "</table>\n",
       "</div>"
      ],
      "text/plain": [
       "tag   Insult Issue Media organization Person Place Politcal Group\n",
       "tag   Insult Issue Media organization Person Place Politcal Group\n",
       "value                                                            \n",
       "I        NaN   NaN                NaN    NaN   NaN            7.0\n",
       "and      NaN  27.0               13.0   41.0  38.0            7.0\n",
       "co       NaN  27.0                NaN    NaN  36.0            NaN\n",
       "for      NaN   NaN               11.0    NaN   NaN            NaN\n",
       "https   20.0   NaN                NaN    NaN   NaN            NaN\n",
       "is      20.0   NaN                NaN    NaN   NaN            NaN\n",
       "of      16.0   NaN               14.0   34.0   NaN            NaN\n",
       "t        NaN  26.0                NaN   46.0  41.0            7.0\n",
       "the     35.0  47.0               19.0   60.0  64.0            7.0\n",
       "to      23.0  30.0               23.0   54.0  38.0            9.0"
      ]
     },
     "execution_count": 211,
     "metadata": {},
     "output_type": "execute_result"
    }
   ],
   "source": [
    "annotations_df = pd.DataFrame(annotations)\n",
    "z = annotations_df.groupby('tag').value.value_counts()\n",
    "z.groupby(level=0).nlargest(5).unstack().T"
   ]
  },
  {
   "cell_type": "code",
   "execution_count": null,
   "metadata": {},
   "outputs": [],
   "source": []
  },
  {
   "cell_type": "code",
   "execution_count": null,
   "metadata": {},
   "outputs": [],
   "source": []
  },
  {
   "cell_type": "code",
   "execution_count": null,
   "metadata": {},
   "outputs": [],
   "source": []
  }
 ],
 "metadata": {
  "kernelspec": {
   "display_name": "Python 3",
   "language": "python",
   "name": "python3"
  },
  "language_info": {
   "codemirror_mode": {
    "name": "ipython",
    "version": 3
   },
   "file_extension": ".py",
   "mimetype": "text/x-python",
   "name": "python",
   "nbconvert_exporter": "python",
   "pygments_lexer": "ipython3",
   "version": "3.6.8"
  }
 },
 "nbformat": 4,
 "nbformat_minor": 2
}
