{
 "cells": [
  {
   "cell_type": "markdown",
   "metadata": {},
   "source": [
    "# LightTag API Tutorial\n",
    "Welcome to the LightTag API tutorial. This tutorial consists of 3 parts\n",
    "1. Part 1 covers quickly defining schemas, datasets and tasks\n",
    "2. Part 2 covers retreiving metrics about your projects\n",
    "3. Part 3 covers updating configuratons and appending data"
   ]
  },
  {
   "cell_type": "markdown",
   "metadata": {},
   "source": [
    "## Introduction\n",
    "LightTag allows you to annotate a **Dataset** with a **Schema**. A combination of the two, together with some paramaters is called a **Task Definition** (TD for short). Your Datasets,Schemas and Task Definitions live inside of a **Project**.  \n",
    "\n",
    "The **Examples** you will be annotating live inside of the Dataset. During annotation, you will apply a **Tag** to parts of an Example, classify the overall Example with **ClassificationTypes** or both. Tags and Classification Types live inside of a Schema. \n",
    "With exception of a Task Definition, each of these objects has a name, through which you can access it. (Task Definitions only have ids). \n",
    "\n",
    "Thus, the URL structure follows a nested hierarchy \n",
    "* **/api/v1/projects/** All of the projects\n",
    "\n",
    "* **/api/v1/projects/some-project/** Details about the project named \"some-project\"\n",
    "\n",
    "* **/api/v1/projects/some-project/datasets/** All of the Datasets that belong to \"some-project\"\n",
    "* **/api/v1/projects/some-project/datasets/dataset-1/** Details about the dataset \"dataset-1\" which belongs to \"some-project\"\n",
    "* **/api/v1/projects/some-project/schemas/** All of the Schemas that belong to \"some-project\"\n",
    "* **/api/v1/projects/some-project/schemas/schema-1/** Details about the dataset \"dataset-1\" which belongs to \"some-project\"\n",
    "\n",
    "etc.. (The detailed endpoints are enumerated in part 3\n",
    "\n"
   ]
  },
  {
   "cell_type": "markdown",
   "metadata": {},
   "source": [
    "### A note on naming\n",
    "You are free to name your datasets,projects schemas and tags as you wish. To ensure a consistent URL, LightTag will calculate a [Slug](https://en.wikipedia.org/wiki/Clean_URL#Slug). \n",
    "\n",
    "For example, if we were to create a dataset called *I am a Dataset;;-100* it's slug would be *i-am-a-dataset-100* and it's url would be **/api/v1/projects/some-project/datasets/i-am-a-dataset-100/ **\n",
    "\n",
    "You can always find the Slug and the URL for a resource by querying it's parent, for example querying all datasets of a project will show you the slug and url for each dataset,as we'll see shortly\n",
    "\n"
   ]
  },
  {
   "cell_type": "markdown",
   "metadata": {},
   "source": [
    "## A note on Projects\n",
    "At the time of writing, the LightTag API supports multiple projects but the built in UI supports a single project, the **default project**, whose url is /api/v1/projects/default/.  \n",
    "\n",
    "As you use the API, DO NOT define a new project if you intend to consume the data via the UI, instead use the default project. "
   ]
  },
  {
   "cell_type": "markdown",
   "metadata": {},
   "source": [
    "# Part 0 - Authentication\n",
    "LightTag's authentication is via a token which you acquire with your username and password. \n",
    "Most endpoints can only be accessed by a manager role, so make sure you are using your manager role when following this example"
   ]
  },
  {
   "cell_type": "code",
   "execution_count": 42,
   "metadata": {},
   "outputs": [
    {
     "name": "stdout",
     "output_type": "stream",
     "text": [
      "Populating the interactive namespace from numpy and matplotlib\n"
     ]
    },
    {
     "name": "stderr",
     "output_type": "stream",
     "text": [
      "/usr/local/lib/python3.5/dist-packages/IPython/core/magics/pylab.py:160: UserWarning: pylab import has clobbered these variables: ['test']\n",
      "`%matplotlib` prevents importing * from pylab and numpy\n",
      "  \"\\n`%matplotlib` prevents importing * from pylab and numpy\"\n"
     ]
    }
   ],
   "source": [
    "import requests\n",
    "import pandas as pd\n",
    "%pylab inline \n",
    "SERVER = 'http://demo.ligh:8000/'\n",
    "API_BASE = SERVER +'api/v1/'"
   ]
  },
  {
   "cell_type": "code",
   "execution_count": 3,
   "metadata": {},
   "outputs": [],
   "source": [
    "response = requests.post(SERVER+'auth/token/create/',\n",
    "              json={\"username\":\"demo\",\"password\":\"demo\"})\n",
    "assert response.status_code ==200, \"Couldn't authenticate\"\n",
    "auth_details = response.json()\n",
    "token = auth_details['key']\n",
    "assert auth_details['is_manager'] is True, \"not a manager\" # Check you are a manager\n"
   ]
  },
  {
   "cell_type": "code",
   "execution_count": 4,
   "metadata": {},
   "outputs": [
    {
     "data": {
      "text/plain": [
       "[{'id': '7e9e0f9b-017a-4bcb-95db-dd009bb112ca',\n",
       "  'name': 'default',\n",
       "  'slug': 'default',\n",
       "  'url': 'http://localhost:8000/api/v1/projects/default/'}]"
      ]
     },
     "execution_count": 4,
     "metadata": {},
     "output_type": "execute_result"
    }
   ],
   "source": [
    "#It's convenient to set up a requests session instead of repeating tokens\n",
    "session = requests.session()\n",
    "session.headers.update({\"Authorization\":\"Token {token}\".format(token=token)})\n",
    "#Try it out\n",
    "session.get(API_BASE+'projects/').json()"
   ]
  },
  {
   "cell_type": "markdown",
   "metadata": {},
   "source": [
    "Great! We are authenticted and can see the default project"
   ]
  },
  {
   "cell_type": "markdown",
   "metadata": {},
   "source": [
    "# Part 1 - Quickly setting up a project\n",
    "Adhering to the UI onboarding process, LightTag's API allows you to define a Dataset, Schema and Tasks in bulk, instead of uploading individual tags or examples one by one. This section will go over how we do that. We'll follow the following hypothetical use case:\n",
    "\n",
    "We'd like to have a team of annotators label President Trump's tweets. We want to label both entities in the tweet (Person,Location...) as well as the sentiment of the tweet, e.g. a classification.\n",
    "\n",
    "We'd like to have a very high quality test set and a larger training set, for which we'll tolerate some noise. \n",
    "\n",
    "Before we go ahead and label the whole thing, we'd to do some experiments: First to see if our Schema makes sense to our labelers, and second to see if it is more convenient to label entities and sentiment together, or do it as individual tasks. \n",
    "\n",
    "To achieve this we'll follow the following steps:\n",
    "1. Split our dataset into a traing and test set\n",
    "2. Set aside part of the training set for experimentation\n",
    "4. Define and upload our Datasets\n",
    "\n",
    "3. Define and upload our Schema\n",
    "5. Define the tasks (small evaluation, training set labeling, test set labeling)\n",
    "\n",
    "In ourder to keep this section focused on quickly uploading, we will hold over evalutation till section 3. In a usual use case you will probably first upload a small evaluation set, review the results, iterate and then set out on labeling the full training/test sets\n",
    "\n"
   ]
  },
  {
   "cell_type": "markdown",
   "metadata": {},
   "source": [
    "# 1.1 Preparing our dataset\n",
    "We've conveniently prepared a collection of President Trump's tweets in a JSON file. These will be our examples. We'll load them and divide them into a training set, test set and further take a slice of the training set for exploration "
   ]
  },
  {
   "cell_type": "code",
   "execution_count": 5,
   "metadata": {},
   "outputs": [
    {
     "name": "stdout",
     "output_type": "stream",
     "text": [
      "{'created_at': 'Mon Jan 01 13:37:52 +0000 2018',\n",
      " 'date': '2018-01-01',\n",
      " 'favorite_count': 54056,\n",
      " 'id_str': '947824196909961216',\n",
      " 'in_reply_to_user_id_str': None,\n",
      " 'is_retweet': False,\n",
      " 'retweet_count': 8656,\n",
      " 'source': 'Twitter for iPhone',\n",
      " 'text': 'Will be leaving Florida for Washington (D.C.) today at 4:00 P.M. '\n",
      "         'Much work to be done, but it will be a great New Year!',\n",
      " 'time': 1514813872000000000}\n",
      "'total of 2605 examples'\n"
     ]
    }
   ],
   "source": [
    "import json\n",
    "from pprint import pprint\n",
    "\n",
    "all_data = json.load(open('./trump3.json'))\n",
    "pprint(all_data[0])\n",
    "pprint(\"total of {num} examples\".format(num=len(all_data)))\n"
   ]
  },
  {
   "cell_type": "code",
   "execution_count": 6,
   "metadata": {},
   "outputs": [],
   "source": [
    "train,test = all_data[:2000], all_data[2000:] # 2000 train examples, 600 test examples\n",
    "exploratory = train[:50] # Take 50 examples from the training set for exploratory work"
   ]
  },
  {
   "cell_type": "markdown",
   "metadata": {},
   "source": [
    "## Uploading our exploratory dataset\n",
    "To upload our dataset, we send over the whole JSON object. We need to tell LightTag which field contains the text to be annotated. Additionaly, we need to specify\n",
    "1. A name for the dataset\n",
    "2. An optional aggregation field (If specified, all examples with the value will be shown together)\n",
    "3. An optional sort field (If secified with an aggregation field, examples will be displayed ordered by that field)"
   ]
  },
  {
   "cell_type": "code",
   "execution_count": 7,
   "metadata": {},
   "outputs": [],
   "source": [
    "exploratory_dataset = {\n",
    "    \"name\":\"Exploratory Dataset\",\n",
    "    \"content_field\":\"text\", # text is the field in the JSON we will be annotating\n",
    "    \"examples\" :exploratory # Set the list of examples that are part of this dataset\n",
    "}"
   ]
  },
  {
   "cell_type": "code",
   "execution_count": 8,
   "metadata": {},
   "outputs": [],
   "source": [
    "#POST the dataset definition and the examples \n",
    "resp= session.post(API_BASE+'projects/default/datasets/bulk/',json=exploratory_dataset)\n",
    "assert resp.status_code ==201"
   ]
  },
  {
   "cell_type": "code",
   "execution_count": 9,
   "metadata": {},
   "outputs": [
    {
     "data": {
      "text/plain": [
       "[{'aggregation_field': None,\n",
       "  'content_field': 'text',\n",
       "  'id': '310e9dfa-6a92-4267-8296-7e7dd7049945',\n",
       "  'id_field': None,\n",
       "  'name': 'Exploratory Dataset',\n",
       "  'order_field': None,\n",
       "  'project_id': '7e9e0f9b-017a-4bcb-95db-dd009bb112ca',\n",
       "  'slug': 'exploratory-dataset',\n",
       "  'url': 'http://localhost:8000/api/v1/projects/default/datasets/exploratory-dataset/'}]"
      ]
     },
     "execution_count": 9,
     "metadata": {},
     "output_type": "execute_result"
    }
   ],
   "source": [
    "datasets = session.get(API_BASE+'projects/default/datasets/').json() # Get all of the datasets in our project\n",
    "datasets"
   ]
  },
  {
   "cell_type": "code",
   "execution_count": 10,
   "metadata": {},
   "outputs": [
    {
     "data": {
      "text/plain": [
       "[{'aggregation_value': None,\n",
       "  'content': 'RT @shawgerald4: @realDonaldTrump Thank you President TRUMP!! https://t.co/LKdkT0FL99',\n",
       "  'dataset': '310e9dfa-6a92-4267-8296-7e7dd7049945',\n",
       "  'id': 'd018c62f-cdc1-43e4-aaf2-50c16530b2b2',\n",
       "  'metadata': {'created_at': 'Sun Dec 24 12:31:48 +0000 2017',\n",
       "   'date': '2017-12-24',\n",
       "   'favorite_count': 0,\n",
       "   'id_str': '944908467499884544',\n",
       "   'in_reply_to_user_id_str': None,\n",
       "   'is_retweet': True,\n",
       "   'retweet_count': 11846,\n",
       "   'source': 'Twitter for iPhone',\n",
       "   'time': 1514118708000000000}},\n",
       " {'aggregation_value': None,\n",
       "  'content': 'The Fake News refuses to talk about how Big and how Strong our BASE is. They show Fake Polls just like they report Fake News. Despite only negative reporting, we are doing well - nobody is going to beat us. MAKE AMERICA GREAT AGAIN!',\n",
       "  'dataset': '310e9dfa-6a92-4267-8296-7e7dd7049945',\n",
       "  'id': '9caf7aea-8b32-4ba4-9167-c85b58f22937',\n",
       "  'metadata': {'created_at': 'Sun Dec 24 13:48:11 +0000 2017',\n",
       "   'date': '2017-12-24',\n",
       "   'favorite_count': 140299,\n",
       "   'id_str': '944927689638662145',\n",
       "   'in_reply_to_user_id_str': None,\n",
       "   'is_retweet': False,\n",
       "   'retweet_count': 33220,\n",
       "   'source': 'Twitter for iPhone',\n",
       "   'time': 1514123291000000000}}]"
      ]
     },
     "execution_count": 10,
     "metadata": {},
     "output_type": "execute_result"
    }
   ],
   "source": [
    "#See the examples in our dataset\n",
    "session.get(datasets[0]['url']+'examples/').json()[:2]"
   ]
  },
  {
   "cell_type": "markdown",
   "metadata": {},
   "source": [
    "### Uploading with an Aggregation field\n",
    "As mentioned, we can tell LightTag to show examples together, and in what order by specifying an aggregation key and order key. Let's do that for the test and train set"
   ]
  },
  {
   "cell_type": "code",
   "execution_count": 11,
   "metadata": {},
   "outputs": [],
   "source": [
    "train_dataset = {\n",
    "    \"name\":\"Training Set\",\n",
    "    \"content_field\":\"text\", # text is the field in the JSON we will be annotating\n",
    "    \"examples\" :train, # Set the list of examples that are part of this dataset\n",
    "    \"aggregation_field\":\"date\", # Show all tweets from the same day together\n",
    "    \"order_field\":\"time\" # And sort them by time\n",
    "}\n",
    "\n",
    "test_dataset = {\n",
    "    \"name\":\"Test Set\",\n",
    "    \"content_field\":\"text\", # text is the field in the JSON we will be annotating\n",
    "    \"examples\" :test, # Set the list of examples that are part of this dataset\n",
    "    \"aggregation_field\":\"date\", # Show all tweets from the same day together\n",
    "    \"order_field\":\"time\" # And sort them by time\n",
    "}"
   ]
  },
  {
   "cell_type": "code",
   "execution_count": 12,
   "metadata": {},
   "outputs": [],
   "source": [
    "# Upload the training set\n",
    "resp = session.post(API_BASE+'projects/default/datasets/bulk/',json=train_dataset)\n",
    "assert resp.status_code ==201\n",
    "# Upload the test set\n",
    "resp = session.post(API_BASE+'projects/default/datasets/bulk/',json=test_dataset)\n",
    "assert resp.status_code ==201\n"
   ]
  },
  {
   "cell_type": "code",
   "execution_count": 13,
   "metadata": {},
   "outputs": [
    {
     "name": "stdout",
     "output_type": "stream",
     "text": [
      "[{'aggregation_field': 'date',\n",
      "  'content_field': 'text',\n",
      "  'id': '37bcf530-b061-4f7d-b8ab-00a35b304f8c',\n",
      "  'id_field': None,\n",
      "  'name': 'Test Set',\n",
      "  'order_field': 'time',\n",
      "  'project_id': '7e9e0f9b-017a-4bcb-95db-dd009bb112ca',\n",
      "  'slug': 'test-set',\n",
      "  'url': 'http://localhost:8000/api/v1/projects/default/datasets/test-set/'},\n",
      " {'aggregation_field': 'date',\n",
      "  'content_field': 'text',\n",
      "  'id': '5b5f2dac-ab25-4d06-8ca2-6ac5136a6c4b',\n",
      "  'id_field': None,\n",
      "  'name': 'Training Set',\n",
      "  'order_field': 'time',\n",
      "  'project_id': '7e9e0f9b-017a-4bcb-95db-dd009bb112ca',\n",
      "  'slug': 'training-set',\n",
      "  'url': 'http://localhost:8000/api/v1/projects/default/datasets/training-set/'},\n",
      " {'aggregation_field': None,\n",
      "  'content_field': 'text',\n",
      "  'id': '310e9dfa-6a92-4267-8296-7e7dd7049945',\n",
      "  'id_field': None,\n",
      "  'name': 'Exploratory Dataset',\n",
      "  'order_field': None,\n",
      "  'project_id': '7e9e0f9b-017a-4bcb-95db-dd009bb112ca',\n",
      "  'slug': 'exploratory-dataset',\n",
      "  'url': 'http://localhost:8000/api/v1/projects/default/datasets/exploratory-dataset/'}]\n"
     ]
    }
   ],
   "source": [
    "# Let's see all of the Datasets in our project\n",
    "datasets = session.get(API_BASE+'projects/default/datasets/').json() # Get all of the datasets in our project\n",
    "pprint(datasets)"
   ]
  },
  {
   "cell_type": "markdown",
   "metadata": {},
   "source": [
    "## Defining our Schemas\n",
    "The schema defines how we label our examples. A schema can either define classification types for classifying an example, tags for tagging parts of an example or both. We'll define all three options"
   ]
  },
  {
   "cell_type": "markdown",
   "metadata": {},
   "source": [
    "### Defining Classification types\n",
    "We simply define a list of classification types, each item has a name (The class) and a description. The labelers will be able to see the description as they work. \n",
    "Remember to give your annotators an UNK or Confusing class. "
   ]
  },
  {
   "cell_type": "code",
   "execution_count": 14,
   "metadata": {},
   "outputs": [],
   "source": [
    "\n",
    "classification_types=[\n",
    "    {\n",
    "        \"name\":\"Insult\", \n",
    "        \"description\":\"This tweet contains an insult to a particular person\"\n",
    "    },\n",
    "    {\n",
    "        \"name\":\"Praise\", \n",
    "        \"description\":\"This tweet contains praise of a particular person\"\n",
    "    },\n",
    "    {\n",
    "        \"name\":\"Confusing\", \n",
    "        \"description\":\"This tweet is ambiguous\"\n",
    "    },\n",
    "    {\n",
    "        \"name\":\"UNK\", \n",
    "        \"description\":\"This tweet is niether an insult or praise\"\n",
    "    },\n",
    "]\n",
    "\n"
   ]
  },
  {
   "cell_type": "markdown",
   "metadata": {},
   "source": [
    "### Defining tags\n",
    "We simply define a list of tags, each item has a name (The tag) and a description. The labelers will be able to see the description as they work. \n",
    " "
   ]
  },
  {
   "cell_type": "code",
   "execution_count": 15,
   "metadata": {},
   "outputs": [],
   "source": [
    "tags=[\n",
    "    {\n",
    "        \"name\":\"Person\", \n",
    "        \"description\":\"The proper name of a person (John is a person. He is not)\"\n",
    "    },\n",
    "    {\n",
    "        \"name\":\"Place\",\n",
    "        \"description\": \"A physical place. For example the White House.\"\n",
    "    },\n",
    "    {\n",
    "        \"name\":\"Issue\",\n",
    "        \"description\": \"A political issue the President is discussing.\"\n",
    "    },\n",
    "    {\n",
    "        \"name\":\"Insult\",\n",
    "        \"description\": \"A word or phrase that is unsulting.\"\n",
    "    },\n",
    "    {\n",
    "        \"name\":\"Media organization\",\n",
    "        \"description\": \"CNN/Fox etc.\"\n",
    "    },\n",
    "    {\n",
    "        \"name\":\"Politcal Group\",\n",
    "        \"description\": \"Republicans/Democrates etc\"\n",
    "    },\n",
    "]"
   ]
  },
  {
   "cell_type": "markdown",
   "metadata": {},
   "source": [
    "# Making a Schema\n",
    "To define a schema, we give it a name and specify classification types, tags or both. "
   ]
  },
  {
   "cell_type": "code",
   "execution_count": 16,
   "metadata": {},
   "outputs": [],
   "source": [
    "classification_only_schema= {\n",
    "    \"name\" :\"Trump Insult Classification\",\n",
    "    \"classification_types\":classification_types,\n",
    "}\n",
    "\n",
    "tags_only_schema ={\n",
    "    \"name\":\"Entity Tags only\",\n",
    "    \"tags\":tags\n",
    "}\n",
    "\n",
    "tags_and_classifications_schema = {\n",
    "    \"name\": \"Classifications and tags Schema\",\n",
    "    \"tags\":tags,\n",
    "    \"classification_types\":classification_types\n",
    "}\n"
   ]
  },
  {
   "cell_type": "markdown",
   "metadata": {},
   "source": [
    "### Uploading the schema\n",
    "We simply post the schema definition to the projects /schemas/bulk/ endpoint"
   ]
  },
  {
   "cell_type": "code",
   "execution_count": 17,
   "metadata": {},
   "outputs": [],
   "source": [
    "\n",
    "resp = session.post(API_BASE+'projects/default/schemas/bulk/',json=classification_only_schema)\n",
    "assert resp.status_code ==201\n",
    "\n",
    "resp = session.post(API_BASE+'projects/default/schemas/bulk/',json=tags_only_schema)\n",
    "assert resp.status_code ==201\n",
    "\n",
    "resp = session.post(API_BASE+'projects/default/schemas/bulk/',json=tags_and_classifications_schema)\n",
    "assert resp.status_code ==201"
   ]
  },
  {
   "cell_type": "code",
   "execution_count": 18,
   "metadata": {},
   "outputs": [
    {
     "data": {
      "text/plain": [
       "[{'id': 'd0dc96df-621f-4d01-b499-cf09d9b12b60',\n",
       "  'name': 'Classifications and tags Schema',\n",
       "  'slug': 'classifications-and-tags-schema',\n",
       "  'url': 'http://localhost:8000/api/v1/projects/default/schemas/classifications-and-tags-schema/'},\n",
       " {'id': 'b8e11212-99fd-4fcb-b723-9d0086562e07',\n",
       "  'name': 'Entity Tags only',\n",
       "  'slug': 'entity-tags-only',\n",
       "  'url': 'http://localhost:8000/api/v1/projects/default/schemas/entity-tags-only/'},\n",
       " {'id': '6723786a-b737-4302-96a1-a2aaa61cad42',\n",
       "  'name': 'Trump Insult Classification',\n",
       "  'slug': 'trump-insult-classification',\n",
       "  'url': 'http://localhost:8000/api/v1/projects/default/schemas/trump-insult-classification/'}]"
      ]
     },
     "execution_count": 18,
     "metadata": {},
     "output_type": "execute_result"
    }
   ],
   "source": [
    "# Indeed we now have three schemas\n",
    "(session.get(API_BASE+'projects/default/schemas/').json())"
   ]
  },
  {
   "cell_type": "markdown",
   "metadata": {},
   "source": [
    "## Defining Tasks\n",
    "Now that we have Datasets and tasks we can define the work we want to do on them. \n",
    "As we said earlier, we want to do a quick exploratory job, and label the exploratory dataset with each of the schemas to see which works best. \n",
    "\n",
    "Then we want to define work on the training and test sets. \n",
    "For exploration, we'll use 2 labelers per example and suggestions. \n",
    "For the training set we'll use 1 labeler per example and suggestions. \n",
    "For the test set, we'll use 3 labelers per example and disable suggestions - so that we don't introduce any bias"
   ]
  },
  {
   "cell_type": "markdown",
   "metadata": {},
   "source": [
    "### Using Slugs\n",
    "To specify a task we must refer to a dataset and a schema. In the dataset definition we do this by referencing the **slug** of the schema/dataset. "
   ]
  },
  {
   "cell_type": "code",
   "execution_count": 19,
   "metadata": {},
   "outputs": [
    {
     "name": "stdout",
     "output_type": "stream",
     "text": [
      "classifications-and-tags-schema \t\t Classifications and tags Schema\n",
      "entity-tags-only \t\t Entity Tags only\n",
      "trump-insult-classification \t\t Trump Insult Classification\n"
     ]
    }
   ],
   "source": [
    "resp = session.get(API_BASE+'projects/default/schemas/') # fetch all of the schemas\n",
    "for schema in resp.json():\n",
    "    print(schema['slug'],\"\\t\\t\",schema['name'])"
   ]
  },
  {
   "cell_type": "code",
   "execution_count": 20,
   "metadata": {},
   "outputs": [
    {
     "name": "stdout",
     "output_type": "stream",
     "text": [
      "test-set \t\t Test Set\n",
      "training-set \t\t Training Set\n",
      "exploratory-dataset \t\t Exploratory Dataset\n"
     ]
    }
   ],
   "source": [
    "resp = session.get(API_BASE+'projects/default/datasets/') # fetch all of the schemas\n",
    "for dataset in resp.json():\n",
    "    print(dataset['slug'],'\\t\\t',dataset['name'])"
   ]
  },
  {
   "cell_type": "markdown",
   "metadata": {},
   "source": [
    "## Now we can define our tasks\n",
    "For each task we want, we specify the schema, dataset, how many annotators and if suggestions are availble or not. \n",
    "We can also pass a Markdown text as guidelines for the annotators"
   ]
  },
  {
   "cell_type": "code",
   "execution_count": 21,
   "metadata": {},
   "outputs": [],
   "source": [
    "exploratory_classifications_only_task = {\n",
    "    \"name\":\"Explore classification only\",\n",
    "    \"dataset_slug\":\"exploratory-dataset\",\n",
    "    \"schema_slug\":\"trump-insult-classification\",\n",
    "    \"annotators_per_example\":2,\n",
    "    \"allow_suggestions\":True,\n",
    "    \"guidelines\":\"### Example Guidelines \\n This is an example\"\n",
    "}\n",
    "\n",
    "exploratory_tags_only_task = {\n",
    "    \"name\": \"Explore tags only\",\n",
    "    \"dataset_slug\":\"exploratory-dataset\",\n",
    "    \"schema_slug\":\"entity-tags-only\", # Changed the schema id\n",
    "    \"annotators_per_example\":2,\n",
    "    \"allow_suggestions\":True\n",
    "}\n",
    "\n",
    "exploratory_tags_and_classifications_task = {\n",
    "    \"name\": \"Explore tags and classes\",\n",
    "    \"dataset_slug\":\"exploratory-dataset\",\n",
    "    \"schema_slug\":\"classifications-and-tags-schema\", # Changed the schema id\n",
    "    \"annotators_per_example\":2,\n",
    "    \"allow_suggestions\":True\n",
    "}\n",
    "\n",
    "training_set_task = {\n",
    "    \"name\":\"training set tags and classes\",\n",
    "    \"dataset_slug\":\"training-set\",\n",
    "    \"schema_slug\":\"classifications-and-tags-schema\", # Changed the schema id\n",
    "    \"annotators_per_example\":1, # Only one labeler per example\n",
    "    \"allow_suggestions\":True\n",
    "}\n",
    "\n",
    "test_set_task = {\n",
    "    \"name\":\"test set tags and classes\",\n",
    "    \"dataset_slug\":\"test-set\",\n",
    "    \"schema_slug\":\"classifications-and-tags-schema\", # Changed the schema id\n",
    "    \"annotators_per_example\":3, # Three labelers per example\n",
    "    \"allow_suggestions\":True\n",
    "}\n",
    "\n",
    "tasks = [test_set_task,training_set_task,exploratory_classifications_only_task, exploratory_tags_only_task,\n",
    "         exploratory_tags_and_classifications_task]"
   ]
  },
  {
   "cell_type": "code",
   "execution_count": 25,
   "metadata": {},
   "outputs": [],
   "source": [
    "for task_definition in tasks:\n",
    "    resp  =session.post(API_BASE+'projects/default/task_definitions/',json=task_definition)\n",
    "    assert resp.status_code==201, (task_definition)"
   ]
  },
  {
   "cell_type": "code",
   "execution_count": 26,
   "metadata": {},
   "outputs": [],
   "source": [
    "# And we can see our task definitions on the server"
   ]
  },
  {
   "cell_type": "code",
   "execution_count": 27,
   "metadata": {},
   "outputs": [
    {
     "data": {
      "text/plain": [
       "[{'active': True,\n",
       "  'allow_suggestions': True,\n",
       "  'annotators_per_example': 2,\n",
       "  'dataset_id': '310e9dfa-6a92-4267-8296-7e7dd7049945',\n",
       "  'dataset_slug': 'exploratory-dataset',\n",
       "  'guidelines': None,\n",
       "  'id': 'c3548386-10b8-4a95-b7c1-9f1edea7ac5e',\n",
       "  'name': 'Explore tags and classes',\n",
       "  'priority': 5,\n",
       "  'project_id': '7e9e0f9b-017a-4bcb-95db-dd009bb112ca',\n",
       "  'schema_id': 'd0dc96df-621f-4d01-b499-cf09d9b12b60',\n",
       "  'schema_slug': 'classifications-and-tags-schema',\n",
       "  'slug': 'explore-tags-and-classes',\n",
       "  'url': 'http://localhost:8000/api/v1/projects/default/task_definitions/explore-tags-and-classes/'},\n",
       " {'active': True,\n",
       "  'allow_suggestions': True,\n",
       "  'annotators_per_example': 2,\n",
       "  'dataset_id': '310e9dfa-6a92-4267-8296-7e7dd7049945',\n",
       "  'dataset_slug': 'exploratory-dataset',\n",
       "  'guidelines': None,\n",
       "  'id': '95bda674-c871-46e3-8c5c-650d77afa2e5',\n",
       "  'name': 'Explore tags only',\n",
       "  'priority': 4,\n",
       "  'project_id': '7e9e0f9b-017a-4bcb-95db-dd009bb112ca',\n",
       "  'schema_id': 'b8e11212-99fd-4fcb-b723-9d0086562e07',\n",
       "  'schema_slug': 'entity-tags-only',\n",
       "  'slug': 'explore-tags-only',\n",
       "  'url': 'http://localhost:8000/api/v1/projects/default/task_definitions/explore-tags-only/'},\n",
       " {'active': True,\n",
       "  'allow_suggestions': True,\n",
       "  'annotators_per_example': 2,\n",
       "  'dataset_id': '310e9dfa-6a92-4267-8296-7e7dd7049945',\n",
       "  'dataset_slug': 'exploratory-dataset',\n",
       "  'guidelines': '### Example Guidelines \\n This is an example',\n",
       "  'id': 'cb3ef219-25c2-41cd-ba59-ccdc5b73bed4',\n",
       "  'name': 'Explore classification only',\n",
       "  'priority': 3,\n",
       "  'project_id': '7e9e0f9b-017a-4bcb-95db-dd009bb112ca',\n",
       "  'schema_id': '6723786a-b737-4302-96a1-a2aaa61cad42',\n",
       "  'schema_slug': 'trump-insult-classification',\n",
       "  'slug': 'explore-classification-only',\n",
       "  'url': 'http://localhost:8000/api/v1/projects/default/task_definitions/explore-classification-only/'},\n",
       " {'active': True,\n",
       "  'allow_suggestions': True,\n",
       "  'annotators_per_example': 1,\n",
       "  'dataset_id': '5b5f2dac-ab25-4d06-8ca2-6ac5136a6c4b',\n",
       "  'dataset_slug': 'training-set',\n",
       "  'guidelines': None,\n",
       "  'id': '0d3a7cef-8427-4465-b141-063381681da8',\n",
       "  'name': 'training set tags and classes',\n",
       "  'priority': 2,\n",
       "  'project_id': '7e9e0f9b-017a-4bcb-95db-dd009bb112ca',\n",
       "  'schema_id': 'd0dc96df-621f-4d01-b499-cf09d9b12b60',\n",
       "  'schema_slug': 'classifications-and-tags-schema',\n",
       "  'slug': 'training-set-tags-and-classes',\n",
       "  'url': 'http://localhost:8000/api/v1/projects/default/task_definitions/training-set-tags-and-classes/'},\n",
       " {'active': True,\n",
       "  'allow_suggestions': True,\n",
       "  'annotators_per_example': 3,\n",
       "  'dataset_id': '37bcf530-b061-4f7d-b8ab-00a35b304f8c',\n",
       "  'dataset_slug': 'test-set',\n",
       "  'guidelines': None,\n",
       "  'id': 'e2f37ca4-4192-4b3d-b68f-308ef2bdcecc',\n",
       "  'name': 'test set tags and classes',\n",
       "  'priority': 1,\n",
       "  'project_id': '7e9e0f9b-017a-4bcb-95db-dd009bb112ca',\n",
       "  'schema_id': 'd0dc96df-621f-4d01-b499-cf09d9b12b60',\n",
       "  'schema_slug': 'classifications-and-tags-schema',\n",
       "  'slug': 'test-set-tags-and-classes',\n",
       "  'url': 'http://localhost:8000/api/v1/projects/default/task_definitions/test-set-tags-and-classes/'}]"
      ]
     },
     "execution_count": 27,
     "metadata": {},
     "output_type": "execute_result"
    }
   ],
   "source": [
    "(session.get(API_BASE+'projects/default/task_definitions/').json())"
   ]
  },
  {
   "cell_type": "markdown",
   "metadata": {},
   "source": [
    "### Setting priorities on work\n",
    "When our annotators log in to LightTag they will be show work to do based on how we prioritize our tasks. Of course we'd like to set that priority. In this section we will set the priorities such that the exploratory tasks will go first, then the test set, then the training set\n",
    "\n",
    "***\n",
    "Note, using the same endpoint we can also update the guidelines for a task definiiton or set it to inactive"
   ]
  },
  {
   "cell_type": "code",
   "execution_count": 28,
   "metadata": {},
   "outputs": [
    {
     "name": "stdout",
     "output_type": "stream",
     "text": [
      "Setting explore-tags-and-classes to priority 1\n",
      "Setting explore-tags-only to priority 2\n",
      "Setting explore-classification-only to priority 3\n",
      "Setting training-set-tags-and-classes to priority 4\n",
      "Setting test-set-tags-and-classes to priority 5\n"
     ]
    }
   ],
   "source": [
    "# First pull all of our tasks\n",
    "task_definitions = (session.get(API_BASE+'projects/default/task_definitions/').json())\n",
    "#Now we'll sort them by slug, which will end up being the exact order we wanted \n",
    "sorted(task_definitions,key=lambda x:x['slug'])\n",
    "#And now we update their priority\n",
    "for num,td in enumerate(task_definitions):\n",
    "    print (\"Setting\", td['slug'], \"to priority\", num+1),\n",
    "    resp= session.put(td['url'],json={\"priority\":num+1})\n",
    "    assert resp.status_code == 200, resp.status_code"
   ]
  },
  {
   "cell_type": "markdown",
   "metadata": {},
   "source": [
    "# Part 2 - Metrics and analytics\n",
    "This section will show how to pull various metrics from LightTag to get a sense of where your project stands.\n",
    "We'll continue with the work defined in the previous section, though to illustrate the metrics we've randomly annotated the data.\n",
    "\n",
    "The current version of the API allows you to see aggregate metrics about your projects, that is, what work has been done, how much of it and what level of agreement has been reached.\n",
    "\n",
    "**To make the results prettier, we'll use the pandas library. This is a nice to have but you can easily consume results as raw JSONs **"
   ]
  },
  {
   "cell_type": "markdown",
   "metadata": {},
   "source": [
    "## How metrics are organized\n",
    "LightTag's metrics are organized by task, that is, when we calculate how many annotations were made, or present a confusion matrix of tags, we always retreive the data from the same task. In part 1 we defined 5 tasks, 3 on exploratory data, 1 for the training set and 1 for the test set. \n",
    "\n",
    "Each of these tasks will have their own isolated metrics, despite sharing an underlying dataset or schema. \n",
    "\n",
    "To that end, all metrics live under the task_definitions endpoint as we'll see\n",
    "\n",
    "Their are three kinds of metrics we currently display\n",
    "1. **Task progress metrics** These answer the question \"How much work has been done\" \n",
    "2. **Annotator metrics** These answer the question \"How much and how good is the work each of my labelers is doing\"\n",
    "3. **Annotation Metrics** These answer the question \"What do the results we are getting look like\" and can be further divided into\n",
    "    1. **Classification metrics** These answer the question \"What do our classsification results look like?\"\n",
    "    2. **Tag metrics**  These anser the question \"What do our tagging results look like?\"\n",
    "\n",
    "Their is some interaction between these metrics, and some times you might wish to slice and dice the data differently to answer a particular question. In that case, you can always download and calculate a particular metric yourself. If you do feel something is missing, write us at support@lighttag.io and we will try to add it"
   ]
  },
  {
   "cell_type": "markdown",
   "metadata": {},
   "source": [
    "### Task Progress metrics\n",
    "You can quickly see the high level results for all of your tasks at the *projects/default/task_definitions/metrics/* endpoint\n",
    "This is most useful to see how much work in progress you currently have. And how many annotations and classifications were collected"
   ]
  },
  {
   "cell_type": "code",
   "execution_count": 31,
   "metadata": {},
   "outputs": [
    {
     "data": {
      "text/html": [
       "<div>\n",
       "<style>\n",
       "    .dataframe thead tr:only-child th {\n",
       "        text-align: right;\n",
       "    }\n",
       "\n",
       "    .dataframe thead th {\n",
       "        text-align: left;\n",
       "    }\n",
       "\n",
       "    .dataframe tbody tr th {\n",
       "        vertical-align: top;\n",
       "    }\n",
       "</style>\n",
       "<table border=\"1\" class=\"dataframe\">\n",
       "  <thead>\n",
       "    <tr style=\"text-align: right;\">\n",
       "      <th></th>\n",
       "      <th>annotations</th>\n",
       "      <th>complete_tasks</th>\n",
       "      <th>definition</th>\n",
       "      <th>id</th>\n",
       "      <th>partial_tasks</th>\n",
       "      <th>participating_annotators</th>\n",
       "      <th>percent_complete</th>\n",
       "      <th>percent_partial_complete</th>\n",
       "      <th>total_tasks</th>\n",
       "    </tr>\n",
       "  </thead>\n",
       "  <tbody>\n",
       "    <tr>\n",
       "      <th>0</th>\n",
       "      <td>0</td>\n",
       "      <td>0</td>\n",
       "      <td>{'annotators_per_example': 1, 'guidelines': No...</td>\n",
       "      <td>0d3a7cef-8427-4465-b141-063381681da8</td>\n",
       "      <td>0</td>\n",
       "      <td>0</td>\n",
       "      <td>0.0</td>\n",
       "      <td>0.0</td>\n",
       "      <td>254</td>\n",
       "    </tr>\n",
       "    <tr>\n",
       "      <th>1</th>\n",
       "      <td>0</td>\n",
       "      <td>0</td>\n",
       "      <td>{'annotators_per_example': 2, 'guidelines': No...</td>\n",
       "      <td>95bda674-c871-46e3-8c5c-650d77afa2e5</td>\n",
       "      <td>0</td>\n",
       "      <td>0</td>\n",
       "      <td>0.0</td>\n",
       "      <td>0.0</td>\n",
       "      <td>50</td>\n",
       "    </tr>\n",
       "    <tr>\n",
       "      <th>2</th>\n",
       "      <td>0</td>\n",
       "      <td>0</td>\n",
       "      <td>{'annotators_per_example': 2, 'guidelines': No...</td>\n",
       "      <td>c3548386-10b8-4a95-b7c1-9f1edea7ac5e</td>\n",
       "      <td>0</td>\n",
       "      <td>0</td>\n",
       "      <td>0.0</td>\n",
       "      <td>0.0</td>\n",
       "      <td>50</td>\n",
       "    </tr>\n",
       "    <tr>\n",
       "      <th>3</th>\n",
       "      <td>0</td>\n",
       "      <td>0</td>\n",
       "      <td>{'annotators_per_example': 2, 'guidelines': '#...</td>\n",
       "      <td>cb3ef219-25c2-41cd-ba59-ccdc5b73bed4</td>\n",
       "      <td>0</td>\n",
       "      <td>0</td>\n",
       "      <td>0.0</td>\n",
       "      <td>0.0</td>\n",
       "      <td>50</td>\n",
       "    </tr>\n",
       "    <tr>\n",
       "      <th>4</th>\n",
       "      <td>0</td>\n",
       "      <td>0</td>\n",
       "      <td>{'annotators_per_example': 3, 'guidelines': No...</td>\n",
       "      <td>e2f37ca4-4192-4b3d-b68f-308ef2bdcecc</td>\n",
       "      <td>0</td>\n",
       "      <td>0</td>\n",
       "      <td>0.0</td>\n",
       "      <td>0.0</td>\n",
       "      <td>111</td>\n",
       "    </tr>\n",
       "  </tbody>\n",
       "</table>\n",
       "</div>"
      ],
      "text/plain": [
       "   annotations  complete_tasks  \\\n",
       "0            0               0   \n",
       "1            0               0   \n",
       "2            0               0   \n",
       "3            0               0   \n",
       "4            0               0   \n",
       "\n",
       "                                          definition  \\\n",
       "0  {'annotators_per_example': 1, 'guidelines': No...   \n",
       "1  {'annotators_per_example': 2, 'guidelines': No...   \n",
       "2  {'annotators_per_example': 2, 'guidelines': No...   \n",
       "3  {'annotators_per_example': 2, 'guidelines': '#...   \n",
       "4  {'annotators_per_example': 3, 'guidelines': No...   \n",
       "\n",
       "                                     id  partial_tasks  \\\n",
       "0  0d3a7cef-8427-4465-b141-063381681da8              0   \n",
       "1  95bda674-c871-46e3-8c5c-650d77afa2e5              0   \n",
       "2  c3548386-10b8-4a95-b7c1-9f1edea7ac5e              0   \n",
       "3  cb3ef219-25c2-41cd-ba59-ccdc5b73bed4              0   \n",
       "4  e2f37ca4-4192-4b3d-b68f-308ef2bdcecc              0   \n",
       "\n",
       "   participating_annotators  percent_complete  percent_partial_complete  \\\n",
       "0                         0               0.0                       0.0   \n",
       "1                         0               0.0                       0.0   \n",
       "2                         0               0.0                       0.0   \n",
       "3                         0               0.0                       0.0   \n",
       "4                         0               0.0                       0.0   \n",
       "\n",
       "   total_tasks  \n",
       "0          254  \n",
       "1           50  \n",
       "2           50  \n",
       "3           50  \n",
       "4          111  "
      ]
     },
     "execution_count": 31,
     "metadata": {},
     "output_type": "execute_result"
    }
   ],
   "source": [
    "data = session.get(API_BASE+'projects/default/task_definitions/metrics/').json()\n",
    "metrics = pd.DataFrame(data)\n",
    "metrics"
   ]
  },
  {
   "cell_type": "markdown",
   "metadata": {},
   "source": [
    "### Annotator metrics\n",
    "It is often useful to see how each of our annotators is performing, both individually and compared to their peers. The *labelers* endpoint of an individual task definition will give us that information.\n",
    "\n"
   ]
  },
  {
   "cell_type": "code",
   "execution_count": 38,
   "metadata": {},
   "outputs": [],
   "source": [
    "test_td = task_definitions[4]['url'] # Get the url for the test set taskdefinition"
   ]
  },
  {
   "cell_type": "code",
   "execution_count": 39,
   "metadata": {},
   "outputs": [
    {
     "data": {
      "text/plain": [
       "'http://localhost:8000/api/v1/projects/default/task_definitions/test-set-tags-and-classes/'"
      ]
     },
     "execution_count": 39,
     "metadata": {},
     "output_type": "execute_result"
    }
   ],
   "source": [
    "test_td"
   ]
  },
  {
   "cell_type": "code",
   "execution_count": 40,
   "metadata": {},
   "outputs": [
    {
     "data": {
      "text/html": [
       "<div>\n",
       "<style>\n",
       "    .dataframe thead tr:only-child th {\n",
       "        text-align: right;\n",
       "    }\n",
       "\n",
       "    .dataframe thead th {\n",
       "        text-align: left;\n",
       "    }\n",
       "\n",
       "    .dataframe tbody tr th {\n",
       "        vertical-align: top;\n",
       "    }\n",
       "</style>\n",
       "<table border=\"1\" class=\"dataframe\">\n",
       "  <thead>\n",
       "    <tr style=\"text-align: right;\">\n",
       "      <th></th>\n",
       "      <th>annotator_id</th>\n",
       "      <th>full_agreement</th>\n",
       "      <th>full_agreement_from_mean</th>\n",
       "      <th>no_agreement</th>\n",
       "      <th>no_agreement_from_mean</th>\n",
       "      <th>others</th>\n",
       "      <th>some_agreement</th>\n",
       "      <th>some_agreement_from_mean</th>\n",
       "      <th>total_annotations</th>\n",
       "      <th>total_annotations_from_mean</th>\n",
       "    </tr>\n",
       "  </thead>\n",
       "  <tbody>\n",
       "    <tr>\n",
       "      <th>0</th>\n",
       "      <td>7.0</td>\n",
       "      <td>0.001190</td>\n",
       "      <td>-0.000078</td>\n",
       "      <td>0.938690</td>\n",
       "      <td>0.001284</td>\n",
       "      <td>[{'agreed': 35.0, 'comparable_annotations': 53...</td>\n",
       "      <td>0.060119</td>\n",
       "      <td>-0.001206</td>\n",
       "      <td>1680.0</td>\n",
       "      <td>0.0</td>\n",
       "    </tr>\n",
       "    <tr>\n",
       "      <th>1</th>\n",
       "      <td>8.0</td>\n",
       "      <td>0.001947</td>\n",
       "      <td>0.000679</td>\n",
       "      <td>0.937196</td>\n",
       "      <td>-0.000210</td>\n",
       "      <td>[{'agreed': 35.0, 'comparable_annotations': 57...</td>\n",
       "      <td>0.060857</td>\n",
       "      <td>-0.000468</td>\n",
       "      <td>2054.0</td>\n",
       "      <td>0.0</td>\n",
       "    </tr>\n",
       "    <tr>\n",
       "      <th>2</th>\n",
       "      <td>9.0</td>\n",
       "      <td>0.000964</td>\n",
       "      <td>-0.000304</td>\n",
       "      <td>0.934908</td>\n",
       "      <td>-0.002498</td>\n",
       "      <td>[{'agreed': 23.0, 'comparable_annotations': 35...</td>\n",
       "      <td>0.064127</td>\n",
       "      <td>0.002802</td>\n",
       "      <td>2074.0</td>\n",
       "      <td>0.0</td>\n",
       "    </tr>\n",
       "    <tr>\n",
       "      <th>3</th>\n",
       "      <td>10.0</td>\n",
       "      <td>0.001072</td>\n",
       "      <td>-0.000197</td>\n",
       "      <td>0.939979</td>\n",
       "      <td>0.002572</td>\n",
       "      <td>[{'agreed': 31.0, 'comparable_annotations': 48...</td>\n",
       "      <td>0.058950</td>\n",
       "      <td>-0.002376</td>\n",
       "      <td>1866.0</td>\n",
       "      <td>0.0</td>\n",
       "    </tr>\n",
       "    <tr>\n",
       "      <th>4</th>\n",
       "      <td>11.0</td>\n",
       "      <td>0.001170</td>\n",
       "      <td>-0.000099</td>\n",
       "      <td>0.936257</td>\n",
       "      <td>-0.001149</td>\n",
       "      <td>[{'agreed': 16.0, 'comparable_annotations': 18...</td>\n",
       "      <td>0.062573</td>\n",
       "      <td>0.001248</td>\n",
       "      <td>1710.0</td>\n",
       "      <td>0.0</td>\n",
       "    </tr>\n",
       "  </tbody>\n",
       "</table>\n",
       "</div>"
      ],
      "text/plain": [
       "   annotator_id  full_agreement  full_agreement_from_mean  no_agreement  \\\n",
       "0           7.0        0.001190                 -0.000078      0.938690   \n",
       "1           8.0        0.001947                  0.000679      0.937196   \n",
       "2           9.0        0.000964                 -0.000304      0.934908   \n",
       "3          10.0        0.001072                 -0.000197      0.939979   \n",
       "4          11.0        0.001170                 -0.000099      0.936257   \n",
       "\n",
       "   no_agreement_from_mean                                             others  \\\n",
       "0                0.001284  [{'agreed': 35.0, 'comparable_annotations': 53...   \n",
       "1               -0.000210  [{'agreed': 35.0, 'comparable_annotations': 57...   \n",
       "2               -0.002498  [{'agreed': 23.0, 'comparable_annotations': 35...   \n",
       "3                0.002572  [{'agreed': 31.0, 'comparable_annotations': 48...   \n",
       "4               -0.001149  [{'agreed': 16.0, 'comparable_annotations': 18...   \n",
       "\n",
       "   some_agreement  some_agreement_from_mean  total_annotations  \\\n",
       "0        0.060119                 -0.001206             1680.0   \n",
       "1        0.060857                 -0.000468             2054.0   \n",
       "2        0.064127                  0.002802             2074.0   \n",
       "3        0.058950                 -0.002376             1866.0   \n",
       "4        0.062573                  0.001248             1710.0   \n",
       "\n",
       "   total_annotations_from_mean  \n",
       "0                          0.0  \n",
       "1                          0.0  \n",
       "2                          0.0  \n",
       "3                          0.0  \n",
       "4                          0.0  "
      ]
     },
     "execution_count": 40,
     "metadata": {},
     "output_type": "execute_result"
    }
   ],
   "source": [
    "#Or get details for all of our tasks at once\n",
    "data = session.get(test_td+'labelers/').json()\n",
    "pd.DataFrame(data)"
   ]
  },
  {
   "cell_type": "markdown",
   "metadata": {},
   "source": [
    "## Classification Metrics\n",
    "It is often useful to monitor the distribution of class labels as they are coming in, the level of agreement among them and which classes are frequently confused. \n"
   ]
  },
  {
   "cell_type": "markdown",
   "metadata": {},
   "source": [
    "### Fetching the distribution of classes\n",
    "The first metric we're usually interested in is the distribution of classes, simply how frequently does each class appear. Some common patterns to look out for\n",
    "    1. One very prominent class\n",
    "    2. One very infrequent class \n",
    "    3. Prominence of the UNK class if you specified an UNK(Unkown) class and it dominates the distribution, you may have confusing instructions or lazy labelers. Look into it"
   ]
  },
  {
   "cell_type": "code",
   "execution_count": 43,
   "metadata": {},
   "outputs": [
    {
     "data": {
      "text/plain": [
       "<matplotlib.axes._subplots.AxesSubplot at 0x7f6ad8521780>"
      ]
     },
     "execution_count": 43,
     "metadata": {},
     "output_type": "execute_result"
    },
    {
     "data": {
      "image/png": "[encoded data removed]",
      "text/plain": [
       "<matplotlib.figure.Figure at 0x7f6ad849b8d0>"
      ]
     },
     "metadata": {},
     "output_type": "display_data"
    }
   ],
   "source": [
    "data = session.get(test_td+'classification_count/').json()\n",
    "pd.DataFrame(data).set_index('name').plot.bar(table=True,\n",
    "    title=\"Disribution of classes for task {name}\".format(name=\"test-set-tags-and-classes\"))"
   ]
  },
  {
   "cell_type": "markdown",
   "metadata": {},
   "source": [
    "### Analyzing the agreement of classes\n",
    "When labeling with more than one annotator per example, we should also look at the agreement level. LightTags *classification_agg* endpoint, which sits under a particular task definition, will give you those results. That is, you will see, per class, how many of its instances were agreed upon by 1,2..n labelers who saw that example"
   ]
  },
  {
   "cell_type": "code",
   "execution_count": 44,
   "metadata": {},
   "outputs": [],
   "source": [
    "data = session.get(test_td+'classification_agg/').json() # Get the data\n",
    "class_agg = pd.DataFrame(data)"
   ]
  },
  {
   "cell_type": "markdown",
   "metadata": {},
   "source": [
    "It is often instructive to pivot and plot this metric"
   ]
  },
  {
   "cell_type": "code",
   "execution_count": 45,
   "metadata": {},
   "outputs": [
    {
     "data": {
      "text/html": [
       "<div>\n",
       "<style>\n",
       "    .dataframe thead tr:only-child th {\n",
       "        text-align: right;\n",
       "    }\n",
       "\n",
       "    .dataframe thead th {\n",
       "        text-align: left;\n",
       "    }\n",
       "\n",
       "    .dataframe tbody tr th {\n",
       "        vertical-align: top;\n",
       "    }\n",
       "</style>\n",
       "<table border=\"1\" class=\"dataframe\">\n",
       "  <thead>\n",
       "    <tr style=\"text-align: right;\">\n",
       "      <th>agrees</th>\n",
       "      <th>1</th>\n",
       "      <th>2</th>\n",
       "      <th>3</th>\n",
       "    </tr>\n",
       "    <tr>\n",
       "      <th>name</th>\n",
       "      <th></th>\n",
       "      <th></th>\n",
       "      <th></th>\n",
       "    </tr>\n",
       "  </thead>\n",
       "  <tbody>\n",
       "    <tr>\n",
       "      <th>Confusing</th>\n",
       "      <td>227</td>\n",
       "      <td>64</td>\n",
       "      <td>5</td>\n",
       "    </tr>\n",
       "    <tr>\n",
       "      <th>Insult</th>\n",
       "      <td>267</td>\n",
       "      <td>174</td>\n",
       "      <td>40</td>\n",
       "    </tr>\n",
       "    <tr>\n",
       "      <th>Praise</th>\n",
       "      <td>253</td>\n",
       "      <td>118</td>\n",
       "      <td>12</td>\n",
       "    </tr>\n",
       "    <tr>\n",
       "      <th>UNK</th>\n",
       "      <td>159</td>\n",
       "      <td>10</td>\n",
       "      <td>2</td>\n",
       "    </tr>\n",
       "  </tbody>\n",
       "</table>\n",
       "</div>"
      ],
      "text/plain": [
       "agrees       1    2   3\n",
       "name                   \n",
       "Confusing  227   64   5\n",
       "Insult     267  174  40\n",
       "Praise     253  118  12\n",
       "UNK        159   10   2"
      ]
     },
     "execution_count": 45,
     "metadata": {},
     "output_type": "execute_result"
    }
   ],
   "source": [
    "class_agg_p = class_agg.pivot_table(index='name',columns='agrees',values='count')\n",
    "class_agg_p"
   ]
  },
  {
   "cell_type": "code",
   "execution_count": 46,
   "metadata": {},
   "outputs": [
    {
     "data": {
      "text/plain": [
       "<matplotlib.axes._subplots.AxesSubplot at 0x7f6ad842da20>"
      ]
     },
     "execution_count": 46,
     "metadata": {},
     "output_type": "execute_result"
    },
    {
     "data": {
      "image/png": "[encoded data removed]",
      "text/plain": [
       "<matplotlib.figure.Figure at 0x7f6ad8479a90>"
      ]
     },
     "metadata": {},
     "output_type": "display_data"
    }
   ],
   "source": [
    "class_agg_p.plot.bar(\n",
    "    stacked=True,\n",
    "    title=\"Agreement breakdown of classifications for task {name}\".format(name=\"test-set-tags-and-classes\")\n",
    ")"
   ]
  },
  {
   "cell_type": "markdown",
   "metadata": {},
   "source": [
    "And transposing the pivot table can also be indicative, in this example it makes clear that only the Insult class gets significnt \"full agreement\""
   ]
  },
  {
   "cell_type": "code",
   "execution_count": 48,
   "metadata": {},
   "outputs": [
    {
     "data": {
      "text/plain": [
       "<matplotlib.axes._subplots.AxesSubplot at 0x7f6ad852f748>"
      ]
     },
     "execution_count": 48,
     "metadata": {},
     "output_type": "execute_result"
    },
    {
     "data": {
      "image/png": "[encoded data removed]",
      "text/plain": [
       "<matplotlib.figure.Figure at 0x7f6ad833afd0>"
      ]
     },
     "metadata": {},
     "output_type": "display_data"
    }
   ],
   "source": [
    "class_agg_p.T.plot.bar(\n",
    "    stacked=True,\n",
    "    title=\"Agreement breakdown of classifications for task {name}\".format(name=\"test-set-tags-and-classes\")\n",
    ")"
   ]
  },
  {
   "cell_type": "markdown",
   "metadata": {},
   "source": [
    "### Classsiffication Confusion Matrix\n",
    "As we see above, often times our labelers do not agree. In the example above (on synthetic data) we see that most of the time our labelers do not agree at all, regardless of the class. In these instances, it is often convenient to construct a confusion matrix and see which classes our labelers confusing the most. In turn, this lets us update our instructions or Schema to ensure quality data\n",
    "LightTag provides a confusion matrix for classifications under the **classification_confusion** endpoint of a taskdefinition"
   ]
  },
  {
   "cell_type": "code",
   "execution_count": 49,
   "metadata": {},
   "outputs": [
    {
     "data": {
      "text/html": [
       "<div>\n",
       "<style>\n",
       "    .dataframe thead tr:only-child th {\n",
       "        text-align: right;\n",
       "    }\n",
       "\n",
       "    .dataframe thead th {\n",
       "        text-align: left;\n",
       "    }\n",
       "\n",
       "    .dataframe tbody tr th {\n",
       "        vertical-align: top;\n",
       "    }\n",
       "</style>\n",
       "<table border=\"1\" class=\"dataframe\">\n",
       "  <thead>\n",
       "    <tr style=\"text-align: right;\">\n",
       "      <th></th>\n",
       "      <th>class_a</th>\n",
       "      <th>class_b</th>\n",
       "      <th>count</th>\n",
       "    </tr>\n",
       "  </thead>\n",
       "  <tbody>\n",
       "    <tr>\n",
       "      <th>0</th>\n",
       "      <td>Confusing</td>\n",
       "      <td>Confusing</td>\n",
       "      <td>79</td>\n",
       "    </tr>\n",
       "    <tr>\n",
       "      <th>1</th>\n",
       "      <td>Confusing</td>\n",
       "      <td>Insult</td>\n",
       "      <td>150</td>\n",
       "    </tr>\n",
       "    <tr>\n",
       "      <th>2</th>\n",
       "      <td>Confusing</td>\n",
       "      <td>Praise</td>\n",
       "      <td>105</td>\n",
       "    </tr>\n",
       "    <tr>\n",
       "      <th>3</th>\n",
       "      <td>Confusing</td>\n",
       "      <td>UNK</td>\n",
       "      <td>36</td>\n",
       "    </tr>\n",
       "    <tr>\n",
       "      <th>4</th>\n",
       "      <td>Insult</td>\n",
       "      <td>Confusing</td>\n",
       "      <td>153</td>\n",
       "    </tr>\n",
       "    <tr>\n",
       "      <th>5</th>\n",
       "      <td>Insult</td>\n",
       "      <td>Insult</td>\n",
       "      <td>294</td>\n",
       "    </tr>\n",
       "    <tr>\n",
       "      <th>6</th>\n",
       "      <td>Insult</td>\n",
       "      <td>Praise</td>\n",
       "      <td>202</td>\n",
       "    </tr>\n",
       "    <tr>\n",
       "      <th>7</th>\n",
       "      <td>Insult</td>\n",
       "      <td>UNK</td>\n",
       "      <td>74</td>\n",
       "    </tr>\n",
       "    <tr>\n",
       "      <th>8</th>\n",
       "      <td>Praise</td>\n",
       "      <td>Confusing</td>\n",
       "      <td>106</td>\n",
       "    </tr>\n",
       "    <tr>\n",
       "      <th>9</th>\n",
       "      <td>Praise</td>\n",
       "      <td>Insult</td>\n",
       "      <td>218</td>\n",
       "    </tr>\n",
       "    <tr>\n",
       "      <th>10</th>\n",
       "      <td>Praise</td>\n",
       "      <td>Praise</td>\n",
       "      <td>154</td>\n",
       "    </tr>\n",
       "    <tr>\n",
       "      <th>11</th>\n",
       "      <td>Praise</td>\n",
       "      <td>UNK</td>\n",
       "      <td>58</td>\n",
       "    </tr>\n",
       "    <tr>\n",
       "      <th>12</th>\n",
       "      <td>UNK</td>\n",
       "      <td>Confusing</td>\n",
       "      <td>32</td>\n",
       "    </tr>\n",
       "    <tr>\n",
       "      <th>13</th>\n",
       "      <td>UNK</td>\n",
       "      <td>Insult</td>\n",
       "      <td>85</td>\n",
       "    </tr>\n",
       "    <tr>\n",
       "      <th>14</th>\n",
       "      <td>UNK</td>\n",
       "      <td>Praise</td>\n",
       "      <td>53</td>\n",
       "    </tr>\n",
       "    <tr>\n",
       "      <th>15</th>\n",
       "      <td>UNK</td>\n",
       "      <td>UNK</td>\n",
       "      <td>16</td>\n",
       "    </tr>\n",
       "  </tbody>\n",
       "</table>\n",
       "</div>"
      ],
      "text/plain": [
       "      class_a    class_b  count\n",
       "0   Confusing  Confusing     79\n",
       "1   Confusing     Insult    150\n",
       "2   Confusing     Praise    105\n",
       "3   Confusing        UNK     36\n",
       "4      Insult  Confusing    153\n",
       "5      Insult     Insult    294\n",
       "6      Insult     Praise    202\n",
       "7      Insult        UNK     74\n",
       "8      Praise  Confusing    106\n",
       "9      Praise     Insult    218\n",
       "10     Praise     Praise    154\n",
       "11     Praise        UNK     58\n",
       "12        UNK  Confusing     32\n",
       "13        UNK     Insult     85\n",
       "14        UNK     Praise     53\n",
       "15        UNK        UNK     16"
      ]
     },
     "execution_count": 49,
     "metadata": {},
     "output_type": "execute_result"
    }
   ],
   "source": [
    "data = session.get(test_td+'classification_confusion/').json() #Fetch the confusion matrix\n",
    "class_confusion = pd.DataFrame(data)\n",
    "class_confusion"
   ]
  },
  {
   "cell_type": "markdown",
   "metadata": {},
   "source": [
    "Again, it is often convenient to pivot the data"
   ]
  },
  {
   "cell_type": "code",
   "execution_count": 50,
   "metadata": {},
   "outputs": [
    {
     "data": {
      "text/html": [
       "<div>\n",
       "<style>\n",
       "    .dataframe thead tr:only-child th {\n",
       "        text-align: right;\n",
       "    }\n",
       "\n",
       "    .dataframe thead th {\n",
       "        text-align: left;\n",
       "    }\n",
       "\n",
       "    .dataframe tbody tr th {\n",
       "        vertical-align: top;\n",
       "    }\n",
       "</style>\n",
       "<table border=\"1\" class=\"dataframe\">\n",
       "  <thead>\n",
       "    <tr style=\"text-align: right;\">\n",
       "      <th>class_b</th>\n",
       "      <th>Confusing</th>\n",
       "      <th>Insult</th>\n",
       "      <th>Praise</th>\n",
       "      <th>UNK</th>\n",
       "    </tr>\n",
       "    <tr>\n",
       "      <th>class_a</th>\n",
       "      <th></th>\n",
       "      <th></th>\n",
       "      <th></th>\n",
       "      <th></th>\n",
       "    </tr>\n",
       "  </thead>\n",
       "  <tbody>\n",
       "    <tr>\n",
       "      <th>Confusing</th>\n",
       "      <td>79</td>\n",
       "      <td>150</td>\n",
       "      <td>105</td>\n",
       "      <td>36</td>\n",
       "    </tr>\n",
       "    <tr>\n",
       "      <th>Insult</th>\n",
       "      <td>153</td>\n",
       "      <td>294</td>\n",
       "      <td>202</td>\n",
       "      <td>74</td>\n",
       "    </tr>\n",
       "    <tr>\n",
       "      <th>Praise</th>\n",
       "      <td>106</td>\n",
       "      <td>218</td>\n",
       "      <td>154</td>\n",
       "      <td>58</td>\n",
       "    </tr>\n",
       "    <tr>\n",
       "      <th>UNK</th>\n",
       "      <td>32</td>\n",
       "      <td>85</td>\n",
       "      <td>53</td>\n",
       "      <td>16</td>\n",
       "    </tr>\n",
       "  </tbody>\n",
       "</table>\n",
       "</div>"
      ],
      "text/plain": [
       "class_b    Confusing  Insult  Praise  UNK\n",
       "class_a                                  \n",
       "Confusing         79     150     105   36\n",
       "Insult           153     294     202   74\n",
       "Praise           106     218     154   58\n",
       "UNK               32      85      53   16"
      ]
     },
     "execution_count": 50,
     "metadata": {},
     "output_type": "execute_result"
    }
   ],
   "source": [
    "class_confusion_p= (class_confusion.pivot_table(index='class_a',columns='class_b',values='count'))\n",
    "class_confusion_p\n"
   ]
  },
  {
   "cell_type": "markdown",
   "metadata": {},
   "source": [
    "And visualize it as a heatmap\n"
   ]
  },
  {
   "cell_type": "code",
   "execution_count": 59,
   "metadata": {},
   "outputs": [
    {
     "data": {
      "text/html": [
       "<div>\n",
       "<style>\n",
       "    .dataframe thead tr:only-child th {\n",
       "        text-align: right;\n",
       "    }\n",
       "\n",
       "    .dataframe thead th {\n",
       "        text-align: left;\n",
       "    }\n",
       "\n",
       "    .dataframe tbody tr th {\n",
       "        vertical-align: top;\n",
       "    }\n",
       "</style>\n",
       "<table border=\"1\" class=\"dataframe\">\n",
       "  <thead>\n",
       "    <tr style=\"text-align: right;\">\n",
       "      <th>class_b</th>\n",
       "      <th>Confusing</th>\n",
       "      <th>Insult</th>\n",
       "      <th>Praise</th>\n",
       "      <th>UNK</th>\n",
       "    </tr>\n",
       "    <tr>\n",
       "      <th>class_a</th>\n",
       "      <th></th>\n",
       "      <th></th>\n",
       "      <th></th>\n",
       "      <th></th>\n",
       "    </tr>\n",
       "  </thead>\n",
       "  <tbody>\n",
       "    <tr>\n",
       "      <th>Confusing</th>\n",
       "      <td>0.213514</td>\n",
       "      <td>0.618919</td>\n",
       "      <td>0.902703</td>\n",
       "      <td>1.0</td>\n",
       "    </tr>\n",
       "    <tr>\n",
       "      <th>Insult</th>\n",
       "      <td>0.211618</td>\n",
       "      <td>0.618257</td>\n",
       "      <td>0.897649</td>\n",
       "      <td>1.0</td>\n",
       "    </tr>\n",
       "    <tr>\n",
       "      <th>Praise</th>\n",
       "      <td>0.197761</td>\n",
       "      <td>0.604478</td>\n",
       "      <td>0.891791</td>\n",
       "      <td>1.0</td>\n",
       "    </tr>\n",
       "    <tr>\n",
       "      <th>UNK</th>\n",
       "      <td>0.172043</td>\n",
       "      <td>0.629032</td>\n",
       "      <td>0.913978</td>\n",
       "      <td>1.0</td>\n",
       "    </tr>\n",
       "  </tbody>\n",
       "</table>\n",
       "</div>"
      ],
      "text/plain": [
       "class_b    Confusing    Insult    Praise  UNK\n",
       "class_a                                      \n",
       "Confusing   0.213514  0.618919  0.902703  1.0\n",
       "Insult      0.211618  0.618257  0.897649  1.0\n",
       "Praise      0.197761  0.604478  0.891791  1.0\n",
       "UNK         0.172043  0.629032  0.913978  1.0"
      ]
     },
     "execution_count": 59,
     "metadata": {},
     "output_type": "execute_result"
    }
   ],
   "source": [
    "class_confusion_p.div(class_confusion_p.sum(1),axis=0).cumsum(1)"
   ]
  },
  {
   "cell_type": "markdown",
   "metadata": {},
   "source": [
    "## Tag Metrics\n",
    "The metrics we are interested in with tags are similar to classifications with some subtle differences. In LightTag, a single example has only one classification but can have many tags. Additionaly, a tag has a location as well as a type. For example in \"President Donald Trump\" Donald Trump has type \"Person\", starts at 11 and ends at 23.\n",
    "Thus when we calculate agreement things get a little more subtle"
   ]
  },
  {
   "cell_type": "markdown",
   "metadata": {},
   "source": [
    "### Fetching counts and agreements for tags\n",
    "Exactly as we did for classsifications, we can fetch the distribution of each tag from a taskdefinitions **tag_count** endpoint"
   ]
  },
  {
   "cell_type": "code",
   "execution_count": 64,
   "metadata": {},
   "outputs": [
    {
     "data": {
      "text/plain": [
       "<matplotlib.axes._subplots.AxesSubplot at 0x7f6acf831320>"
      ]
     },
     "execution_count": 64,
     "metadata": {},
     "output_type": "execute_result"
    },
    {
     "data": {
      "image/png": "[encoded data removed]",
      "text/plain": [
       "<matplotlib.figure.Figure at 0x7f6ad8374f60>"
      ]
     },
     "metadata": {},
     "output_type": "display_data"
    }
   ],
   "source": [
    "data = session.get(test_td+'tag_count/').json()\n",
    "pd.DataFrame(data).set_index('name').plot.bar(\n",
    "    title=\"Disribution of tags for task {name}\".format(name=\"test-set-tags-and-classes\"))"
   ]
  },
  {
   "cell_type": "markdown",
   "metadata": {},
   "source": [
    "Similarly we can fetch the agreements from the **tag_agg** endpoint"
   ]
  },
  {
   "cell_type": "code",
   "execution_count": 66,
   "metadata": {},
   "outputs": [
    {
     "data": {
      "text/plain": [
       "<matplotlib.axes._subplots.AxesSubplot at 0x7f6acf748dd8>"
      ]
     },
     "execution_count": 66,
     "metadata": {},
     "output_type": "execute_result"
    },
    {
     "data": {
      "image/png": "[encoded data removed]",
      "text/plain": [
       "<matplotlib.figure.Figure at 0x7f6acf7777f0>"
      ]
     },
     "metadata": {},
     "output_type": "display_data"
    }
   ],
   "source": [
    "data = session.get(test_td+'tag_agg/').json()\n",
    "pd.DataFrame(data).pivot_table(index='name',columns='agrees',values='count').plot.bar(\n",
    "    stacked=True,\n",
    "    \n",
    "    title=\"Agreement breakdown of tags for task {name}\".format(name=\"test-set-tags-and-classes\")\n",
    ")"
   ]
  },
  {
   "cell_type": "markdown",
   "metadata": {},
   "source": [
    "## Tag level error analysis and confusion matrix\n",
    "Similar to classifications, we'd like to understand why are labelers are disagreeing. As mentioned before, tags have a location in the example which means their are a number of possible ways to disagree. The endpoint **tag_confusion** on a task definition will return the error type; it's possible values are\n",
    "### Types of tag errors\n",
    "1. **agree** The location and type of the annotation were equal (this is ideal)\n",
    "2. **singular** Annotator A annotated but annotator B did not\n",
    "3. **tag_mismatch** Annotator A and B agreed on the location of an annotation but not it's tag. For example, \"White House\" might have been labeled by A as location and B as Organization\n",
    "4. **span_mismatch** Annotator A and B made an overlapping annotation with the same type, but the they were not equal. For example, \"President Donald Trump\", A and B will both label \"Person\" but A selected \"President Donald Trump\" and B ommited President, labeling only \"Donald Trump\"\n",
    "5. **tag_span_mismatch** A and B made an overlapping annotation, but the location was not equal and the tag was different. For example, \"The White House\", A labeled the entire phrase as Location while B labeled just \"White House\" as an organisation"
   ]
  },
  {
   "cell_type": "code",
   "execution_count": 71,
   "metadata": {},
   "outputs": [
    {
     "data": {
      "text/html": [
       "<div>\n",
       "<style>\n",
       "    .dataframe thead tr:only-child th {\n",
       "        text-align: right;\n",
       "    }\n",
       "\n",
       "    .dataframe thead th {\n",
       "        text-align: left;\n",
       "    }\n",
       "\n",
       "    .dataframe tbody tr th {\n",
       "        vertical-align: top;\n",
       "    }\n",
       "</style>\n",
       "<table border=\"1\" class=\"dataframe\">\n",
       "  <thead>\n",
       "    <tr style=\"text-align: right;\">\n",
       "      <th></th>\n",
       "      <th>count</th>\n",
       "      <th>error</th>\n",
       "      <th>tag_a</th>\n",
       "      <th>tag_b</th>\n",
       "    </tr>\n",
       "  </thead>\n",
       "  <tbody>\n",
       "    <tr>\n",
       "      <th>0</th>\n",
       "      <td>29</td>\n",
       "      <td>agree</td>\n",
       "      <td>Insult</td>\n",
       "      <td>Insult</td>\n",
       "    </tr>\n",
       "    <tr>\n",
       "      <th>1</th>\n",
       "      <td>51</td>\n",
       "      <td>agree</td>\n",
       "      <td>Issue</td>\n",
       "      <td>Issue</td>\n",
       "    </tr>\n",
       "    <tr>\n",
       "      <th>2</th>\n",
       "      <td>20</td>\n",
       "      <td>agree</td>\n",
       "      <td>Media organization</td>\n",
       "      <td>Media organization</td>\n",
       "    </tr>\n",
       "    <tr>\n",
       "      <th>3</th>\n",
       "      <td>122</td>\n",
       "      <td>agree</td>\n",
       "      <td>Person</td>\n",
       "      <td>Person</td>\n",
       "    </tr>\n",
       "    <tr>\n",
       "      <th>4</th>\n",
       "      <td>74</td>\n",
       "      <td>agree</td>\n",
       "      <td>Place</td>\n",
       "      <td>Place</td>\n",
       "    </tr>\n",
       "    <tr>\n",
       "      <th>5</th>\n",
       "      <td>4</td>\n",
       "      <td>agree</td>\n",
       "      <td>Politcal Group</td>\n",
       "      <td>Politcal Group</td>\n",
       "    </tr>\n",
       "    <tr>\n",
       "      <th>6</th>\n",
       "      <td>870</td>\n",
       "      <td>singular</td>\n",
       "      <td>Insult</td>\n",
       "      <td></td>\n",
       "    </tr>\n",
       "    <tr>\n",
       "      <th>7</th>\n",
       "      <td>1230</td>\n",
       "      <td>singular</td>\n",
       "      <td>Issue</td>\n",
       "      <td></td>\n",
       "    </tr>\n",
       "    <tr>\n",
       "      <th>8</th>\n",
       "      <td>637</td>\n",
       "      <td>singular</td>\n",
       "      <td>Media organization</td>\n",
       "      <td></td>\n",
       "    </tr>\n",
       "    <tr>\n",
       "      <th>9</th>\n",
       "      <td>1801</td>\n",
       "      <td>singular</td>\n",
       "      <td>Person</td>\n",
       "      <td></td>\n",
       "    </tr>\n",
       "  </tbody>\n",
       "</table>\n",
       "</div>"
      ],
      "text/plain": [
       "   count     error               tag_a               tag_b\n",
       "0     29     agree              Insult              Insult\n",
       "1     51     agree               Issue               Issue\n",
       "2     20     agree  Media organization  Media organization\n",
       "3    122     agree              Person              Person\n",
       "4     74     agree               Place               Place\n",
       "5      4     agree      Politcal Group      Politcal Group\n",
       "6    870  singular              Insult                    \n",
       "7   1230  singular               Issue                    \n",
       "8    637  singular  Media organization                    \n",
       "9   1801  singular              Person                    "
      ]
     },
     "execution_count": 71,
     "metadata": {},
     "output_type": "execute_result"
    }
   ],
   "source": [
    "import seaborn as sns\n",
    "data = session.get(test_td+'tag_confusion/').json() # Fetch the tag level \n",
    "D = pd.DataFrame(data).fillna('')  #Fill null entriess with a blank string\n",
    "D.head(10)\n"
   ]
  },
  {
   "cell_type": "markdown",
   "metadata": {},
   "source": [
    "As always, it is convenient to pivot the data, this time using a multi index"
   ]
  },
  {
   "cell_type": "code",
   "execution_count": 73,
   "metadata": {},
   "outputs": [
    {
     "data": {
      "text/html": [
       "<div>\n",
       "<style>\n",
       "    .dataframe thead tr:only-child th {\n",
       "        text-align: right;\n",
       "    }\n",
       "\n",
       "    .dataframe thead th {\n",
       "        text-align: left;\n",
       "    }\n",
       "\n",
       "    .dataframe tbody tr th {\n",
       "        vertical-align: top;\n",
       "    }\n",
       "</style>\n",
       "<table border=\"1\" class=\"dataframe\">\n",
       "  <thead>\n",
       "    <tr style=\"text-align: right;\">\n",
       "      <th></th>\n",
       "      <th>error</th>\n",
       "      <th>agree</th>\n",
       "      <th>singular</th>\n",
       "      <th>span_mismatch</th>\n",
       "      <th>span_tag_mismatch</th>\n",
       "      <th>tag_mismatch</th>\n",
       "    </tr>\n",
       "    <tr>\n",
       "      <th>tag_a</th>\n",
       "      <th>tag_b</th>\n",
       "      <th></th>\n",
       "      <th></th>\n",
       "      <th></th>\n",
       "      <th></th>\n",
       "      <th></th>\n",
       "    </tr>\n",
       "  </thead>\n",
       "  <tbody>\n",
       "    <tr>\n",
       "      <th rowspan=\"7\" valign=\"top\">Insult</th>\n",
       "      <th></th>\n",
       "      <td>0.0</td>\n",
       "      <td>870.0</td>\n",
       "      <td>0.0</td>\n",
       "      <td>0.0</td>\n",
       "      <td>0.0</td>\n",
       "    </tr>\n",
       "    <tr>\n",
       "      <th>Insult</th>\n",
       "      <td>29.0</td>\n",
       "      <td>0.0</td>\n",
       "      <td>43.0</td>\n",
       "      <td>0.0</td>\n",
       "      <td>0.0</td>\n",
       "    </tr>\n",
       "    <tr>\n",
       "      <th>Issue</th>\n",
       "      <td>0.0</td>\n",
       "      <td>0.0</td>\n",
       "      <td>0.0</td>\n",
       "      <td>67.0</td>\n",
       "      <td>49.0</td>\n",
       "    </tr>\n",
       "    <tr>\n",
       "      <th>Media organization</th>\n",
       "      <td>0.0</td>\n",
       "      <td>0.0</td>\n",
       "      <td>0.0</td>\n",
       "      <td>34.0</td>\n",
       "      <td>15.0</td>\n",
       "    </tr>\n",
       "    <tr>\n",
       "      <th>Person</th>\n",
       "      <td>0.0</td>\n",
       "      <td>0.0</td>\n",
       "      <td>0.0</td>\n",
       "      <td>89.0</td>\n",
       "      <td>59.0</td>\n",
       "    </tr>\n",
       "    <tr>\n",
       "      <th>Place</th>\n",
       "      <td>0.0</td>\n",
       "      <td>0.0</td>\n",
       "      <td>0.0</td>\n",
       "      <td>76.0</td>\n",
       "      <td>45.0</td>\n",
       "    </tr>\n",
       "    <tr>\n",
       "      <th>Politcal Group</th>\n",
       "      <td>0.0</td>\n",
       "      <td>0.0</td>\n",
       "      <td>0.0</td>\n",
       "      <td>16.0</td>\n",
       "      <td>9.0</td>\n",
       "    </tr>\n",
       "    <tr>\n",
       "      <th rowspan=\"7\" valign=\"top\">Issue</th>\n",
       "      <th></th>\n",
       "      <td>0.0</td>\n",
       "      <td>1230.0</td>\n",
       "      <td>0.0</td>\n",
       "      <td>0.0</td>\n",
       "      <td>0.0</td>\n",
       "    </tr>\n",
       "    <tr>\n",
       "      <th>Insult</th>\n",
       "      <td>0.0</td>\n",
       "      <td>0.0</td>\n",
       "      <td>0.0</td>\n",
       "      <td>50.0</td>\n",
       "      <td>39.0</td>\n",
       "    </tr>\n",
       "    <tr>\n",
       "      <th>Issue</th>\n",
       "      <td>51.0</td>\n",
       "      <td>0.0</td>\n",
       "      <td>89.0</td>\n",
       "      <td>0.0</td>\n",
       "      <td>0.0</td>\n",
       "    </tr>\n",
       "    <tr>\n",
       "      <th>Media organization</th>\n",
       "      <td>0.0</td>\n",
       "      <td>0.0</td>\n",
       "      <td>0.0</td>\n",
       "      <td>53.0</td>\n",
       "      <td>27.0</td>\n",
       "    </tr>\n",
       "    <tr>\n",
       "      <th>Person</th>\n",
       "      <td>0.0</td>\n",
       "      <td>0.0</td>\n",
       "      <td>0.0</td>\n",
       "      <td>114.0</td>\n",
       "      <td>90.0</td>\n",
       "    </tr>\n",
       "    <tr>\n",
       "      <th>Place</th>\n",
       "      <td>0.0</td>\n",
       "      <td>0.0</td>\n",
       "      <td>0.0</td>\n",
       "      <td>124.0</td>\n",
       "      <td>65.0</td>\n",
       "    </tr>\n",
       "    <tr>\n",
       "      <th>Politcal Group</th>\n",
       "      <td>0.0</td>\n",
       "      <td>0.0</td>\n",
       "      <td>0.0</td>\n",
       "      <td>17.0</td>\n",
       "      <td>10.0</td>\n",
       "    </tr>\n",
       "    <tr>\n",
       "      <th rowspan=\"7\" valign=\"top\">Media organization</th>\n",
       "      <th></th>\n",
       "      <td>0.0</td>\n",
       "      <td>637.0</td>\n",
       "      <td>0.0</td>\n",
       "      <td>0.0</td>\n",
       "      <td>0.0</td>\n",
       "    </tr>\n",
       "    <tr>\n",
       "      <th>Insult</th>\n",
       "      <td>0.0</td>\n",
       "      <td>0.0</td>\n",
       "      <td>0.0</td>\n",
       "      <td>29.0</td>\n",
       "      <td>16.0</td>\n",
       "    </tr>\n",
       "    <tr>\n",
       "      <th>Issue</th>\n",
       "      <td>0.0</td>\n",
       "      <td>0.0</td>\n",
       "      <td>0.0</td>\n",
       "      <td>36.0</td>\n",
       "      <td>31.0</td>\n",
       "    </tr>\n",
       "    <tr>\n",
       "      <th>Media organization</th>\n",
       "      <td>20.0</td>\n",
       "      <td>0.0</td>\n",
       "      <td>19.0</td>\n",
       "      <td>0.0</td>\n",
       "      <td>0.0</td>\n",
       "    </tr>\n",
       "    <tr>\n",
       "      <th>Person</th>\n",
       "      <td>0.0</td>\n",
       "      <td>0.0</td>\n",
       "      <td>0.0</td>\n",
       "      <td>78.0</td>\n",
       "      <td>39.0</td>\n",
       "    </tr>\n",
       "    <tr>\n",
       "      <th>Place</th>\n",
       "      <td>0.0</td>\n",
       "      <td>0.0</td>\n",
       "      <td>0.0</td>\n",
       "      <td>53.0</td>\n",
       "      <td>36.0</td>\n",
       "    </tr>\n",
       "    <tr>\n",
       "      <th>Politcal Group</th>\n",
       "      <td>0.0</td>\n",
       "      <td>0.0</td>\n",
       "      <td>0.0</td>\n",
       "      <td>9.0</td>\n",
       "      <td>4.0</td>\n",
       "    </tr>\n",
       "    <tr>\n",
       "      <th rowspan=\"7\" valign=\"top\">Person</th>\n",
       "      <th></th>\n",
       "      <td>0.0</td>\n",
       "      <td>1801.0</td>\n",
       "      <td>0.0</td>\n",
       "      <td>0.0</td>\n",
       "      <td>0.0</td>\n",
       "    </tr>\n",
       "    <tr>\n",
       "      <th>Insult</th>\n",
       "      <td>0.0</td>\n",
       "      <td>0.0</td>\n",
       "      <td>0.0</td>\n",
       "      <td>94.0</td>\n",
       "      <td>53.0</td>\n",
       "    </tr>\n",
       "    <tr>\n",
       "      <th>Issue</th>\n",
       "      <td>0.0</td>\n",
       "      <td>0.0</td>\n",
       "      <td>0.0</td>\n",
       "      <td>116.0</td>\n",
       "      <td>90.0</td>\n",
       "    </tr>\n",
       "    <tr>\n",
       "      <th>Media organization</th>\n",
       "      <td>0.0</td>\n",
       "      <td>0.0</td>\n",
       "      <td>0.0</td>\n",
       "      <td>70.0</td>\n",
       "      <td>39.0</td>\n",
       "    </tr>\n",
       "    <tr>\n",
       "      <th>Person</th>\n",
       "      <td>122.0</td>\n",
       "      <td>0.0</td>\n",
       "      <td>194.0</td>\n",
       "      <td>0.0</td>\n",
       "      <td>0.0</td>\n",
       "    </tr>\n",
       "    <tr>\n",
       "      <th>Place</th>\n",
       "      <td>0.0</td>\n",
       "      <td>0.0</td>\n",
       "      <td>0.0</td>\n",
       "      <td>165.0</td>\n",
       "      <td>83.0</td>\n",
       "    </tr>\n",
       "    <tr>\n",
       "      <th>Politcal Group</th>\n",
       "      <td>0.0</td>\n",
       "      <td>0.0</td>\n",
       "      <td>0.0</td>\n",
       "      <td>31.0</td>\n",
       "      <td>19.0</td>\n",
       "    </tr>\n",
       "    <tr>\n",
       "      <th rowspan=\"7\" valign=\"top\">Place</th>\n",
       "      <th></th>\n",
       "      <td>0.0</td>\n",
       "      <td>1435.0</td>\n",
       "      <td>0.0</td>\n",
       "      <td>0.0</td>\n",
       "      <td>0.0</td>\n",
       "    </tr>\n",
       "    <tr>\n",
       "      <th>Insult</th>\n",
       "      <td>0.0</td>\n",
       "      <td>0.0</td>\n",
       "      <td>0.0</td>\n",
       "      <td>64.0</td>\n",
       "      <td>58.0</td>\n",
       "    </tr>\n",
       "    <tr>\n",
       "      <th>Issue</th>\n",
       "      <td>0.0</td>\n",
       "      <td>0.0</td>\n",
       "      <td>0.0</td>\n",
       "      <td>110.0</td>\n",
       "      <td>72.0</td>\n",
       "    </tr>\n",
       "    <tr>\n",
       "      <th>Media organization</th>\n",
       "      <td>0.0</td>\n",
       "      <td>0.0</td>\n",
       "      <td>0.0</td>\n",
       "      <td>68.0</td>\n",
       "      <td>33.0</td>\n",
       "    </tr>\n",
       "    <tr>\n",
       "      <th>Person</th>\n",
       "      <td>0.0</td>\n",
       "      <td>0.0</td>\n",
       "      <td>0.0</td>\n",
       "      <td>150.0</td>\n",
       "      <td>94.0</td>\n",
       "    </tr>\n",
       "    <tr>\n",
       "      <th>Place</th>\n",
       "      <td>74.0</td>\n",
       "      <td>0.0</td>\n",
       "      <td>112.0</td>\n",
       "      <td>0.0</td>\n",
       "      <td>0.0</td>\n",
       "    </tr>\n",
       "    <tr>\n",
       "      <th>Politcal Group</th>\n",
       "      <td>0.0</td>\n",
       "      <td>0.0</td>\n",
       "      <td>0.0</td>\n",
       "      <td>22.0</td>\n",
       "      <td>18.0</td>\n",
       "    </tr>\n",
       "    <tr>\n",
       "      <th rowspan=\"7\" valign=\"top\">Politcal Group</th>\n",
       "      <th></th>\n",
       "      <td>0.0</td>\n",
       "      <td>284.0</td>\n",
       "      <td>0.0</td>\n",
       "      <td>0.0</td>\n",
       "      <td>0.0</td>\n",
       "    </tr>\n",
       "    <tr>\n",
       "      <th>Insult</th>\n",
       "      <td>0.0</td>\n",
       "      <td>0.0</td>\n",
       "      <td>0.0</td>\n",
       "      <td>23.0</td>\n",
       "      <td>7.0</td>\n",
       "    </tr>\n",
       "    <tr>\n",
       "      <th>Issue</th>\n",
       "      <td>0.0</td>\n",
       "      <td>0.0</td>\n",
       "      <td>0.0</td>\n",
       "      <td>26.0</td>\n",
       "      <td>16.0</td>\n",
       "    </tr>\n",
       "    <tr>\n",
       "      <th>Media organization</th>\n",
       "      <td>0.0</td>\n",
       "      <td>0.0</td>\n",
       "      <td>0.0</td>\n",
       "      <td>16.0</td>\n",
       "      <td>8.0</td>\n",
       "    </tr>\n",
       "    <tr>\n",
       "      <th>Person</th>\n",
       "      <td>0.0</td>\n",
       "      <td>0.0</td>\n",
       "      <td>0.0</td>\n",
       "      <td>32.0</td>\n",
       "      <td>20.0</td>\n",
       "    </tr>\n",
       "    <tr>\n",
       "      <th>Place</th>\n",
       "      <td>0.0</td>\n",
       "      <td>0.0</td>\n",
       "      <td>0.0</td>\n",
       "      <td>18.0</td>\n",
       "      <td>9.0</td>\n",
       "    </tr>\n",
       "    <tr>\n",
       "      <th>Politcal Group</th>\n",
       "      <td>4.0</td>\n",
       "      <td>0.0</td>\n",
       "      <td>3.0</td>\n",
       "      <td>0.0</td>\n",
       "      <td>0.0</td>\n",
       "    </tr>\n",
       "  </tbody>\n",
       "</table>\n",
       "</div>"
      ],
      "text/plain": [
       "error                                  agree  singular  span_mismatch  \\\n",
       "tag_a              tag_b                                                \n",
       "Insult                                   0.0     870.0            0.0   \n",
       "                   Insult               29.0       0.0           43.0   \n",
       "                   Issue                 0.0       0.0            0.0   \n",
       "                   Media organization    0.0       0.0            0.0   \n",
       "                   Person                0.0       0.0            0.0   \n",
       "                   Place                 0.0       0.0            0.0   \n",
       "                   Politcal Group        0.0       0.0            0.0   \n",
       "Issue                                    0.0    1230.0            0.0   \n",
       "                   Insult                0.0       0.0            0.0   \n",
       "                   Issue                51.0       0.0           89.0   \n",
       "                   Media organization    0.0       0.0            0.0   \n",
       "                   Person                0.0       0.0            0.0   \n",
       "                   Place                 0.0       0.0            0.0   \n",
       "                   Politcal Group        0.0       0.0            0.0   \n",
       "Media organization                       0.0     637.0            0.0   \n",
       "                   Insult                0.0       0.0            0.0   \n",
       "                   Issue                 0.0       0.0            0.0   \n",
       "                   Media organization   20.0       0.0           19.0   \n",
       "                   Person                0.0       0.0            0.0   \n",
       "                   Place                 0.0       0.0            0.0   \n",
       "                   Politcal Group        0.0       0.0            0.0   \n",
       "Person                                   0.0    1801.0            0.0   \n",
       "                   Insult                0.0       0.0            0.0   \n",
       "                   Issue                 0.0       0.0            0.0   \n",
       "                   Media organization    0.0       0.0            0.0   \n",
       "                   Person              122.0       0.0          194.0   \n",
       "                   Place                 0.0       0.0            0.0   \n",
       "                   Politcal Group        0.0       0.0            0.0   \n",
       "Place                                    0.0    1435.0            0.0   \n",
       "                   Insult                0.0       0.0            0.0   \n",
       "                   Issue                 0.0       0.0            0.0   \n",
       "                   Media organization    0.0       0.0            0.0   \n",
       "                   Person                0.0       0.0            0.0   \n",
       "                   Place                74.0       0.0          112.0   \n",
       "                   Politcal Group        0.0       0.0            0.0   \n",
       "Politcal Group                           0.0     284.0            0.0   \n",
       "                   Insult                0.0       0.0            0.0   \n",
       "                   Issue                 0.0       0.0            0.0   \n",
       "                   Media organization    0.0       0.0            0.0   \n",
       "                   Person                0.0       0.0            0.0   \n",
       "                   Place                 0.0       0.0            0.0   \n",
       "                   Politcal Group        4.0       0.0            3.0   \n",
       "\n",
       "error                                  span_tag_mismatch  tag_mismatch  \n",
       "tag_a              tag_b                                                \n",
       "Insult                                               0.0           0.0  \n",
       "                   Insult                            0.0           0.0  \n",
       "                   Issue                            67.0          49.0  \n",
       "                   Media organization               34.0          15.0  \n",
       "                   Person                           89.0          59.0  \n",
       "                   Place                            76.0          45.0  \n",
       "                   Politcal Group                   16.0           9.0  \n",
       "Issue                                                0.0           0.0  \n",
       "                   Insult                           50.0          39.0  \n",
       "                   Issue                             0.0           0.0  \n",
       "                   Media organization               53.0          27.0  \n",
       "                   Person                          114.0          90.0  \n",
       "                   Place                           124.0          65.0  \n",
       "                   Politcal Group                   17.0          10.0  \n",
       "Media organization                                   0.0           0.0  \n",
       "                   Insult                           29.0          16.0  \n",
       "                   Issue                            36.0          31.0  \n",
       "                   Media organization                0.0           0.0  \n",
       "                   Person                           78.0          39.0  \n",
       "                   Place                            53.0          36.0  \n",
       "                   Politcal Group                    9.0           4.0  \n",
       "Person                                               0.0           0.0  \n",
       "                   Insult                           94.0          53.0  \n",
       "                   Issue                           116.0          90.0  \n",
       "                   Media organization               70.0          39.0  \n",
       "                   Person                            0.0           0.0  \n",
       "                   Place                           165.0          83.0  \n",
       "                   Politcal Group                   31.0          19.0  \n",
       "Place                                                0.0           0.0  \n",
       "                   Insult                           64.0          58.0  \n",
       "                   Issue                           110.0          72.0  \n",
       "                   Media organization               68.0          33.0  \n",
       "                   Person                          150.0          94.0  \n",
       "                   Place                             0.0           0.0  \n",
       "                   Politcal Group                   22.0          18.0  \n",
       "Politcal Group                                       0.0           0.0  \n",
       "                   Insult                           23.0           7.0  \n",
       "                   Issue                            26.0          16.0  \n",
       "                   Media organization               16.0           8.0  \n",
       "                   Person                           32.0          20.0  \n",
       "                   Place                            18.0           9.0  \n",
       "                   Politcal Group                    0.0           0.0  "
      ]
     },
     "execution_count": 73,
     "metadata": {},
     "output_type": "execute_result"
    }
   ],
   "source": [
    "Res =D.pivot_table(index=['tag_a','tag_b'],columns=['error'],values='count',)\n",
    "Res = Res.fillna(0)\n",
    "Res"
   ]
  },
  {
   "cell_type": "markdown",
   "metadata": {},
   "source": [
    "## Downloading Results\n",
    "Of course, sometimes we just want to results\n",
    "These are easily attained from a task_definitions **download** endpoint\n",
    "The download view returns \"everything\", that is it returns the entire schema definition, dataset definition, all of the examples and the annotations and classifications. We'll quickly explore the structure of the results here"
   ]
  },
  {
   "cell_type": "code",
   "execution_count": 74,
   "metadata": {},
   "outputs": [],
   "source": [
    "data = session.get(test_td+'download/').json() # Fetch the tag level \n"
   ]
  },
  {
   "cell_type": "code",
   "execution_count": 75,
   "metadata": {},
   "outputs": [
    {
     "data": {
      "text/plain": [
       "dict_keys(['dataset', 'schema', 'id', 'result'])"
      ]
     },
     "execution_count": 75,
     "metadata": {},
     "output_type": "execute_result"
    }
   ],
   "source": [
    "data.keys()"
   ]
  },
  {
   "cell_type": "markdown",
   "metadata": {},
   "source": [
    "The dataset and schema fields are the same we've seen before when we defined our schema and dataset. LightTag provides them so you don't need to do further lookups.\n",
    "\n",
    "The actual results live in the result key, which itself contains a list.\n",
    "Each item in that list contains the **example** that was annotated and the results of the annotation "
   ]
  },
  {
   "cell_type": "code",
   "execution_count": 76,
   "metadata": {},
   "outputs": [
    {
     "data": {
      "text/plain": [
       "dict_keys(['results', 'example'])"
      ]
     },
     "execution_count": 76,
     "metadata": {},
     "output_type": "execute_result"
    }
   ],
   "source": [
    "data['result'][0].keys()\n"
   ]
  },
  {
   "cell_type": "markdown",
   "metadata": {},
   "source": [
    "The results field further divides into annotations and classifications"
   ]
  },
  {
   "cell_type": "code",
   "execution_count": 77,
   "metadata": {},
   "outputs": [
    {
     "data": {
      "text/plain": [
       "dict_keys(['annotations', 'classifications'])"
      ]
     },
     "execution_count": 77,
     "metadata": {},
     "output_type": "execute_result"
    }
   ],
   "source": [
    "data['result'][0]['results'].keys()"
   ]
  },
  {
   "cell_type": "markdown",
   "metadata": {},
   "source": [
    "An annotation result contains the \n",
    "1. id of the annotator, \n",
    "2. the start and end of the annotation, \n",
    "3. the tag applied, \n",
    "4. the value, that is the string that was captured"
   ]
  },
  {
   "cell_type": "code",
   "execution_count": 78,
   "metadata": {},
   "outputs": [
    {
     "data": {
      "text/plain": [
       "{'annotator_id': 10,\n",
       " 'end': 43,\n",
       " 'from_suggestion': False,\n",
       " 'start': 42,\n",
       " 'tag': 'Issue',\n",
       " 'value': 't'}"
      ]
     },
     "execution_count": 78,
     "metadata": {},
     "output_type": "execute_result"
    }
   ],
   "source": [
    "data['result'][0]['results']['annotations'][0]"
   ]
  },
  {
   "cell_type": "markdown",
   "metadata": {},
   "source": [
    "A classification result contains the \n",
    "1. id of the annotator, \n",
    "3. the classname applied, \n"
   ]
  },
  {
   "cell_type": "code",
   "execution_count": 79,
   "metadata": {},
   "outputs": [
    {
     "data": {
      "text/plain": [
       "{'annotator_id': 9, 'classname': 'Praise'}"
      ]
     },
     "execution_count": 79,
     "metadata": {},
     "output_type": "execute_result"
    }
   ],
   "source": [
    "data['result'][0]['results']['classifications'][0]"
   ]
  },
  {
   "cell_type": "markdown",
   "metadata": {},
   "source": [
    "The example field contains the text we labeled"
   ]
  },
  {
   "cell_type": "code",
   "execution_count": 80,
   "metadata": {},
   "outputs": [
    {
     "data": {
      "text/plain": [
       "'Congratulations Secretary Mattis! https://t.co/mkuhbegzqS'"
      ]
     },
     "execution_count": 80,
     "metadata": {},
     "output_type": "execute_result"
    }
   ],
   "source": [
    "data['result'][0]['example']['content']"
   ]
  },
  {
   "cell_type": "markdown",
   "metadata": {},
   "source": [
    "As well as any additional metadata we provided"
   ]
  },
  {
   "cell_type": "code",
   "execution_count": 81,
   "metadata": {},
   "outputs": [
    {
     "data": {
      "text/plain": [
       "{'created_at': 'Fri Jan 27 22:00:47 +0000 2017',\n",
       " 'date': '2017-01-27',\n",
       " 'favorite_count': 111729,\n",
       " 'id_str': '825101272982355968',\n",
       " 'in_reply_to_user_id_str': None,\n",
       " 'is_retweet': False,\n",
       " 'retweet_count': 19030,\n",
       " 'source': 'Twitter for iPhone',\n",
       " 'time': 1485554447000000000}"
      ]
     },
     "execution_count": 81,
     "metadata": {},
     "output_type": "execute_result"
    }
   ],
   "source": [
    "data['result'][0]['example']['metadata']"
   ]
  },
  {
   "cell_type": "markdown",
   "metadata": {},
   "source": [
    "### Running custom analytics\n",
    "Sometimes we want to do some analysis on our data that LightTag does not yet provide. In that case we are down to simple JSON manipilation. \n",
    "Let's get the top 5 words for each tag as an example"
   ]
  },
  {
   "cell_type": "code",
   "execution_count": 82,
   "metadata": {},
   "outputs": [],
   "source": [
    "#Aggregate all of the results\n",
    "annotations = []\n",
    "for result in data['result']:\n",
    "    annotations +=result['results']['annotations']"
   ]
  },
  {
   "cell_type": "code",
   "execution_count": 83,
   "metadata": {},
   "outputs": [
    {
     "data": {
      "text/html": [
       "<div>\n",
       "<style>\n",
       "    .dataframe thead tr:only-child th {\n",
       "        text-align: right;\n",
       "    }\n",
       "\n",
       "    .dataframe thead th {\n",
       "        text-align: left;\n",
       "    }\n",
       "\n",
       "    .dataframe tbody tr th {\n",
       "        vertical-align: top;\n",
       "    }\n",
       "</style>\n",
       "<table border=\"1\" class=\"dataframe\">\n",
       "  <thead>\n",
       "    <tr>\n",
       "      <th>tag</th>\n",
       "      <th>Insult</th>\n",
       "      <th>Issue</th>\n",
       "      <th>Media organization</th>\n",
       "      <th>Person</th>\n",
       "      <th>Place</th>\n",
       "      <th>Politcal Group</th>\n",
       "    </tr>\n",
       "    <tr>\n",
       "      <th>tag</th>\n",
       "      <th>Insult</th>\n",
       "      <th>Issue</th>\n",
       "      <th>Media organization</th>\n",
       "      <th>Person</th>\n",
       "      <th>Place</th>\n",
       "      <th>Politcal Group</th>\n",
       "    </tr>\n",
       "    <tr>\n",
       "      <th>value</th>\n",
       "      <th></th>\n",
       "      <th></th>\n",
       "      <th></th>\n",
       "      <th></th>\n",
       "      <th></th>\n",
       "      <th></th>\n",
       "    </tr>\n",
       "  </thead>\n",
       "  <tbody>\n",
       "    <tr>\n",
       "      <th>a</th>\n",
       "      <td>NaN</td>\n",
       "      <td>NaN</td>\n",
       "      <td>NaN</td>\n",
       "      <td>33.0</td>\n",
       "      <td>29.0</td>\n",
       "      <td>NaN</td>\n",
       "    </tr>\n",
       "    <tr>\n",
       "      <th>and</th>\n",
       "      <td>22.0</td>\n",
       "      <td>27.0</td>\n",
       "      <td>18.0</td>\n",
       "      <td>35.0</td>\n",
       "      <td>29.0</td>\n",
       "      <td>7.0</td>\n",
       "    </tr>\n",
       "    <tr>\n",
       "      <th>co</th>\n",
       "      <td>NaN</td>\n",
       "      <td>NaN</td>\n",
       "      <td>16.0</td>\n",
       "      <td>NaN</td>\n",
       "      <td>NaN</td>\n",
       "      <td>NaN</td>\n",
       "    </tr>\n",
       "    <tr>\n",
       "      <th>https</th>\n",
       "      <td>NaN</td>\n",
       "      <td>NaN</td>\n",
       "      <td>16.0</td>\n",
       "      <td>NaN</td>\n",
       "      <td>NaN</td>\n",
       "      <td>6.0</td>\n",
       "    </tr>\n",
       "    <tr>\n",
       "      <th>of</th>\n",
       "      <td>18.0</td>\n",
       "      <td>25.0</td>\n",
       "      <td>NaN</td>\n",
       "      <td>39.0</td>\n",
       "      <td>NaN</td>\n",
       "      <td>NaN</td>\n",
       "    </tr>\n",
       "    <tr>\n",
       "      <th>t</th>\n",
       "      <td>27.0</td>\n",
       "      <td>26.0</td>\n",
       "      <td>14.0</td>\n",
       "      <td>NaN</td>\n",
       "      <td>45.0</td>\n",
       "      <td>9.0</td>\n",
       "    </tr>\n",
       "    <tr>\n",
       "      <th>the</th>\n",
       "      <td>26.0</td>\n",
       "      <td>61.0</td>\n",
       "      <td>25.0</td>\n",
       "      <td>82.0</td>\n",
       "      <td>52.0</td>\n",
       "      <td>17.0</td>\n",
       "    </tr>\n",
       "    <tr>\n",
       "      <th>to</th>\n",
       "      <td>24.0</td>\n",
       "      <td>29.0</td>\n",
       "      <td>NaN</td>\n",
       "      <td>48.0</td>\n",
       "      <td>44.0</td>\n",
       "      <td>8.0</td>\n",
       "    </tr>\n",
       "  </tbody>\n",
       "</table>\n",
       "</div>"
      ],
      "text/plain": [
       "tag   Insult Issue Media organization Person Place Politcal Group\n",
       "tag   Insult Issue Media organization Person Place Politcal Group\n",
       "value                                                            \n",
       "a        NaN   NaN                NaN   33.0  29.0            NaN\n",
       "and     22.0  27.0               18.0   35.0  29.0            7.0\n",
       "co       NaN   NaN               16.0    NaN   NaN            NaN\n",
       "https    NaN   NaN               16.0    NaN   NaN            6.0\n",
       "of      18.0  25.0                NaN   39.0   NaN            NaN\n",
       "t       27.0  26.0               14.0    NaN  45.0            9.0\n",
       "the     26.0  61.0               25.0   82.0  52.0           17.0\n",
       "to      24.0  29.0                NaN   48.0  44.0            8.0"
      ]
     },
     "execution_count": 83,
     "metadata": {},
     "output_type": "execute_result"
    }
   ],
   "source": [
    "annotations_df = pd.DataFrame(annotations)\n",
    "z = annotations_df.groupby('tag').value.value_counts()\n",
    "z.groupby(level=0).nlargest(5).unstack().T"
   ]
  },
  {
   "cell_type": "code",
   "execution_count": null,
   "metadata": {},
   "outputs": [],
   "source": []
  }
 ],
 "metadata": {
  "kernelspec": {
   "display_name": "Python 3",
   "language": "python",
   "name": "python3"
  },
  "language_info": {
   "codemirror_mode": {
    "name": "ipython",
    "version": 3
   },
   "file_extension": ".py",
   "mimetype": "text/x-python",
   "name": "python",
   "nbconvert_exporter": "python",
   "pygments_lexer": "ipython3",
   "version": "3.5.2"
  }
 },
 "nbformat": 4,
 "nbformat_minor": 2
}
