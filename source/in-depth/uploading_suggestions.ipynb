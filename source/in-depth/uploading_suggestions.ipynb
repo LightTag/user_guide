{
 "cells": [
  {
   "cell_type": "markdown",
   "metadata": {},
   "source": [
    "# Adding Suggestions\n",
    "This notebook will walk you through adding suggestions to LightTag. "
   ]
  },
  {
   "cell_type": "markdown",
   "metadata": {},
   "source": [
    "First, we do some basic imports and set up config"
   ]
  },
  {
   "cell_type": "code",
   "execution_count": 1,
   "metadata": {},
   "outputs": [
    {
     "data": {
      "text/plain": [
       "<Response [200]>"
      ]
     },
     "execution_count": 1,
     "metadata": {},
     "output_type": "execute_result"
    }
   ],
   "source": [
    "import requests\n",
    "import json\n",
    "import pandas as pd\n",
    "from pprint import pprint\n",
    "from requests.auth import HTTPBasicAuth\n",
    "\n",
    "SERVER = \"https://api-demo.lighttag.io\" #The server is https://api-{your_subdomain_name.lighttag.io}\n",
    "LT_USERNAME = \"test\" # Username of manager user\n",
    "LT_PASSWORD = \"test\" #password of manager user\n",
    "\n",
    "response = requests.post(SERVER +\"/auth/token/create/\",\n",
    "              json={\"username\":LT_USERNAME,\"password\":LT_PASSWORD}\n",
    "             )\n",
    "response"
   ]
  },
  {
   "cell_type": "markdown",
   "metadata": {},
   "source": [
    "Once we log in, LightTag will return a token we can use for further calls. We'll put that in dict that we will pass as header"
   ]
  },
  {
   "cell_type": "code",
   "execution_count": 9,
   "metadata": {},
   "outputs": [],
   "source": [
    "token = response.json()['key']\n",
    "headers={'Authorization': 'Token {token}'.format(token=token)}\n"
   ]
  },
  {
   "cell_type": "markdown",
   "metadata": {},
   "source": [
    "### Getting the data to annotate\n",
    "To generate suggestions we will need data. Particularly we'll need both all of the examples in a dataset as well as the tags from a particular schema. \n",
    "While you could gather each of these seperatly, LightTag has a data download view which already returns both of these combined. \n",
    "#### Warning\n",
    "*At the moment the LightTag REST API is not fully documented, we are working to make it more consistent and document before releasing it publically. *\n",
    "\n"
   ]
  },
  {
   "cell_type": "markdown",
   "metadata": {},
   "source": [
    "### Step 1: Get the Taskdefinition ID\n",
    "As in the image below, press on Manager=>Project. You'll see a list of the tasks you have defined. Find the relevant task and press *Copy ID* to get it's id into the clipboard"
   ]
  },
  {
   "cell_type": "markdown",
   "metadata": {},
   "source": [
    "![img](./copy_task_id.gif)"
   ]
  },
  {
   "cell_type": "markdown",
   "metadata": {},
   "source": [
    "### Step 2: Prepare the http request\n",
    "Paste the vaue you just copied into the variable *taskDefinitionId*. We'll use this as the get paramater which will retreive relevant data"
   ]
  },
  {
   "cell_type": "code",
   "execution_count": 27,
   "metadata": {},
   "outputs": [],
   "source": [
    "# Step 1, build the URL\n",
    "URL = \"{server}/{endpoint}\".format(server=SERVER,endpoint=\"manager/annotations/taskdefinition/\")\n",
    "taskDefinitionId=\"a4b83e46-e1b0-45fc-a974-2c5878715aea\" #paste the id here\n",
    "payload = {\"taskDefinitionId\":taskDefinitionId}"
   ]
  },
  {
   "cell_type": "code",
   "execution_count": 28,
   "metadata": {},
   "outputs": [
    {
     "data": {
      "text/plain": [
       "200"
      ]
     },
     "execution_count": 28,
     "metadata": {},
     "output_type": "execute_result"
    }
   ],
   "source": [
    "#Send the request\n",
    "resp =requests.get(URL,params=payload,headers=headers\n",
    "             )\n",
    "resp.status_code"
   ]
  },
  {
   "cell_type": "code",
   "execution_count": 29,
   "metadata": {},
   "outputs": [
    {
     "data": {
      "text/plain": [
       "'/manager/annotations/taskdefinition/?taskDefinitionId=a4b83e46-e1b0-45fc-a974-2c5878715aea'"
      ]
     },
     "execution_count": 29,
     "metadata": {},
     "output_type": "execute_result"
    }
   ],
   "source": [
    "resp.request.path_url"
   ]
  },
  {
   "cell_type": "markdown",
   "metadata": {},
   "source": [
    "### Step 3: Extract the dataset and the schema\n",
    "The server will respond with a single dict that has our dataset (including ids) and schema (with Tags). We'll extract those seperately"
   ]
  },
  {
   "cell_type": "code",
   "execution_count": 30,
   "metadata": {},
   "outputs": [],
   "source": [
    "data = resp.json() #Parse the response JSON into a python dict\n",
    "schema = data['schema'] #extract the schema\n",
    "tags = {x['name']:x['id'] for x in schema['tags']} #Make a map from tag name to id. \n",
    "#This will make defining suggestions easier\n",
    "examples= data['dataset']['examples'] #Extract the list of examples"
   ]
  },
  {
   "cell_type": "code",
   "execution_count": 34,
   "metadata": {},
   "outputs": [
    {
     "name": "stdout",
     "output_type": "stream",
     "text": [
      "{'annotations': [],\n",
      " 'content': ' Now there was a certain man of Ramathaimzophim, of mount '\n",
      "            'Ephraim, and his name was Elkanah, the son of Jeroham, the son of '\n",
      "            'Elihu, the son of Tohu, the son of Zuph, an Ephrathite: ',\n",
      " 'id': '7ed5886d1759423492d5152396b50f10',\n",
      " 'metadata': {'book': 'The First Book of the Kings',\n",
      "              'chapter': 1.1,\n",
      "              'verse': 1}}\n"
     ]
    }
   ],
   "source": [
    "# Leys peek at the first example\n",
    "pprint(examples[0])"
   ]
  },
  {
   "cell_type": "code",
   "execution_count": 36,
   "metadata": {},
   "outputs": [
    {
     "name": "stdout",
     "output_type": "stream",
     "text": [
      "{'Action': '16638acf-bc1b-471c-a535-3378913ab872',\n",
      " 'Emotion': '01428033-dc8b-4dcc-8929-2622fde2e4bb',\n",
      " 'God': '76f33848-dcbe-42ce-8587-185d1a722234',\n",
      " 'Nation': '06432717-53d5-416f-9181-7420666573c5',\n",
      " 'Object': '97b4540d-ebd8-447c-ab51-b41ebe5fd606',\n",
      " 'Pagan God': '6c818c42-7901-4b39-9183-8e27764bd89b',\n",
      " 'Person': '22bc9390-ea2d-4b88-9745-a2f4e65a4699',\n",
      " 'Place': '1650c780-26e2-44f9-af3c-6b1e06cb95ed'}\n"
     ]
    }
   ],
   "source": [
    "pprint(tags) # Print our dictionary of tags"
   ]
  },
  {
   "cell_type": "markdown",
   "metadata": {},
   "source": [
    "### Step 4: Create your suggestions\n",
    "How you create a suggestion is up to you. Youa re free to use a dicitonary, regex, neural network or whatever else\n",
    "is availble. \n",
    "In this example we'll use the [flashtext](https://github.com/vi3k6i5/flashtext) library to mark all apearences of the word Lord as god and all appearences of the word Abraham as a Person\n"
   ]
  },
  {
   "cell_type": "code",
   "execution_count": 37,
   "metadata": {},
   "outputs": [
    {
     "data": {
      "text/plain": [
       "True"
      ]
     },
     "execution_count": 37,
     "metadata": {},
     "output_type": "execute_result"
    }
   ],
   "source": [
    "from flashtext import KeywordProcessor\n",
    "keyword_processor = KeywordProcessor()\n",
    "keyword_processor.add_keyword(\"LORD\",tags[\"God\"])\n",
    "keyword_processor.add_keyword(\"Abraham\",tags[\"Person\"])"
   ]
  },
  {
   "cell_type": "code",
   "execution_count": 39,
   "metadata": {},
   "outputs": [
    {
     "data": {
      "text/plain": [
       "[('22bc9390-ea2d-4b88-9745-a2f4e65a4699', 14, 21),\n",
       " ('76f33848-dcbe-42ce-8587-185d1a722234', 30, 34)]"
      ]
     },
     "execution_count": 39,
     "metadata": {},
     "output_type": "execute_result"
    }
   ],
   "source": [
    "keyword_processor.extract_keywords(\" In the Bible Abraham met the LORD one day|\",\n",
    "                                   span_info=True)"
   ]
  },
  {
   "cell_type": "markdown",
   "metadata": {},
   "source": [
    "### Step 4.1: Iterate over your examples and make a  list of suggestions\n"
   ]
  },
  {
   "cell_type": "code",
   "execution_count": 40,
   "metadata": {},
   "outputs": [],
   "source": [
    "suggestions = []\n",
    "for example in examples: #(Notice the text is located in the content field)\n",
    "    #For every suggestion that comes out of our model (in this case, flashtext)\n",
    "    for tag_id,start,end in keyword_processor.extract_keywords(example['content'],span_info=True):\n",
    "        suggestion= { #Create a suggestion\n",
    "            \"example_id\":example['id'], #That refers to a particular example\n",
    "            \"tag_id\":tag_id, #and applies a particular tag\n",
    "            \"start\":start, #Which starts somewhere in the example\n",
    "            \"end\":end # And ends somewhere in the example\n",
    "        }\n",
    "        suggestions.append(suggestion)"
   ]
  },
  {
   "cell_type": "code",
   "execution_count": 43,
   "metadata": {},
   "outputs": [
    {
     "name": "stdout",
     "output_type": "stream",
     "text": [
      "[{'end': 86,\n",
      "  'example_id': '6b8422156902463e8e89d73d50398bb8',\n",
      "  'start': 82,\n",
      "  'tag_id': '76f33848-dcbe-42ce-8587-185d1a722234'},\n",
      " {'end': 176,\n",
      "  'example_id': '6b8422156902463e8e89d73d50398bb8',\n",
      "  'start': 172,\n",
      "  'tag_id': '76f33848-dcbe-42ce-8587-185d1a722234'},\n",
      " {'end': 76,\n",
      "  'example_id': 'ad806446a8a14c96b8ecde61fec65d3a',\n",
      "  'start': 72,\n",
      "  'tag_id': '76f33848-dcbe-42ce-8587-185d1a722234'}]\n"
     ]
    }
   ],
   "source": [
    "pprint(suggestions[:3])"
   ]
  },
  {
   "cell_type": "markdown",
   "metadata": {},
   "source": [
    "### Step 5: Define a model and send the data"
   ]
  },
  {
   "cell_type": "code",
   "execution_count": 44,
   "metadata": {},
   "outputs": [],
   "source": [
    "model_metadata= { # Define any metadata you'd like to store about the model\n",
    "    \"defined_by\": \"LightTag\",\n",
    "    \"faith\": -5\n",
    "}\n",
    "data = {\n",
    "    \"model\":{\n",
    "        \"name\":\"demo_suggestions\",  #Give the model a name\n",
    "        \"schema_id\":schema[\"id\"], # Specify which schema it relates to\n",
    "        \"metadata\": model_metadata # Provide metadata (optional)\n",
    "    },\n",
    "    \"suggestions\":suggestions #Attatch the suggestions you made before\n",
    "}"
   ]
  },
  {
   "cell_type": "code",
   "execution_count": 45,
   "metadata": {},
   "outputs": [],
   "source": [
    "resp =requests.post(SERVER + \"/manager/suggestions_model\",\n",
    "              headers=headers,\n",
    "                    json=data,\n",
    "                    \n",
    "             )\n"
   ]
  },
  {
   "cell_type": "code",
   "execution_count": 200,
   "metadata": {},
   "outputs": [
    {
     "data": {
      "text/plain": [
       "<Response [201]>"
      ]
     },
     "execution_count": 200,
     "metadata": {},
     "output_type": "execute_result"
    }
   ],
   "source": [
    "resp"
   ]
  },
  {
   "cell_type": "code",
   "execution_count": null,
   "metadata": {},
   "outputs": [],
   "source": []
  }
 ],
 "metadata": {
  "kernelspec": {
   "display_name": "Python 3",
   "language": "python",
   "name": "python3"
  },
  "language_info": {
   "codemirror_mode": {
    "name": "ipython",
    "version": 3
   },
   "file_extension": ".py",
   "mimetype": "text/x-python",
   "name": "python",
   "nbconvert_exporter": "python",
   "pygments_lexer": "ipython3",
   "version": "3.5.2"
  }
 },
 "nbformat": 4,
 "nbformat_minor": 2
}
