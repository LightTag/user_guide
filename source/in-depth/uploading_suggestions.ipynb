{
 "cells": [
  {
   "cell_type": "markdown",
   "metadata": {},
   "source": [
    "# Adding Suggestions\n",
    "This notebook will walk you through adding suggestions to LightTag throw the API. \n",
    "\n",
    "Conceptually, Suggestions come from a Model and a Model belongs to a Schema. Thus in order to add Suggestions you must register a Model under the relevant Schema and then populate the model with actual suggestions. \n",
    "\n",
    "To avoid confusion, while you are registering a Model, LightTag will not run your model, instead, it is up to you to generate the suggestions and upload them. Here we'll see how to do that"
   ]
  },
  {
   "cell_type": "markdown",
   "metadata": {},
   "source": [
    "## The Steps\n",
    "1. Retreiving the Examples we wish to generate suggestions on\n",
    "2. Retreiveing the Schema we wish to define a Model for\n",
    "3. Creating a model and suggestions\n",
    "4. Uploading the suggestions and Model\n",
    "5. Assigning a model to a task definition"
   ]
  },
  {
   "cell_type": "markdown",
   "metadata": {},
   "source": [
    "## Step 0 - Basic setup"
   ]
  },
  {
   "cell_type": "code",
   "execution_count": 5,
   "metadata": {},
   "outputs": [
    {
     "data": {
      "text/plain": [
       "<Response [200]>"
      ]
     },
     "execution_count": 5,
     "metadata": {},
     "output_type": "execute_result"
    }
   ],
   "source": [
    "import requests\n",
    "import json\n",
    "import pandas as pd\n",
    "from pprint import pprint\n",
    "from requests.auth import HTTPBasicAuth\n",
    "\n",
    "LIGHTTAG_DOMAIN = 'demo'  #should be your lighttag domain\n",
    "SERVER = 'https://{domain}.lighttag.io/api/'.format(domain=LIGHTTAG_DOMAIN) \n",
    "API_BASE = SERVER +'v1/'\n",
    "LT_USERNAME = \"MY_USER\" # Username of manager user\n",
    "LT_PASSWORD = \"MY_PSWD\" #password of manager user\n",
    "\n",
    "response = requests.post(SERVER +\"auth/token/login/\",\n",
    "              json={\"username\":LT_USERNAME,\"password\":LT_PASSWORD}\n",
    "             )\n",
    "response"
   ]
  },
  {
   "cell_type": "markdown",
   "metadata": {},
   "source": [
    "Once we log in, LightTag will return a token we can use for further calls. We'll put that in dict that we will pass as header"
   ]
  },
  {
   "cell_type": "code",
   "execution_count": 6,
   "metadata": {},
   "outputs": [],
   "source": [
    "token = response.json()['key']\n",
    "headers={'Authorization': 'Token {token}'.format(token=token)}\n",
    "session = requests.session()\n",
    "session.headers = headers"
   ]
  },
  {
   "cell_type": "markdown",
   "metadata": {},
   "source": [
    "## Step 1 Getting the data examples we wish to annotate\n",
    "To generate suggestions we will need data. Particularly we'll need both all of the examples in a dataset as well as the tags from a particular schema. \n",
    "While you could gather each of these seperatly, LightTag has a data download view which already returns both of these combined. \n",
    "\n"
   ]
  },
  {
   "cell_type": "markdown",
   "metadata": {},
   "source": [
    "### Retreiv the slug or url of the dataset with the examples you wish to add suggestions to\n",
    "You can query the datasets endpoint. Remember, you are operating under the default project, so you should query \n",
    "\n",
    "\n",
    "projects/**default**/datasets/"
   ]
  },
  {
   "cell_type": "code",
   "execution_count": 7,
   "metadata": {},
   "outputs": [
    {
     "data": {
      "text/html": [
       "<div>\n",
       "<style scoped>\n",
       "    .dataframe tbody tr th:only-of-type {\n",
       "        vertical-align: middle;\n",
       "    }\n",
       "\n",
       "    .dataframe tbody tr th {\n",
       "        vertical-align: top;\n",
       "    }\n",
       "\n",
       "    .dataframe thead th {\n",
       "        text-align: right;\n",
       "    }\n",
       "</style>\n",
       "<table border=\"1\" class=\"dataframe\">\n",
       "  <thead>\n",
       "    <tr style=\"text-align: right;\">\n",
       "      <th></th>\n",
       "      <th>aggregation_field</th>\n",
       "      <th>archived</th>\n",
       "      <th>content_field</th>\n",
       "      <th>id</th>\n",
       "      <th>id_field</th>\n",
       "      <th>name</th>\n",
       "      <th>order_field</th>\n",
       "      <th>project_id</th>\n",
       "      <th>slug</th>\n",
       "      <th>upload_status</th>\n",
       "      <th>url</th>\n",
       "    </tr>\n",
       "  </thead>\n",
       "  <tbody>\n",
       "    <tr>\n",
       "      <th>0</th>\n",
       "      <td>chapter</td>\n",
       "      <td>False</td>\n",
       "      <td>content</td>\n",
       "      <td>2a6e0c06-017d-473c-b3d5-bbb24c28b71c</td>\n",
       "      <td>None</td>\n",
       "      <td>Bible</td>\n",
       "      <td>verse</td>\n",
       "      <td>2753ca38-69d9-4c96-9d31-df6d4069b027</td>\n",
       "      <td>bible</td>\n",
       "      <td>done</td>\n",
       "      <td>https://demo.lighttag.io/api/v1/projects/defau...</td>\n",
       "    </tr>\n",
       "    <tr>\n",
       "      <th>1</th>\n",
       "      <td>None</td>\n",
       "      <td>False</td>\n",
       "      <td>FIELD2</td>\n",
       "      <td>1bf62f49-d88e-4bf0-9178-79012ce355c4</td>\n",
       "      <td>FIELD1</td>\n",
       "      <td>Drilling Comments Small</td>\n",
       "      <td>None</td>\n",
       "      <td>2753ca38-69d9-4c96-9d31-df6d4069b027</td>\n",
       "      <td>drilling-comments-small</td>\n",
       "      <td>done</td>\n",
       "      <td>https://demo.lighttag.io/api/v1/projects/defau...</td>\n",
       "    </tr>\n",
       "    <tr>\n",
       "      <th>2</th>\n",
       "      <td>None</td>\n",
       "      <td>False</td>\n",
       "      <td>content</td>\n",
       "      <td>1709c71b-2092-4d6b-800c-1341cae915ec</td>\n",
       "      <td>None</td>\n",
       "      <td>Some new dataset</td>\n",
       "      <td>None</td>\n",
       "      <td>2753ca38-69d9-4c96-9d31-df6d4069b027</td>\n",
       "      <td>some-new-dataset</td>\n",
       "      <td>done</td>\n",
       "      <td>https://demo.lighttag.io/api/v1/projects/defau...</td>\n",
       "    </tr>\n",
       "    <tr>\n",
       "      <th>3</th>\n",
       "      <td>None</td>\n",
       "      <td>False</td>\n",
       "      <td>data</td>\n",
       "      <td>f620a31a-c907-43cb-9f66-6642736d4b4f</td>\n",
       "      <td>id</td>\n",
       "      <td>Jabberwocky</td>\n",
       "      <td>None</td>\n",
       "      <td>2753ca38-69d9-4c96-9d31-df6d4069b027</td>\n",
       "      <td>jabberwocky</td>\n",
       "      <td>done</td>\n",
       "      <td>https://demo.lighttag.io/api/v1/projects/defau...</td>\n",
       "    </tr>\n",
       "    <tr>\n",
       "      <th>4</th>\n",
       "      <td>chapter</td>\n",
       "      <td>False</td>\n",
       "      <td>content</td>\n",
       "      <td>e04f9a51-acb4-44a4-b633-0d03fc6f7af4</td>\n",
       "      <td>None</td>\n",
       "      <td>Test</td>\n",
       "      <td>verse</td>\n",
       "      <td>2753ca38-69d9-4c96-9d31-df6d4069b027</td>\n",
       "      <td>test</td>\n",
       "      <td>done</td>\n",
       "      <td>https://demo.lighttag.io/api/v1/projects/defau...</td>\n",
       "    </tr>\n",
       "    <tr>\n",
       "      <th>5</th>\n",
       "      <td>None</td>\n",
       "      <td>False</td>\n",
       "      <td>content</td>\n",
       "      <td>24408e1f-dfe8-4d37-8f42-7192de1956e5</td>\n",
       "      <td>None</td>\n",
       "      <td>hebrew medical</td>\n",
       "      <td>None</td>\n",
       "      <td>2753ca38-69d9-4c96-9d31-df6d4069b027</td>\n",
       "      <td>hebrew-medical</td>\n",
       "      <td>done</td>\n",
       "      <td>https://demo.lighttag.io/api/v1/projects/defau...</td>\n",
       "    </tr>\n",
       "    <tr>\n",
       "      <th>6</th>\n",
       "      <td>date</td>\n",
       "      <td>False</td>\n",
       "      <td>text</td>\n",
       "      <td>045896b7-6e3e-427f-b920-7241da0088ae</td>\n",
       "      <td>None</td>\n",
       "      <td>Trump Tweets</td>\n",
       "      <td>time</td>\n",
       "      <td>2753ca38-69d9-4c96-9d31-df6d4069b027</td>\n",
       "      <td>trump-tweets</td>\n",
       "      <td>done</td>\n",
       "      <td>https://demo.lighttag.io/api/v1/projects/defau...</td>\n",
       "    </tr>\n",
       "    <tr>\n",
       "      <th>7</th>\n",
       "      <td>None</td>\n",
       "      <td>False</td>\n",
       "      <td>Message</td>\n",
       "      <td>ff31041a-69ac-4641-8f7f-6cad8bd257b7</td>\n",
       "      <td>None</td>\n",
       "      <td>öäå test</td>\n",
       "      <td>None</td>\n",
       "      <td>2753ca38-69d9-4c96-9d31-df6d4069b027</td>\n",
       "      <td>oaa-test</td>\n",
       "      <td>done</td>\n",
       "      <td>https://demo.lighttag.io/api/v1/projects/defau...</td>\n",
       "    </tr>\n",
       "    <tr>\n",
       "      <th>8</th>\n",
       "      <td>None</td>\n",
       "      <td>False</td>\n",
       "      <td>Message</td>\n",
       "      <td>4ddb421d-28b0-42a5-bb5c-54509b35d27b</td>\n",
       "      <td>None</td>\n",
       "      <td>format test</td>\n",
       "      <td>None</td>\n",
       "      <td>2753ca38-69d9-4c96-9d31-df6d4069b027</td>\n",
       "      <td>format-test</td>\n",
       "      <td>done</td>\n",
       "      <td>https://demo.lighttag.io/api/v1/projects/defau...</td>\n",
       "    </tr>\n",
       "    <tr>\n",
       "      <th>9</th>\n",
       "      <td>chapter</td>\n",
       "      <td>False</td>\n",
       "      <td>content</td>\n",
       "      <td>f44b27f2-e84b-441b-b6e9-ff7049111b6f</td>\n",
       "      <td>None</td>\n",
       "      <td>zxzx</td>\n",
       "      <td>verse</td>\n",
       "      <td>2753ca38-69d9-4c96-9d31-df6d4069b027</td>\n",
       "      <td>zxzx</td>\n",
       "      <td>done</td>\n",
       "      <td>https://demo.lighttag.io/api/v1/projects/defau...</td>\n",
       "    </tr>\n",
       "    <tr>\n",
       "      <th>10</th>\n",
       "      <td>FileName</td>\n",
       "      <td>False</td>\n",
       "      <td>Line</td>\n",
       "      <td>8e9246b1-ebf4-47df-8443-e81dc4a0dbb5</td>\n",
       "      <td>SortSubKey</td>\n",
       "      <td>EnronTest</td>\n",
       "      <td>SortSubKey</td>\n",
       "      <td>2753ca38-69d9-4c96-9d31-df6d4069b027</td>\n",
       "      <td>enrontest</td>\n",
       "      <td>done</td>\n",
       "      <td>https://demo.lighttag.io/api/v1/projects/defau...</td>\n",
       "    </tr>\n",
       "    <tr>\n",
       "      <th>11</th>\n",
       "      <td>FileName</td>\n",
       "      <td>False</td>\n",
       "      <td>Line</td>\n",
       "      <td>79575f45-a38f-4150-9dfe-79fe2f738896</td>\n",
       "      <td>SortSubKey</td>\n",
       "      <td>Enron2</td>\n",
       "      <td>SortSubKey</td>\n",
       "      <td>2753ca38-69d9-4c96-9d31-df6d4069b027</td>\n",
       "      <td>enron2</td>\n",
       "      <td>done</td>\n",
       "      <td>https://demo.lighttag.io/api/v1/projects/defau...</td>\n",
       "    </tr>\n",
       "    <tr>\n",
       "      <th>12</th>\n",
       "      <td>FileName</td>\n",
       "      <td>False</td>\n",
       "      <td>Line</td>\n",
       "      <td>ca83c74d-a95c-4f6c-aeb4-a0eb53f1405e</td>\n",
       "      <td>SortSubKey</td>\n",
       "      <td>Enron3</td>\n",
       "      <td>SortSubKey</td>\n",
       "      <td>2753ca38-69d9-4c96-9d31-df6d4069b027</td>\n",
       "      <td>enron3</td>\n",
       "      <td>done</td>\n",
       "      <td>https://demo.lighttag.io/api/v1/projects/defau...</td>\n",
       "    </tr>\n",
       "    <tr>\n",
       "      <th>13</th>\n",
       "      <td>None</td>\n",
       "      <td>False</td>\n",
       "      <td>content</td>\n",
       "      <td>d70d7152-e339-42d3-9f52-b24f2dd3217d</td>\n",
       "      <td>None</td>\n",
       "      <td>Falafel1</td>\n",
       "      <td>None</td>\n",
       "      <td>2753ca38-69d9-4c96-9d31-df6d4069b027</td>\n",
       "      <td>falafel1</td>\n",
       "      <td>done</td>\n",
       "      <td>https://demo.lighttag.io/api/v1/projects/defau...</td>\n",
       "    </tr>\n",
       "    <tr>\n",
       "      <th>14</th>\n",
       "      <td>chapter</td>\n",
       "      <td>False</td>\n",
       "      <td>content</td>\n",
       "      <td>c7b6e5d7-8ab4-4daa-a1d1-cd8674f730ac</td>\n",
       "      <td>None</td>\n",
       "      <td>bibletest</td>\n",
       "      <td>verse</td>\n",
       "      <td>2753ca38-69d9-4c96-9d31-df6d4069b027</td>\n",
       "      <td>bibletest</td>\n",
       "      <td>done</td>\n",
       "      <td>https://demo.lighttag.io/api/v1/projects/defau...</td>\n",
       "    </tr>\n",
       "    <tr>\n",
       "      <th>15</th>\n",
       "      <td>verse</td>\n",
       "      <td>False</td>\n",
       "      <td>content</td>\n",
       "      <td>847b6cd8-aa4f-44d8-862d-44cd86a0e370</td>\n",
       "      <td>None</td>\n",
       "      <td>Hebrew2</td>\n",
       "      <td>None</td>\n",
       "      <td>2753ca38-69d9-4c96-9d31-df6d4069b027</td>\n",
       "      <td>hebrew2</td>\n",
       "      <td>done</td>\n",
       "      <td>https://demo.lighttag.io/api/v1/projects/defau...</td>\n",
       "    </tr>\n",
       "    <tr>\n",
       "      <th>16</th>\n",
       "      <td>None</td>\n",
       "      <td>False</td>\n",
       "      <td>title</td>\n",
       "      <td>9735d41b-c4d8-4db2-b70b-aaf984527d29</td>\n",
       "      <td>None</td>\n",
       "      <td>DeleteMe</td>\n",
       "      <td>None</td>\n",
       "      <td>2753ca38-69d9-4c96-9d31-df6d4069b027</td>\n",
       "      <td>deleteme</td>\n",
       "      <td>done</td>\n",
       "      <td>https://demo.lighttag.io/api/v1/projects/defau...</td>\n",
       "    </tr>\n",
       "    <tr>\n",
       "      <th>17</th>\n",
       "      <td>None</td>\n",
       "      <td>False</td>\n",
       "      <td>sentence</td>\n",
       "      <td>61b75760-d1cb-4029-a74f-7c6a14365589</td>\n",
       "      <td>None</td>\n",
       "      <td>Demo For Noa</td>\n",
       "      <td>None</td>\n",
       "      <td>2753ca38-69d9-4c96-9d31-df6d4069b027</td>\n",
       "      <td>demo-for-noa</td>\n",
       "      <td>done</td>\n",
       "      <td>https://demo.lighttag.io/api/v1/projects/defau...</td>\n",
       "    </tr>\n",
       "    <tr>\n",
       "      <th>18</th>\n",
       "      <td>None</td>\n",
       "      <td>False</td>\n",
       "      <td>text</td>\n",
       "      <td>796bdfbc-ef73-4513-bb8b-08c5179ab3b1</td>\n",
       "      <td>None</td>\n",
       "      <td>Exploratory Dataset</td>\n",
       "      <td>None</td>\n",
       "      <td>2753ca38-69d9-4c96-9d31-df6d4069b027</td>\n",
       "      <td>exploratory-dataset</td>\n",
       "      <td>done</td>\n",
       "      <td>https://demo.lighttag.io/api/v1/projects/defau...</td>\n",
       "    </tr>\n",
       "    <tr>\n",
       "      <th>19</th>\n",
       "      <td>None</td>\n",
       "      <td>False</td>\n",
       "      <td>content</td>\n",
       "      <td>841a5ae8-c3b5-4b51-945d-1fdcda2e9cee</td>\n",
       "      <td>None</td>\n",
       "      <td>LightTag Sample Dataset</td>\n",
       "      <td>None</td>\n",
       "      <td>2753ca38-69d9-4c96-9d31-df6d4069b027</td>\n",
       "      <td>lighttag-sample-dataset</td>\n",
       "      <td>done</td>\n",
       "      <td>https://demo.lighttag.io/api/v1/projects/defau...</td>\n",
       "    </tr>\n",
       "    <tr>\n",
       "      <th>20</th>\n",
       "      <td>None</td>\n",
       "      <td>False</td>\n",
       "      <td>question</td>\n",
       "      <td>066bc411-e5ea-4fe1-8d80-ced124d16363</td>\n",
       "      <td>None</td>\n",
       "      <td>Jeoperdy Async</td>\n",
       "      <td>None</td>\n",
       "      <td>2753ca38-69d9-4c96-9d31-df6d4069b027</td>\n",
       "      <td>jeoperdy-async</td>\n",
       "      <td>starting</td>\n",
       "      <td>https://demo.lighttag.io/api/v1/projects/defau...</td>\n",
       "    </tr>\n",
       "    <tr>\n",
       "      <th>21</th>\n",
       "      <td>None</td>\n",
       "      <td>False</td>\n",
       "      <td>content</td>\n",
       "      <td>2d78f91d-a480-40e3-b77f-408981a46b5a</td>\n",
       "      <td>None</td>\n",
       "      <td>LightTag Sample DatasetBible</td>\n",
       "      <td>None</td>\n",
       "      <td>2753ca38-69d9-4c96-9d31-df6d4069b027</td>\n",
       "      <td>lighttag-sample-datasetbible</td>\n",
       "      <td>done</td>\n",
       "      <td>https://demo.lighttag.io/api/v1/projects/defau...</td>\n",
       "    </tr>\n",
       "    <tr>\n",
       "      <th>22</th>\n",
       "      <td>None</td>\n",
       "      <td>False</td>\n",
       "      <td>content</td>\n",
       "      <td>a47006a3-404c-457f-99c7-1f5133311bf5</td>\n",
       "      <td>None</td>\n",
       "      <td>My Bible Dataset</td>\n",
       "      <td>None</td>\n",
       "      <td>2753ca38-69d9-4c96-9d31-df6d4069b027</td>\n",
       "      <td>my-bible-dataset</td>\n",
       "      <td>done</td>\n",
       "      <td>https://demo.lighttag.io/api/v1/projects/defau...</td>\n",
       "    </tr>\n",
       "    <tr>\n",
       "      <th>23</th>\n",
       "      <td>None</td>\n",
       "      <td>False</td>\n",
       "      <td>tweet</td>\n",
       "      <td>b31a6ed1-de5e-4346-9de9-a0f1abc10894</td>\n",
       "      <td>None</td>\n",
       "      <td>ny_times_data</td>\n",
       "      <td>None</td>\n",
       "      <td>2753ca38-69d9-4c96-9d31-df6d4069b027</td>\n",
       "      <td>ny_times_data</td>\n",
       "      <td>done</td>\n",
       "      <td>https://demo.lighttag.io/api/v1/projects/defau...</td>\n",
       "    </tr>\n",
       "    <tr>\n",
       "      <th>24</th>\n",
       "      <td>chapter</td>\n",
       "      <td>False</td>\n",
       "      <td>content</td>\n",
       "      <td>ce522344-82c1-4209-a7a0-2b33baadbf74</td>\n",
       "      <td>None</td>\n",
       "      <td>biblefdwe</td>\n",
       "      <td>None</td>\n",
       "      <td>2753ca38-69d9-4c96-9d31-df6d4069b027</td>\n",
       "      <td>biblefdwe</td>\n",
       "      <td>done</td>\n",
       "      <td>https://demo.lighttag.io/api/v1/projects/defau...</td>\n",
       "    </tr>\n",
       "    <tr>\n",
       "      <th>25</th>\n",
       "      <td>None</td>\n",
       "      <td>False</td>\n",
       "      <td>text</td>\n",
       "      <td>8f5bd425-ae8c-45f2-9cdd-f297ae6a5806</td>\n",
       "      <td>None</td>\n",
       "      <td>tweets</td>\n",
       "      <td>None</td>\n",
       "      <td>2753ca38-69d9-4c96-9d31-df6d4069b027</td>\n",
       "      <td>tweets</td>\n",
       "      <td>done</td>\n",
       "      <td>https://demo.lighttag.io/api/v1/projects/defau...</td>\n",
       "    </tr>\n",
       "    <tr>\n",
       "      <th>26</th>\n",
       "      <td>None</td>\n",
       "      <td>False</td>\n",
       "      <td>content</td>\n",
       "      <td>ba785877-2dcd-418b-ba54-ff3d55a72e99</td>\n",
       "      <td>None</td>\n",
       "      <td>The Bible (English)</td>\n",
       "      <td>None</td>\n",
       "      <td>2753ca38-69d9-4c96-9d31-df6d4069b027</td>\n",
       "      <td>the-bible-english</td>\n",
       "      <td>done</td>\n",
       "      <td>https://demo.lighttag.io/api/v1/projects/defau...</td>\n",
       "    </tr>\n",
       "    <tr>\n",
       "      <th>27</th>\n",
       "      <td>None</td>\n",
       "      <td>False</td>\n",
       "      <td>text</td>\n",
       "      <td>aa690b22-3f51-4a77-bb12-6b16e4e08e63</td>\n",
       "      <td>None</td>\n",
       "      <td>Exploratory Dataset1</td>\n",
       "      <td>None</td>\n",
       "      <td>2753ca38-69d9-4c96-9d31-df6d4069b027</td>\n",
       "      <td>exploratory-dataset1</td>\n",
       "      <td>started</td>\n",
       "      <td>https://demo.lighttag.io/api/v1/projects/defau...</td>\n",
       "    </tr>\n",
       "  </tbody>\n",
       "</table>\n",
       "</div>"
      ],
      "text/plain": [
       "   aggregation_field  archived content_field  \\\n",
       "0            chapter     False       content   \n",
       "1               None     False        FIELD2   \n",
       "2               None     False       content   \n",
       "3               None     False          data   \n",
       "4            chapter     False       content   \n",
       "5               None     False       content   \n",
       "6               date     False          text   \n",
       "7               None     False       Message   \n",
       "8               None     False       Message   \n",
       "9            chapter     False       content   \n",
       "10          FileName     False          Line   \n",
       "11          FileName     False          Line   \n",
       "12          FileName     False          Line   \n",
       "13              None     False       content   \n",
       "14           chapter     False       content   \n",
       "15             verse     False       content   \n",
       "16              None     False         title   \n",
       "17              None     False      sentence   \n",
       "18              None     False          text   \n",
       "19              None     False       content   \n",
       "20              None     False      question   \n",
       "21              None     False       content   \n",
       "22              None     False       content   \n",
       "23              None     False         tweet   \n",
       "24           chapter     False       content   \n",
       "25              None     False          text   \n",
       "26              None     False       content   \n",
       "27              None     False          text   \n",
       "\n",
       "                                      id    id_field  \\\n",
       "0   2a6e0c06-017d-473c-b3d5-bbb24c28b71c        None   \n",
       "1   1bf62f49-d88e-4bf0-9178-79012ce355c4      FIELD1   \n",
       "2   1709c71b-2092-4d6b-800c-1341cae915ec        None   \n",
       "3   f620a31a-c907-43cb-9f66-6642736d4b4f          id   \n",
       "4   e04f9a51-acb4-44a4-b633-0d03fc6f7af4        None   \n",
       "5   24408e1f-dfe8-4d37-8f42-7192de1956e5        None   \n",
       "6   045896b7-6e3e-427f-b920-7241da0088ae        None   \n",
       "7   ff31041a-69ac-4641-8f7f-6cad8bd257b7        None   \n",
       "8   4ddb421d-28b0-42a5-bb5c-54509b35d27b        None   \n",
       "9   f44b27f2-e84b-441b-b6e9-ff7049111b6f        None   \n",
       "10  8e9246b1-ebf4-47df-8443-e81dc4a0dbb5  SortSubKey   \n",
       "11  79575f45-a38f-4150-9dfe-79fe2f738896  SortSubKey   \n",
       "12  ca83c74d-a95c-4f6c-aeb4-a0eb53f1405e  SortSubKey   \n",
       "13  d70d7152-e339-42d3-9f52-b24f2dd3217d        None   \n",
       "14  c7b6e5d7-8ab4-4daa-a1d1-cd8674f730ac        None   \n",
       "15  847b6cd8-aa4f-44d8-862d-44cd86a0e370        None   \n",
       "16  9735d41b-c4d8-4db2-b70b-aaf984527d29        None   \n",
       "17  61b75760-d1cb-4029-a74f-7c6a14365589        None   \n",
       "18  796bdfbc-ef73-4513-bb8b-08c5179ab3b1        None   \n",
       "19  841a5ae8-c3b5-4b51-945d-1fdcda2e9cee        None   \n",
       "20  066bc411-e5ea-4fe1-8d80-ced124d16363        None   \n",
       "21  2d78f91d-a480-40e3-b77f-408981a46b5a        None   \n",
       "22  a47006a3-404c-457f-99c7-1f5133311bf5        None   \n",
       "23  b31a6ed1-de5e-4346-9de9-a0f1abc10894        None   \n",
       "24  ce522344-82c1-4209-a7a0-2b33baadbf74        None   \n",
       "25  8f5bd425-ae8c-45f2-9cdd-f297ae6a5806        None   \n",
       "26  ba785877-2dcd-418b-ba54-ff3d55a72e99        None   \n",
       "27  aa690b22-3f51-4a77-bb12-6b16e4e08e63        None   \n",
       "\n",
       "                            name order_field  \\\n",
       "0                          Bible       verse   \n",
       "1        Drilling Comments Small        None   \n",
       "2               Some new dataset        None   \n",
       "3                    Jabberwocky        None   \n",
       "4                           Test       verse   \n",
       "5                 hebrew medical        None   \n",
       "6                   Trump Tweets        time   \n",
       "7                       öäå test        None   \n",
       "8                    format test        None   \n",
       "9                           zxzx       verse   \n",
       "10                     EnronTest  SortSubKey   \n",
       "11                        Enron2  SortSubKey   \n",
       "12                        Enron3  SortSubKey   \n",
       "13                      Falafel1        None   \n",
       "14                     bibletest       verse   \n",
       "15                       Hebrew2        None   \n",
       "16                      DeleteMe        None   \n",
       "17                  Demo For Noa        None   \n",
       "18           Exploratory Dataset        None   \n",
       "19       LightTag Sample Dataset        None   \n",
       "20                Jeoperdy Async        None   \n",
       "21  LightTag Sample DatasetBible        None   \n",
       "22              My Bible Dataset        None   \n",
       "23                 ny_times_data        None   \n",
       "24                     biblefdwe        None   \n",
       "25                        tweets        None   \n",
       "26           The Bible (English)        None   \n",
       "27          Exploratory Dataset1        None   \n",
       "\n",
       "                              project_id                          slug  \\\n",
       "0   2753ca38-69d9-4c96-9d31-df6d4069b027                         bible   \n",
       "1   2753ca38-69d9-4c96-9d31-df6d4069b027       drilling-comments-small   \n",
       "2   2753ca38-69d9-4c96-9d31-df6d4069b027              some-new-dataset   \n",
       "3   2753ca38-69d9-4c96-9d31-df6d4069b027                   jabberwocky   \n",
       "4   2753ca38-69d9-4c96-9d31-df6d4069b027                          test   \n",
       "5   2753ca38-69d9-4c96-9d31-df6d4069b027                hebrew-medical   \n",
       "6   2753ca38-69d9-4c96-9d31-df6d4069b027                  trump-tweets   \n",
       "7   2753ca38-69d9-4c96-9d31-df6d4069b027                      oaa-test   \n",
       "8   2753ca38-69d9-4c96-9d31-df6d4069b027                   format-test   \n",
       "9   2753ca38-69d9-4c96-9d31-df6d4069b027                          zxzx   \n",
       "10  2753ca38-69d9-4c96-9d31-df6d4069b027                     enrontest   \n",
       "11  2753ca38-69d9-4c96-9d31-df6d4069b027                        enron2   \n",
       "12  2753ca38-69d9-4c96-9d31-df6d4069b027                        enron3   \n",
       "13  2753ca38-69d9-4c96-9d31-df6d4069b027                      falafel1   \n",
       "14  2753ca38-69d9-4c96-9d31-df6d4069b027                     bibletest   \n",
       "15  2753ca38-69d9-4c96-9d31-df6d4069b027                       hebrew2   \n",
       "16  2753ca38-69d9-4c96-9d31-df6d4069b027                      deleteme   \n",
       "17  2753ca38-69d9-4c96-9d31-df6d4069b027                  demo-for-noa   \n",
       "18  2753ca38-69d9-4c96-9d31-df6d4069b027           exploratory-dataset   \n",
       "19  2753ca38-69d9-4c96-9d31-df6d4069b027       lighttag-sample-dataset   \n",
       "20  2753ca38-69d9-4c96-9d31-df6d4069b027                jeoperdy-async   \n",
       "21  2753ca38-69d9-4c96-9d31-df6d4069b027  lighttag-sample-datasetbible   \n",
       "22  2753ca38-69d9-4c96-9d31-df6d4069b027              my-bible-dataset   \n",
       "23  2753ca38-69d9-4c96-9d31-df6d4069b027                 ny_times_data   \n",
       "24  2753ca38-69d9-4c96-9d31-df6d4069b027                     biblefdwe   \n",
       "25  2753ca38-69d9-4c96-9d31-df6d4069b027                        tweets   \n",
       "26  2753ca38-69d9-4c96-9d31-df6d4069b027             the-bible-english   \n",
       "27  2753ca38-69d9-4c96-9d31-df6d4069b027          exploratory-dataset1   \n",
       "\n",
       "   upload_status                                                url  \n",
       "0           done  https://demo.lighttag.io/api/v1/projects/defau...  \n",
       "1           done  https://demo.lighttag.io/api/v1/projects/defau...  \n",
       "2           done  https://demo.lighttag.io/api/v1/projects/defau...  \n",
       "3           done  https://demo.lighttag.io/api/v1/projects/defau...  \n",
       "4           done  https://demo.lighttag.io/api/v1/projects/defau...  \n",
       "5           done  https://demo.lighttag.io/api/v1/projects/defau...  \n",
       "6           done  https://demo.lighttag.io/api/v1/projects/defau...  \n",
       "7           done  https://demo.lighttag.io/api/v1/projects/defau...  \n",
       "8           done  https://demo.lighttag.io/api/v1/projects/defau...  \n",
       "9           done  https://demo.lighttag.io/api/v1/projects/defau...  \n",
       "10          done  https://demo.lighttag.io/api/v1/projects/defau...  \n",
       "11          done  https://demo.lighttag.io/api/v1/projects/defau...  \n",
       "12          done  https://demo.lighttag.io/api/v1/projects/defau...  \n",
       "13          done  https://demo.lighttag.io/api/v1/projects/defau...  \n",
       "14          done  https://demo.lighttag.io/api/v1/projects/defau...  \n",
       "15          done  https://demo.lighttag.io/api/v1/projects/defau...  \n",
       "16          done  https://demo.lighttag.io/api/v1/projects/defau...  \n",
       "17          done  https://demo.lighttag.io/api/v1/projects/defau...  \n",
       "18          done  https://demo.lighttag.io/api/v1/projects/defau...  \n",
       "19          done  https://demo.lighttag.io/api/v1/projects/defau...  \n",
       "20      starting  https://demo.lighttag.io/api/v1/projects/defau...  \n",
       "21          done  https://demo.lighttag.io/api/v1/projects/defau...  \n",
       "22          done  https://demo.lighttag.io/api/v1/projects/defau...  \n",
       "23          done  https://demo.lighttag.io/api/v1/projects/defau...  \n",
       "24          done  https://demo.lighttag.io/api/v1/projects/defau...  \n",
       "25          done  https://demo.lighttag.io/api/v1/projects/defau...  \n",
       "26          done  https://demo.lighttag.io/api/v1/projects/defau...  \n",
       "27       started  https://demo.lighttag.io/api/v1/projects/defau...  "
      ]
     },
     "execution_count": 7,
     "metadata": {},
     "output_type": "execute_result"
    }
   ],
   "source": [
    "datasets = session.get(API_BASE+'projects/default/datasets/').json()\n",
    "pd.DataFrame(datasets) \n",
    "#It's convenient to display the results in a dataframe"
   ]
  },
  {
   "cell_type": "markdown",
   "metadata": {},
   "source": [
    "### Retreive the examples from that dataset by \n",
    "In this example we what a Dataset named Test Set with a slug test-set. We'll pull all of the examples via the examples endpoint\n",
    "projects/default/datasets/**test-set**/examples/"
   ]
  },
  {
   "cell_type": "code",
   "execution_count": 8,
   "metadata": {},
   "outputs": [],
   "source": [
    "\n",
    "examples =session.get(API_BASE+'projects/default/datasets/test-set/examples/').json()"
   ]
  },
  {
   "cell_type": "code",
   "execution_count": 10,
   "metadata": {},
   "outputs": [
    {
     "data": {
      "text/plain": [
       "[]"
      ]
     },
     "execution_count": 10,
     "metadata": {},
     "output_type": "execute_result"
    }
   ],
   "source": [
    "examples"
   ]
  },
  {
   "cell_type": "markdown",
   "metadata": {},
   "source": [
    "We could equivalently do this by usig the URL field on the json returned from the datasets endpoint"
   ]
  },
  {
   "cell_type": "code",
   "execution_count": 9,
   "metadata": {},
   "outputs": [],
   "source": [
    "bible_dataset = next(filter(lambda x:x['slug']==\"test-set\",datasets))"
   ]
  },
  {
   "cell_type": "code",
   "execution_count": 10,
   "metadata": {},
   "outputs": [],
   "source": [
    "examples =session.get(bible_dataset['url']+'examples/').json()"
   ]
  },
  {
   "cell_type": "code",
   "execution_count": 11,
   "metadata": {},
   "outputs": [
    {
     "data": {
      "text/plain": [
       "{'aggregation_value': '2017-03-19',\n",
       " 'content': '#ICYMI: Weekly Address \\n➡️https://t.co/ckVx2zgA1x https://t.co/dTGZLvlsGv',\n",
       " 'dataset': '92ea39c8-1d7d-47eb-b6d3-25ceebc6ba33',\n",
       " 'id': '734c1e07-3648-44c2-903c-df7ba777c7e5',\n",
       " 'metadata': {'created_at': 'Sun Mar 19 20:20:22 +0000 2017',\n",
       "  'date': '2017-03-19',\n",
       "  'favorite_count': 36626,\n",
       "  'id_str': '843557782666317826',\n",
       "  'in_reply_to_user_id_str': None,\n",
       "  'is_retweet': False,\n",
       "  'retweet_count': 7472,\n",
       "  'source': 'Twitter for iPhone',\n",
       "  'time': 1489954822000000000}}"
      ]
     },
     "execution_count": 11,
     "metadata": {},
     "output_type": "execute_result"
    }
   ],
   "source": [
    "examples[0]"
   ]
  },
  {
   "cell_type": "markdown",
   "metadata": {},
   "source": [
    "## Step 2 Retreive the Schema and Tags we want to create suggestions for\n"
   ]
  },
  {
   "cell_type": "code",
   "execution_count": 12,
   "metadata": {},
   "outputs": [
    {
     "data": {
      "text/html": [
       "<div>\n",
       "<style>\n",
       "    .dataframe thead tr:only-child th {\n",
       "        text-align: right;\n",
       "    }\n",
       "\n",
       "    .dataframe thead th {\n",
       "        text-align: left;\n",
       "    }\n",
       "\n",
       "    .dataframe tbody tr th {\n",
       "        vertical-align: top;\n",
       "    }\n",
       "</style>\n",
       "<table border=\"1\" class=\"dataframe\">\n",
       "  <thead>\n",
       "    <tr style=\"text-align: right;\">\n",
       "      <th></th>\n",
       "      <th>id</th>\n",
       "      <th>name</th>\n",
       "      <th>slug</th>\n",
       "      <th>url</th>\n",
       "    </tr>\n",
       "  </thead>\n",
       "  <tbody>\n",
       "    <tr>\n",
       "      <th>0</th>\n",
       "      <td>3b73c2b2-73aa-4c42-a265-a0c459abd295</td>\n",
       "      <td>Classifications and tags Schema</td>\n",
       "      <td>classifications-and-tags-schema</td>\n",
       "      <td>http://localhost:8000/api/v1/projects/default/...</td>\n",
       "    </tr>\n",
       "    <tr>\n",
       "      <th>1</th>\n",
       "      <td>fbe6fd1d-bb59-4909-8a88-81772cc0d996</td>\n",
       "      <td>Entity Tags only</td>\n",
       "      <td>entity-tags-only</td>\n",
       "      <td>http://localhost:8000/api/v1/projects/default/...</td>\n",
       "    </tr>\n",
       "    <tr>\n",
       "      <th>2</th>\n",
       "      <td>9dcf0091-d82c-4292-a09d-eaff062fc1c4</td>\n",
       "      <td>Trump Insult Classification</td>\n",
       "      <td>trump-insult-classification</td>\n",
       "      <td>http://localhost:8000/api/v1/projects/default/...</td>\n",
       "    </tr>\n",
       "  </tbody>\n",
       "</table>\n",
       "</div>"
      ],
      "text/plain": [
       "                                     id                             name  \\\n",
       "0  3b73c2b2-73aa-4c42-a265-a0c459abd295  Classifications and tags Schema   \n",
       "1  fbe6fd1d-bb59-4909-8a88-81772cc0d996                 Entity Tags only   \n",
       "2  9dcf0091-d82c-4292-a09d-eaff062fc1c4      Trump Insult Classification   \n",
       "\n",
       "                              slug  \\\n",
       "0  classifications-and-tags-schema   \n",
       "1                 entity-tags-only   \n",
       "2      trump-insult-classification   \n",
       "\n",
       "                                                 url  \n",
       "0  http://localhost:8000/api/v1/projects/default/...  \n",
       "1  http://localhost:8000/api/v1/projects/default/...  \n",
       "2  http://localhost:8000/api/v1/projects/default/...  "
      ]
     },
     "execution_count": 12,
     "metadata": {},
     "output_type": "execute_result"
    }
   ],
   "source": [
    "schemas =session.get(API_BASE+'projects/default/schemas/').json()\n",
    "pd.DataFrame(schemas)"
   ]
  },
  {
   "cell_type": "code",
   "execution_count": 45,
   "metadata": {},
   "outputs": [
    {
     "data": {
      "text/plain": [
       "{'id': 'fbe6fd1d-bb59-4909-8a88-81772cc0d996',\n",
       " 'name': 'Entity Tags only',\n",
       " 'slug': 'entity-tags-only',\n",
       " 'url': 'http://localhost:8000/api/v1/projects/default/schemas/entity-tags-only/'}"
      ]
     },
     "execution_count": 45,
     "metadata": {},
     "output_type": "execute_result"
    }
   ],
   "source": [
    "schema"
   ]
  },
  {
   "cell_type": "code",
   "execution_count": 14,
   "metadata": {},
   "outputs": [
    {
     "data": {
      "text/html": [
       "<div>\n",
       "<style>\n",
       "    .dataframe thead tr:only-child th {\n",
       "        text-align: right;\n",
       "    }\n",
       "\n",
       "    .dataframe thead th {\n",
       "        text-align: left;\n",
       "    }\n",
       "\n",
       "    .dataframe tbody tr th {\n",
       "        vertical-align: top;\n",
       "    }\n",
       "</style>\n",
       "<table border=\"1\" class=\"dataframe\">\n",
       "  <thead>\n",
       "    <tr style=\"text-align: right;\">\n",
       "      <th></th>\n",
       "      <th>description</th>\n",
       "      <th>id</th>\n",
       "      <th>name</th>\n",
       "    </tr>\n",
       "  </thead>\n",
       "  <tbody>\n",
       "    <tr>\n",
       "      <th>0</th>\n",
       "      <td>Republicans/Democrates etc</td>\n",
       "      <td>0b4e9d4d-96b2-4288-bd52-e269a505cce3</td>\n",
       "      <td>Politcal Group</td>\n",
       "    </tr>\n",
       "    <tr>\n",
       "      <th>1</th>\n",
       "      <td>CNN/Fox etc.</td>\n",
       "      <td>14fd0d03-006b-4372-823e-41e32642e3b4</td>\n",
       "      <td>Media organization</td>\n",
       "    </tr>\n",
       "    <tr>\n",
       "      <th>2</th>\n",
       "      <td>A word or phrase that is unsulting.</td>\n",
       "      <td>2b162d01-637d-44b6-acf6-77cb8081608f</td>\n",
       "      <td>Insult</td>\n",
       "    </tr>\n",
       "    <tr>\n",
       "      <th>3</th>\n",
       "      <td>A political issue the President is discussing.</td>\n",
       "      <td>08728ae4-61c9-43ea-86f4-ffbc5289c5ae</td>\n",
       "      <td>Issue</td>\n",
       "    </tr>\n",
       "    <tr>\n",
       "      <th>4</th>\n",
       "      <td>A physical place. For example the White House.</td>\n",
       "      <td>6d331788-d937-4a11-ac38-4d653e56ddbd</td>\n",
       "      <td>Place</td>\n",
       "    </tr>\n",
       "    <tr>\n",
       "      <th>5</th>\n",
       "      <td>The proper name of a person (John is a person....</td>\n",
       "      <td>038de1c3-143a-40fc-a14c-627920311055</td>\n",
       "      <td>Person</td>\n",
       "    </tr>\n",
       "  </tbody>\n",
       "</table>\n",
       "</div>"
      ],
      "text/plain": [
       "                                         description  \\\n",
       "0                         Republicans/Democrates etc   \n",
       "1                                       CNN/Fox etc.   \n",
       "2                A word or phrase that is unsulting.   \n",
       "3     A political issue the President is discussing.   \n",
       "4     A physical place. For example the White House.   \n",
       "5  The proper name of a person (John is a person....   \n",
       "\n",
       "                                     id                name  \n",
       "0  0b4e9d4d-96b2-4288-bd52-e269a505cce3      Politcal Group  \n",
       "1  14fd0d03-006b-4372-823e-41e32642e3b4  Media organization  \n",
       "2  2b162d01-637d-44b6-acf6-77cb8081608f              Insult  \n",
       "3  08728ae4-61c9-43ea-86f4-ffbc5289c5ae               Issue  \n",
       "4  6d331788-d937-4a11-ac38-4d653e56ddbd               Place  \n",
       "5  038de1c3-143a-40fc-a14c-627920311055              Person  "
      ]
     },
     "execution_count": 14,
     "metadata": {},
     "output_type": "execute_result"
    }
   ],
   "source": [
    "schema = schemas[1]\n",
    "tags = session.get(schema['url']+'tags/').json()\n",
    "pd.DataFrame(tags)"
   ]
  },
  {
   "cell_type": "markdown",
   "metadata": {},
   "source": [
    "### Pro Tip \n",
    "To upload suggestions we'll need to use the tag ids, which can be cumbersome. It is often convenient to make a map\n",
    "drom the tag name to the id like so : "
   ]
  },
  {
   "cell_type": "code",
   "execution_count": 15,
   "metadata": {},
   "outputs": [],
   "source": [
    "tagMap = {tag[\"name\"]:tag[\"id\"] for tag in tags}"
   ]
  },
  {
   "cell_type": "code",
   "execution_count": 16,
   "metadata": {},
   "outputs": [
    {
     "data": {
      "text/plain": [
       "{'Insult': '2b162d01-637d-44b6-acf6-77cb8081608f',\n",
       " 'Issue': '08728ae4-61c9-43ea-86f4-ffbc5289c5ae',\n",
       " 'Media organization': '14fd0d03-006b-4372-823e-41e32642e3b4',\n",
       " 'Person': '038de1c3-143a-40fc-a14c-627920311055',\n",
       " 'Place': '6d331788-d937-4a11-ac38-4d653e56ddbd',\n",
       " 'Politcal Group': '0b4e9d4d-96b2-4288-bd52-e269a505cce3'}"
      ]
     },
     "execution_count": 16,
     "metadata": {},
     "output_type": "execute_result"
    }
   ],
   "source": [
    "tagMap"
   ]
  },
  {
   "cell_type": "code",
   "execution_count": null,
   "metadata": {},
   "outputs": [],
   "source": []
  },
  {
   "cell_type": "markdown",
   "metadata": {},
   "source": [
    "## Step 3: Create your suggestions\n",
    "How you create a suggestion is up to you. Youa re free to use a dicitonary, regex, neural network or whatever else\n",
    "is availble. \n",
    "In this example we'll use the [flashtext](https://github.com/vi3k6i5/flashtext) library to suggest the following\n",
    "\n",
    "\n"
   ]
  },
  {
   "cell_type": "code",
   "execution_count": 18,
   "metadata": {},
   "outputs": [
    {
     "data": {
      "text/plain": [
       "True"
      ]
     },
     "execution_count": 18,
     "metadata": {},
     "output_type": "execute_result"
    }
   ],
   "source": [
    "from flashtext import KeywordProcessor\n",
    "keyword_processor = KeywordProcessor()\n",
    "keyword_processor.add_keyword(\"Trump\",tagMap[\"Person\"])\n",
    "keyword_processor.add_keyword(\"Wall\",tagMap[\"Issue\"])\n",
    "keyword_processor.add_keyword(\"CNN\",tagMap[\"Media organization\"])\n",
    "keyword_processor.add_keyword(\"Dumb\",tagMap[\"Insult\"])\n",
    "\n",
    "keyword_processor.add_keyword(\"Russia\",tagMap[\"Place\"])\n",
    "keyword_processor.add_keyword(\"Democrats\",tagMap[\"Politcal Group\"])\n"
   ]
  },
  {
   "cell_type": "code",
   "execution_count": 20,
   "metadata": {},
   "outputs": [
    {
     "data": {
      "text/plain": [
       "[('0b4e9d4d-96b2-4288-bd52-e269a505cce3', 1, 10),\n",
       " ('038de1c3-143a-40fc-a14c-627920311055', 22, 27),\n",
       " ('6d331788-d937-4a11-ac38-4d653e56ddbd', 37, 43),\n",
       " ('2b162d01-637d-44b6-acf6-77cb8081608f', 45, 49)]"
      ]
     },
     "execution_count": 20,
     "metadata": {},
     "output_type": "execute_result"
    }
   ],
   "source": [
    "keyword_processor.extract_keywords(\" Democrats don't want Trump to go to Russia. Dumb! \",\n",
    "                                   span_info=True)"
   ]
  },
  {
   "cell_type": "markdown",
   "metadata": {},
   "source": [
    "### Step 3.1: Iterate over your examples and make a  list of suggestions\n"
   ]
  },
  {
   "cell_type": "code",
   "execution_count": 21,
   "metadata": {},
   "outputs": [],
   "source": [
    "suggestions = []\n",
    "for example in examples: #(Notice the text is located in the content field)\n",
    "    #For every suggestion that comes out of our model (in this case, flashtext)\n",
    "    for tag_id,start,end in keyword_processor.extract_keywords(example['content'],span_info=True):\n",
    "        suggestion= { #Create a suggestion\n",
    "            \"example_id\":example['id'], #That refers to a particular example\n",
    "            \"tag_id\":tag_id, #and applies a particular tag\n",
    "            \"start\":start, #Which starts somewhere in the example\n",
    "            \"end\":end # And ends somewhere in the example\n",
    "        }\n",
    "        suggestions.append(suggestion)"
   ]
  },
  {
   "cell_type": "markdown",
   "metadata": {},
   "source": [
    "### Step 3.2: Define a model"
   ]
  },
  {
   "cell_type": "code",
   "execution_count": 24,
   "metadata": {},
   "outputs": [],
   "source": [
    "model_metadata= { # Define any metadata you'd like to store about the model\n",
    "    \"defined_by\": \"LightTag\",\n",
    "    \"comments\": \"An example model made with Flashtext\"\n",
    "}\n",
    "data = {\n",
    "    \"model\":{\n",
    "        \"name\":\"demo_suggestions\",  #Give the model a name\n",
    "        \"metadata\": model_metadata # Provide metadata (optional)\n",
    "    },\n",
    "    \"suggestions\":suggestions #Attatch the suggestions you made before\n",
    "}"
   ]
  },
  {
   "cell_type": "markdown",
   "metadata": {},
   "source": [
    "## Step 4 Upload your model and Suggestions "
   ]
  },
  {
   "cell_type": "code",
   "execution_count": null,
   "metadata": {},
   "outputs": [],
   "source": []
  },
  {
   "cell_type": "code",
   "execution_count": 25,
   "metadata": {},
   "outputs": [
    {
     "data": {
      "text/plain": [
       "201"
      ]
     },
     "execution_count": 25,
     "metadata": {},
     "output_type": "execute_result"
    }
   ],
   "source": [
    "schema\n",
    "resp =session.post(schema['url']+'models/bulk/',\n",
    "                    json=data,\n",
    "             )\n",
    "resp.status_code"
   ]
  },
  {
   "cell_type": "code",
   "execution_count": 26,
   "metadata": {},
   "outputs": [
    {
     "data": {
      "text/plain": [
       "{'id': '94fc9df1-4dcf-4542-bb0f-e2b74a3d2ead',\n",
       " 'metadata': {'comments': 'An example model made with Flashtext',\n",
       "  'defined_by': 'LightTag'},\n",
       " 'name': 'demo_suggestions',\n",
       " 'slug': 'demo_suggestions',\n",
       " 'url': 'http://localhost:8000/api/v1/projects/default/schemas/entity-tags-only/models/demo_suggestions/'}"
      ]
     },
     "execution_count": 26,
     "metadata": {},
     "output_type": "execute_result"
    }
   ],
   "source": [
    "resp.json()"
   ]
  },
  {
   "cell_type": "markdown",
   "metadata": {},
   "source": [
    "## Step 5 Assign you suggestion model to a task\n",
    "Once we have a model, we need to tell LightTag to show its results to our annotators. Suggestions are shown with the rest of the work, and so we assign one or more models to an individual task. \n",
    "In this example we'll assign  two models to our task. The one we defined and the LightTag default model"
   ]
  },
  {
   "cell_type": "markdown",
   "metadata": {},
   "source": [
    "### Get the model ids for the schema we defined this model on"
   ]
  },
  {
   "cell_type": "code",
   "execution_count": 28,
   "metadata": {},
   "outputs": [
    {
     "data": {
      "text/plain": [
       "{'id': 'fbe6fd1d-bb59-4909-8a88-81772cc0d996',\n",
       " 'name': 'Entity Tags only',\n",
       " 'slug': 'entity-tags-only',\n",
       " 'url': 'http://localhost:8000/api/v1/projects/default/schemas/entity-tags-only/'}"
      ]
     },
     "execution_count": 28,
     "metadata": {},
     "output_type": "execute_result"
    }
   ],
   "source": [
    "schema"
   ]
  },
  {
   "cell_type": "code",
   "execution_count": 32,
   "metadata": {},
   "outputs": [
    {
     "name": "stdout",
     "output_type": "stream",
     "text": [
      "[{'id': '94fc9df1-4dcf-4542-bb0f-e2b74a3d2ead',\n",
      "  'metadata': {'comments': 'An example model made with Flashtext',\n",
      "               'defined_by': 'LightTag'},\n",
      "  'name': 'demo_suggestions',\n",
      "  'slug': 'demo_suggestions',\n",
      "  'url': 'http://localhost:8000/api/v1/projects/default/schemas/entity-tags-only/models/demo_suggestions/'},\n",
      " {'id': '78352a55-6a97-4973-a00d-77c031fa15e8',\n",
      "  'metadata': {},\n",
      "  'name': 'Entity Tags only ad hoc dict',\n",
      "  'slug': 'entity-tags-only-ad-hoc-dict',\n",
      "  'url': 'http://localhost:8000/api/v1/projects/default/schemas/entity-tags-only/models/entity-tags-only-ad-hoc-dict/'}]\n"
     ]
    }
   ],
   "source": [
    "models = session.get(schema['url']+'models/').json()\n",
    "pprint(models)"
   ]
  },
  {
   "cell_type": "markdown",
   "metadata": {},
   "source": [
    "### PUT the model ids into the suggestion field of the task\n"
   ]
  },
  {
   "cell_type": "code",
   "execution_count": 44,
   "metadata": {},
   "outputs": [
    {
     "data": {
      "text/plain": [
       "[{'active': True,\n",
       "  'allow_suggestions': True,\n",
       "  'annotators_per_example': 2,\n",
       "  'dataset_id': 'ee688ba1-b0d3-4fdb-9355-d7924e3875e4',\n",
       "  'dataset_slug': 'exploratory-dataset',\n",
       "  'guidelines': None,\n",
       "  'id': '9bab798d-c8db-43e8-9d4e-bf893a2f83f0',\n",
       "  'name': 'Explore tags and classes',\n",
       "  'priority': 1,\n",
       "  'project_id': 'e488e45a-564a-4b93-8beb-f7aa4c73ea97',\n",
       "  'schema_id': '3b73c2b2-73aa-4c42-a265-a0c459abd295',\n",
       "  'schema_slug': 'classifications-and-tags-schema',\n",
       "  'slug': 'explore-tags-and-classes',\n",
       "  'teams': [{'description': 'People who are very knowledgable about twitter',\n",
       "    'id': 'd2648770-7886-4c41-ad7d-b1f6f713ffbd',\n",
       "    'members': [{'id': 2, 'username': 'Bob'},\n",
       "     {'id': 3, 'username': 'Hanz'},\n",
       "     {'id': 1, 'username': 'demo'}],\n",
       "    'name': 'Experts',\n",
       "    'slug': 'experts',\n",
       "    'url': 'http://localhost:8000/api/v1/projects/default/teams/experts/'}],\n",
       "  'url': 'http://localhost:8000/api/v1/projects/default/task_definitions/explore-tags-and-classes/'},\n",
       " {'active': True,\n",
       "  'allow_suggestions': True,\n",
       "  'annotators_per_example': 2,\n",
       "  'dataset_id': 'ee688ba1-b0d3-4fdb-9355-d7924e3875e4',\n",
       "  'dataset_slug': 'exploratory-dataset',\n",
       "  'guidelines': None,\n",
       "  'id': 'f5fe2bbb-e41b-4cc5-9cd2-8a28f6b37ab4',\n",
       "  'name': 'Explore tags only',\n",
       "  'priority': 2,\n",
       "  'project_id': 'e488e45a-564a-4b93-8beb-f7aa4c73ea97',\n",
       "  'schema_id': 'fbe6fd1d-bb59-4909-8a88-81772cc0d996',\n",
       "  'schema_slug': 'entity-tags-only',\n",
       "  'slug': 'explore-tags-only',\n",
       "  'teams': [{'description': '',\n",
       "    'id': 'dd40e50b-2ffa-4943-b5ca-6983dba36331',\n",
       "    'members': [{'id': 2, 'username': 'Bob'},\n",
       "     {'id': 3, 'username': 'Hanz'},\n",
       "     {'id': 4, 'username': 'Franz'},\n",
       "     {'id': 1, 'username': 'demo'}],\n",
       "    'name': 'Everyone',\n",
       "    'slug': 'everyone',\n",
       "    'url': 'http://localhost:8000/api/v1/projects/default/teams/everyone/'}],\n",
       "  'url': 'http://localhost:8000/api/v1/projects/default/task_definitions/explore-tags-only/'},\n",
       " {'active': True,\n",
       "  'allow_suggestions': True,\n",
       "  'annotators_per_example': 2,\n",
       "  'dataset_id': 'ee688ba1-b0d3-4fdb-9355-d7924e3875e4',\n",
       "  'dataset_slug': 'exploratory-dataset',\n",
       "  'guidelines': '### Example Guidelines \\n This is an example',\n",
       "  'id': '4bec1ef3-a34d-4ac6-a484-2ee0ec60fc85',\n",
       "  'name': 'Explore classification only',\n",
       "  'priority': 3,\n",
       "  'project_id': 'e488e45a-564a-4b93-8beb-f7aa4c73ea97',\n",
       "  'schema_id': '9dcf0091-d82c-4292-a09d-eaff062fc1c4',\n",
       "  'schema_slug': 'trump-insult-classification',\n",
       "  'slug': 'explore-classification-only',\n",
       "  'teams': [{'description': '',\n",
       "    'id': 'dd40e50b-2ffa-4943-b5ca-6983dba36331',\n",
       "    'members': [{'id': 2, 'username': 'Bob'},\n",
       "     {'id': 3, 'username': 'Hanz'},\n",
       "     {'id': 4, 'username': 'Franz'},\n",
       "     {'id': 1, 'username': 'demo'}],\n",
       "    'name': 'Everyone',\n",
       "    'slug': 'everyone',\n",
       "    'url': 'http://localhost:8000/api/v1/projects/default/teams/everyone/'}],\n",
       "  'url': 'http://localhost:8000/api/v1/projects/default/task_definitions/explore-classification-only/'},\n",
       " {'active': True,\n",
       "  'allow_suggestions': True,\n",
       "  'annotators_per_example': 1,\n",
       "  'dataset_id': 'de7ed65d-e685-4ea9-bf3b-0c3c10f20b46',\n",
       "  'dataset_slug': 'training-set',\n",
       "  'guidelines': None,\n",
       "  'id': 'ace018ea-e8ee-4e9e-8b2d-1a0418f30878',\n",
       "  'name': 'training set tags and classes',\n",
       "  'priority': 4,\n",
       "  'project_id': 'e488e45a-564a-4b93-8beb-f7aa4c73ea97',\n",
       "  'schema_id': '3b73c2b2-73aa-4c42-a265-a0c459abd295',\n",
       "  'schema_slug': 'classifications-and-tags-schema',\n",
       "  'slug': 'training-set-tags-and-classes',\n",
       "  'teams': [{'description': 'People who know a little about twitter',\n",
       "    'id': '044b04b5-7cdd-404a-8b00-1c7b61d50474',\n",
       "    'members': [{'id': 4, 'username': 'Franz'}],\n",
       "    'name': 'Layman',\n",
       "    'slug': 'layman',\n",
       "    'url': 'http://localhost:8000/api/v1/projects/default/teams/layman/'}],\n",
       "  'url': 'http://localhost:8000/api/v1/projects/default/task_definitions/training-set-tags-and-classes/'},\n",
       " {'active': True,\n",
       "  'allow_suggestions': True,\n",
       "  'annotators_per_example': 3,\n",
       "  'dataset_id': '92ea39c8-1d7d-47eb-b6d3-25ceebc6ba33',\n",
       "  'dataset_slug': 'test-set',\n",
       "  'guidelines': None,\n",
       "  'id': 'f91a95a4-61e5-40f8-87b4-63103e1f00f0',\n",
       "  'name': 'test set tags and classes',\n",
       "  'priority': 5,\n",
       "  'project_id': 'e488e45a-564a-4b93-8beb-f7aa4c73ea97',\n",
       "  'schema_id': '3b73c2b2-73aa-4c42-a265-a0c459abd295',\n",
       "  'schema_slug': 'classifications-and-tags-schema',\n",
       "  'slug': 'test-set-tags-and-classes',\n",
       "  'teams': [{'description': 'People who are very knowledgable about twitter',\n",
       "    'id': 'd2648770-7886-4c41-ad7d-b1f6f713ffbd',\n",
       "    'members': [{'id': 2, 'username': 'Bob'},\n",
       "     {'id': 3, 'username': 'Hanz'},\n",
       "     {'id': 1, 'username': 'demo'}],\n",
       "    'name': 'Experts',\n",
       "    'slug': 'experts',\n",
       "    'url': 'http://localhost:8000/api/v1/projects/default/teams/experts/'},\n",
       "   {'description': 'People who know a little about twitter',\n",
       "    'id': '044b04b5-7cdd-404a-8b00-1c7b61d50474',\n",
       "    'members': [{'id': 4, 'username': 'Franz'}],\n",
       "    'name': 'Layman',\n",
       "    'slug': 'layman',\n",
       "    'url': 'http://localhost:8000/api/v1/projects/default/teams/layman/'}],\n",
       "  'url': 'http://localhost:8000/api/v1/projects/default/task_definitions/test-set-tags-and-classes/'}]"
      ]
     },
     "execution_count": 44,
     "metadata": {},
     "output_type": "execute_result"
    }
   ],
   "source": [
    "modelIds = {\"models\": [x['id'] for x in models]}\n",
    "\n",
    "session.put(API_BASE+'projects/default/task_definitions/explore-tags-only/',json=modelIds).json()"
   ]
  },
  {
   "cell_type": "code",
   "execution_count": null,
   "metadata": {},
   "outputs": [],
   "source": []
  }
 ],
 "metadata": {
  "kernelspec": {
   "display_name": "Python 3",
   "language": "python",
   "name": "python3"
  },
  "language_info": {
   "codemirror_mode": {
    "name": "ipython",
    "version": 3
   },
   "file_extension": ".py",
   "mimetype": "text/x-python",
   "name": "python",
   "nbconvert_exporter": "python",
   "pygments_lexer": "ipython3",
   "version": "3.6.8"
  }
 },
 "nbformat": 4,
 "nbformat_minor": 2
}
