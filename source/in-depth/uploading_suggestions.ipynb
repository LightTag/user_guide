{
 "cells": [
  {
   "cell_type": "markdown",
   "metadata": {},
   "source": [
    "# Adding Suggestions\n",
    "This notebook will walk you through adding suggestions to LightTag throw the API. \n",
    "\n",
    "Conceptually, Suggestions come from a Model and a Model belongs to a Schema. Thus in order to add Suggestions you must register a Model under the relevant Schema and then populate the model with actual suggestions. \n",
    "\n",
    "To avoid confusion, while you are registering a Model, LightTag will not run your model, instead, it is up to you to generate the suggestions and upload them. Here we'll see how to do that"
   ]
  },
  {
   "cell_type": "markdown",
   "metadata": {},
   "source": [
    "## The Steps\n",
    "1. Retreiving the Examples we wish to generate suggestions on\n",
    "2. Retreiveing the Schema we wish to define a Model for\n",
    "3. Creating a model and suggestions\n",
    "4. Uploading the suggestions and Model"
   ]
  },
  {
   "cell_type": "markdown",
   "metadata": {},
   "source": [
    "## Step 0 - Basic setup"
   ]
  },
  {
   "cell_type": "code",
   "execution_count": 1,
   "metadata": {},
   "outputs": [
    {
     "data": {
      "text/plain": [
       "<Response [200]>"
      ]
     },
     "execution_count": 1,
     "metadata": {},
     "output_type": "execute_result"
    }
   ],
   "source": [
    "import requests\n",
    "import json\n",
    "import pandas as pd\n",
    "from pprint import pprint\n",
    "from requests.auth import HTTPBasicAuth\n",
    "SERVER =\"http://localhost:8000\"\n",
    "#SERVER = \"https://api-demo.lighttag.io\" #The server is https://api-{your_subdomain_name.lighttag.io}\n",
    "API_BASE = SERVER +'/api/v1/'\n",
    "LT_USERNAME = \"demo\" # Username of manager user\n",
    "LT_PASSWORD = \"demo\" #password of manager user\n",
    "\n",
    "response = requests.post(SERVER +\"/auth/token/create/\",\n",
    "              json={\"username\":LT_USERNAME,\"password\":LT_PASSWORD}\n",
    "             )\n",
    "response"
   ]
  },
  {
   "cell_type": "markdown",
   "metadata": {},
   "source": [
    "Once we log in, LightTag will return a token we can use for further calls. We'll put that in dict that we will pass as header"
   ]
  },
  {
   "cell_type": "code",
   "execution_count": 2,
   "metadata": {},
   "outputs": [],
   "source": [
    "token = response.json()['key']\n",
    "headers={'Authorization': 'Token {token}'.format(token=token)}\n",
    "session = requests.session()\n",
    "session.headers = headers"
   ]
  },
  {
   "cell_type": "markdown",
   "metadata": {},
   "source": [
    "## Step 1 Getting the data examples we wish to annotate\n",
    "To generate suggestions we will need data. Particularly we'll need both all of the examples in a dataset as well as the tags from a particular schema. \n",
    "While you could gather each of these seperatly, LightTag has a data download view which already returns both of these combined. \n",
    "\n"
   ]
  },
  {
   "cell_type": "markdown",
   "metadata": {},
   "source": [
    "### Retreiv the slug or url of the dataset with the examples you wish to add suggestions to\n",
    "You can query the datasets endpoint. Remember, you are operating under the default project, so you should query \n",
    "\n",
    "\n",
    "projects/**default**/datasets/"
   ]
  },
  {
   "cell_type": "code",
   "execution_count": 3,
   "metadata": {},
   "outputs": [
    {
     "data": {
      "text/html": [
       "<div>\n",
       "<style>\n",
       "    .dataframe thead tr:only-child th {\n",
       "        text-align: right;\n",
       "    }\n",
       "\n",
       "    .dataframe thead th {\n",
       "        text-align: left;\n",
       "    }\n",
       "\n",
       "    .dataframe tbody tr th {\n",
       "        vertical-align: top;\n",
       "    }\n",
       "</style>\n",
       "<table border=\"1\" class=\"dataframe\">\n",
       "  <thead>\n",
       "    <tr style=\"text-align: right;\">\n",
       "      <th></th>\n",
       "      <th>aggregation_field</th>\n",
       "      <th>content_field</th>\n",
       "      <th>id</th>\n",
       "      <th>id_field</th>\n",
       "      <th>name</th>\n",
       "      <th>order_field</th>\n",
       "      <th>project_id</th>\n",
       "      <th>slug</th>\n",
       "      <th>url</th>\n",
       "    </tr>\n",
       "  </thead>\n",
       "  <tbody>\n",
       "    <tr>\n",
       "      <th>0</th>\n",
       "      <td>None</td>\n",
       "      <td>content</td>\n",
       "      <td>e7dee97f-b133-4b2d-b84a-27c41c342e0b</td>\n",
       "      <td>None</td>\n",
       "      <td>fufuf</td>\n",
       "      <td>None</td>\n",
       "      <td>2a1daae8-280b-420c-a25f-95535e7b9582</td>\n",
       "      <td>fufuf</td>\n",
       "      <td>http://localhost:8000/api/v1/projects/default/...</td>\n",
       "    </tr>\n",
       "    <tr>\n",
       "      <th>1</th>\n",
       "      <td>verse</td>\n",
       "      <td>content</td>\n",
       "      <td>46430219-d856-4241-b22f-38fbbaa60060</td>\n",
       "      <td>None</td>\n",
       "      <td>fvgbsfg</td>\n",
       "      <td>book</td>\n",
       "      <td>2a1daae8-280b-420c-a25f-95535e7b9582</td>\n",
       "      <td>fvgbsfg</td>\n",
       "      <td>http://localhost:8000/api/v1/projects/default/...</td>\n",
       "    </tr>\n",
       "    <tr>\n",
       "      <th>2</th>\n",
       "      <td>None</td>\n",
       "      <td>content</td>\n",
       "      <td>cd330fbe-f191-4824-8aba-42dc661bf0e0</td>\n",
       "      <td>None</td>\n",
       "      <td>mufu</td>\n",
       "      <td>None</td>\n",
       "      <td>2a1daae8-280b-420c-a25f-95535e7b9582</td>\n",
       "      <td>mufu</td>\n",
       "      <td>http://localhost:8000/api/v1/projects/default/...</td>\n",
       "    </tr>\n",
       "  </tbody>\n",
       "</table>\n",
       "</div>"
      ],
      "text/plain": [
       "  aggregation_field content_field                                    id  \\\n",
       "0              None       content  e7dee97f-b133-4b2d-b84a-27c41c342e0b   \n",
       "1             verse       content  46430219-d856-4241-b22f-38fbbaa60060   \n",
       "2              None       content  cd330fbe-f191-4824-8aba-42dc661bf0e0   \n",
       "\n",
       "  id_field     name order_field                            project_id  \\\n",
       "0     None    fufuf        None  2a1daae8-280b-420c-a25f-95535e7b9582   \n",
       "1     None  fvgbsfg        book  2a1daae8-280b-420c-a25f-95535e7b9582   \n",
       "2     None     mufu        None  2a1daae8-280b-420c-a25f-95535e7b9582   \n",
       "\n",
       "      slug                                                url  \n",
       "0    fufuf  http://localhost:8000/api/v1/projects/default/...  \n",
       "1  fvgbsfg  http://localhost:8000/api/v1/projects/default/...  \n",
       "2     mufu  http://localhost:8000/api/v1/projects/default/...  "
      ]
     },
     "execution_count": 3,
     "metadata": {},
     "output_type": "execute_result"
    }
   ],
   "source": [
    "datasets = session.get(API_BASE+'projects/default/datasets/').json()\n",
    "pd.DataFrame(datasets) \n",
    "#It's convenient to display the results in a dataframe"
   ]
  },
  {
   "cell_type": "markdown",
   "metadata": {},
   "source": [
    "### Retreive the examples from that dataset by \n",
    "In this example we what a Dataset named Bible with a slug bible. We'll pull all of the examples via the examples endpoint\n",
    "projects/default/datasets/**bible**/examples/"
   ]
  },
  {
   "cell_type": "code",
   "execution_count": 9,
   "metadata": {},
   "outputs": [],
   "source": [
    "\n",
    "examples =session.get(API_BASE+'projects/default/datasets/fufuf/examples/').json()"
   ]
  },
  {
   "cell_type": "code",
   "execution_count": 10,
   "metadata": {},
   "outputs": [
    {
     "data": {
      "text/plain": [
       "[{'aggregation_value': None,\n",
       "  'content': ' And her adversary also provoked her sore, for to make her fret, because the LORD had shut up her womb.  ',\n",
       "  'dataset': 'e7dee97f-b133-4b2d-b84a-27c41c342e0b',\n",
       "  'id': '44030fb9-d259-4034-8d2a-e2af1bc3e506',\n",
       "  'metadata': {'book': 'The First Book of the Kings',\n",
       "   'chapter': 1,\n",
       "   'verse': 6}},\n",
       " {'aggregation_value': None,\n",
       "  'content': ' And Hannah prayed, and said, My heart rejoiceth in the LORD, mine horn is exalted in the LORD: my mouth is enlarged over mine enemies; because I rejoice in thy salvation.  ',\n",
       "  'dataset': 'e7dee97f-b133-4b2d-b84a-27c41c342e0b',\n",
       "  'id': 'b9a5489f-463c-4692-b9b3-c936b6c78e0d',\n",
       "  'metadata': {'book': 'The First Book of the Kings',\n",
       "   'chapter': 2,\n",
       "   'verse': 1}},\n",
       " {'aggregation_value': None,\n",
       "  'content': ' There is none holy as the LORD: for there is none beside thee: neither is there any rock like our God.  ',\n",
       "  'dataset': 'e7dee97f-b133-4b2d-b84a-27c41c342e0b',\n",
       "  'id': 'e594904a-a04a-47a2-88f3-0b28e4f06ff3',\n",
       "  'metadata': {'book': 'The First Book of the Kings',\n",
       "   'chapter': 2,\n",
       "   'verse': 2}},\n",
       " {'aggregation_value': None,\n",
       "  'content': ' Talk no more so exceeding proudly; let not arrogancy come out of your mouth: for the LORD is a God of knowledge, and by him actions are weighed.  ',\n",
       "  'dataset': 'e7dee97f-b133-4b2d-b84a-27c41c342e0b',\n",
       "  'id': 'b6caad52-4708-444f-8166-391e8e804403',\n",
       "  'metadata': {'book': 'The First Book of the Kings',\n",
       "   'chapter': 2,\n",
       "   'verse': 3}},\n",
       " {'aggregation_value': None,\n",
       "  'content': ' The bows of the mighty men are broken, and they that stumbled are girded with strength.  ',\n",
       "  'dataset': 'e7dee97f-b133-4b2d-b84a-27c41c342e0b',\n",
       "  'id': 'ad1ab5ff-59d7-47f3-9578-6332e227c87c',\n",
       "  'metadata': {'book': 'The First Book of the Kings',\n",
       "   'chapter': 2,\n",
       "   'verse': 4}},\n",
       " {'aggregation_value': None,\n",
       "  'content': ' They that were full have hired out themselves for bread; and they that were hungry ceased: so that the barren hath born seven; and she that hath many children is waxed feeble.  ',\n",
       "  'dataset': 'e7dee97f-b133-4b2d-b84a-27c41c342e0b',\n",
       "  'id': '2f17b272-303a-448b-8d28-d0f5d7bf3630',\n",
       "  'metadata': {'book': 'The First Book of the Kings',\n",
       "   'chapter': 2,\n",
       "   'verse': 5}},\n",
       " {'aggregation_value': None,\n",
       "  'content': ' The LORD killeth, and maketh alive: he bringeth down to the grave, and bringeth up.  ',\n",
       "  'dataset': 'e7dee97f-b133-4b2d-b84a-27c41c342e0b',\n",
       "  'id': '272cd927-21bd-4273-b1a4-f08594baa6a6',\n",
       "  'metadata': {'book': 'The First Book of the Kings',\n",
       "   'chapter': 2,\n",
       "   'verse': 6}},\n",
       " {'aggregation_value': None,\n",
       "  'content': ' And the child Samuel ministered unto the LORD before Eli. And the word of the LORD was precious in those days; there was no open vision.  ',\n",
       "  'dataset': 'e7dee97f-b133-4b2d-b84a-27c41c342e0b',\n",
       "  'id': '5f6d4fc3-8cc0-432a-8b70-6525c3743c0b',\n",
       "  'metadata': {'book': 'The First Book of the Kings',\n",
       "   'chapter': 3,\n",
       "   'verse': 1}},\n",
       " {'aggregation_value': None,\n",
       "  'content': ' And it came to pass at that time, when Eli was laid down in his place, and his eyes began to wax dim, that he could not see; ',\n",
       "  'dataset': 'e7dee97f-b133-4b2d-b84a-27c41c342e0b',\n",
       "  'id': '288a4145-ff37-4085-a32a-56325cbe238b',\n",
       "  'metadata': {'book': 'The First Book of the Kings',\n",
       "   'chapter': 3,\n",
       "   'verse': 2}},\n",
       " {'aggregation_value': None,\n",
       "  'content': ' Now there was a certain man of Ramathaimzophim, of mount Ephraim, and his name was Elkanah, the son of Jeroham, the son of Elihu, the son of Tohu, the son of Zuph, an Ephrathite: ',\n",
       "  'dataset': 'e7dee97f-b133-4b2d-b84a-27c41c342e0b',\n",
       "  'id': '4329ba0d-6ab2-4a9a-b892-e25533058525',\n",
       "  'metadata': {'book': 'The First Book of the Kings',\n",
       "   'chapter': 1,\n",
       "   'verse': 1}},\n",
       " {'aggregation_value': None,\n",
       "  'content': ' And he had two wives; the name of the one was Hannah, and the name of the other Peninnah: and Peninnah had children, but Hannah had no children.  ',\n",
       "  'dataset': 'e7dee97f-b133-4b2d-b84a-27c41c342e0b',\n",
       "  'id': '3a9b3e4b-2efb-420d-9cde-0680f7dfb5e6',\n",
       "  'metadata': {'book': 'The First Book of the Kings',\n",
       "   'chapter': 1,\n",
       "   'verse': 2}},\n",
       " {'aggregation_value': None,\n",
       "  'content': ' And this man went up out of his city yearly to worship and to sacrifice unto the LORD of hosts in Shiloh. And the two sons of Eli, Hophni and Phinehas, the priests of the LORD, were there.  ',\n",
       "  'dataset': 'e7dee97f-b133-4b2d-b84a-27c41c342e0b',\n",
       "  'id': 'ba6a0190-368f-4812-bda7-dfecdbe46ef6',\n",
       "  'metadata': {'book': 'The First Book of the Kings',\n",
       "   'chapter': 1,\n",
       "   'verse': 3}},\n",
       " {'aggregation_value': None,\n",
       "  'content': ' And when the time was that Elkanah offered, he gave to Peninnah his wife, and to all her sons and her daughters, portions: ',\n",
       "  'dataset': 'e7dee97f-b133-4b2d-b84a-27c41c342e0b',\n",
       "  'id': '4ba7bf3f-4a8f-4788-84ba-7003ae4011fb',\n",
       "  'metadata': {'book': 'The First Book of the Kings',\n",
       "   'chapter': 1,\n",
       "   'verse': 4}},\n",
       " {'aggregation_value': None,\n",
       "  'content': ' But unto Hannah he gave a worthy portion; for he loved Hannah: but the LORD had shut up her womb.  ',\n",
       "  'dataset': 'e7dee97f-b133-4b2d-b84a-27c41c342e0b',\n",
       "  'id': 'eca416bf-fe60-4359-9601-3fa038442dbe',\n",
       "  'metadata': {'book': 'The First Book of the Kings',\n",
       "   'chapter': 1,\n",
       "   'verse': 5}},\n",
       " {'aggregation_value': None,\n",
       "  'content': ' And ere the lamp of God went out in the temple of the LORD, where the ark of God was, and Samuel was laid down to sleep; ',\n",
       "  'dataset': 'e7dee97f-b133-4b2d-b84a-27c41c342e0b',\n",
       "  'id': '6d9c42a6-8e7c-4cd3-9352-8e245977485d',\n",
       "  'metadata': {'book': 'The First Book of the Kings',\n",
       "   'chapter': 3,\n",
       "   'verse': 3}},\n",
       " {'aggregation_value': None,\n",
       "  'content': ' That the LORD called Samuel: and he answered, Here am I.  ',\n",
       "  'dataset': 'e7dee97f-b133-4b2d-b84a-27c41c342e0b',\n",
       "  'id': '0ce86a71-3ef1-4959-8ced-0797ba43fa82',\n",
       "  'metadata': {'book': 'The First Book of the Kings',\n",
       "   'chapter': 3,\n",
       "   'verse': 4}},\n",
       " {'aggregation_value': None,\n",
       "  'content': ' And he ran unto Eli, and said, Here am I; for thou calledst me. And he said, I called not; lie down again. And he went and lay down.  ',\n",
       "  'dataset': 'e7dee97f-b133-4b2d-b84a-27c41c342e0b',\n",
       "  'id': '77837c85-6fc4-4b96-9315-7d3d8b58fa12',\n",
       "  'metadata': {'book': 'The First Book of the Kings',\n",
       "   'chapter': 3,\n",
       "   'verse': 5}},\n",
       " {'aggregation_value': None,\n",
       "  'content': ' And the LORD called yet again, Samuel. And Samuel arose and went to Eli, and said, Here am I; for thou didst call me. And he answered, I called not, my son; lie down again.  ',\n",
       "  'dataset': 'e7dee97f-b133-4b2d-b84a-27c41c342e0b',\n",
       "  'id': '433c87df-b19b-4b07-8d26-4ee2904aa965',\n",
       "  'metadata': {'book': 'The First Book of the Kings',\n",
       "   'chapter': 3,\n",
       "   'verse': 6}},\n",
       " {'aggregation_value': None,\n",
       "  'content': ' And the word of Samuel came to all Israel. Now Israel went out against the Philistines to battle, and pitched beside Ebenezer: and the Philistines pitched in Aphek.  ',\n",
       "  'dataset': 'e7dee97f-b133-4b2d-b84a-27c41c342e0b',\n",
       "  'id': '06d8edaa-2522-42af-96d0-dba79dc9f285',\n",
       "  'metadata': {'book': 'The First Book of the Kings',\n",
       "   'chapter': 4,\n",
       "   'verse': 1}},\n",
       " {'aggregation_value': None,\n",
       "  'content': ' And the Philistines put themselves in array against Israel: and when they joined battle, Israel was smitten before the Philistines: and they slew of the army in the field about four thousand men.  ',\n",
       "  'dataset': 'e7dee97f-b133-4b2d-b84a-27c41c342e0b',\n",
       "  'id': '87b7ffc7-6802-4c9b-a474-8ccbea9b0a5a',\n",
       "  'metadata': {'book': 'The First Book of the Kings',\n",
       "   'chapter': 4,\n",
       "   'verse': 2}},\n",
       " {'aggregation_value': None,\n",
       "  'content': ' And when the people were come into the camp, the elders of Israel said, Wherefore hath the LORD smitten us to day before the Philistines? Let us fetch the ark of the covenant of the LORD out of Shiloh unto us, that, when it cometh among us, it may save us out of the hand of our enemies.  ',\n",
       "  'dataset': 'e7dee97f-b133-4b2d-b84a-27c41c342e0b',\n",
       "  'id': 'c3c5b4c3-2a77-4f93-bb0f-744438484cbd',\n",
       "  'metadata': {'book': 'The First Book of the Kings',\n",
       "   'chapter': 4,\n",
       "   'verse': 3}},\n",
       " {'aggregation_value': None,\n",
       "  'content': ' So the people sent to Shiloh, that they might bring from thence the ark of the covenant of the LORD of hosts, which dwelleth between the cherubims: and the two sons of Eli, Hophni and Phinehas, were there with the ark of the covenant of God.  ',\n",
       "  'dataset': 'e7dee97f-b133-4b2d-b84a-27c41c342e0b',\n",
       "  'id': '018fbdf3-4229-4e51-a4e5-90de9b6554fb',\n",
       "  'metadata': {'book': 'The First Book of the Kings',\n",
       "   'chapter': 4,\n",
       "   'verse': 4}},\n",
       " {'aggregation_value': None,\n",
       "  'content': ' And when the ark of the covenant of the LORD came into the camp, all Israel shouted with a great shout, so that the earth rang again.  ',\n",
       "  'dataset': 'e7dee97f-b133-4b2d-b84a-27c41c342e0b',\n",
       "  'id': '3d02ecb0-5694-4272-bca5-ce4c40e0dce9',\n",
       "  'metadata': {'book': 'The First Book of the Kings',\n",
       "   'chapter': 4,\n",
       "   'verse': 5}},\n",
       " {'aggregation_value': None,\n",
       "  'content': ' And when the Philistines heard the noise of the shout, they said, What meaneth the noise of this great shout in the camp of the Hebrews? And they understood that the ark of the LORD was come into the camp.  ',\n",
       "  'dataset': 'e7dee97f-b133-4b2d-b84a-27c41c342e0b',\n",
       "  'id': '5c159822-ea3a-4704-b701-87d9ebc2718f',\n",
       "  'metadata': {'book': 'The First Book of the Kings',\n",
       "   'chapter': 4,\n",
       "   'verse': 6}},\n",
       " {'aggregation_value': None,\n",
       "  'content': ' And the Philistines took the ark of God, and brought it from Ebenezer unto Ashdod.  ',\n",
       "  'dataset': 'e7dee97f-b133-4b2d-b84a-27c41c342e0b',\n",
       "  'id': '3a40cea7-3fc3-46e0-82d5-ac6ff21ea88b',\n",
       "  'metadata': {'book': 'The First Book of the Kings',\n",
       "   'chapter': 5,\n",
       "   'verse': 1}},\n",
       " {'aggregation_value': None,\n",
       "  'content': ' When the Philistines took the ark of God, they brought it into the house of Dagon, and set it by Dagon.  ',\n",
       "  'dataset': 'e7dee97f-b133-4b2d-b84a-27c41c342e0b',\n",
       "  'id': 'e6093b45-4d8a-4211-b7b6-c6a4897c1c61',\n",
       "  'metadata': {'book': 'The First Book of the Kings',\n",
       "   'chapter': 5,\n",
       "   'verse': 2}},\n",
       " {'aggregation_value': None,\n",
       "  'content': ' And when they of Ashdod arose early on the morrow, behold, Dagon was fallen upon his face to the earth before the ark of the LORD. And they took Dagon, and set him in his place again.  ',\n",
       "  'dataset': 'e7dee97f-b133-4b2d-b84a-27c41c342e0b',\n",
       "  'id': 'd17f9a38-ee80-4dbb-b39f-f651d15d4b7c',\n",
       "  'metadata': {'book': 'The First Book of the Kings',\n",
       "   'chapter': 5,\n",
       "   'verse': 3}},\n",
       " {'aggregation_value': None,\n",
       "  'content': ' And when they arose early on the morrow morning, behold, Dagon was fallen upon his face to the ground before the ark of the LORD; and the head of Dagon and both the palms of his hands were cut off upon the threshold; only the stump of Dagon was left to him.  ',\n",
       "  'dataset': 'e7dee97f-b133-4b2d-b84a-27c41c342e0b',\n",
       "  'id': 'e75fce09-e90a-44f1-85b2-2a37b7a6d7cb',\n",
       "  'metadata': {'book': 'The First Book of the Kings',\n",
       "   'chapter': 5,\n",
       "   'verse': 4}},\n",
       " {'aggregation_value': None,\n",
       "  'content': \" Therefore neither the priests of Dagon, nor any that come into Dagon's house, tread on the threshold of Dagon in Ashdod unto this day.  \",\n",
       "  'dataset': 'e7dee97f-b133-4b2d-b84a-27c41c342e0b',\n",
       "  'id': 'e63a0a97-cfd8-4b3f-9cae-217afafb2fc6',\n",
       "  'metadata': {'book': 'The First Book of the Kings',\n",
       "   'chapter': 5,\n",
       "   'verse': 5}},\n",
       " {'aggregation_value': None,\n",
       "  'content': ' But the hand of the LORD was heavy upon them of Ashdod, and he destroyed them, and smote them with emerods, even Ashdod and the coasts thereof.  ',\n",
       "  'dataset': 'e7dee97f-b133-4b2d-b84a-27c41c342e0b',\n",
       "  'id': 'bf8d8f81-df81-43e2-8043-a242e0288715',\n",
       "  'metadata': {'book': 'The First Book of the Kings',\n",
       "   'chapter': 5,\n",
       "   'verse': 6}},\n",
       " {'aggregation_value': None,\n",
       "  'content': ' And the ark of the LORD was in the country of the Philistines seven months.  ',\n",
       "  'dataset': 'e7dee97f-b133-4b2d-b84a-27c41c342e0b',\n",
       "  'id': 'd62da393-db76-4192-a1fe-3bb3e5aa0323',\n",
       "  'metadata': {'book': 'The First Book of the Kings',\n",
       "   'chapter': 6,\n",
       "   'verse': 1}},\n",
       " {'aggregation_value': None,\n",
       "  'content': ' And the Philistines called for the priests and the diviners, saying, What shall we do to the ark of the LORD? tell us wherewith we shall send it to his place.  ',\n",
       "  'dataset': 'e7dee97f-b133-4b2d-b84a-27c41c342e0b',\n",
       "  'id': '20c9980b-1922-48ae-8cde-c2d279337442',\n",
       "  'metadata': {'book': 'The First Book of the Kings',\n",
       "   'chapter': 6,\n",
       "   'verse': 2}},\n",
       " {'aggregation_value': None,\n",
       "  'content': ' And they said, If ye send away the ark of the God of Israel, send it not empty; but in any wise return him a trespass offering: then ye shall be healed, and it shall be known to you why his hand is not removed from you.  ',\n",
       "  'dataset': 'e7dee97f-b133-4b2d-b84a-27c41c342e0b',\n",
       "  'id': '49154312-ebf1-4d7e-bb1e-847b27da6828',\n",
       "  'metadata': {'book': 'The First Book of the Kings',\n",
       "   'chapter': 6,\n",
       "   'verse': 3}},\n",
       " {'aggregation_value': None,\n",
       "  'content': ' Then said they, What shall be the trespass offering which we shall return to him? They answered, Five golden emerods, and five golden mice, according to the number of the lords of the Philistines: for one plague was on you all, and on your lords.  ',\n",
       "  'dataset': 'e7dee97f-b133-4b2d-b84a-27c41c342e0b',\n",
       "  'id': '7885a4e1-73fd-4f91-8624-1629b762778b',\n",
       "  'metadata': {'book': 'The First Book of the Kings',\n",
       "   'chapter': 6,\n",
       "   'verse': 4}},\n",
       " {'aggregation_value': None,\n",
       "  'content': ' Wherefore ye shall make images of your emerods, and images of your mice that mar the land; and ye shall give glory unto the God of Israel: peradventure he will lighten his hand from off you, and from off your gods, and from off your land.  ',\n",
       "  'dataset': 'e7dee97f-b133-4b2d-b84a-27c41c342e0b',\n",
       "  'id': 'afc9db13-0c34-4665-8a99-da81329ef3e0',\n",
       "  'metadata': {'book': 'The First Book of the Kings',\n",
       "   'chapter': 6,\n",
       "   'verse': 5}},\n",
       " {'aggregation_value': None,\n",
       "  'content': ' Wherefore then do ye harden your hearts, as the Egyptians and Pharaoh hardened their hearts? when he had wrought wonderfully among them, did they not let the people go, and they departed?  ',\n",
       "  'dataset': 'e7dee97f-b133-4b2d-b84a-27c41c342e0b',\n",
       "  'id': '6c7ffd8b-e151-4659-9d2d-4fa0f080809a',\n",
       "  'metadata': {'book': 'The First Book of the Kings',\n",
       "   'chapter': 6,\n",
       "   'verse': 6}}]"
      ]
     },
     "execution_count": 10,
     "metadata": {},
     "output_type": "execute_result"
    }
   ],
   "source": [
    "examples"
   ]
  },
  {
   "cell_type": "markdown",
   "metadata": {},
   "source": [
    "We could equivalently do this by usig the URL field on the json returned from the datasets endpoint"
   ]
  },
  {
   "cell_type": "code",
   "execution_count": 11,
   "metadata": {},
   "outputs": [
    {
     "ename": "StopIteration",
     "evalue": "",
     "output_type": "error",
     "traceback": [
      "\u001b[0;31m---------------------------------------------------------------------------\u001b[0m",
      "\u001b[0;31mStopIteration\u001b[0m                             Traceback (most recent call last)",
      "\u001b[0;32m<ipython-input-11-9f9fcade0fa3>\u001b[0m in \u001b[0;36m<module>\u001b[0;34m()\u001b[0m\n\u001b[0;32m----> 1\u001b[0;31m \u001b[0mbible_dataset\u001b[0m \u001b[0;34m=\u001b[0m \u001b[0mnext\u001b[0m\u001b[0;34m(\u001b[0m\u001b[0mfilter\u001b[0m\u001b[0;34m(\u001b[0m\u001b[0;32mlambda\u001b[0m \u001b[0mx\u001b[0m\u001b[0;34m:\u001b[0m\u001b[0mx\u001b[0m\u001b[0;34m[\u001b[0m\u001b[0;34m'slug'\u001b[0m\u001b[0;34m]\u001b[0m\u001b[0;34m==\u001b[0m\u001b[0;34m\"bible2\"\u001b[0m\u001b[0;34m,\u001b[0m\u001b[0mdatasets\u001b[0m\u001b[0;34m)\u001b[0m\u001b[0;34m)\u001b[0m\u001b[0;34m\u001b[0m\u001b[0m\n\u001b[0m",
      "\u001b[0;31mStopIteration\u001b[0m: "
     ]
    }
   ],
   "source": [
    "bible_dataset = next(filter(lambda x:x['slug']==\"bible2\",datasets))"
   ]
  },
  {
   "cell_type": "code",
   "execution_count": 60,
   "metadata": {},
   "outputs": [],
   "source": [
    "examples =session.get(bible_dataset['url']+'examples/').json()"
   ]
  },
  {
   "cell_type": "code",
   "execution_count": 12,
   "metadata": {},
   "outputs": [
    {
     "data": {
      "text/plain": [
       "{'aggregation_value': None,\n",
       " 'content': ' And her adversary also provoked her sore, for to make her fret, because the LORD had shut up her womb.  ',\n",
       " 'dataset': 'e7dee97f-b133-4b2d-b84a-27c41c342e0b',\n",
       " 'id': '44030fb9-d259-4034-8d2a-e2af1bc3e506',\n",
       " 'metadata': {'book': 'The First Book of the Kings', 'chapter': 1, 'verse': 6}}"
      ]
     },
     "execution_count": 12,
     "metadata": {},
     "output_type": "execute_result"
    }
   ],
   "source": [
    "examples[0]"
   ]
  },
  {
   "cell_type": "markdown",
   "metadata": {},
   "source": [
    "## Step 2 Retreive the Schema and Tags we want to create suggestions for\n"
   ]
  },
  {
   "cell_type": "code",
   "execution_count": 13,
   "metadata": {},
   "outputs": [
    {
     "data": {
      "text/html": [
       "<div>\n",
       "<style>\n",
       "    .dataframe thead tr:only-child th {\n",
       "        text-align: right;\n",
       "    }\n",
       "\n",
       "    .dataframe thead th {\n",
       "        text-align: left;\n",
       "    }\n",
       "\n",
       "    .dataframe tbody tr th {\n",
       "        vertical-align: top;\n",
       "    }\n",
       "</style>\n",
       "<table border=\"1\" class=\"dataframe\">\n",
       "  <thead>\n",
       "    <tr style=\"text-align: right;\">\n",
       "      <th></th>\n",
       "      <th>id</th>\n",
       "      <th>name</th>\n",
       "      <th>slug</th>\n",
       "      <th>url</th>\n",
       "    </tr>\n",
       "  </thead>\n",
       "  <tbody>\n",
       "    <tr>\n",
       "      <th>0</th>\n",
       "      <td>6fba8291-9f5b-401e-a1cc-4176543d6584</td>\n",
       "      <td>mufen</td>\n",
       "      <td>mufen</td>\n",
       "      <td>http://localhost:8000/api/v1/projects/default/...</td>\n",
       "    </tr>\n",
       "    <tr>\n",
       "      <th>1</th>\n",
       "      <td>7d074347-2cfc-4ae9-bd93-95ce6b95e9b2</td>\n",
       "      <td>chicken</td>\n",
       "      <td>chicken</td>\n",
       "      <td>http://localhost:8000/api/v1/projects/default/...</td>\n",
       "    </tr>\n",
       "  </tbody>\n",
       "</table>\n",
       "</div>"
      ],
      "text/plain": [
       "                                     id     name     slug  \\\n",
       "0  6fba8291-9f5b-401e-a1cc-4176543d6584    mufen    mufen   \n",
       "1  7d074347-2cfc-4ae9-bd93-95ce6b95e9b2  chicken  chicken   \n",
       "\n",
       "                                                 url  \n",
       "0  http://localhost:8000/api/v1/projects/default/...  \n",
       "1  http://localhost:8000/api/v1/projects/default/...  "
      ]
     },
     "execution_count": 13,
     "metadata": {},
     "output_type": "execute_result"
    }
   ],
   "source": [
    "schemas =session.get(API_BASE+'projects/default/schemas/').json()\n",
    "pd.DataFrame(schemas)"
   ]
  },
  {
   "cell_type": "code",
   "execution_count": 14,
   "metadata": {},
   "outputs": [
    {
     "data": {
      "text/html": [
       "<div>\n",
       "<style>\n",
       "    .dataframe thead tr:only-child th {\n",
       "        text-align: right;\n",
       "    }\n",
       "\n",
       "    .dataframe thead th {\n",
       "        text-align: left;\n",
       "    }\n",
       "\n",
       "    .dataframe tbody tr th {\n",
       "        vertical-align: top;\n",
       "    }\n",
       "</style>\n",
       "<table border=\"1\" class=\"dataframe\">\n",
       "  <thead>\n",
       "    <tr style=\"text-align: right;\">\n",
       "      <th></th>\n",
       "      <th>description</th>\n",
       "      <th>id</th>\n",
       "      <th>name</th>\n",
       "    </tr>\n",
       "  </thead>\n",
       "  <tbody>\n",
       "    <tr>\n",
       "      <th>0</th>\n",
       "      <td>dfg</td>\n",
       "      <td>f833b15e-054d-4b7f-8ede-e1f88e7e5c67</td>\n",
       "      <td>dfvg</td>\n",
       "    </tr>\n",
       "  </tbody>\n",
       "</table>\n",
       "</div>"
      ],
      "text/plain": [
       "  description                                    id  name\n",
       "0         dfg  f833b15e-054d-4b7f-8ede-e1f88e7e5c67  dfvg"
      ]
     },
     "execution_count": 14,
     "metadata": {},
     "output_type": "execute_result"
    }
   ],
   "source": [
    "schema = schemas[0]\n",
    "tags = session.get(schema['url']+'tags/').json()\n",
    "pd.DataFrame(tags)"
   ]
  },
  {
   "cell_type": "markdown",
   "metadata": {},
   "source": [
    "### Pro Tip \n",
    "To upload suggestions we'll need to use the tag ids, which can be cumbersome. It is often convenient to make a map\n",
    "drom the tag name to the id like so : "
   ]
  },
  {
   "cell_type": "code",
   "execution_count": 15,
   "metadata": {},
   "outputs": [],
   "source": [
    "tagMap = {tag[\"name\"]:tag[\"id\"] for tag in tags}"
   ]
  },
  {
   "cell_type": "code",
   "execution_count": 18,
   "metadata": {},
   "outputs": [
    {
     "data": {
      "text/plain": [
       "{'dfvg': 'f833b15e-054d-4b7f-8ede-e1f88e7e5c67'}"
      ]
     },
     "execution_count": 18,
     "metadata": {},
     "output_type": "execute_result"
    }
   ],
   "source": [
    "tagMap"
   ]
  },
  {
   "cell_type": "code",
   "execution_count": null,
   "metadata": {},
   "outputs": [],
   "source": []
  },
  {
   "cell_type": "markdown",
   "metadata": {},
   "source": [
    "## Step 3: Create your suggestions\n",
    "How you create a suggestion is up to you. Youa re free to use a dicitonary, regex, neural network or whatever else\n",
    "is availble. \n",
    "In this example we'll use the [flashtext](https://github.com/vi3k6i5/flashtext) library to suggest the following\n",
    "\n",
    "* Abraham, Isaac, Jacob and Moses will be labeled person\n",
    "* Israel, Egypt and Moav will be labeled Nation \n",
    "* Dagon will be labeled Pagan god\n",
    "* Jerusalem will be labeled place\n",
    "\n"
   ]
  },
  {
   "cell_type": "code",
   "execution_count": 19,
   "metadata": {},
   "outputs": [
    {
     "data": {
      "text/plain": [
       "True"
      ]
     },
     "execution_count": 19,
     "metadata": {},
     "output_type": "execute_result"
    }
   ],
   "source": [
    "from flashtext import KeywordProcessor\n",
    "keyword_processor = KeywordProcessor()\n",
    "keyword_processor.add_keyword(\"Abraham\",tagMap[\"dfvg\"])\n",
    "keyword_processor.add_keyword(\"Isaac\",tagMap[\"dfvg\"])\n",
    "keyword_processor.add_keyword(\"Jaacob\",tagMap[\"dfvg\"])\n",
    "keyword_processor.add_keyword(\"Peninnah\",tagMap[\"dfvg\"])\n",
    "\n",
    "keyword_processor.add_keyword(\"Dagon\",tagMap[\"dfvg\"])\n",
    "keyword_processor.add_keyword(\"Jeruslame\",tagMap[\"dfvg\"])\n",
    "keyword_processor.add_keyword(\"Egypt\",tagMap[\"dfvg\"])\n",
    "keyword_processor.add_keyword(\"Israel\",tagMap[\"dfvg\"])\n",
    "keyword_processor.add_keyword(\"Moav\",tagMap[\"dfvg\"])"
   ]
  },
  {
   "cell_type": "code",
   "execution_count": 20,
   "metadata": {},
   "outputs": [
    {
     "data": {
      "text/plain": [
       "[('f833b15e-054d-4b7f-8ede-e1f88e7e5c67', 14, 21)]"
      ]
     },
     "execution_count": 20,
     "metadata": {},
     "output_type": "execute_result"
    }
   ],
   "source": [
    "keyword_processor.extract_keywords(\" In the Bible Abraham met the LORD one day|\",\n",
    "                                   span_info=True)"
   ]
  },
  {
   "cell_type": "markdown",
   "metadata": {},
   "source": [
    "### Step 3.1: Iterate over your examples and make a  list of suggestions\n"
   ]
  },
  {
   "cell_type": "code",
   "execution_count": 29,
   "metadata": {},
   "outputs": [],
   "source": [
    "suggestions = []\n",
    "for example in examples: #(Notice the text is located in the content field)\n",
    "    #For every suggestion that comes out of our model (in this case, flashtext)\n",
    "    for tag_id,start,end in keyword_processor.extract_keywords(example['content'],span_info=True):\n",
    "        suggestion= { #Create a suggestion\n",
    "            \"example_id\":example['id'], #That refers to a particular example\n",
    "            \"tag_id\":tag_id, #and applies a particular tag\n",
    "            \"start\":start, #Which starts somewhere in the example\n",
    "            \"end\":end # And ends somewhere in the example\n",
    "        }\n",
    "        suggestions.append(suggestion)"
   ]
  },
  {
   "cell_type": "code",
   "execution_count": 30,
   "metadata": {},
   "outputs": [],
   "source": [
    "suggestions.append(suggestions[0])"
   ]
  },
  {
   "cell_type": "markdown",
   "metadata": {},
   "source": [
    "### Step 3.2: Define a model"
   ]
  },
  {
   "cell_type": "code",
   "execution_count": 31,
   "metadata": {},
   "outputs": [],
   "source": [
    "model_metadata= { # Define any metadata you'd like to store about the model\n",
    "    \"defined_by\": \"LightTag\",\n",
    "    \"comments\": \"An example model made with Flashtext\"\n",
    "}\n",
    "data = {\n",
    "    \"model\":{\n",
    "        \"name\":\"demo_suggestions\",  #Give the model a name\n",
    "        \"metadata\": model_metadata # Provide metadata (optional)\n",
    "    },\n",
    "    \"suggestions\":suggestions #Attatch the suggestions you made before\n",
    "}"
   ]
  },
  {
   "cell_type": "markdown",
   "metadata": {},
   "source": [
    "## Step 4 Upload your model and Suggestions "
   ]
  },
  {
   "cell_type": "code",
   "execution_count": null,
   "metadata": {},
   "outputs": [],
   "source": []
  },
  {
   "cell_type": "code",
   "execution_count": 32,
   "metadata": {},
   "outputs": [
    {
     "data": {
      "text/plain": [
       "400"
      ]
     },
     "execution_count": 32,
     "metadata": {},
     "output_type": "execute_result"
    }
   ],
   "source": [
    "schema\n",
    "resp =session.post(schema['url']+'models/bulk/',\n",
    "                    json=data,\n",
    "             )\n",
    "resp.status_code"
   ]
  },
  {
   "cell_type": "code",
   "execution_count": 33,
   "metadata": {},
   "outputs": [
    {
     "data": {
      "text/plain": [
       "{'detail': \"You've tried to upload two suggestions that overlap on the same model. That is not supported\"}"
      ]
     },
     "execution_count": 33,
     "metadata": {},
     "output_type": "execute_result"
    }
   ],
   "source": [
    "resp.json()"
   ]
  },
  {
   "cell_type": "code",
   "execution_count": null,
   "metadata": {},
   "outputs": [],
   "source": []
  }
 ],
 "metadata": {
  "kernelspec": {
   "display_name": "Python 3",
   "language": "python",
   "name": "python3"
  },
  "language_info": {
   "codemirror_mode": {
    "name": "ipython",
    "version": 3
   },
   "file_extension": ".py",
   "mimetype": "text/x-python",
   "name": "python",
   "nbconvert_exporter": "python",
   "pygments_lexer": "ipython3",
   "version": "3.5.2"
  }
 },
 "nbformat": 4,
 "nbformat_minor": 2
}
