{
 "cells": [
  {
   "cell_type": "markdown",
   "metadata": {},
   "source": [
    "# Adding Suggestions\n",
    "This notebook will walk you through adding suggestions to LightTag throw the API. \n",
    "\n",
    "Conceptually, Suggestions come from a Model and a Model belongs to a Schema. Thus in order to add Suggestions you must register a Model under the relevant Schema and then populate the model with actual suggestions. \n",
    "\n",
    "To avoid confusion, while you are registering a Model, LightTag will not run your model, instead, it is up to you to generate the suggestions and upload them. Here we'll see how to do that"
   ]
  },
  {
   "cell_type": "markdown",
   "metadata": {},
   "source": [
    "## The Steps\n",
    "1. Retreiving the Examples we wish to generate suggestions on\n",
    "2. Retreiveing the Schema we wish to define a Model for\n",
    "3. Creating a model and suggestions\n",
    "4. Uploading the suggestions and Model"
   ]
  },
  {
   "cell_type": "markdown",
   "metadata": {},
   "source": [
    "## Step 0 - Basic setup"
   ]
  },
  {
   "cell_type": "code",
   "execution_count": 78,
   "metadata": {},
   "outputs": [
    {
     "data": {
      "text/plain": [
       "<Response [400]>"
      ]
     },
     "execution_count": 78,
     "metadata": {},
     "output_type": "execute_result"
    }
   ],
   "source": [
    "import requests\n",
    "import json\n",
    "import pandas as pd\n",
    "from pprint import pprint\n",
    "from requests.auth import HTTPBasicAuth\n",
    "\n",
    "SERVER = \"https://api-demo.lighttag.io\" #The server is https://api-{your_subdomain_name.lighttag.io}\n",
    "API_BASE = SERVER +'/api/v1/'\n",
    "LT_USERNAME = \"demo\" # Username of manager user\n",
    "LT_PASSWORD = \"demo\" #password of manager user\n",
    "\n",
    "response = requests.post(SERVER +\"/auth/token/create/\",\n",
    "              json={\"username\":LT_USERNAME,\"password\":LT_PASSWORD}\n",
    "             )\n",
    "response"
   ]
  },
  {
   "cell_type": "markdown",
   "metadata": {},
   "source": [
    "Once we log in, LightTag will return a token we can use for further calls. We'll put that in dict that we will pass as header"
   ]
  },
  {
   "cell_type": "code",
   "execution_count": 4,
   "metadata": {},
   "outputs": [],
   "source": [
    "token = response.json()['key']\n",
    "headers={'Authorization': 'Token {token}'.format(token=token)}\n",
    "session = requests.session()\n",
    "session.headers = headers"
   ]
  },
  {
   "cell_type": "markdown",
   "metadata": {},
   "source": [
    "## Step 1 Getting the data examples we wish to annotate\n",
    "To generate suggestions we will need data. Particularly we'll need both all of the examples in a dataset as well as the tags from a particular schema. \n",
    "While you could gather each of these seperatly, LightTag has a data download view which already returns both of these combined. \n",
    "\n"
   ]
  },
  {
   "cell_type": "markdown",
   "metadata": {},
   "source": [
    "### Retreiv the slug or url of the dataset with the examples you wish to add suggestions to\n",
    "You can query the datasets endpoint. Remember, you are operating under the default project, so you should query \n",
    "\n",
    "\n",
    "projects/**default**/datasets/"
   ]
  },
  {
   "cell_type": "code",
   "execution_count": 57,
   "metadata": {},
   "outputs": [
    {
     "data": {
      "text/html": [
       "<div>\n",
       "<style>\n",
       "    .dataframe thead tr:only-child th {\n",
       "        text-align: right;\n",
       "    }\n",
       "\n",
       "    .dataframe thead th {\n",
       "        text-align: left;\n",
       "    }\n",
       "\n",
       "    .dataframe tbody tr th {\n",
       "        vertical-align: top;\n",
       "    }\n",
       "</style>\n",
       "<table border=\"1\" class=\"dataframe\">\n",
       "  <thead>\n",
       "    <tr style=\"text-align: right;\">\n",
       "      <th></th>\n",
       "      <th>aggregation_field</th>\n",
       "      <th>content_field</th>\n",
       "      <th>id</th>\n",
       "      <th>id_field</th>\n",
       "      <th>name</th>\n",
       "      <th>order_field</th>\n",
       "      <th>project_id</th>\n",
       "      <th>slug</th>\n",
       "      <th>url</th>\n",
       "    </tr>\n",
       "  </thead>\n",
       "  <tbody>\n",
       "    <tr>\n",
       "      <th>0</th>\n",
       "      <td>chapter</td>\n",
       "      <td>content</td>\n",
       "      <td>01a87ea4-dfdf-47a1-b77b-29ef18953e63</td>\n",
       "      <td>None</td>\n",
       "      <td>bible2</td>\n",
       "      <td>book</td>\n",
       "      <td>cd39b991-6023-4851-b9a2-006db41ef268</td>\n",
       "      <td>bible2</td>\n",
       "      <td>http://localhost:8000/api/v1/projects/default/...</td>\n",
       "    </tr>\n",
       "    <tr>\n",
       "      <th>1</th>\n",
       "      <td>chapter</td>\n",
       "      <td>book</td>\n",
       "      <td>cdbd9ef5-74ff-4a7f-b096-9174fbf0a46d</td>\n",
       "      <td>None</td>\n",
       "      <td>Bible</td>\n",
       "      <td>verse</td>\n",
       "      <td>cd39b991-6023-4851-b9a2-006db41ef268</td>\n",
       "      <td>bible</td>\n",
       "      <td>http://localhost:8000/api/v1/projects/default/...</td>\n",
       "    </tr>\n",
       "    <tr>\n",
       "      <th>2</th>\n",
       "      <td>None</td>\n",
       "      <td>content</td>\n",
       "      <td>fc2d1651-91df-4f76-8aab-3d6e09382a5d</td>\n",
       "      <td>None</td>\n",
       "      <td>Mufen1</td>\n",
       "      <td>None</td>\n",
       "      <td>cd39b991-6023-4851-b9a2-006db41ef268</td>\n",
       "      <td>mufen1</td>\n",
       "      <td>http://localhost:8000/api/v1/projects/default/...</td>\n",
       "    </tr>\n",
       "    <tr>\n",
       "      <th>3</th>\n",
       "      <td>chapter</td>\n",
       "      <td>content</td>\n",
       "      <td>74eb1073-7eef-4e68-b0a7-ff68a773ef49</td>\n",
       "      <td>None</td>\n",
       "      <td>ljkjk;l</td>\n",
       "      <td>book</td>\n",
       "      <td>cd39b991-6023-4851-b9a2-006db41ef268</td>\n",
       "      <td>ljkjkl</td>\n",
       "      <td>http://localhost:8000/api/v1/projects/default/...</td>\n",
       "    </tr>\n",
       "    <tr>\n",
       "      <th>4</th>\n",
       "      <td>None</td>\n",
       "      <td>content</td>\n",
       "      <td>a02a20f1-151e-44c4-b47d-52170f725067</td>\n",
       "      <td>None</td>\n",
       "      <td>fds</td>\n",
       "      <td>None</td>\n",
       "      <td>cd39b991-6023-4851-b9a2-006db41ef268</td>\n",
       "      <td>fds</td>\n",
       "      <td>http://localhost:8000/api/v1/projects/default/...</td>\n",
       "    </tr>\n",
       "  </tbody>\n",
       "</table>\n",
       "</div>"
      ],
      "text/plain": [
       "  aggregation_field content_field                                    id  \\\n",
       "0           chapter       content  01a87ea4-dfdf-47a1-b77b-29ef18953e63   \n",
       "1           chapter          book  cdbd9ef5-74ff-4a7f-b096-9174fbf0a46d   \n",
       "2              None       content  fc2d1651-91df-4f76-8aab-3d6e09382a5d   \n",
       "3           chapter       content  74eb1073-7eef-4e68-b0a7-ff68a773ef49   \n",
       "4              None       content  a02a20f1-151e-44c4-b47d-52170f725067   \n",
       "\n",
       "  id_field     name order_field                            project_id    slug  \\\n",
       "0     None   bible2        book  cd39b991-6023-4851-b9a2-006db41ef268  bible2   \n",
       "1     None    Bible       verse  cd39b991-6023-4851-b9a2-006db41ef268   bible   \n",
       "2     None   Mufen1        None  cd39b991-6023-4851-b9a2-006db41ef268  mufen1   \n",
       "3     None  ljkjk;l        book  cd39b991-6023-4851-b9a2-006db41ef268  ljkjkl   \n",
       "4     None      fds        None  cd39b991-6023-4851-b9a2-006db41ef268     fds   \n",
       "\n",
       "                                                 url  \n",
       "0  http://localhost:8000/api/v1/projects/default/...  \n",
       "1  http://localhost:8000/api/v1/projects/default/...  \n",
       "2  http://localhost:8000/api/v1/projects/default/...  \n",
       "3  http://localhost:8000/api/v1/projects/default/...  \n",
       "4  http://localhost:8000/api/v1/projects/default/...  "
      ]
     },
     "execution_count": 57,
     "metadata": {},
     "output_type": "execute_result"
    }
   ],
   "source": [
    "datasets = session.get(API_BASE+'projects/default/datasets/').json()\n",
    "pd.DataFrame(datasets) \n",
    "#It's convenient to display the results in a dataframe"
   ]
  },
  {
   "cell_type": "markdown",
   "metadata": {},
   "source": [
    "### Retreive the examples from that dataset by \n",
    "In this example we what a Dataset named Bible with a slug bible. We'll pull all of the examples via the examples endpoint\n",
    "projects/default/datasets/**bible**/examples/"
   ]
  },
  {
   "cell_type": "code",
   "execution_count": 58,
   "metadata": {},
   "outputs": [],
   "source": [
    "\n",
    "examples =session.get(API_BASE+'projects/default/datasets/bible2/examples/').json()"
   ]
  },
  {
   "cell_type": "markdown",
   "metadata": {},
   "source": [
    "We could equivalently do this by usig the URL field on the json returned from the datasets endpoint"
   ]
  },
  {
   "cell_type": "code",
   "execution_count": 59,
   "metadata": {},
   "outputs": [],
   "source": [
    "bible_dataset = next(filter(lambda x:x['slug']==\"bible2\",datasets))"
   ]
  },
  {
   "cell_type": "code",
   "execution_count": 60,
   "metadata": {},
   "outputs": [],
   "source": [
    "examples =session.get(bible_dataset['url']+'examples/').json()"
   ]
  },
  {
   "cell_type": "code",
   "execution_count": 61,
   "metadata": {},
   "outputs": [
    {
     "data": {
      "text/plain": [
       "{'aggregation_value': 3,\n",
       " 'content': ' And it came to pass at that time, when Eli was laid down in his place, and his eyes began to wax dim, that he could not see; ',\n",
       " 'dataset': '01a87ea4-dfdf-47a1-b77b-29ef18953e63',\n",
       " 'id': 'f3b83aee-446f-4e61-8015-aeeff9e37cae',\n",
       " 'metadata': {'book': 'The First Book of the Kings', 'chapter': 3, 'verse': 2}}"
      ]
     },
     "execution_count": 61,
     "metadata": {},
     "output_type": "execute_result"
    }
   ],
   "source": [
    "examples[0]"
   ]
  },
  {
   "cell_type": "markdown",
   "metadata": {},
   "source": [
    "## Step 2 Retreive the Schema and Tags we want to create suggestions for\n"
   ]
  },
  {
   "cell_type": "code",
   "execution_count": 62,
   "metadata": {},
   "outputs": [
    {
     "data": {
      "text/html": [
       "<div>\n",
       "<style>\n",
       "    .dataframe thead tr:only-child th {\n",
       "        text-align: right;\n",
       "    }\n",
       "\n",
       "    .dataframe thead th {\n",
       "        text-align: left;\n",
       "    }\n",
       "\n",
       "    .dataframe tbody tr th {\n",
       "        vertical-align: top;\n",
       "    }\n",
       "</style>\n",
       "<table border=\"1\" class=\"dataframe\">\n",
       "  <thead>\n",
       "    <tr style=\"text-align: right;\">\n",
       "      <th></th>\n",
       "      <th>id</th>\n",
       "      <th>name</th>\n",
       "      <th>slug</th>\n",
       "      <th>url</th>\n",
       "    </tr>\n",
       "  </thead>\n",
       "  <tbody>\n",
       "    <tr>\n",
       "      <th>0</th>\n",
       "      <td>59dfb6af-a2c5-4ce1-bfeb-de04fa1965c9</td>\n",
       "      <td>Biblical Schema</td>\n",
       "      <td>biblical-schema</td>\n",
       "      <td>http://localhost:8000/api/v1/projects/default/...</td>\n",
       "    </tr>\n",
       "  </tbody>\n",
       "</table>\n",
       "</div>"
      ],
      "text/plain": [
       "                                     id             name             slug  \\\n",
       "0  59dfb6af-a2c5-4ce1-bfeb-de04fa1965c9  Biblical Schema  biblical-schema   \n",
       "\n",
       "                                                 url  \n",
       "0  http://localhost:8000/api/v1/projects/default/...  "
      ]
     },
     "execution_count": 62,
     "metadata": {},
     "output_type": "execute_result"
    }
   ],
   "source": [
    "schemas =session.get(API_BASE+'projects/default/schemas/').json()\n",
    "pd.DataFrame(schemas)"
   ]
  },
  {
   "cell_type": "code",
   "execution_count": 63,
   "metadata": {},
   "outputs": [
    {
     "data": {
      "text/html": [
       "<div>\n",
       "<style>\n",
       "    .dataframe thead tr:only-child th {\n",
       "        text-align: right;\n",
       "    }\n",
       "\n",
       "    .dataframe thead th {\n",
       "        text-align: left;\n",
       "    }\n",
       "\n",
       "    .dataframe tbody tr th {\n",
       "        vertical-align: top;\n",
       "    }\n",
       "</style>\n",
       "<table border=\"1\" class=\"dataframe\">\n",
       "  <thead>\n",
       "    <tr style=\"text-align: right;\">\n",
       "      <th></th>\n",
       "      <th>description</th>\n",
       "      <th>id</th>\n",
       "      <th>name</th>\n",
       "    </tr>\n",
       "  </thead>\n",
       "  <tbody>\n",
       "    <tr>\n",
       "      <th>0</th>\n",
       "      <td>Moav, Edom , Israel etc</td>\n",
       "      <td>e6cb0f9d-d87a-402f-9534-737cd94007c7</td>\n",
       "      <td>Nation</td>\n",
       "    </tr>\n",
       "    <tr>\n",
       "      <th>1</th>\n",
       "      <td>A city or town</td>\n",
       "      <td>4399e992-09f4-4560-93fc-50d3d13e53e8</td>\n",
       "      <td>Place</td>\n",
       "    </tr>\n",
       "    <tr>\n",
       "      <th>2</th>\n",
       "      <td>A god that is not the god of the bible</td>\n",
       "      <td>6041217d-8227-42f2-8651-0ac38ba8956e</td>\n",
       "      <td>Pagan God</td>\n",
       "    </tr>\n",
       "    <tr>\n",
       "      <th>3</th>\n",
       "      <td>A peron</td>\n",
       "      <td>f9151b83-543f-4e95-80f3-50107ed1d418</td>\n",
       "      <td>Person</td>\n",
       "    </tr>\n",
       "  </tbody>\n",
       "</table>\n",
       "</div>"
      ],
      "text/plain": [
       "                              description  \\\n",
       "0                 Moav, Edom , Israel etc   \n",
       "1                          A city or town   \n",
       "2  A god that is not the god of the bible   \n",
       "3                                 A peron   \n",
       "\n",
       "                                     id       name  \n",
       "0  e6cb0f9d-d87a-402f-9534-737cd94007c7     Nation  \n",
       "1  4399e992-09f4-4560-93fc-50d3d13e53e8      Place  \n",
       "2  6041217d-8227-42f2-8651-0ac38ba8956e  Pagan God  \n",
       "3  f9151b83-543f-4e95-80f3-50107ed1d418     Person  "
      ]
     },
     "execution_count": 63,
     "metadata": {},
     "output_type": "execute_result"
    }
   ],
   "source": [
    "schema = schemas[0]\n",
    "tags = session.get(schema['url']+'tags/').json()\n",
    "pd.DataFrame(tags)"
   ]
  },
  {
   "cell_type": "markdown",
   "metadata": {},
   "source": [
    "### Pro Tip \n",
    "To upload suggestions we'll need to use the tag ids, which can be cumbersome. It is often convenient to make a map\n",
    "drom the tag name to the id like so : "
   ]
  },
  {
   "cell_type": "code",
   "execution_count": 64,
   "metadata": {},
   "outputs": [],
   "source": [
    "tagMap = {tag[\"name\"]:tag[\"id\"] for tag in tags}"
   ]
  },
  {
   "cell_type": "markdown",
   "metadata": {},
   "source": [
    "## Step 3: Create your suggestions\n",
    "How you create a suggestion is up to you. Youa re free to use a dicitonary, regex, neural network or whatever else\n",
    "is availble. \n",
    "In this example we'll use the [flashtext](https://github.com/vi3k6i5/flashtext) library to suggest the following\n",
    "\n",
    "* Abraham, Isaac, Jacob and Moses will be labeled person\n",
    "* Israel, Egypt and Moav will be labeled Nation \n",
    "* Dagon will be labeled Pagan god\n",
    "* Jerusalem will be labeled place\n",
    "\n"
   ]
  },
  {
   "cell_type": "code",
   "execution_count": 65,
   "metadata": {},
   "outputs": [
    {
     "data": {
      "text/plain": [
       "True"
      ]
     },
     "execution_count": 65,
     "metadata": {},
     "output_type": "execute_result"
    }
   ],
   "source": [
    "from flashtext import KeywordProcessor\n",
    "keyword_processor = KeywordProcessor()\n",
    "keyword_processor.add_keyword(\"Abraham\",tagMap[\"Person\"])\n",
    "keyword_processor.add_keyword(\"Isaac\",tagMap[\"Person\"])\n",
    "keyword_processor.add_keyword(\"Jaacob\",tagMap[\"Person\"])\n",
    "keyword_processor.add_keyword(\"Peninnah\",tagMap[\"Person\"])\n",
    "\n",
    "keyword_processor.add_keyword(\"Dagon\",tagMap[\"Pagan God\"])\n",
    "keyword_processor.add_keyword(\"Jeruslame\",tagMap[\"Place\"])\n",
    "keyword_processor.add_keyword(\"Egypt\",tagMap[\"Nation\"])\n",
    "keyword_processor.add_keyword(\"Israel\",tagMap[\"Nation\"])\n",
    "keyword_processor.add_keyword(\"Moav\",tagMap[\"Nation\"])"
   ]
  },
  {
   "cell_type": "code",
   "execution_count": 66,
   "metadata": {},
   "outputs": [
    {
     "data": {
      "text/plain": [
       "[('f9151b83-543f-4e95-80f3-50107ed1d418', 14, 21)]"
      ]
     },
     "execution_count": 66,
     "metadata": {},
     "output_type": "execute_result"
    }
   ],
   "source": [
    "keyword_processor.extract_keywords(\" In the Bible Abraham met the LORD one day|\",\n",
    "                                   span_info=True)"
   ]
  },
  {
   "cell_type": "markdown",
   "metadata": {},
   "source": [
    "### Step 3.1: Iterate over your examples and make a  list of suggestions\n"
   ]
  },
  {
   "cell_type": "code",
   "execution_count": 70,
   "metadata": {},
   "outputs": [],
   "source": [
    "suggestions = []\n",
    "for example in examples: #(Notice the text is located in the content field)\n",
    "    #For every suggestion that comes out of our model (in this case, flashtext)\n",
    "    for tag_id,start,end in keyword_processor.extract_keywords(example['content'],span_info=True):\n",
    "        suggestion= { #Create a suggestion\n",
    "            \"example_id\":example['id'], #That refers to a particular example\n",
    "            \"tag_id\":tag_id, #and applies a particular tag\n",
    "            \"start\":start, #Which starts somewhere in the example\n",
    "            \"end\":end # And ends somewhere in the example\n",
    "        }\n",
    "        suggestions.append(suggestion)"
   ]
  },
  {
   "cell_type": "code",
   "execution_count": 71,
   "metadata": {},
   "outputs": [
    {
     "data": {
      "text/plain": [
       "[{'end': 89,\n",
       "  'example_id': '1dea6c6d-6967-4321-a0c8-c91c017b12ee',\n",
       "  'start': 81,\n",
       "  'tag_id': 'f9151b83-543f-4e95-80f3-50107ed1d418'},\n",
       " {'end': 103,\n",
       "  'example_id': '1dea6c6d-6967-4321-a0c8-c91c017b12ee',\n",
       "  'start': 95,\n",
       "  'tag_id': 'f9151b83-543f-4e95-80f3-50107ed1d418'}]"
      ]
     },
     "execution_count": 71,
     "metadata": {},
     "output_type": "execute_result"
    }
   ],
   "source": [
    "suggestions[:2]"
   ]
  },
  {
   "cell_type": "markdown",
   "metadata": {},
   "source": [
    "### Step 3.2: Define a model"
   ]
  },
  {
   "cell_type": "code",
   "execution_count": 74,
   "metadata": {},
   "outputs": [],
   "source": [
    "model_metadata= { # Define any metadata you'd like to store about the model\n",
    "    \"defined_by\": \"LightTag\",\n",
    "    \"comments\": \"An example model made with Flashtext\"\n",
    "}\n",
    "data = {\n",
    "    \"model\":{\n",
    "        \"name\":\"demo_suggestions\",  #Give the model a name\n",
    "        \"metadata\": model_metadata # Provide metadata (optional)\n",
    "    },\n",
    "    \"suggestions\":suggestions #Attatch the suggestions you made before\n",
    "}"
   ]
  },
  {
   "cell_type": "markdown",
   "metadata": {},
   "source": [
    "## Step 4 Upload your model and Suggestions "
   ]
  },
  {
   "cell_type": "code",
   "execution_count": 76,
   "metadata": {},
   "outputs": [
    {
     "data": {
      "text/plain": [
       "{'id': '59dfb6af-a2c5-4ce1-bfeb-de04fa1965c9',\n",
       " 'name': 'Biblical Schema',\n",
       " 'slug': 'biblical-schema',\n",
       " 'url': 'http://localhost:8000/api/v1/projects/default/schemas/biblical-schema/'}"
      ]
     },
     "execution_count": 76,
     "metadata": {},
     "output_type": "execute_result"
    }
   ],
   "source": []
  },
  {
   "cell_type": "code",
   "execution_count": 77,
   "metadata": {},
   "outputs": [
    {
     "data": {
      "text/plain": [
       "201"
      ]
     },
     "execution_count": 77,
     "metadata": {},
     "output_type": "execute_result"
    }
   ],
   "source": [
    "schema\n",
    "resp =session.post(schema['url']+'models/bulk/',\n",
    "                    json=data,\n",
    "             )\n",
    "resp.status_code"
   ]
  }
 ],
 "metadata": {
  "kernelspec": {
   "display_name": "Python 3",
   "language": "python",
   "name": "python3"
  },
  "language_info": {
   "codemirror_mode": {
    "name": "ipython",
    "version": 3
   },
   "file_extension": ".py",
   "mimetype": "text/x-python",
   "name": "python",
   "nbconvert_exporter": "python",
   "pygments_lexer": "ipython3",
   "version": "3.5.2"
  }
 },
 "nbformat": 4,
 "nbformat_minor": 2
}
