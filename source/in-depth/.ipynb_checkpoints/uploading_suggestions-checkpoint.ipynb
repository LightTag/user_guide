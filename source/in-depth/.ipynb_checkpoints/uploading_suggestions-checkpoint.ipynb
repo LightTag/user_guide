{
 "cells": [
  {
   "cell_type": "markdown",
   "metadata": {},
   "source": [
    "# Adding Suggestions\n",
    "This notebook will walk you through adding suggestions to LightTag throw the API. \n",
    "\n",
    "Conceptually, Suggestions come from a Model and a Model belongs to a Schema. Thus in order to add Suggestions you must register a Model under the relevant Schema and then populate the model with actual suggestions. \n",
    "\n",
    "To avoid confusion, while you are registering a Model, LightTag will not run your model, instead, it is up to you to generate the suggestions and upload them. Here we'll see how to do that"
   ]
  },
  {
   "cell_type": "markdown",
   "metadata": {},
   "source": [
    "## The Steps\n",
    "1. Retreiving the Examples we wish to generate suggestions on\n",
    "2. Retreiveing the Schema we wish to define a Model for\n",
    "3. Creating a model and suggestions\n",
    "4. Uploading the suggestions and Model\n",
    "5. Assigning a model to a task definition"
   ]
  },
  {
   "cell_type": "markdown",
   "metadata": {},
   "source": [
    "## Step 0 - Basic setup"
   ]
  },
  {
   "cell_type": "code",
   "execution_count": 1,
   "metadata": {},
   "outputs": [
    {
     "data": {
      "text/plain": [
       "<Response [200]>"
      ]
     },
     "execution_count": 1,
     "metadata": {},
     "output_type": "execute_result"
    }
   ],
   "source": [
    "import requests\n",
    "import json\n",
    "import pandas as pd\n",
    "from pprint import pprint\n",
    "from requests.auth import HTTPBasicAuth\n",
    "SERVER =\"http://localhost:8000\"\n",
    "#SERVER = \"https://api-demo.lighttag.io\" #The server is https://api-{your_subdomain_name.lighttag.io}\n",
    "API_BASE = SERVER +'/api/v1/'\n",
    "LT_USERNAME = \"demo\" # Username of manager user\n",
    "LT_PASSWORD = \"demo\" #password of manager user\n",
    "\n",
    "response = requests.post(SERVER +\"/auth/token/create/\",\n",
    "              json={\"username\":LT_USERNAME,\"password\":LT_PASSWORD}\n",
    "             )\n",
    "response"
   ]
  },
  {
   "cell_type": "markdown",
   "metadata": {},
   "source": [
    "Once we log in, LightTag will return a token we can use for further calls. We'll put that in dict that we will pass as header"
   ]
  },
  {
   "cell_type": "code",
   "execution_count": 2,
   "metadata": {},
   "outputs": [],
   "source": [
    "token = response.json()['key']\n",
    "headers={'Authorization': 'Token {token}'.format(token=token)}\n",
    "session = requests.session()\n",
    "session.headers = headers"
   ]
  },
  {
   "cell_type": "markdown",
   "metadata": {},
   "source": [
    "## Step 1 Getting the data examples we wish to annotate\n",
    "To generate suggestions we will need data. Particularly we'll need both all of the examples in a dataset as well as the tags from a particular schema. \n",
    "While you could gather each of these seperatly, LightTag has a data download view which already returns both of these combined. \n",
    "\n"
   ]
  },
  {
   "cell_type": "markdown",
   "metadata": {},
   "source": [
    "### Retreiv the slug or url of the dataset with the examples you wish to add suggestions to\n",
    "You can query the datasets endpoint. Remember, you are operating under the default project, so you should query \n",
    "\n",
    "\n",
    "projects/**default**/datasets/"
   ]
  },
  {
   "cell_type": "code",
   "execution_count": 3,
   "metadata": {},
   "outputs": [
    {
     "data": {
      "text/html": [
       "<div>\n",
       "<style>\n",
       "    .dataframe thead tr:only-child th {\n",
       "        text-align: right;\n",
       "    }\n",
       "\n",
       "    .dataframe thead th {\n",
       "        text-align: left;\n",
       "    }\n",
       "\n",
       "    .dataframe tbody tr th {\n",
       "        vertical-align: top;\n",
       "    }\n",
       "</style>\n",
       "<table border=\"1\" class=\"dataframe\">\n",
       "  <thead>\n",
       "    <tr style=\"text-align: right;\">\n",
       "      <th></th>\n",
       "      <th>aggregation_field</th>\n",
       "      <th>content_field</th>\n",
       "      <th>id</th>\n",
       "      <th>id_field</th>\n",
       "      <th>name</th>\n",
       "      <th>order_field</th>\n",
       "      <th>project_id</th>\n",
       "      <th>slug</th>\n",
       "      <th>url</th>\n",
       "    </tr>\n",
       "  </thead>\n",
       "  <tbody>\n",
       "    <tr>\n",
       "      <th>0</th>\n",
       "      <td>date</td>\n",
       "      <td>text</td>\n",
       "      <td>92ea39c8-1d7d-47eb-b6d3-25ceebc6ba33</td>\n",
       "      <td>None</td>\n",
       "      <td>Test Set</td>\n",
       "      <td>time</td>\n",
       "      <td>e488e45a-564a-4b93-8beb-f7aa4c73ea97</td>\n",
       "      <td>test-set</td>\n",
       "      <td>http://localhost:8000/api/v1/projects/default/...</td>\n",
       "    </tr>\n",
       "    <tr>\n",
       "      <th>1</th>\n",
       "      <td>date</td>\n",
       "      <td>text</td>\n",
       "      <td>de7ed65d-e685-4ea9-bf3b-0c3c10f20b46</td>\n",
       "      <td>None</td>\n",
       "      <td>Training Set</td>\n",
       "      <td>time</td>\n",
       "      <td>e488e45a-564a-4b93-8beb-f7aa4c73ea97</td>\n",
       "      <td>training-set</td>\n",
       "      <td>http://localhost:8000/api/v1/projects/default/...</td>\n",
       "    </tr>\n",
       "    <tr>\n",
       "      <th>2</th>\n",
       "      <td>None</td>\n",
       "      <td>text</td>\n",
       "      <td>ee688ba1-b0d3-4fdb-9355-d7924e3875e4</td>\n",
       "      <td>None</td>\n",
       "      <td>Exploratory Dataset</td>\n",
       "      <td>None</td>\n",
       "      <td>e488e45a-564a-4b93-8beb-f7aa4c73ea97</td>\n",
       "      <td>exploratory-dataset</td>\n",
       "      <td>http://localhost:8000/api/v1/projects/default/...</td>\n",
       "    </tr>\n",
       "  </tbody>\n",
       "</table>\n",
       "</div>"
      ],
      "text/plain": [
       "  aggregation_field content_field                                    id  \\\n",
       "0              date          text  92ea39c8-1d7d-47eb-b6d3-25ceebc6ba33   \n",
       "1              date          text  de7ed65d-e685-4ea9-bf3b-0c3c10f20b46   \n",
       "2              None          text  ee688ba1-b0d3-4fdb-9355-d7924e3875e4   \n",
       "\n",
       "  id_field                 name order_field  \\\n",
       "0     None             Test Set        time   \n",
       "1     None         Training Set        time   \n",
       "2     None  Exploratory Dataset        None   \n",
       "\n",
       "                             project_id                 slug  \\\n",
       "0  e488e45a-564a-4b93-8beb-f7aa4c73ea97             test-set   \n",
       "1  e488e45a-564a-4b93-8beb-f7aa4c73ea97         training-set   \n",
       "2  e488e45a-564a-4b93-8beb-f7aa4c73ea97  exploratory-dataset   \n",
       "\n",
       "                                                 url  \n",
       "0  http://localhost:8000/api/v1/projects/default/...  \n",
       "1  http://localhost:8000/api/v1/projects/default/...  \n",
       "2  http://localhost:8000/api/v1/projects/default/...  "
      ]
     },
     "execution_count": 3,
     "metadata": {},
     "output_type": "execute_result"
    }
   ],
   "source": [
    "datasets = session.get(API_BASE+'projects/default/datasets/').json()\n",
    "pd.DataFrame(datasets) \n",
    "#It's convenient to display the results in a dataframe"
   ]
  },
  {
   "cell_type": "markdown",
   "metadata": {},
   "source": [
    "### Retreive the examples from that dataset by \n",
    "In this example we what a Dataset named Test Set with a slug test-set. We'll pull all of the examples via the examples endpoint\n",
    "projects/default/datasets/**test-set**/examples/"
   ]
  },
  {
   "cell_type": "code",
   "execution_count": 6,
   "metadata": {},
   "outputs": [],
   "source": [
    "\n",
    "examples =session.get(API_BASE+'projects/default/datasets/test-set/examples/').json()"
   ]
  },
  {
   "cell_type": "code",
   "execution_count": 8,
   "metadata": {},
   "outputs": [
    {
     "data": {
      "text/plain": [
       "{'aggregation_value': '2017-03-19',\n",
       " 'content': '#ICYMI: Weekly Address \\n➡️https://t.co/ckVx2zgA1x https://t.co/dTGZLvlsGv',\n",
       " 'dataset': '92ea39c8-1d7d-47eb-b6d3-25ceebc6ba33',\n",
       " 'id': '734c1e07-3648-44c2-903c-df7ba777c7e5',\n",
       " 'metadata': {'created_at': 'Sun Mar 19 20:20:22 +0000 2017',\n",
       "  'date': '2017-03-19',\n",
       "  'favorite_count': 36626,\n",
       "  'id_str': '843557782666317826',\n",
       "  'in_reply_to_user_id_str': None,\n",
       "  'is_retweet': False,\n",
       "  'retweet_count': 7472,\n",
       "  'source': 'Twitter for iPhone',\n",
       "  'time': 1489954822000000000}}"
      ]
     },
     "execution_count": 8,
     "metadata": {},
     "output_type": "execute_result"
    }
   ],
   "source": [
    "examples[0]"
   ]
  },
  {
   "cell_type": "markdown",
   "metadata": {},
   "source": [
    "We could equivalently do this by usig the URL field on the json returned from the datasets endpoint"
   ]
  },
  {
   "cell_type": "code",
   "execution_count": 9,
   "metadata": {},
   "outputs": [],
   "source": [
    "bible_dataset = next(filter(lambda x:x['slug']==\"test-set\",datasets))"
   ]
  },
  {
   "cell_type": "code",
   "execution_count": 10,
   "metadata": {},
   "outputs": [],
   "source": [
    "examples =session.get(bible_dataset['url']+'examples/').json()"
   ]
  },
  {
   "cell_type": "code",
   "execution_count": 11,
   "metadata": {},
   "outputs": [
    {
     "data": {
      "text/plain": [
       "{'aggregation_value': '2017-03-19',\n",
       " 'content': '#ICYMI: Weekly Address \\n➡️https://t.co/ckVx2zgA1x https://t.co/dTGZLvlsGv',\n",
       " 'dataset': '92ea39c8-1d7d-47eb-b6d3-25ceebc6ba33',\n",
       " 'id': '734c1e07-3648-44c2-903c-df7ba777c7e5',\n",
       " 'metadata': {'created_at': 'Sun Mar 19 20:20:22 +0000 2017',\n",
       "  'date': '2017-03-19',\n",
       "  'favorite_count': 36626,\n",
       "  'id_str': '843557782666317826',\n",
       "  'in_reply_to_user_id_str': None,\n",
       "  'is_retweet': False,\n",
       "  'retweet_count': 7472,\n",
       "  'source': 'Twitter for iPhone',\n",
       "  'time': 1489954822000000000}}"
      ]
     },
     "execution_count": 11,
     "metadata": {},
     "output_type": "execute_result"
    }
   ],
   "source": [
    "examples[0]"
   ]
  },
  {
   "cell_type": "markdown",
   "metadata": {},
   "source": [
    "## Step 2 Retreive the Schema and Tags we want to create suggestions for\n"
   ]
  },
  {
   "cell_type": "code",
   "execution_count": 12,
   "metadata": {},
   "outputs": [
    {
     "data": {
      "text/html": [
       "<div>\n",
       "<style>\n",
       "    .dataframe thead tr:only-child th {\n",
       "        text-align: right;\n",
       "    }\n",
       "\n",
       "    .dataframe thead th {\n",
       "        text-align: left;\n",
       "    }\n",
       "\n",
       "    .dataframe tbody tr th {\n",
       "        vertical-align: top;\n",
       "    }\n",
       "</style>\n",
       "<table border=\"1\" class=\"dataframe\">\n",
       "  <thead>\n",
       "    <tr style=\"text-align: right;\">\n",
       "      <th></th>\n",
       "      <th>id</th>\n",
       "      <th>name</th>\n",
       "      <th>slug</th>\n",
       "      <th>url</th>\n",
       "    </tr>\n",
       "  </thead>\n",
       "  <tbody>\n",
       "    <tr>\n",
       "      <th>0</th>\n",
       "      <td>3b73c2b2-73aa-4c42-a265-a0c459abd295</td>\n",
       "      <td>Classifications and tags Schema</td>\n",
       "      <td>classifications-and-tags-schema</td>\n",
       "      <td>http://localhost:8000/api/v1/projects/default/...</td>\n",
       "    </tr>\n",
       "    <tr>\n",
       "      <th>1</th>\n",
       "      <td>fbe6fd1d-bb59-4909-8a88-81772cc0d996</td>\n",
       "      <td>Entity Tags only</td>\n",
       "      <td>entity-tags-only</td>\n",
       "      <td>http://localhost:8000/api/v1/projects/default/...</td>\n",
       "    </tr>\n",
       "    <tr>\n",
       "      <th>2</th>\n",
       "      <td>9dcf0091-d82c-4292-a09d-eaff062fc1c4</td>\n",
       "      <td>Trump Insult Classification</td>\n",
       "      <td>trump-insult-classification</td>\n",
       "      <td>http://localhost:8000/api/v1/projects/default/...</td>\n",
       "    </tr>\n",
       "  </tbody>\n",
       "</table>\n",
       "</div>"
      ],
      "text/plain": [
       "                                     id                             name  \\\n",
       "0  3b73c2b2-73aa-4c42-a265-a0c459abd295  Classifications and tags Schema   \n",
       "1  fbe6fd1d-bb59-4909-8a88-81772cc0d996                 Entity Tags only   \n",
       "2  9dcf0091-d82c-4292-a09d-eaff062fc1c4      Trump Insult Classification   \n",
       "\n",
       "                              slug  \\\n",
       "0  classifications-and-tags-schema   \n",
       "1                 entity-tags-only   \n",
       "2      trump-insult-classification   \n",
       "\n",
       "                                                 url  \n",
       "0  http://localhost:8000/api/v1/projects/default/...  \n",
       "1  http://localhost:8000/api/v1/projects/default/...  \n",
       "2  http://localhost:8000/api/v1/projects/default/...  "
      ]
     },
     "execution_count": 12,
     "metadata": {},
     "output_type": "execute_result"
    }
   ],
   "source": [
    "schemas =session.get(API_BASE+'projects/default/schemas/').json()\n",
    "pd.DataFrame(schemas)"
   ]
  },
  {
   "cell_type": "code",
   "execution_count": 14,
   "metadata": {},
   "outputs": [
    {
     "data": {
      "text/html": [
       "<div>\n",
       "<style>\n",
       "    .dataframe thead tr:only-child th {\n",
       "        text-align: right;\n",
       "    }\n",
       "\n",
       "    .dataframe thead th {\n",
       "        text-align: left;\n",
       "    }\n",
       "\n",
       "    .dataframe tbody tr th {\n",
       "        vertical-align: top;\n",
       "    }\n",
       "</style>\n",
       "<table border=\"1\" class=\"dataframe\">\n",
       "  <thead>\n",
       "    <tr style=\"text-align: right;\">\n",
       "      <th></th>\n",
       "      <th>description</th>\n",
       "      <th>id</th>\n",
       "      <th>name</th>\n",
       "    </tr>\n",
       "  </thead>\n",
       "  <tbody>\n",
       "    <tr>\n",
       "      <th>0</th>\n",
       "      <td>Republicans/Democrates etc</td>\n",
       "      <td>0b4e9d4d-96b2-4288-bd52-e269a505cce3</td>\n",
       "      <td>Politcal Group</td>\n",
       "    </tr>\n",
       "    <tr>\n",
       "      <th>1</th>\n",
       "      <td>CNN/Fox etc.</td>\n",
       "      <td>14fd0d03-006b-4372-823e-41e32642e3b4</td>\n",
       "      <td>Media organization</td>\n",
       "    </tr>\n",
       "    <tr>\n",
       "      <th>2</th>\n",
       "      <td>A word or phrase that is unsulting.</td>\n",
       "      <td>2b162d01-637d-44b6-acf6-77cb8081608f</td>\n",
       "      <td>Insult</td>\n",
       "    </tr>\n",
       "    <tr>\n",
       "      <th>3</th>\n",
       "      <td>A political issue the President is discussing.</td>\n",
       "      <td>08728ae4-61c9-43ea-86f4-ffbc5289c5ae</td>\n",
       "      <td>Issue</td>\n",
       "    </tr>\n",
       "    <tr>\n",
       "      <th>4</th>\n",
       "      <td>A physical place. For example the White House.</td>\n",
       "      <td>6d331788-d937-4a11-ac38-4d653e56ddbd</td>\n",
       "      <td>Place</td>\n",
       "    </tr>\n",
       "    <tr>\n",
       "      <th>5</th>\n",
       "      <td>The proper name of a person (John is a person....</td>\n",
       "      <td>038de1c3-143a-40fc-a14c-627920311055</td>\n",
       "      <td>Person</td>\n",
       "    </tr>\n",
       "  </tbody>\n",
       "</table>\n",
       "</div>"
      ],
      "text/plain": [
       "                                         description  \\\n",
       "0                         Republicans/Democrates etc   \n",
       "1                                       CNN/Fox etc.   \n",
       "2                A word or phrase that is unsulting.   \n",
       "3     A political issue the President is discussing.   \n",
       "4     A physical place. For example the White House.   \n",
       "5  The proper name of a person (John is a person....   \n",
       "\n",
       "                                     id                name  \n",
       "0  0b4e9d4d-96b2-4288-bd52-e269a505cce3      Politcal Group  \n",
       "1  14fd0d03-006b-4372-823e-41e32642e3b4  Media organization  \n",
       "2  2b162d01-637d-44b6-acf6-77cb8081608f              Insult  \n",
       "3  08728ae4-61c9-43ea-86f4-ffbc5289c5ae               Issue  \n",
       "4  6d331788-d937-4a11-ac38-4d653e56ddbd               Place  \n",
       "5  038de1c3-143a-40fc-a14c-627920311055              Person  "
      ]
     },
     "execution_count": 14,
     "metadata": {},
     "output_type": "execute_result"
    }
   ],
   "source": [
    "schema = schemas[1]\n",
    "tags = session.get(schema['url']+'tags/').json()\n",
    "pd.DataFrame(tags)"
   ]
  },
  {
   "cell_type": "markdown",
   "metadata": {},
   "source": [
    "### Pro Tip \n",
    "To upload suggestions we'll need to use the tag ids, which can be cumbersome. It is often convenient to make a map\n",
    "drom the tag name to the id like so : "
   ]
  },
  {
   "cell_type": "code",
   "execution_count": 15,
   "metadata": {},
   "outputs": [],
   "source": [
    "tagMap = {tag[\"name\"]:tag[\"id\"] for tag in tags}"
   ]
  },
  {
   "cell_type": "code",
   "execution_count": 16,
   "metadata": {},
   "outputs": [
    {
     "data": {
      "text/plain": [
       "{'Insult': '2b162d01-637d-44b6-acf6-77cb8081608f',\n",
       " 'Issue': '08728ae4-61c9-43ea-86f4-ffbc5289c5ae',\n",
       " 'Media organization': '14fd0d03-006b-4372-823e-41e32642e3b4',\n",
       " 'Person': '038de1c3-143a-40fc-a14c-627920311055',\n",
       " 'Place': '6d331788-d937-4a11-ac38-4d653e56ddbd',\n",
       " 'Politcal Group': '0b4e9d4d-96b2-4288-bd52-e269a505cce3'}"
      ]
     },
     "execution_count": 16,
     "metadata": {},
     "output_type": "execute_result"
    }
   ],
   "source": [
    "tagMap"
   ]
  },
  {
   "cell_type": "code",
   "execution_count": null,
   "metadata": {},
   "outputs": [],
   "source": []
  },
  {
   "cell_type": "markdown",
   "metadata": {},
   "source": [
    "## Step 3: Create your suggestions\n",
    "How you create a suggestion is up to you. Youa re free to use a dicitonary, regex, neural network or whatever else\n",
    "is availble. \n",
    "In this example we'll use the [flashtext](https://github.com/vi3k6i5/flashtext) library to suggest the following\n",
    "\n",
    "\n"
   ]
  },
  {
   "cell_type": "code",
   "execution_count": 18,
   "metadata": {},
   "outputs": [
    {
     "data": {
      "text/plain": [
       "True"
      ]
     },
     "execution_count": 18,
     "metadata": {},
     "output_type": "execute_result"
    }
   ],
   "source": [
    "from flashtext import KeywordProcessor\n",
    "keyword_processor = KeywordProcessor()\n",
    "keyword_processor.add_keyword(\"Trump\",tagMap[\"Person\"])\n",
    "keyword_processor.add_keyword(\"Wall\",tagMap[\"Issue\"])\n",
    "keyword_processor.add_keyword(\"CNN\",tagMap[\"Media organization\"])\n",
    "keyword_processor.add_keyword(\"Dumb\",tagMap[\"Insult\"])\n",
    "\n",
    "keyword_processor.add_keyword(\"Russia\",tagMap[\"Place\"])\n",
    "keyword_processor.add_keyword(\"Democrats\",tagMap[\"Politcal Group\"])\n"
   ]
  },
  {
   "cell_type": "code",
   "execution_count": 20,
   "metadata": {},
   "outputs": [
    {
     "data": {
      "text/plain": [
       "[('0b4e9d4d-96b2-4288-bd52-e269a505cce3', 1, 10),\n",
       " ('038de1c3-143a-40fc-a14c-627920311055', 22, 27),\n",
       " ('6d331788-d937-4a11-ac38-4d653e56ddbd', 37, 43),\n",
       " ('2b162d01-637d-44b6-acf6-77cb8081608f', 45, 49)]"
      ]
     },
     "execution_count": 20,
     "metadata": {},
     "output_type": "execute_result"
    }
   ],
   "source": [
    "keyword_processor.extract_keywords(\" Democrats don't want Trump to go to Russia. Dumb! \",\n",
    "                                   span_info=True)"
   ]
  },
  {
   "cell_type": "markdown",
   "metadata": {},
   "source": [
    "### Step 3.1: Iterate over your examples and make a  list of suggestions\n"
   ]
  },
  {
   "cell_type": "code",
   "execution_count": 21,
   "metadata": {},
   "outputs": [],
   "source": [
    "suggestions = []\n",
    "for example in examples: #(Notice the text is located in the content field)\n",
    "    #For every suggestion that comes out of our model (in this case, flashtext)\n",
    "    for tag_id,start,end in keyword_processor.extract_keywords(example['content'],span_info=True):\n",
    "        suggestion= { #Create a suggestion\n",
    "            \"example_id\":example['id'], #That refers to a particular example\n",
    "            \"tag_id\":tag_id, #and applies a particular tag\n",
    "            \"start\":start, #Which starts somewhere in the example\n",
    "            \"end\":end # And ends somewhere in the example\n",
    "        }\n",
    "        suggestions.append(suggestion)"
   ]
  },
  {
   "cell_type": "markdown",
   "metadata": {},
   "source": [
    "### Step 3.2: Define a model"
   ]
  },
  {
   "cell_type": "code",
   "execution_count": 24,
   "metadata": {},
   "outputs": [],
   "source": [
    "model_metadata= { # Define any metadata you'd like to store about the model\n",
    "    \"defined_by\": \"LightTag\",\n",
    "    \"comments\": \"An example model made with Flashtext\"\n",
    "}\n",
    "data = {\n",
    "    \"model\":{\n",
    "        \"name\":\"demo_suggestions\",  #Give the model a name\n",
    "        \"metadata\": model_metadata # Provide metadata (optional)\n",
    "    },\n",
    "    \"suggestions\":suggestions #Attatch the suggestions you made before\n",
    "}"
   ]
  },
  {
   "cell_type": "markdown",
   "metadata": {},
   "source": [
    "## Step 4 Upload your model and Suggestions "
   ]
  },
  {
   "cell_type": "code",
   "execution_count": null,
   "metadata": {},
   "outputs": [],
   "source": []
  },
  {
   "cell_type": "code",
   "execution_count": 25,
   "metadata": {},
   "outputs": [
    {
     "data": {
      "text/plain": [
       "201"
      ]
     },
     "execution_count": 25,
     "metadata": {},
     "output_type": "execute_result"
    }
   ],
   "source": [
    "schema\n",
    "resp =session.post(schema['url']+'models/bulk/',\n",
    "                    json=data,\n",
    "             )\n",
    "resp.status_code"
   ]
  },
  {
   "cell_type": "code",
   "execution_count": 26,
   "metadata": {},
   "outputs": [
    {
     "data": {
      "text/plain": [
       "{'id': '94fc9df1-4dcf-4542-bb0f-e2b74a3d2ead',\n",
       " 'metadata': {'comments': 'An example model made with Flashtext',\n",
       "  'defined_by': 'LightTag'},\n",
       " 'name': 'demo_suggestions',\n",
       " 'slug': 'demo_suggestions',\n",
       " 'url': 'http://localhost:8000/api/v1/projects/default/schemas/entity-tags-only/models/demo_suggestions/'}"
      ]
     },
     "execution_count": 26,
     "metadata": {},
     "output_type": "execute_result"
    }
   ],
   "source": [
    "resp.json()"
   ]
  },
  {
   "cell_type": "markdown",
   "metadata": {},
   "source": [
    "## Step 5 Assign you suggestion model to a task\n",
    "Once we have a model, we need to tell LightTag to show its results to our annotators. Suggestions are shown with the rest of the work, and so we assign one or more models to an individual task. \n",
    "In this example we'll assign  two models to our task. The one we defined and the LightTag default model"
   ]
  },
  {
   "cell_type": "markdown",
   "metadata": {},
   "source": [
    "### Get the model ids for the schema we defined this model on"
   ]
  },
  {
   "cell_type": "code",
   "execution_count": 28,
   "metadata": {},
   "outputs": [
    {
     "data": {
      "text/plain": [
       "{'id': 'fbe6fd1d-bb59-4909-8a88-81772cc0d996',\n",
       " 'name': 'Entity Tags only',\n",
       " 'slug': 'entity-tags-only',\n",
       " 'url': 'http://localhost:8000/api/v1/projects/default/schemas/entity-tags-only/'}"
      ]
     },
     "execution_count": 28,
     "metadata": {},
     "output_type": "execute_result"
    }
   ],
   "source": [
    "schema"
   ]
  },
  {
   "cell_type": "code",
   "execution_count": null,
   "metadata": {},
   "outputs": [],
   "source": []
  }
 ],
 "metadata": {
  "kernelspec": {
   "display_name": "Python 3",
   "language": "python",
   "name": "python3"
  },
  "language_info": {
   "codemirror_mode": {
    "name": "ipython",
    "version": 3
   },
   "file_extension": ".py",
   "mimetype": "text/x-python",
   "name": "python",
   "nbconvert_exporter": "python",
   "pygments_lexer": "ipython3",
   "version": "3.5.2"
  }
 },
 "nbformat": 4,
 "nbformat_minor": 2
}
