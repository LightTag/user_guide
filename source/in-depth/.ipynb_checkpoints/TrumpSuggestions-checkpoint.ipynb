{
 "cells": [
  {
   "cell_type": "markdown",
   "metadata": {},
   "source": [
    "# Adding Suggestions\n",
    "This notebook will walk you through adding suggestions to LightTag. "
   ]
  },
  {
   "cell_type": "markdown",
   "metadata": {},
   "source": [
    "First, we do some basic imports and set up config"
   ]
  },
  {
   "cell_type": "code",
   "execution_count": 4,
   "metadata": {},
   "outputs": [
    {
     "data": {
      "text/plain": [
       "<Response [200]>"
      ]
     },
     "execution_count": 4,
     "metadata": {},
     "output_type": "execute_result"
    }
   ],
   "source": [
    "import requests\n",
    "import json\n",
    "import pandas as pd\n",
    "from requests.auth import HTTPBasicAuth\n",
    "\n",
    "SERVER = \"https://api-demo.lighttag.io\" #The server is https://api-{your_subdomain_name.lighttag.io}\n",
    "LT_USERNAME = \"test\" # Username of manager user\n",
    "LT_PASSWORD = \"test\" #password of manager user\n",
    "\n",
    "response = requests.post(SERVER +\"/rest-auth/login/\",\n",
    "              json={\"username\":LT_USERNAME,\"password\":LT_PASSWORD}\n",
    "             )\n",
    "response"
   ]
  },
  {
   "cell_type": "markdown",
   "metadata": {},
   "source": [
    "Once we log in, LightTag will return a token we can use for further calls. We'll put that in dict that we will pass as header"
   ]
  },
  {
   "cell_type": "code",
   "execution_count": 202,
   "metadata": {},
   "outputs": [],
   "source": [
    "token = response.json()['key']\n",
    "headers={'Authorization': 'Token {token}'.format(token=token)}\n"
   ]
  },
  {
   "cell_type": "markdown",
   "metadata": {},
   "source": [
    "### Getting the data to annotate\n",
    "To generate suggestions we will need data. Particularly we'll need both an ref:`example` and ref:`tag`"
   ]
  },
  {
   "cell_type": "code",
   "execution_count": 203,
   "metadata": {},
   "outputs": [
    {
     "data": {
      "text/plain": [
       "200"
      ]
     },
     "execution_count": 203,
     "metadata": {},
     "output_type": "execute_result"
    }
   ],
   "source": [
    "resp =requests.get(SERVER + \"/manager/annotations/taskdefinition/?taskDefinitionId=cb658443-f617-43ef-ba28-d72d7453e60f\",\n",
    "              headers=headers\n",
    "             )\n",
    "resp.status_code"
   ]
  },
  {
   "cell_type": "code",
   "execution_count": 204,
   "metadata": {},
   "outputs": [],
   "source": [
    "z = resp.json()"
   ]
  },
  {
   "cell_type": "code",
   "execution_count": 205,
   "metadata": {},
   "outputs": [
    {
     "data": {
      "text/plain": [
       "dict_keys(['dataset', 'id', 'schema'])"
      ]
     },
     "execution_count": 205,
     "metadata": {},
     "output_type": "execute_result"
    }
   ],
   "source": [
    "z.keys()\n"
   ]
  },
  {
   "cell_type": "code",
   "execution_count": 206,
   "metadata": {},
   "outputs": [],
   "source": [
    "schema = z['schema']\n",
    "tags = {x['name']:x['id'] for x in schema['tags']}"
   ]
  },
  {
   "cell_type": "code",
   "execution_count": 207,
   "metadata": {},
   "outputs": [],
   "source": [
    "examples= z['dataset']['examples']"
   ]
  },
  {
   "cell_type": "code",
   "execution_count": 208,
   "metadata": {},
   "outputs": [
    {
     "data": {
      "text/plain": [
       "{'annotations': [],\n",
       " 'content': 'Thanks for your support! https://t.co/iqUM1RfQso',\n",
       " 'id': '0a33bc580fcb4ccaad0c4b146a0c24de',\n",
       " 'metadata': {'created_at': 'Sat Oct 07 20:33:31 +0000 2017',\n",
       "  'date': '2017-10-07',\n",
       "  'favorite_count': 60168,\n",
       "  'id_str': '916763438805848066',\n",
       "  'in_reply_to_user_id_str': None,\n",
       "  'is_retweet': False,\n",
       "  'retweet_count': 12503,\n",
       "  'source': 'Twitter for iPhone',\n",
       "  'time': 736609}}"
      ]
     },
     "execution_count": 208,
     "metadata": {},
     "output_type": "execute_result"
    }
   ],
   "source": [
    "examples[0]"
   ]
  },
  {
   "cell_type": "markdown",
   "metadata": {},
   "source": [
    "## Load trump suggestions"
   ]
  },
  {
   "cell_type": "code",
   "execution_count": null,
   "metadata": {},
   "outputs": [],
   "source": []
  },
  {
   "cell_type": "code",
   "execution_count": 209,
   "metadata": {},
   "outputs": [
    {
     "data": {
      "text/plain": [
       "array(['Location', 'insult', 'Person', 'accusation', 'Group', 'Issue',\n",
       "       'compliment'], dtype=object)"
      ]
     },
     "execution_count": 209,
     "metadata": {},
     "output_type": "execute_result"
    }
   ],
   "source": [
    "d = pd.read_csv(open('../trump/ny_times_data.csv'))\n",
    "d.tag.unique()\n"
   ]
  },
  {
   "cell_type": "code",
   "execution_count": 187,
   "metadata": {},
   "outputs": [],
   "source": [
    "countries = open('../trump/list_of_countries.txt').read().lower().split('\\n')\n",
    "countries +=['russia', 'north korea']"
   ]
  },
  {
   "cell_type": "code",
   "execution_count": 210,
   "metadata": {},
   "outputs": [],
   "source": [
    "def fix_entity(row):\n",
    "    if row.phrase==\"Crooked\":\n",
    "        return \"Insult\"\n",
    "    if row.phrase==\"ObamaCare\":\n",
    "        return \"Issue\"\n",
    "    if row.phrase.lower()==\"media\":\n",
    "        return \"Group\"\n",
    "\n",
    "    if row.phrase.lower() in countries:\n",
    "        return \"Location\"\n",
    "    if row.phrase==\"Crooked H\":\n",
    "        return \"Person\"\n",
    "    \n",
    "    if row.tag!=\"entity\":\n",
    "        return row.tag.capitalize()\n",
    "    if len(row.slug.split('-'))==2:\n",
    "        return \"Person\"\n",
    "    \n",
    "    else:\n",
    "        return\"Group\"\n",
    "#d['tag'] = d.apply(fix_entity,1)"
   ]
  },
  {
   "cell_type": "code",
   "execution_count": 211,
   "metadata": {},
   "outputs": [
    {
     "data": {
      "text/plain": [
       "{'Achievment': '076469a3-cf74-4569-bcf1-4f86cfabc520',\n",
       " 'Event': '73a04bb7-0299-45f4-a3ad-5ec0ff3c67b0',\n",
       " 'Group': '391a1945-2a66-4282-a80b-0aff2cab2965',\n",
       " 'Insult': 'f35d78d3-2d92-4131-a5b5-f9680c1af2a5',\n",
       " 'Issue': '5a13c8ee-fbcc-493c-9f18-f063fefdebb6',\n",
       " 'Legislation': '899dd3fa-6b4c-43a8-84fb-0578682bb4df',\n",
       " 'Location': 'f7909857-4bd0-4def-8c1a-51f77d8a7611',\n",
       " 'Person': 'f6de1c78-45dd-4ae1-869a-b2e85053514a',\n",
       " 'Position': '9339db8f-8328-468a-8d5a-f4acd0a6537a',\n",
       " 'Superlative': 'ef44f1c3-cd91-4ec3-a7df-0431810caa54',\n",
       " 'Transgression': 'b38c23a5-d02f-41e2-85f4-1ff0d29b7f3b'}"
      ]
     },
     "execution_count": 211,
     "metadata": {},
     "output_type": "execute_result"
    }
   ],
   "source": [
    "tags"
   ]
  },
  {
   "cell_type": "code",
   "execution_count": 213,
   "metadata": {},
   "outputs": [],
   "source": [
    "tags['Compliment'] = tags['Superlative']\n",
    "tags['Accusation'] = tags['Transgression']\n",
    "d['tag'] = d.tag.apply(lambda x:x.capitalize())\n",
    "d['tag_id'] = d['tag'].apply(lambda x:tags[x])\n"
   ]
  },
  {
   "cell_type": "code",
   "execution_count": 214,
   "metadata": {},
   "outputs": [],
   "source": [
    "stopWords = list(stopWords) +['New','new']"
   ]
  },
  {
   "cell_type": "code",
   "execution_count": 215,
   "metadata": {},
   "outputs": [],
   "source": [
    "dd = d[(~d.phrase.str.lower().isin(stopWords)) & (d.phrase.apply(len)>1)]\n",
    "phrases = dd.drop_duplicates(subset=['phrase'])[['phrase','tag_id']].to_dict(orient='records')"
   ]
  },
  {
   "cell_type": "code",
   "execution_count": 216,
   "metadata": {},
   "outputs": [],
   "source": [
    "from flashtext import KeywordProcessor\n",
    "keyword_processor = KeywordProcessor()\n",
    "for phrase in phrases:\n",
    "    keyword_processor.add_keyword(phrase['phrase'],phrase['tag_id'])"
   ]
  },
  {
   "cell_type": "code",
   "execution_count": 217,
   "metadata": {},
   "outputs": [
    {
     "data": {
      "text/plain": [
       "('391a1945-2a66-4282-a80b-0aff2cab2965', 7, 17)"
      ]
     },
     "execution_count": 217,
     "metadata": {},
     "output_type": "execute_result"
    }
   ],
   "source": [
    "keyword_processor.extract_keywords(\"Tal in Washington\",span_info=True)[0]\n"
   ]
  },
  {
   "cell_type": "markdown",
   "metadata": {},
   "source": [
    "## Start making the spans"
   ]
  },
  {
   "cell_type": "code",
   "execution_count": 218,
   "metadata": {},
   "outputs": [],
   "source": [
    "from nltk.corpus import stopwords\n",
    "stopWords = set(stopwords.words('english'))\n"
   ]
  },
  {
   "cell_type": "code",
   "execution_count": null,
   "metadata": {},
   "outputs": [],
   "source": []
  },
  {
   "cell_type": "code",
   "execution_count": 219,
   "metadata": {},
   "outputs": [
    {
     "data": {
      "text/plain": [
       "[('391a1945-2a66-4282-a80b-0aff2cab2965', 1, 7),\n",
       " ('391a1945-2a66-4282-a80b-0aff2cab2965', 13, 20)]"
      ]
     },
     "execution_count": 219,
     "metadata": {},
     "output_type": "execute_result"
    }
   ],
   "source": [
    "keyword_processor.extract_keywords(\" health care program\",\n",
    "                                   span_info=True)"
   ]
  },
  {
   "cell_type": "code",
   "execution_count": 220,
   "metadata": {},
   "outputs": [],
   "source": [
    "suggestions = []\n",
    "for example in examples:\n",
    "    for tag_id,start,end in keyword_processor.extract_keywords(example['content'],span_info=True):\n",
    "        suggestion= {\n",
    "            \"example_id\":example['id'],\n",
    "            \"tag_id\":tag_id,\n",
    "            \"start\":start,\n",
    "            \"end\":end\n",
    "        }\n",
    "        suggestions.append(suggestion)"
   ]
  },
  {
   "cell_type": "code",
   "execution_count": 221,
   "metadata": {},
   "outputs": [],
   "source": [
    "data = {\n",
    "    \"model\":{\n",
    "        \"name\":\"trump_suggestions\",\n",
    "        \"schema_id\":schema[\"id\"],\n",
    "    },\n",
    "    \"suggestions\":suggestions\n",
    "}"
   ]
  },
  {
   "cell_type": "code",
   "execution_count": 222,
   "metadata": {},
   "outputs": [],
   "source": [
    "resp =requests.post(SERVER + \"/manager/suggestions_model\",\n",
    "              headers=headers,\n",
    "                    json=data,\n",
    "                    \n",
    "             )\n"
   ]
  },
  {
   "cell_type": "code",
   "execution_count": 200,
   "metadata": {},
   "outputs": [
    {
     "data": {
      "text/plain": [
       "<Response [201]>"
      ]
     },
     "execution_count": 200,
     "metadata": {},
     "output_type": "execute_result"
    }
   ],
   "source": [
    "resp"
   ]
  },
  {
   "cell_type": "code",
   "execution_count": null,
   "metadata": {},
   "outputs": [],
   "source": []
  }
 ],
 "metadata": {
  "kernelspec": {
   "display_name": "Python 3",
   "language": "python",
   "name": "python3"
  },
  "language_info": {
   "codemirror_mode": {
    "name": "ipython",
    "version": 3
   },
   "file_extension": ".py",
   "mimetype": "text/x-python",
   "name": "python",
   "nbconvert_exporter": "python",
   "pygments_lexer": "ipython3",
   "version": "3.5.2"
  }
 },
 "nbformat": 4,
 "nbformat_minor": 2
}
